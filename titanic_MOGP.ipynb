{
  "cells": [
    {
      "cell_type": "code",
      "execution_count": 14,
      "metadata": {
        "colab": {
          "base_uri": "https://localhost:8080/"
        },
        "id": "DExj4kbXBTox",
        "outputId": "616e2f1a-e187-42a1-f617-05d50e73c2d4"
      },
      "outputs": [
        {
          "name": "stdout",
          "output_type": "stream",
          "text": [
            "%pylab is deprecated, use %matplotlib inline and import the required libraries.\n",
            "Populating the interactive namespace from numpy and matplotlib\n"
          ]
        },
        {
          "name": "stderr",
          "output_type": "stream",
          "text": [
            "/opt/homebrew/lib/python3.9/site-packages/IPython/core/magics/pylab.py:162: UserWarning: pylab import has clobbered these variables: ['random']\n",
            "`%matplotlib` prevents importing * from pylab and numpy\n",
            "  warn(\"pylab import has clobbered these variables: %s\"  % clobbered +\n"
          ]
        },
        {
          "name": "stdout",
          "output_type": "stream",
          "text": [
            "Requirement already satisfied: deap in /opt/homebrew/Caskroom/miniforge/base/lib/python3.9/site-packages (1.3.3)\n",
            "Requirement already satisfied: numpy in /opt/homebrew/Caskroom/miniforge/base/lib/python3.9/site-packages (from deap) (1.22.0)\n"
          ]
        }
      ],
      "source": [
        "%pylab inline\n",
        "# Pandas is a nice utilitiy that enables some easy data manipulation, especially from a csv\n",
        "import pandas as pd\n",
        "# Numpy lets us work with arrays\n",
        "import numpy as np\n",
        "\n",
        "# Sklearn provides various modules with a common API\n",
        "from sklearn.metrics import confusion_matrix\n",
        "from sklearn.model_selection import train_test_split, cross_val_score, cross_val_predict, cross_validate\n",
        "\n",
        "!pip install deap\n",
        "from deap import algorithms\n",
        "from deap import base\n",
        "from deap import creator\n",
        "from deap import tools\n",
        "from deap import gp\n",
        "\n",
        "import random\n",
        "import operator\n",
        "import itertools\n",
        "\n",
        "# import pickle\n",
        "import pickle\n",
        "# turn off warnings\n",
        "from warnings import simplefilter\n",
        "# ignore all future warnings\n",
        "simplefilter(action='ignore', category=FutureWarning)"
      ]
    },
    {
      "cell_type": "code",
      "execution_count": 15,
      "metadata": {
        "id": "ei5ydI0VBTo0"
      },
      "outputs": [],
      "source": [
        "# Read in our csv files downloaded from Kaggle\n",
        "train_data = pd.read_csv('processed_train.csv').set_index(\"PassengerId\")\n",
        "test_data = pd.read_csv('processed_test.csv').set_index(\"PassengerId\")\n",
        "\n",
        "df = pd.concat([train_data, test_data], axis=0, sort=False)"
      ]
    },
    {
      "cell_type": "code",
      "execution_count": 16,
      "metadata": {
        "colab": {
          "base_uri": "https://localhost:8080/",
          "height": 330
        },
        "id": "8rDevsE7BTo1",
        "outputId": "0c73bf16-ba26-40df-b234-7e0ca39ebc8d"
      },
      "outputs": [
        {
          "data": {
            "text/html": [
              "<div>\n",
              "<style scoped>\n",
              "    .dataframe tbody tr th:only-of-type {\n",
              "        vertical-align: middle;\n",
              "    }\n",
              "\n",
              "    .dataframe tbody tr th {\n",
              "        vertical-align: top;\n",
              "    }\n",
              "\n",
              "    .dataframe thead th {\n",
              "        text-align: right;\n",
              "    }\n",
              "</style>\n",
              "<table border=\"1\" class=\"dataframe\">\n",
              "  <thead>\n",
              "    <tr style=\"text-align: right;\">\n",
              "      <th></th>\n",
              "      <th>Survived</th>\n",
              "      <th>Pclass</th>\n",
              "      <th>Sex</th>\n",
              "      <th>Age</th>\n",
              "      <th>SibSp</th>\n",
              "      <th>Parch</th>\n",
              "      <th>Fare</th>\n",
              "      <th>Embarked</th>\n",
              "      <th>Title</th>\n",
              "      <th>LastName</th>\n",
              "      <th>IsWomanOrBoy</th>\n",
              "      <th>WomanOrBoyCount</th>\n",
              "      <th>FamilySurvivedCount</th>\n",
              "      <th>WomanOrBoySurvived</th>\n",
              "      <th>Alone</th>\n",
              "      <th>Single</th>\n",
              "      <th>SmallF</th>\n",
              "      <th>MedF</th>\n",
              "      <th>LargeF</th>\n",
              "      <th>Deck</th>\n",
              "    </tr>\n",
              "    <tr>\n",
              "      <th>PassengerId</th>\n",
              "      <th></th>\n",
              "      <th></th>\n",
              "      <th></th>\n",
              "      <th></th>\n",
              "      <th></th>\n",
              "      <th></th>\n",
              "      <th></th>\n",
              "      <th></th>\n",
              "      <th></th>\n",
              "      <th></th>\n",
              "      <th></th>\n",
              "      <th></th>\n",
              "      <th></th>\n",
              "      <th></th>\n",
              "      <th></th>\n",
              "      <th></th>\n",
              "      <th></th>\n",
              "      <th></th>\n",
              "      <th></th>\n",
              "      <th></th>\n",
              "    </tr>\n",
              "  </thead>\n",
              "  <tbody>\n",
              "    <tr>\n",
              "      <th>1</th>\n",
              "      <td>0.0</td>\n",
              "      <td>3</td>\n",
              "      <td>1</td>\n",
              "      <td>22.0</td>\n",
              "      <td>1</td>\n",
              "      <td>0</td>\n",
              "      <td>7.2500</td>\n",
              "      <td>2</td>\n",
              "      <td>10</td>\n",
              "      <td>100</td>\n",
              "      <td>0</td>\n",
              "      <td>0</td>\n",
              "      <td>0.0</td>\n",
              "      <td>0.0</td>\n",
              "      <td>1</td>\n",
              "      <td>0</td>\n",
              "      <td>1</td>\n",
              "      <td>0</td>\n",
              "      <td>0</td>\n",
              "      <td>7</td>\n",
              "    </tr>\n",
              "    <tr>\n",
              "      <th>2</th>\n",
              "      <td>1.0</td>\n",
              "      <td>1</td>\n",
              "      <td>0</td>\n",
              "      <td>38.0</td>\n",
              "      <td>1</td>\n",
              "      <td>0</td>\n",
              "      <td>71.2833</td>\n",
              "      <td>0</td>\n",
              "      <td>11</td>\n",
              "      <td>182</td>\n",
              "      <td>1</td>\n",
              "      <td>1</td>\n",
              "      <td>1.0</td>\n",
              "      <td>1.0</td>\n",
              "      <td>0</td>\n",
              "      <td>0</td>\n",
              "      <td>1</td>\n",
              "      <td>0</td>\n",
              "      <td>0</td>\n",
              "      <td>2</td>\n",
              "    </tr>\n",
              "    <tr>\n",
              "      <th>3</th>\n",
              "      <td>1.0</td>\n",
              "      <td>3</td>\n",
              "      <td>0</td>\n",
              "      <td>26.0</td>\n",
              "      <td>0</td>\n",
              "      <td>0</td>\n",
              "      <td>7.9250</td>\n",
              "      <td>2</td>\n",
              "      <td>9</td>\n",
              "      <td>329</td>\n",
              "      <td>1</td>\n",
              "      <td>1</td>\n",
              "      <td>1.0</td>\n",
              "      <td>1.0</td>\n",
              "      <td>0</td>\n",
              "      <td>1</td>\n",
              "      <td>0</td>\n",
              "      <td>0</td>\n",
              "      <td>0</td>\n",
              "      <td>7</td>\n",
              "    </tr>\n",
              "    <tr>\n",
              "      <th>4</th>\n",
              "      <td>1.0</td>\n",
              "      <td>1</td>\n",
              "      <td>0</td>\n",
              "      <td>35.0</td>\n",
              "      <td>1</td>\n",
              "      <td>0</td>\n",
              "      <td>53.1000</td>\n",
              "      <td>2</td>\n",
              "      <td>11</td>\n",
              "      <td>267</td>\n",
              "      <td>1</td>\n",
              "      <td>1</td>\n",
              "      <td>1.0</td>\n",
              "      <td>1.0</td>\n",
              "      <td>0</td>\n",
              "      <td>0</td>\n",
              "      <td>1</td>\n",
              "      <td>0</td>\n",
              "      <td>0</td>\n",
              "      <td>2</td>\n",
              "    </tr>\n",
              "    <tr>\n",
              "      <th>5</th>\n",
              "      <td>0.0</td>\n",
              "      <td>3</td>\n",
              "      <td>1</td>\n",
              "      <td>35.0</td>\n",
              "      <td>0</td>\n",
              "      <td>0</td>\n",
              "      <td>8.0500</td>\n",
              "      <td>2</td>\n",
              "      <td>10</td>\n",
              "      <td>15</td>\n",
              "      <td>0</td>\n",
              "      <td>1</td>\n",
              "      <td>1.0</td>\n",
              "      <td>1.0</td>\n",
              "      <td>0</td>\n",
              "      <td>1</td>\n",
              "      <td>0</td>\n",
              "      <td>0</td>\n",
              "      <td>0</td>\n",
              "      <td>7</td>\n",
              "    </tr>\n",
              "  </tbody>\n",
              "</table>\n",
              "</div>"
            ],
            "text/plain": [
              "             Survived  Pclass  Sex   Age  SibSp  Parch     Fare  Embarked  \\\n",
              "PassengerId                                                                 \n",
              "1                 0.0       3    1  22.0      1      0   7.2500         2   \n",
              "2                 1.0       1    0  38.0      1      0  71.2833         0   \n",
              "3                 1.0       3    0  26.0      0      0   7.9250         2   \n",
              "4                 1.0       1    0  35.0      1      0  53.1000         2   \n",
              "5                 0.0       3    1  35.0      0      0   8.0500         2   \n",
              "\n",
              "             Title  LastName  IsWomanOrBoy  WomanOrBoyCount  \\\n",
              "PassengerId                                                   \n",
              "1               10       100             0                0   \n",
              "2               11       182             1                1   \n",
              "3                9       329             1                1   \n",
              "4               11       267             1                1   \n",
              "5               10        15             0                1   \n",
              "\n",
              "             FamilySurvivedCount  WomanOrBoySurvived  Alone  Single  SmallF  \\\n",
              "PassengerId                                                                   \n",
              "1                            0.0                 0.0      1       0       1   \n",
              "2                            1.0                 1.0      0       0       1   \n",
              "3                            1.0                 1.0      0       1       0   \n",
              "4                            1.0                 1.0      0       0       1   \n",
              "5                            1.0                 1.0      0       1       0   \n",
              "\n",
              "             MedF  LargeF  Deck  \n",
              "PassengerId                      \n",
              "1               0       0     7  \n",
              "2               0       0     2  \n",
              "3               0       0     7  \n",
              "4               0       0     2  \n",
              "5               0       0     7  "
            ]
          },
          "execution_count": 16,
          "metadata": {},
          "output_type": "execute_result"
        }
      ],
      "source": [
        "# We can use .head() to get just the first few rows of the data.\n",
        "train_data.head()\n",
        "# Note how the notebook nicely displays the output for us"
      ]
    },
    {
      "cell_type": "markdown",
      "metadata": {},
      "source": [
        "## Generate valuable constants from df"
      ]
    },
    {
      "cell_type": "code",
      "execution_count": 31,
      "metadata": {},
      "outputs": [],
      "source": [
        "# average age\n",
        "mean_age = df.Age.mean()\n",
        "\n",
        "# 1st quartile\n",
        "q1_age = np.quantile(df.Age, 0.25)\n",
        "# quartile 3\n",
        "q3_age = np.quantile(df.Age, 0.75)\n",
        "\n",
        "\n",
        "# mode of passenger class\n",
        "mode_class = df.Pclass.value_counts().idxmax()\n",
        "\n",
        "# mode siblings\n",
        "mode_sibs = df.SibSp.value_counts().idxmax()\n",
        "\n",
        "# mode parnets\n",
        "mode_parents = df.Parch.value_counts().idxmax()\n",
        "\n",
        "# mean fare price\n",
        "mean_fare = df.Fare.mean()"
      ]
    },
    {
      "cell_type": "code",
      "execution_count": 18,
      "metadata": {},
      "outputs": [],
      "source": [
        "RANDOM_SEED=10\n",
        "X_train = train_data.loc[:, train_data.columns != 'Survived']\n",
        "y_train = train_data.loc[:, 'Survived']\n",
        "X_train, X_test, y_train, y_test = train_test_split(X_train, y_train, test_size=0.33, random_state=RANDOM_SEED)"
      ]
    },
    {
      "cell_type": "code",
      "execution_count": 28,
      "metadata": {
        "id": "8aK2fUrR8g4i"
      },
      "outputs": [
        {
          "name": "stderr",
          "output_type": "stream",
          "text": [
            "/opt/homebrew/lib/python3.9/site-packages/deap/creator.py:138: RuntimeWarning: A class named 'FitnessMin' has already been created and it will be overwritten. Consider deleting previous creation of that class or rename it.\n",
            "  warnings.warn(\"A class named '{0}' has already been created and it \"\n",
            "/opt/homebrew/lib/python3.9/site-packages/deap/creator.py:138: RuntimeWarning: A class named 'Individual' has already been created and it will be overwritten. Consider deleting previous creation of that class or rename it.\n",
            "  warnings.warn(\"A class named '{0}' has already been created and it \"\n"
          ]
        }
      ],
      "source": [
        "# create fitness for MO: FP and FN\n",
        "creator.create(\"FitnessMin\", base.Fitness, weights=(-1.0,-1.0))\n",
        "creator.create(\"Individual\", gp.PrimitiveTree, fitness=creator.FitnessMin)"
      ]
    },
    {
      "cell_type": "code",
      "execution_count": 29,
      "metadata": {
        "id": "JlBs9aCK9BBM"
      },
      "outputs": [],
      "source": [
        "# helper functions for primitives\n",
        "def divide_by_zero(a, b):\n",
        "    if b == 0:\n",
        "        return 0\n",
        "    else:\n",
        "        return a / b\n",
        "def if_then_else(input, output1, output2):\n",
        "    if input: \n",
        "        return output1\n",
        "    else: \n",
        "        return output2\n",
        "\n",
        "def float_to_bool(f):\n",
        "    return f > 0"
      ]
    },
    {
      "cell_type": "code",
      "execution_count": 32,
      "metadata": {
        "id": "OWQsm_2v8vAA"
      },
      "outputs": [
        {
          "ename": "ValueError",
          "evalue": "The truth value of a Series is ambiguous. Use a.empty, a.bool(), a.item(), a.any() or a.all().",
          "output_type": "error",
          "traceback": [
            "\u001b[0;31m---------------------------------------------------------------------------\u001b[0m",
            "\u001b[0;31mValueError\u001b[0m                                Traceback (most recent call last)",
            "\u001b[1;32m/Users/tristanpeat/Documents/gt/fall22/vip/titanic-ml/titanic_MOGP.ipynb Cell 9\u001b[0m in \u001b[0;36m<module>\u001b[0;34m\u001b[0m\n\u001b[1;32m     <a href='vscode-notebook-cell:/Users/tristanpeat/Documents/gt/fall22/vip/titanic-ml/titanic_MOGP.ipynb#X14sZmlsZQ%3D%3D?line=25'>26</a>\u001b[0m pset\u001b[39m.\u001b[39maddTerminal(q3_age, \u001b[39mint\u001b[39m)\n\u001b[1;32m     <a href='vscode-notebook-cell:/Users/tristanpeat/Documents/gt/fall22/vip/titanic-ml/titanic_MOGP.ipynb#X14sZmlsZQ%3D%3D?line=26'>27</a>\u001b[0m pset\u001b[39m.\u001b[39maddTerminal(mode_sibs, \u001b[39mint\u001b[39m)\n\u001b[0;32m---> <a href='vscode-notebook-cell:/Users/tristanpeat/Documents/gt/fall22/vip/titanic-ml/titanic_MOGP.ipynb#X14sZmlsZQ%3D%3D?line=27'>28</a>\u001b[0m pset\u001b[39m.\u001b[39;49maddTerminal(mode_parents, \u001b[39mint\u001b[39;49m)\n\u001b[1;32m     <a href='vscode-notebook-cell:/Users/tristanpeat/Documents/gt/fall22/vip/titanic-ml/titanic_MOGP.ipynb#X14sZmlsZQ%3D%3D?line=28'>29</a>\u001b[0m pset\u001b[39m.\u001b[39maddTerminal(mode_class, \u001b[39mint\u001b[39m)\n\u001b[1;32m     <a href='vscode-notebook-cell:/Users/tristanpeat/Documents/gt/fall22/vip/titanic-ml/titanic_MOGP.ipynb#X14sZmlsZQ%3D%3D?line=29'>30</a>\u001b[0m pset\u001b[39m.\u001b[39maddTerminal(mean_fare, \u001b[39mfloat\u001b[39m)\n",
            "File \u001b[0;32m/opt/homebrew/lib/python3.9/site-packages/deap/gp.py:375\u001b[0m, in \u001b[0;36mPrimitiveSetTyped.addTerminal\u001b[0;34m(self, terminal, ret_type, name)\u001b[0m\n\u001b[1;32m    373\u001b[0m     terminal \u001b[39m=\u001b[39m name\n\u001b[1;32m    374\u001b[0m     symbolic \u001b[39m=\u001b[39m \u001b[39mTrue\u001b[39;00m\n\u001b[0;32m--> 375\u001b[0m \u001b[39melif\u001b[39;00m terminal \u001b[39min\u001b[39;49;00m (\u001b[39mTrue\u001b[39;49;00m, \u001b[39mFalse\u001b[39;49;00m):\n\u001b[1;32m    376\u001b[0m     \u001b[39m# To support True and False terminals with Python 2.\u001b[39;00m\n\u001b[1;32m    377\u001b[0m     \u001b[39mself\u001b[39m\u001b[39m.\u001b[39mcontext[\u001b[39mstr\u001b[39m(terminal)] \u001b[39m=\u001b[39m terminal\n\u001b[1;32m    379\u001b[0m prim \u001b[39m=\u001b[39m Terminal(terminal, symbolic, ret_type)\n",
            "File \u001b[0;32m/opt/homebrew/lib/python3.9/site-packages/pandas/core/generic.py:1535\u001b[0m, in \u001b[0;36mNDFrame.__nonzero__\u001b[0;34m(self)\u001b[0m\n\u001b[1;32m   1533\u001b[0m \u001b[39m@final\u001b[39m\n\u001b[1;32m   1534\u001b[0m \u001b[39mdef\u001b[39;00m \u001b[39m__nonzero__\u001b[39m(\u001b[39mself\u001b[39m):\n\u001b[0;32m-> 1535\u001b[0m     \u001b[39mraise\u001b[39;00m \u001b[39mValueError\u001b[39;00m(\n\u001b[1;32m   1536\u001b[0m         \u001b[39mf\u001b[39m\u001b[39m\"\u001b[39m\u001b[39mThe truth value of a \u001b[39m\u001b[39m{\u001b[39;00m\u001b[39mtype\u001b[39m(\u001b[39mself\u001b[39m)\u001b[39m.\u001b[39m\u001b[39m__name__\u001b[39m\u001b[39m}\u001b[39;00m\u001b[39m is ambiguous. \u001b[39m\u001b[39m\"\u001b[39m\n\u001b[1;32m   1537\u001b[0m         \u001b[39m\"\u001b[39m\u001b[39mUse a.empty, a.bool(), a.item(), a.any() or a.all().\u001b[39m\u001b[39m\"\u001b[39m\n\u001b[1;32m   1538\u001b[0m     )\n",
            "\u001b[0;31mValueError\u001b[0m: The truth value of a Series is ambiguous. Use a.empty, a.bool(), a.item(), a.any() or a.all()."
          ]
        }
      ],
      "source": [
        "# create primitive set\n",
        "random.seed(25)\n",
        "pset = gp.PrimitiveSetTyped(\"main\", itertools.repeat(float, 8), bool) \n",
        "\n",
        "pset.addPrimitive(operator.add, [float, float], float)\n",
        "pset.addPrimitive(operator.sub, [float, float], float)\n",
        "pset.addPrimitive(operator.mul, [float, float], float)\n",
        "pset.addPrimitive(divide_by_zero, [float, float], float)\n",
        "\n",
        "pset.addPrimitive(operator.and_, [bool, bool], bool)\n",
        "pset.addPrimitive(operator.or_, [bool, bool], bool)\n",
        "pset.addPrimitive(operator.not_, [bool], bool)\n",
        "pset.addPrimitive(operator.xor, [bool, bool], bool)\n",
        "pset.addPrimitive(float_to_bool, [float], bool)\n",
        "\n",
        "pset.addPrimitive(operator.lt, [float, float], bool)\n",
        "pset.addPrimitive(operator.gt, [float, float], bool)\n",
        "pset.addPrimitive(operator.eq, [float, float], bool)\n",
        "pset.addPrimitive(if_then_else, [bool, float, float], float)\n",
        "\n",
        "pset.addTerminal(0, bool)\n",
        "pset.addTerminal(1, bool)\n",
        "pset.addTerminal(2.0, float)\n",
        "pset.addTerminal(mean_age, float)\n",
        "pset.addTerminal(q1_age, int)\n",
        "pset.addTerminal(q3_age, int)\n",
        "pset.addTerminal(mode_sibs, int)\n",
        "pset.addTerminal(mode_parents, int)\n",
        "pset.addTerminal(mode_class, int)\n",
        "pset.addTerminal(mean_fare, float)\n",
        "\n",
        "pset.renameArguments(ARG0='Pclass', ARG1='Sex', ARG2='Age', ARG3='SibSp', ARG4='Parch', ARG5=\"Fare\", ARG6=\"Embarked\", ARG7=\"Deck\")"
      ]
    },
    {
      "cell_type": "code",
      "execution_count": 22,
      "metadata": {
        "id": "AyBZZOw_9IBd"
      },
      "outputs": [],
      "source": [
        "# create toolbox\n",
        "toolbox = base.Toolbox()\n",
        "toolbox.register(\"expr\", gp.genHalfAndHalf, pset=pset, min_=1, max_=10)\n",
        "toolbox.register(\"individual\", tools.initIterate, creator.Individual, toolbox.expr)\n",
        "toolbox.register(\"population\", tools.initRepeat, list, toolbox.individual)\n",
        "toolbox.register(\"compile\", gp.compile, pset=pset)"
      ]
    },
    {
      "cell_type": "code",
      "execution_count": 23,
      "metadata": {
        "id": "CHM3ulD79QTp"
      },
      "outputs": [],
      "source": [
        "def eval_function(individual, points, pset):\n",
        "    func = gp.compile(expr=individual, pset=pset)\n",
        "    results = [func(*points[x]) for x in range(len(points))]\n",
        "    tn, fp, fn, tp = confusion_matrix(y_train, results).ravel()\n",
        "    return fp/(tn + fp), fn/(tp + fn)"
      ]
    },
    {
      "cell_type": "code",
      "execution_count": 24,
      "metadata": {
        "id": "BxmCdVzz9LWp"
      },
      "outputs": [],
      "source": [
        "toolbox.register(\"evaluate\", eval_function, points=X_train.values, pset=pset)\n",
        "toolbox.register(\"select\", tools.selNSGA2)\n",
        "toolbox.register(\"mate\", gp.cxOnePoint)\n",
        "toolbox.register(\"expr_mut\", gp.genFull, min_=2, max_=5)\n",
        "toolbox.register(\"mutate\", gp.mutUniform, expr=toolbox.expr_mut, pset=pset)\n",
        "\n",
        "toolbox.decorate(\"mate\", gp.staticLimit(key=operator.attrgetter(\"height\"), max_value=17))\n",
        "toolbox.decorate(\"mutate\", gp.staticLimit(key=operator.attrgetter(\"height\"), max_value=17))"
      ]
    }
  ],
  "metadata": {
    "colab": {
      "provenance": []
    },
    "kernelspec": {
      "display_name": "emade",
      "language": "python",
      "name": "emade"
    },
    "language_info": {
      "codemirror_mode": {
        "name": "ipython",
        "version": 3
      },
      "file_extension": ".py",
      "mimetype": "text/x-python",
      "name": "python",
      "nbconvert_exporter": "python",
      "pygments_lexer": "ipython3",
      "version": "3.9.7"
    },
    "vscode": {
      "interpreter": {
        "hash": "9d5624301dd59825418d46ba1d7ada7fc08f3744dcc16b272fc605485332a111"
      }
    }
  },
  "nbformat": 4,
  "nbformat_minor": 0
}
