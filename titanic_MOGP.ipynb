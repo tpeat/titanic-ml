{
  "cells": [
    {
      "cell_type": "markdown",
      "metadata": {
        "id": "view-in-github",
        "colab_type": "text"
      },
      "source": [
        "<a href=\"https://colab.research.google.com/github/tpeat/titanic-ml/blob/main/titanic_MOGP.ipynb\" target=\"_parent\"><img src=\"https://colab.research.google.com/assets/colab-badge.svg\" alt=\"Open In Colab\"/></a>"
      ]
    },
    {
      "cell_type": "code",
      "execution_count": 1,
      "metadata": {
        "colab": {
          "base_uri": "https://localhost:8080/"
        },
        "id": "DExj4kbXBTox",
        "outputId": "a16f0503-5525-407e-b723-32e2d3de9ea6"
      },
      "outputs": [
        {
          "output_type": "stream",
          "name": "stdout",
          "text": [
            "Populating the interactive namespace from numpy and matplotlib\n",
            "Looking in indexes: https://pypi.org/simple, https://us-python.pkg.dev/colab-wheels/public/simple/\n",
            "Requirement already satisfied: pandas in /usr/local/lib/python3.7/dist-packages (1.3.5)\n",
            "Requirement already satisfied: python-dateutil>=2.7.3 in /usr/local/lib/python3.7/dist-packages (from pandas) (2.8.2)\n",
            "Requirement already satisfied: pytz>=2017.3 in /usr/local/lib/python3.7/dist-packages (from pandas) (2022.2.1)\n",
            "Requirement already satisfied: numpy>=1.17.3 in /usr/local/lib/python3.7/dist-packages (from pandas) (1.21.6)\n",
            "Requirement already satisfied: six>=1.5 in /usr/local/lib/python3.7/dist-packages (from python-dateutil>=2.7.3->pandas) (1.15.0)\n",
            "Looking in indexes: https://pypi.org/simple, https://us-python.pkg.dev/colab-wheels/public/simple/\n",
            "Collecting deap\n",
            "  Downloading deap-1.3.3-cp37-cp37m-manylinux_2_5_x86_64.manylinux1_x86_64.manylinux_2_17_x86_64.manylinux2014_x86_64.whl (139 kB)\n",
            "\u001b[K     |████████████████████████████████| 139 kB 5.2 MB/s \n",
            "\u001b[?25hRequirement already satisfied: numpy in /usr/local/lib/python3.7/dist-packages (from deap) (1.21.6)\n",
            "Installing collected packages: deap\n",
            "Successfully installed deap-1.3.3\n"
          ]
        }
      ],
      "source": [
        "%pylab inline\n",
        "# Pandas is a nice utilitiy that enables some easy data manipulation, especially from a csv\n",
        "\n",
        "!pip3 install pandas\n",
        "import pandas as pd\n",
        "# Numpy lets us work with arrays\n",
        "import numpy as np\n",
        "\n",
        "# Sklearn provides various modules with a common API\n",
        "from sklearn.metrics import confusion_matrix\n",
        "from sklearn.model_selection import train_test_split, cross_val_score, cross_val_predict, cross_validate\n",
        "\n",
        "!pip install deap\n",
        "from deap import algorithms\n",
        "from deap import base\n",
        "from deap import creator\n",
        "from deap import tools\n",
        "from deap import gp\n",
        "\n",
        "import random\n",
        "import operator\n",
        "import itertools\n",
        "\n",
        "# import pickle\n",
        "import pickle\n",
        "# turn off warnings\n",
        "from warnings import simplefilter\n",
        "# ignore all future warnings\n",
        "simplefilter(action='ignore', category=FutureWarning)"
      ]
    },
    {
      "cell_type": "code",
      "execution_count": 2,
      "metadata": {
        "id": "ei5ydI0VBTo0"
      },
      "outputs": [],
      "source": [
        "# Read in our csv files downloaded from Kaggle\n",
        "train_data = pd.read_csv('processed_train.csv').set_index(\"PassengerId\")\n",
        "test_data = pd.read_csv('processed_test.csv').set_index(\"PassengerId\")\n",
        "\n",
        "df = pd.concat([train_data, test_data], axis=0, sort=False)"
      ]
    },
    {
      "cell_type": "code",
      "execution_count": 3,
      "metadata": {
        "colab": {
          "base_uri": "https://localhost:8080/",
          "height": 235
        },
        "id": "8rDevsE7BTo1",
        "outputId": "3036d8a4-5ed2-4744-b8f9-e679b946d520"
      },
      "outputs": [
        {
          "output_type": "execute_result",
          "data": {
            "text/plain": [
              "             Survived  Pclass  Sex   Age  SibSp  Parch     Fare  Embarked  \\\n",
              "PassengerId                                                                 \n",
              "1                 0.0       3    1  22.0      1      0   7.2500         2   \n",
              "2                 1.0       1    0  38.0      1      0  71.2833         0   \n",
              "3                 1.0       3    0  26.0      0      0   7.9250         2   \n",
              "4                 1.0       1    0  35.0      1      0  53.1000         2   \n",
              "5                 0.0       3    1  35.0      0      0   8.0500         2   \n",
              "\n",
              "             Title  LastName  IsWomanOrBoy  WomanOrBoyCount  \\\n",
              "PassengerId                                                   \n",
              "1               10       100             0                0   \n",
              "2               11       182             1                1   \n",
              "3                9       329             1                1   \n",
              "4               11       267             1                1   \n",
              "5               10        15             0                1   \n",
              "\n",
              "             FamilySurvivedCount  WomanOrBoySurvived  Alone  Single  SmallF  \\\n",
              "PassengerId                                                                   \n",
              "1                            0.0                 0.0      1       0       1   \n",
              "2                            1.0                 1.0      0       0       1   \n",
              "3                            1.0                 1.0      0       1       0   \n",
              "4                            1.0                 1.0      0       0       1   \n",
              "5                            1.0                 1.0      0       1       0   \n",
              "\n",
              "             MedF  LargeF  Deck  \n",
              "PassengerId                      \n",
              "1               0       0     7  \n",
              "2               0       0     2  \n",
              "3               0       0     7  \n",
              "4               0       0     2  \n",
              "5               0       0     7  "
            ],
            "text/html": [
              "\n",
              "  <div id=\"df-b8b34654-4f94-4929-92ad-34bb20d2b62f\">\n",
              "    <div class=\"colab-df-container\">\n",
              "      <div>\n",
              "<style scoped>\n",
              "    .dataframe tbody tr th:only-of-type {\n",
              "        vertical-align: middle;\n",
              "    }\n",
              "\n",
              "    .dataframe tbody tr th {\n",
              "        vertical-align: top;\n",
              "    }\n",
              "\n",
              "    .dataframe thead th {\n",
              "        text-align: right;\n",
              "    }\n",
              "</style>\n",
              "<table border=\"1\" class=\"dataframe\">\n",
              "  <thead>\n",
              "    <tr style=\"text-align: right;\">\n",
              "      <th></th>\n",
              "      <th>Survived</th>\n",
              "      <th>Pclass</th>\n",
              "      <th>Sex</th>\n",
              "      <th>Age</th>\n",
              "      <th>SibSp</th>\n",
              "      <th>Parch</th>\n",
              "      <th>Fare</th>\n",
              "      <th>Embarked</th>\n",
              "      <th>Title</th>\n",
              "      <th>LastName</th>\n",
              "      <th>IsWomanOrBoy</th>\n",
              "      <th>WomanOrBoyCount</th>\n",
              "      <th>FamilySurvivedCount</th>\n",
              "      <th>WomanOrBoySurvived</th>\n",
              "      <th>Alone</th>\n",
              "      <th>Single</th>\n",
              "      <th>SmallF</th>\n",
              "      <th>MedF</th>\n",
              "      <th>LargeF</th>\n",
              "      <th>Deck</th>\n",
              "    </tr>\n",
              "    <tr>\n",
              "      <th>PassengerId</th>\n",
              "      <th></th>\n",
              "      <th></th>\n",
              "      <th></th>\n",
              "      <th></th>\n",
              "      <th></th>\n",
              "      <th></th>\n",
              "      <th></th>\n",
              "      <th></th>\n",
              "      <th></th>\n",
              "      <th></th>\n",
              "      <th></th>\n",
              "      <th></th>\n",
              "      <th></th>\n",
              "      <th></th>\n",
              "      <th></th>\n",
              "      <th></th>\n",
              "      <th></th>\n",
              "      <th></th>\n",
              "      <th></th>\n",
              "      <th></th>\n",
              "    </tr>\n",
              "  </thead>\n",
              "  <tbody>\n",
              "    <tr>\n",
              "      <th>1</th>\n",
              "      <td>0.0</td>\n",
              "      <td>3</td>\n",
              "      <td>1</td>\n",
              "      <td>22.0</td>\n",
              "      <td>1</td>\n",
              "      <td>0</td>\n",
              "      <td>7.2500</td>\n",
              "      <td>2</td>\n",
              "      <td>10</td>\n",
              "      <td>100</td>\n",
              "      <td>0</td>\n",
              "      <td>0</td>\n",
              "      <td>0.0</td>\n",
              "      <td>0.0</td>\n",
              "      <td>1</td>\n",
              "      <td>0</td>\n",
              "      <td>1</td>\n",
              "      <td>0</td>\n",
              "      <td>0</td>\n",
              "      <td>7</td>\n",
              "    </tr>\n",
              "    <tr>\n",
              "      <th>2</th>\n",
              "      <td>1.0</td>\n",
              "      <td>1</td>\n",
              "      <td>0</td>\n",
              "      <td>38.0</td>\n",
              "      <td>1</td>\n",
              "      <td>0</td>\n",
              "      <td>71.2833</td>\n",
              "      <td>0</td>\n",
              "      <td>11</td>\n",
              "      <td>182</td>\n",
              "      <td>1</td>\n",
              "      <td>1</td>\n",
              "      <td>1.0</td>\n",
              "      <td>1.0</td>\n",
              "      <td>0</td>\n",
              "      <td>0</td>\n",
              "      <td>1</td>\n",
              "      <td>0</td>\n",
              "      <td>0</td>\n",
              "      <td>2</td>\n",
              "    </tr>\n",
              "    <tr>\n",
              "      <th>3</th>\n",
              "      <td>1.0</td>\n",
              "      <td>3</td>\n",
              "      <td>0</td>\n",
              "      <td>26.0</td>\n",
              "      <td>0</td>\n",
              "      <td>0</td>\n",
              "      <td>7.9250</td>\n",
              "      <td>2</td>\n",
              "      <td>9</td>\n",
              "      <td>329</td>\n",
              "      <td>1</td>\n",
              "      <td>1</td>\n",
              "      <td>1.0</td>\n",
              "      <td>1.0</td>\n",
              "      <td>0</td>\n",
              "      <td>1</td>\n",
              "      <td>0</td>\n",
              "      <td>0</td>\n",
              "      <td>0</td>\n",
              "      <td>7</td>\n",
              "    </tr>\n",
              "    <tr>\n",
              "      <th>4</th>\n",
              "      <td>1.0</td>\n",
              "      <td>1</td>\n",
              "      <td>0</td>\n",
              "      <td>35.0</td>\n",
              "      <td>1</td>\n",
              "      <td>0</td>\n",
              "      <td>53.1000</td>\n",
              "      <td>2</td>\n",
              "      <td>11</td>\n",
              "      <td>267</td>\n",
              "      <td>1</td>\n",
              "      <td>1</td>\n",
              "      <td>1.0</td>\n",
              "      <td>1.0</td>\n",
              "      <td>0</td>\n",
              "      <td>0</td>\n",
              "      <td>1</td>\n",
              "      <td>0</td>\n",
              "      <td>0</td>\n",
              "      <td>2</td>\n",
              "    </tr>\n",
              "    <tr>\n",
              "      <th>5</th>\n",
              "      <td>0.0</td>\n",
              "      <td>3</td>\n",
              "      <td>1</td>\n",
              "      <td>35.0</td>\n",
              "      <td>0</td>\n",
              "      <td>0</td>\n",
              "      <td>8.0500</td>\n",
              "      <td>2</td>\n",
              "      <td>10</td>\n",
              "      <td>15</td>\n",
              "      <td>0</td>\n",
              "      <td>1</td>\n",
              "      <td>1.0</td>\n",
              "      <td>1.0</td>\n",
              "      <td>0</td>\n",
              "      <td>1</td>\n",
              "      <td>0</td>\n",
              "      <td>0</td>\n",
              "      <td>0</td>\n",
              "      <td>7</td>\n",
              "    </tr>\n",
              "  </tbody>\n",
              "</table>\n",
              "</div>\n",
              "      <button class=\"colab-df-convert\" onclick=\"convertToInteractive('df-b8b34654-4f94-4929-92ad-34bb20d2b62f')\"\n",
              "              title=\"Convert this dataframe to an interactive table.\"\n",
              "              style=\"display:none;\">\n",
              "        \n",
              "  <svg xmlns=\"http://www.w3.org/2000/svg\" height=\"24px\"viewBox=\"0 0 24 24\"\n",
              "       width=\"24px\">\n",
              "    <path d=\"M0 0h24v24H0V0z\" fill=\"none\"/>\n",
              "    <path d=\"M18.56 5.44l.94 2.06.94-2.06 2.06-.94-2.06-.94-.94-2.06-.94 2.06-2.06.94zm-11 1L8.5 8.5l.94-2.06 2.06-.94-2.06-.94L8.5 2.5l-.94 2.06-2.06.94zm10 10l.94 2.06.94-2.06 2.06-.94-2.06-.94-.94-2.06-.94 2.06-2.06.94z\"/><path d=\"M17.41 7.96l-1.37-1.37c-.4-.4-.92-.59-1.43-.59-.52 0-1.04.2-1.43.59L10.3 9.45l-7.72 7.72c-.78.78-.78 2.05 0 2.83L4 21.41c.39.39.9.59 1.41.59.51 0 1.02-.2 1.41-.59l7.78-7.78 2.81-2.81c.8-.78.8-2.07 0-2.86zM5.41 20L4 18.59l7.72-7.72 1.47 1.35L5.41 20z\"/>\n",
              "  </svg>\n",
              "      </button>\n",
              "      \n",
              "  <style>\n",
              "    .colab-df-container {\n",
              "      display:flex;\n",
              "      flex-wrap:wrap;\n",
              "      gap: 12px;\n",
              "    }\n",
              "\n",
              "    .colab-df-convert {\n",
              "      background-color: #E8F0FE;\n",
              "      border: none;\n",
              "      border-radius: 50%;\n",
              "      cursor: pointer;\n",
              "      display: none;\n",
              "      fill: #1967D2;\n",
              "      height: 32px;\n",
              "      padding: 0 0 0 0;\n",
              "      width: 32px;\n",
              "    }\n",
              "\n",
              "    .colab-df-convert:hover {\n",
              "      background-color: #E2EBFA;\n",
              "      box-shadow: 0px 1px 2px rgba(60, 64, 67, 0.3), 0px 1px 3px 1px rgba(60, 64, 67, 0.15);\n",
              "      fill: #174EA6;\n",
              "    }\n",
              "\n",
              "    [theme=dark] .colab-df-convert {\n",
              "      background-color: #3B4455;\n",
              "      fill: #D2E3FC;\n",
              "    }\n",
              "\n",
              "    [theme=dark] .colab-df-convert:hover {\n",
              "      background-color: #434B5C;\n",
              "      box-shadow: 0px 1px 3px 1px rgba(0, 0, 0, 0.15);\n",
              "      filter: drop-shadow(0px 1px 2px rgba(0, 0, 0, 0.3));\n",
              "      fill: #FFFFFF;\n",
              "    }\n",
              "  </style>\n",
              "\n",
              "      <script>\n",
              "        const buttonEl =\n",
              "          document.querySelector('#df-b8b34654-4f94-4929-92ad-34bb20d2b62f button.colab-df-convert');\n",
              "        buttonEl.style.display =\n",
              "          google.colab.kernel.accessAllowed ? 'block' : 'none';\n",
              "\n",
              "        async function convertToInteractive(key) {\n",
              "          const element = document.querySelector('#df-b8b34654-4f94-4929-92ad-34bb20d2b62f');\n",
              "          const dataTable =\n",
              "            await google.colab.kernel.invokeFunction('convertToInteractive',\n",
              "                                                     [key], {});\n",
              "          if (!dataTable) return;\n",
              "\n",
              "          const docLinkHtml = 'Like what you see? Visit the ' +\n",
              "            '<a target=\"_blank\" href=https://colab.research.google.com/notebooks/data_table.ipynb>data table notebook</a>'\n",
              "            + ' to learn more about interactive tables.';\n",
              "          element.innerHTML = '';\n",
              "          dataTable['output_type'] = 'display_data';\n",
              "          await google.colab.output.renderOutput(dataTable, element);\n",
              "          const docLink = document.createElement('div');\n",
              "          docLink.innerHTML = docLinkHtml;\n",
              "          element.appendChild(docLink);\n",
              "        }\n",
              "      </script>\n",
              "    </div>\n",
              "  </div>\n",
              "  "
            ]
          },
          "metadata": {},
          "execution_count": 3
        }
      ],
      "source": [
        "# We can use .head() to get just the first few rows of the data.\n",
        "train_data.head()\n",
        "# Note how the notebook nicely displays the output for us"
      ]
    },
    {
      "cell_type": "markdown",
      "metadata": {
        "id": "ar3xROKfvXTT"
      },
      "source": [
        "## Generate valuable constants from df"
      ]
    },
    {
      "cell_type": "code",
      "execution_count": 4,
      "metadata": {
        "id": "ewRtEBNzvXTW"
      },
      "outputs": [],
      "source": [
        "# average age\n",
        "mean_age = df.Age.mean()\n",
        "\n",
        "# 1st quartile\n",
        "q1_age = np.quantile(df.Age, 0.25)\n",
        "# quartile 3\n",
        "q3_age = np.quantile(df.Age, 0.75)\n",
        "\n",
        "\n",
        "# mode of passenger class\n",
        "mode_class = df.Pclass.value_counts().idxmax()\n",
        "\n",
        "# mode siblings\n",
        "mode_sibs = df.SibSp.value_counts().idxmax()\n",
        "\n",
        "# mode parnets\n",
        "mode_parents = df.Parch.value_counts().idxmax()\n",
        "\n",
        "# mean fare price\n",
        "mean_fare = df.Fare.mean()"
      ]
    },
    {
      "cell_type": "code",
      "execution_count": 5,
      "metadata": {
        "id": "y_0fscG0vXTX"
      },
      "outputs": [],
      "source": [
        "RANDOM_SEED=10\n",
        "X_train = train_data.loc[:, train_data.columns != 'Survived']\n",
        "y_train = train_data.loc[:, 'Survived']\n",
        "X_train, X_test, y_train, y_test = train_test_split(X_train, y_train, test_size=0.33, random_state=RANDOM_SEED)"
      ]
    },
    {
      "cell_type": "code",
      "execution_count": 6,
      "metadata": {
        "id": "8aK2fUrR8g4i"
      },
      "outputs": [],
      "source": [
        "# create fitness for MO: FP and FN\n",
        "creator.create(\"FitnessMin\", base.Fitness, weights=(-1.0,-1.0))\n",
        "creator.create(\"Individual\", gp.PrimitiveTree, fitness=creator.FitnessMin)"
      ]
    },
    {
      "cell_type": "code",
      "execution_count": 7,
      "metadata": {
        "id": "JlBs9aCK9BBM"
      },
      "outputs": [],
      "source": [
        "# helper functions for primitives\n",
        "def divide_by_zero(a, b):\n",
        "    if b == 0:\n",
        "        return 0\n",
        "    else:\n",
        "        return a / b\n",
        "def if_then_else(input, output1, output2):\n",
        "    if input: \n",
        "        return output1\n",
        "    else: \n",
        "        return output2\n",
        "\n",
        "def float_to_bool(f):\n",
        "    return f > 0"
      ]
    },
    {
      "cell_type": "code",
      "execution_count": 14,
      "metadata": {
        "id": "OWQsm_2v8vAA"
      },
      "outputs": [],
      "source": [
        "# create primitive set\n",
        "random.seed(25)\n",
        "pset = gp.PrimitiveSetTyped(\"main\", itertools.repeat(float, 19), bool) \n",
        "\n",
        "pset.addPrimitive(operator.add, [float, float], float)\n",
        "pset.addPrimitive(operator.sub, [float, float], float)\n",
        "pset.addPrimitive(operator.mul, [float, float], float)\n",
        "pset.addPrimitive(divide_by_zero, [float, float], float)\n",
        "\n",
        "pset.addPrimitive(operator.and_, [bool, bool], bool)\n",
        "pset.addPrimitive(operator.or_, [bool, bool], bool)\n",
        "pset.addPrimitive(operator.not_, [bool], bool)\n",
        "pset.addPrimitive(operator.xor, [bool, bool], bool)\n",
        "pset.addPrimitive(float_to_bool, [float], bool)\n",
        "\n",
        "pset.addPrimitive(operator.lt, [float, float], bool)\n",
        "pset.addPrimitive(operator.gt, [float, float], bool)\n",
        "pset.addPrimitive(operator.eq, [float, float], bool)\n",
        "pset.addPrimitive(if_then_else, [bool, float, float], float)\n",
        "\n",
        "pset.addTerminal(0, bool)\n",
        "pset.addTerminal(1, bool)\n",
        "pset.addTerminal(2.0, float)\n",
        "pset.addTerminal(mean_age, float)\n",
        "pset.addTerminal(q1_age, int)\n",
        "pset.addTerminal(q3_age, int)\n",
        "pset.addTerminal(mode_sibs, int)\n",
        "pset.addTerminal(mode_parents, int)\n",
        "pset.addTerminal(mode_class, int)\n",
        "pset.addTerminal(mean_fare, float)\n",
        "\n",
        "pset.renameArguments(ARG0='Pclass', ARG1='Sex', ARG2='Age', ARG3='SibSp', ARG4='Parch', ARG5=\"Fare\", ARG6=\"Embarked\", ARG7=\"Deck\")"
      ]
    },
    {
      "cell_type": "code",
      "execution_count": 15,
      "metadata": {
        "id": "AyBZZOw_9IBd"
      },
      "outputs": [],
      "source": [
        "# create toolbox\n",
        "toolbox = base.Toolbox()\n",
        "toolbox.register(\"expr\", gp.genHalfAndHalf, pset=pset, min_=1, max_=10)\n",
        "toolbox.register(\"individual\", tools.initIterate, creator.Individual, toolbox.expr)\n",
        "toolbox.register(\"population\", tools.initRepeat, list, toolbox.individual)\n",
        "toolbox.register(\"compile\", gp.compile, pset=pset)"
      ]
    },
    {
      "cell_type": "code",
      "execution_count": 16,
      "metadata": {
        "id": "CHM3ulD79QTp"
      },
      "outputs": [],
      "source": [
        "def eval_function(individual, points, pset):\n",
        "    func = gp.compile(expr=individual, pset=pset)\n",
        "    results = [func(*points[x]) for x in range(len(points))]\n",
        "    tn, fp, fn, tp = confusion_matrix(y_train, results).ravel()\n",
        "    return fp/(tn + fp), fn/(tp + fn)"
      ]
    },
    {
      "cell_type": "code",
      "execution_count": 17,
      "metadata": {
        "id": "BxmCdVzz9LWp"
      },
      "outputs": [],
      "source": [
        "toolbox.register(\"evaluate\", eval_function, points=X_train.values, pset=pset)\n",
        "toolbox.register(\"select\", tools.selNSGA2)\n",
        "toolbox.register(\"mate\", gp.cxOnePoint)\n",
        "toolbox.register(\"expr_mut\", gp.genFull, min_=2, max_=5)\n",
        "toolbox.register(\"mutate\", gp.mutUniform, expr=toolbox.expr_mut, pset=pset)\n",
        "\n",
        "toolbox.decorate(\"mate\", gp.staticLimit(key=operator.attrgetter(\"height\"), max_value=17))\n",
        "toolbox.decorate(\"mutate\", gp.staticLimit(key=operator.attrgetter(\"height\"), max_value=17))"
      ]
    },
    {
      "cell_type": "code",
      "execution_count": 18,
      "metadata": {
        "colab": {
          "base_uri": "https://localhost:8080/"
        },
        "id": "1KyHQIRlvXTb",
        "outputId": "27a00801-dea5-48cb-d1f1-f77c5d914e9a"
      },
      "outputs": [
        {
          "output_type": "stream",
          "name": "stdout",
          "text": [
            "and_(xor(float_to_bool(divide_by_zero(Sex, ARG8)), and_(float_to_bool(ARG18), gt(SibSp, ARG18))), or_(xor(lt(Fare, ARG17), lt(ARG16, ARG15)), or_(or_(1, 1), lt(Embarked, 33.2760436210848))))\n",
            "(0.8491620111731844, 0.6680672268907563)\n"
          ]
        }
      ],
      "source": [
        "expr = gp.genFull(pset, min_=1, max_=5)\n",
        "tree = gp.PrimitiveTree(expr)\n",
        "print(str(tree))\n",
        "print(str(eval_function(tree, X_train.values, pset)))"
      ]
    },
    {
      "cell_type": "code",
      "execution_count": 19,
      "metadata": {
        "id": "ah81KnyCvXTc"
      },
      "outputs": [],
      "source": [
        "def pareto_dominance(ind1, ind2):\n",
        "    not_equal = False\n",
        "    for value_1, value_2 in zip(ind1.fitness.values, ind2.fitness.values):\n",
        "        if value_1 > value_2:\n",
        "            return False\n",
        "        elif value_1 < value_2:\n",
        "            not_equal = True\n",
        "    return not_equal"
      ]
    },
    {
      "cell_type": "code",
      "execution_count": 20,
      "metadata": {
        "id": "ZshxLYRhvXTc"
      },
      "outputs": [],
      "source": [
        "population = toolbox.population(n=300)"
      ]
    },
    {
      "cell_type": "code",
      "execution_count": 21,
      "metadata": {
        "id": "FNsBtwvmvXTc"
      },
      "outputs": [],
      "source": [
        "fitnesses = list(map(toolbox.evaluate, population))\n",
        "for ind, fit in zip(population, fitnesses):\n",
        "    ind.fitness.values = fit\n",
        "\n",
        "a_given_individual = toolbox.population(n=1)[0]\n",
        "a_given_individual.fitness.values = toolbox.evaluate(a_given_individual)"
      ]
    },
    {
      "cell_type": "code",
      "execution_count": 22,
      "metadata": {
        "id": "-cQc57HLvXTd"
      },
      "outputs": [],
      "source": [
        "dominated = [ind for ind in population if pareto_dominance(a_given_individual, ind)]\n",
        "dominators = [ind for ind in population if pareto_dominance(ind, a_given_individual)]\n",
        "others = [ind for ind in population if not ind in dominated and not ind in dominators]"
      ]
    },
    {
      "cell_type": "code",
      "execution_count": 23,
      "metadata": {
        "colab": {
          "base_uri": "https://localhost:8080/"
        },
        "id": "8dy2pIqrvXTe",
        "outputId": "20d8c6e6-ea58-4732-a0b0-ad72b6a2aab6"
      },
      "outputs": [
        {
          "output_type": "stream",
          "name": "stdout",
          "text": [
            "2\n",
            "0.0\n",
            "294\n"
          ]
        }
      ],
      "source": [
        "print(len(dominated))\n",
        "print((dominators[1].fitness.values[1]))\n",
        "print(len(others))\n"
      ]
    },
    {
      "cell_type": "code",
      "execution_count": 24,
      "metadata": {
        "colab": {
          "base_uri": "https://localhost:8080/",
          "height": 297
        },
        "id": "WuCp23i5vXTe",
        "outputId": "febdd641-f944-4068-bef1-70f55d635b04"
      },
      "outputs": [
        {
          "output_type": "display_data",
          "data": {
            "text/plain": [
              "<Figure size 432x288 with 1 Axes>"
            ],
            "image/png": "[encoded data removed]"
          },
          "metadata": {
            "needs_background": "light"
          }
        }
      ],
      "source": [
        "for ind in dominators: plt.plot(ind.fitness.values[0], ind.fitness.values[1], 'r.', alpha=0.7)\n",
        "for ind in dominated: plt.plot(ind.fitness.values[0], ind.fitness.values[1], 'g.', alpha=0.7)\n",
        "for ind in others: plt.plot(ind.fitness.values[0], ind.fitness.values[1], 'k.', alpha=0.7, ms=3)\n",
        "plt.plot(a_given_individual.fitness.values[0], a_given_individual.fitness.values[1], 'bo', ms=6);\n",
        "plt.xlabel('Mean Squared Error');plt.ylabel('Tree Size');\n",
        "plt.title('Objective space');\n",
        "plt.tight_layout()\n",
        "plt.show()"
      ]
    },
    {
      "cell_type": "code",
      "execution_count": 25,
      "metadata": {
        "colab": {
          "base_uri": "https://localhost:8080/"
        },
        "id": "B1KluR7dvXTf",
        "outputId": "bc73b70f-6007-4f91-b778-c154595c7d22"
      },
      "outputs": [
        {
          "output_type": "stream",
          "name": "stdout",
          "text": [
            "gen\tnevals\tavg                    \tstd                    \tmin    \tmax    \n",
            "0  \t0     \t[0.43055866 0.55553221]\t[0.42521411 0.40907563]\t[0. 0.]\t[1. 1.]\n",
            "1  \t151   \t[0.42445996 0.57081232]\t[0.42270783 0.40542173]\t[0. 0.]\t[1. 1.]\n",
            "2  \t171   \t[0.47116387 0.52988796]\t[0.43119076 0.41203731]\t[0. 0.]\t[1. 1.]\n",
            "3  \t169   \t[0.45932961 0.51738095]\t[0.42593348 0.4054461 ]\t[0. 0.]\t[1. 1.]\n",
            "4  \t162   \t[0.45276536 0.53026611]\t[0.4223292  0.40173682]\t[0. 0.]\t[1. 1.]\n",
            "5  \t153   \t[0.45077281 0.52927171]\t[0.41847057 0.40094336]\t[0. 0.]\t[1. 1.]\n",
            "6  \t159   \t[0.4488175  0.54235294]\t[0.4230133  0.40740128]\t[0. 0.]\t[1. 1.]\n",
            "7  \t167   \t[0.44357542 0.54612045]\t[0.42452036 0.40693799]\t[0. 0.]\t[1. 1.]\n",
            "8  \t157   \t[0.44226257 0.55718487]\t[0.42361101 0.40410015]\t[0. 0.]\t[1. 1.]\n",
            "9  \t166   \t[0.44197393 0.55330532]\t[0.42921618 0.41316549]\t[0. 0.]\t[1. 1.]\n",
            "10 \t176   \t[0.45097765 0.55012605]\t[0.42595534 0.40913235]\t[0. 0.]\t[1. 1.]\n",
            "11 \t181   \t[0.42503724 0.5642437 ]\t[0.42522864 0.40917293]\t[0. 0.]\t[1. 1.]\n",
            "12 \t168   \t[0.4466108  0.56082633]\t[0.42479915 0.40873239]\t[0. 0.]\t[1. 1.]\n",
            "13 \t162   \t[0.44294227 0.54957983]\t[0.42201868 0.40674323]\t[0. 0.]\t[1. 1.]\n",
            "14 \t173   \t[0.45290503 0.53987395]\t[0.42423207 0.40528508]\t[0. 0.]\t[1. 1.]\n",
            "15 \t169   \t[0.47663873 0.52544818]\t[0.42934289 0.41016008]\t[0. 0.]\t[1. 1.]\n",
            "16 \t171   \t[0.45537244 0.53987395]\t[0.42612385 0.40659715]\t[0. 0.]\t[1. 1.]\n",
            "17 \t170   \t[0.45031657 0.55266106]\t[0.4237832  0.40308177]\t[0. 0.]\t[1. 1.]\n",
            "18 \t167   \t[0.45057728 0.54218487]\t[0.42631744 0.40765842]\t[0. 0.]\t[1. 1.]\n",
            "19 \t167   \t[0.45515829 0.53497199]\t[0.42699997 0.40741324]\t[0. 0.]\t[1. 1.]\n",
            "20 \t169   \t[0.44303538 0.55260504]\t[0.42525104 0.40589126]\t[0. 0.]\t[1. 1.]\n",
            "21 \t149   \t[0.4409311 0.5552521]  \t[0.42248009 0.40205746]\t[0. 0.]\t[1. 1.]\n",
            "22 \t161   \t[0.43429236 0.55682073]\t[0.42145049 0.40238625]\t[0. 0.]\t[1. 1.]\n",
            "23 \t150   \t[0.43243948 0.55711485]\t[0.4251862  0.40597632]\t[0. 0.]\t[1. 1.]\n",
            "24 \t155   \t[0.4353352  0.55327731]\t[0.42196613 0.40243864]\t[0. 0.]\t[1. 1.]\n",
            "25 \t170   \t[0.45017691 0.55005602]\t[0.4253093  0.40249116]\t[0. 0.]\t[1. 1.]\n",
            "26 \t178   \t[0.45413408 0.54229692]\t[0.42657455 0.40347342]\t[0. 0.]\t[1. 1.]\n",
            "27 \t169   \t[0.43986965 0.55687675]\t[0.42054031 0.39672964]\t[0. 0.]\t[1. 1.]\n",
            "28 \t160   \t[0.43959032 0.55598039]\t[0.42080825 0.39755328]\t[0. 0.]\t[1. 1.]\n",
            "29 \t176   \t[0.43698324 0.54987395]\t[0.41876989 0.39687863]\t[0. 0.]\t[1. 1.]\n",
            "30 \t152   \t[0.4436406  0.54110644]\t[0.41662513 0.3933082 ]\t[0. 0.]\t[1. 1.]\n",
            "31 \t138   \t[0.43710428 0.54123249]\t[0.41754837 0.39484857]\t[0. 0.]\t[1. 1.]\n",
            "32 \t177   \t[0.44046555 0.55578431]\t[0.41742856 0.39225519]\t[0. 0.]\t[1. 1.]\n",
            "33 \t182   \t[0.44127561 0.55109244]\t[0.41951807 0.39543823]\t[0. 0.]\t[1. 1.]\n",
            "34 \t172   \t[0.45193669 0.53697479]\t[0.41898595 0.39409286]\t[0. 0.]\t[1. 1.]\n",
            "35 \t166   \t[0.45635009 0.54042017]\t[0.41772888 0.39492779]\t[0. 0.]\t[1. 1.]\n",
            "36 \t175   \t[0.44864991 0.54662465]\t[0.42040894 0.39732619]\t[0. 0.]\t[1. 1.]\n",
            "37 \t172   \t[0.43216946 0.56337535]\t[0.4211685  0.39807984]\t[0. 0.]\t[1. 1.]\n",
            "38 \t184   \t[0.43218808 0.55978992]\t[0.42138104 0.39807394]\t[0. 0.]\t[1. 1.]\n",
            "39 \t159   \t[0.43811918 0.55693277]\t[0.41992984 0.3944314 ]\t[0. 0.]\t[1. 1.]\n",
            "40 \t163   \t[0.4252514  0.56291317]\t[0.41928335 0.39758541]\t[0. 0.]\t[1. 1.]\n",
            "41 \t173   \t[0.41292365 0.56984594]\t[0.41913706 0.4005174 ]\t[0. 0.]\t[1. 1.]\n",
            "42 \t147   \t[0.42577281 0.56341737]\t[0.4195582  0.39732702]\t[0. 0.]\t[1. 1.]\n",
            "43 \t155   \t[0.42955307 0.56623249]\t[0.41761036 0.3935521 ]\t[0. 0.]\t[1. 1.]\n",
            "44 \t174   \t[0.43558659 0.55918768]\t[0.42007071 0.39370695]\t[0. 0.]\t[1. 1.]\n",
            "45 \t163   \t[0.42691806 0.56885154]\t[0.42136829 0.3950844 ]\t[0. 0.]\t[1. 1.]\n",
            "46 \t152   \t[0.42751397 0.5672409 ]\t[0.42405995 0.39783985]\t[0. 0.]\t[1. 1.]\n",
            "47 \t170   \t[0.43002793 0.56514006]\t[0.42410399 0.39932968]\t[0. 0.]\t[1. 1.]\n",
            "48 \t171   \t[0.43204842 0.56540616]\t[0.42698294 0.40070522]\t[0. 0.]\t[1. 1.]\n",
            "49 \t148   \t[0.42716946 0.57266106]\t[0.42878021 0.40349964]\t[0. 0.]\t[1. 1.]\n",
            "50 \t164   \t[0.43619181 0.56820728]\t[0.42684128 0.40061945]\t[0. 0.]\t[1. 1.]\n",
            "51 \t172   \t[0.44321229 0.55560224]\t[0.42646141 0.39967442]\t[0. 0.]\t[1. 1.]\n",
            "52 \t160   \t[0.43311918 0.57064426]\t[0.42395659 0.40064852]\t[0. 0.]\t[1. 1.]\n",
            "53 \t163   \t[0.42739292 0.57148459]\t[0.41898007 0.39628672]\t[0. 0.]\t[1. 1.]\n",
            "54 \t163   \t[0.45356611 0.55528011]\t[0.42302679 0.39897959]\t[0. 0.]\t[1. 1.]\n",
            "55 \t181   \t[0.43097765 0.5759944 ]\t[0.42178425 0.40164959]\t[0. 0.]\t[1. 1.]\n",
            "56 \t164   \t[0.41874302 0.58942577]\t[0.42071511 0.39902113]\t[0. 0.]\t[1. 1.]\n",
            "57 \t168   \t[0.42112663 0.58528011]\t[0.42221623 0.3980535 ]\t[0. 0.]\t[1. 1.]\n",
            "58 \t179   \t[0.41363128 0.58235294]\t[0.4214654  0.40057849]\t[0. 0.]\t[1. 1.]\n",
            "59 \t178   \t[0.41878026 0.57428571]\t[0.42079419 0.39956645]\t[0. 0.]\t[1. 1.]\n",
            "60 \t159   \t[0.41257914 0.5840056 ]\t[0.41934773 0.39588425]\t[0. 0.]\t[1. 1.]\n",
            "61 \t151   \t[0.41517691 0.58211485]\t[0.4228787  0.39840725]\t[0. 0.]\t[1. 1.]\n",
            "62 \t161   \t[0.41108007 0.57656863]\t[0.42160705 0.40101676]\t[0. 0.]\t[1. 1.]\n",
            "63 \t162   \t[0.41879888 0.57092437]\t[0.42309347 0.40189815]\t[0. 0.]\t[1. 1.]\n",
            "64 \t169   \t[0.41175047 0.58166667]\t[0.42095687 0.39971536]\t[0. 0.]\t[1. 1.]\n",
            "65 \t173   \t[0.40892924 0.58495798]\t[0.41718335 0.39481548]\t[0. 0.]\t[1. 1.]\n",
            "66 \t157   \t[0.40256052 0.5872549 ]\t[0.41434368 0.39016338]\t[0. 0.]\t[1. 1.]\n",
            "67 \t153   \t[0.41351024 0.57221289]\t[0.41905023 0.39463703]\t[0. 0.]\t[1. 1.]\n",
            "68 \t157   \t[0.41346369 0.56351541]\t[0.41943285 0.39438549]\t[0. 0.]\t[1. 1.]\n",
            "69 \t154   \t[0.41441341 0.56903361]\t[0.41895478 0.39255883]\t[0. 0.]\t[1. 1.]\n",
            "70 \t143   \t[0.40859404 0.57365546]\t[0.42040941 0.3948114 ]\t[0. 0.]\t[1. 1.]\n",
            "71 \t159   \t[0.42255121 0.56079832]\t[0.42460041 0.39884351]\t[0. 0.]\t[1. 1.]\n",
            "72 \t168   \t[0.41221601 0.56964986]\t[0.4224123  0.39610933]\t[0. 0.]\t[1. 1.]\n",
            "73 \t156   \t[0.41304469 0.56628852]\t[0.42307196 0.39853866]\t[0. 0.]\t[1. 1.]\n",
            "74 \t174   \t[0.41437616 0.56308123]\t[0.42186342 0.39806365]\t[0. 0.]\t[1. 1.]\n",
            "75 \t160   \t[0.41271881 0.56096639]\t[0.42172258 0.3981536 ]\t[0. 0.]\t[1. 1.]\n",
            "76 \t171   \t[0.42663873 0.55002801]\t[0.42265884 0.40093967]\t[0. 0.]\t[1. 1.]\n",
            "77 \t172   \t[0.4317784  0.54343137]\t[0.42455219 0.40154843]\t[0. 0.]\t[1. 1.]\n",
            "78 \t173   \t[0.43324022 0.54532213]\t[0.42398968 0.40094077]\t[0. 0.]\t[1. 1.]\n",
            "79 \t187   \t[0.43377095 0.54414566]\t[0.42406116 0.40160719]\t[0. 0.]\t[1. 1.]\n",
            "80 \t175   \t[0.42452514 0.55383754]\t[0.42074618 0.39895716]\t[0. 0.]\t[1. 1.]\n",
            "Best individual is gt(divide_by_zero(if_then_else(float_to_bool(if_then_else(not_(0), if_then_else(1, Pclass, Sex), add(Deck, ARG15))), if_then_else(and_(gt(ARG14, ARG10), not_(0)), mul(if_then_else(0, ARG14, ARG13), add(29.26483575248281, ARG18)), if_then_else(float_to_bool(divide_by_zero(Parch, sub(33.2760436210848, 29.26483575248281))), if_then_else(1, ARG9, Fare), sub(ARG15, ARG9))), mul(if_then_else(xor(1, 0), add(Embarked, ARG11), if_then_else(0, Deck, Parch)), divide_by_zero(if_then_else(1, Embarked, ARG8), divide_by_zero(ARG8, ARG14)))), if_then_else(lt(sub(add(mul(divide_by_zero(divide_by_zero(ARG11, SibSp), divide_by_zero(Age, ARG18)), if_then_else(not_(float_to_bool(add(ARG11, Pclass))), sub(Embarked, ARG14), divide_by_zero(ARG17, ARG11))), Sex), add(sub(mul(sub(ARG12, ARG13), mul(ARG10, 33.2760436210848)), divide_by_zero(if_then_else(0, ARG18, 2.0), add(ARG12, ARG8))), add(add(mul(add(sub(Sex, ARG17), divide_by_zero(ARG8, Sex)), if_then_else(lt(Parch, ARG13), divide_by_zero(ARG15, ARG14), if_then_else(1, ARG9, ARG9))), if_then_else(1, ARG11, ARG17)), sub(if_then_else(0, SibSp, ARG10), if_then_else(0, Parch, ARG18))))), add(mul(ARG17, Deck), add(Sex, ARG17))), if_then_else(gt(mul(ARG16, ARG17), divide_by_zero(2.0, ARG10)), mul(if_then_else(0, ARG11, ARG8), add(33.2760436210848, ARG10)), sub(mul(divide_by_zero(mul(ARG18, Age), divide_by_zero(ARG13, ARG13)), 33.2760436210848), divide_by_zero(ARG12, ARG9))), add(divide_by_zero(sub(if_then_else(and_(and_(lt(33.2760436210848, ARG16), float_to_bool(ARG11)), or_(eq(ARG13, ARG14), xor(0, 0))), mul(mul(divide_by_zero(ARG9, 29.26483575248281), sub(Fare, 29.26483575248281)), add(divide_by_zero(ARG11, 29.26483575248281), mul(ARG16, ARG9))), add(mul(mul(ARG12, ARG12), if_then_else(0, Age, ARG9)), if_then_else(gt(mul(sub(if_then_else(0, ARG15, ARG18), mul(ARG13, ARG12)), mul(if_then_else(1, ARG8, 33.2760436210848), add(ARG8, ARG11))), sub(mul(mul(Fare, ARG14), sub(ARG11, ARG14)), sub(sub(ARG15, Sex), if_then_else(1, 29.26483575248281, ARG18)))), divide_by_zero(ARG18, ARG18), mul(Deck, 2.0)))), sub(mul(mul(add(Pclass, Embarked), add(Pclass, ARG8)), divide_by_zero(add(add(ARG10, 33.2760436210848), divide_by_zero(Age, Age)), sub(divide_by_zero(Pclass, ARG9), mul(ARG13, 29.26483575248281)))), divide_by_zero(add(sub(Pclass, Sex), mul(ARG8, Embarked)), if_then_else(and_(0, 1), add(ARG18, 29.26483575248281), divide_by_zero(ARG12, ARG15))))), sub(ARG10, 2.0)), mul(mul(ARG8, ARG11), mul(mul(Embarked, ARG10), Sex))))), Parch), (0.0, 0.6932773109243697), from gen 44\n"
          ]
        }
      ],
      "source": [
        "ngen = 80\n",
        "cxpb = 0.5\n",
        "mutpb = 0.1\n",
        "hof = tools.ParetoFront()\n",
        "\n",
        "avg_list = []\n",
        "max_list = []\n",
        "min_list = []\n",
        "\n",
        "best_ind = tools.selBest(population, 1)[0]\n",
        "gen_best = 0\n",
        "\n",
        "stats = tools.Statistics(lambda ind: ind.fitness.values)\n",
        "stats.register(\"avg\", np.mean, axis=0)\n",
        "stats.register(\"std\", np.std, axis=0)\n",
        "stats.register(\"min\", np.min, axis=0)\n",
        "stats.register(\"max\", np.max, axis=0)\n",
        "\n",
        "logbook = tools.Logbook()\n",
        "logbook.header = ['gen', 'nevals'] + stats.fields\n",
        "\n",
        "\n",
        "# Evaluate the individuals with an invalid fitness\n",
        "invalid_ind = [ind for ind in population if not ind.fitness.valid]\n",
        "fitnesses = toolbox.map(toolbox.evaluate, invalid_ind)\n",
        "for ind, fit in zip(invalid_ind, fitnesses):\n",
        "    ind.fitness.values = fit\n",
        "    \n",
        "record = stats.compile(population)\n",
        "logbook.record(gen=0, nevals=len(invalid_ind), **record)\n",
        "\n",
        "print(logbook.stream)\n",
        "\n",
        "for gen in range(1, ngen + 1):\n",
        "    # Select the next generation individuals\n",
        "    offspring = toolbox.select(population, len(population))\n",
        "\n",
        "    # Vary the pool of individuals\n",
        "    offspring = [toolbox.clone(ind) for ind in population]\n",
        "\n",
        "    # Apply crossover and mutation on the offspring\n",
        "    for i in range(1, len(offspring), 2):\n",
        "        if random.random() < cxpb:\n",
        "            offspring[i - 1], offspring[i] = toolbox.mate(offspring[i - 1],\n",
        "                                                          offspring[i])\n",
        "            del offspring[i - 1].fitness.values, offspring[i].fitness.values\n",
        "\n",
        "    for i in range(len(offspring)):\n",
        "        if random.random() < mutpb:\n",
        "            offspring[i], = toolbox.mutate(offspring[i])\n",
        "            del offspring[i].fitness.values\n",
        "\n",
        "        # Evaluate the individuals with an invalid fitness\n",
        "    invalid_ind = [ind for ind in offspring if not ind.fitness.valid]\n",
        "    fitnesses = toolbox.map(toolbox.evaluate, invalid_ind)\n",
        "    for ind, fit in zip(invalid_ind, fitnesses):\n",
        "        ind.fitness.values = fit\n",
        "\n",
        "        # Update the hall of fame with the generated individuals\n",
        "    hof.update(offspring)\n",
        "    \n",
        "    if sum(tools.selBest(population, 1)[0].fitness.values) < sum(best_ind.fitness.values):\n",
        "        best_ind = tools.selBest(population, 1)[0]\n",
        "        gen_best = gen\n",
        "\n",
        "        # Replace the current population by the offspring\n",
        "    population[:] = offspring\n",
        "    \n",
        "    record = stats.compile(population) if stats else {}\n",
        "    logbook.record(gen=gen, nevals=len(invalid_ind), **record)\n",
        "    \n",
        "    print(logbook.stream)\n",
        "\n",
        "print(\"Best individual is %s, %s, from gen %s\" % (best_ind, best_ind.fitness.values, gen_best))"
      ]
    },
    {
      "cell_type": "code",
      "execution_count": 26,
      "metadata": {
        "colab": {
          "base_uri": "https://localhost:8080/",
          "height": 333
        },
        "id": "wvVSxSGuvXTf",
        "outputId": "7ce41c4d-bfb0-4eed-cf09-a89bd639fcf0"
      },
      "outputs": [
        {
          "output_type": "stream",
          "name": "stdout",
          "text": [
            "Best individual is: gt(divide_by_zero(if_then_else(float_to_bool(if_then_else(not_(0), if_then_else(1, Pclass, Sex), add(Deck, ARG15))), if_then_else(and_(gt(ARG14, ARG10), not_(0)), mul(if_then_else(0, ARG14, ARG13), add(29.26483575248281, ARG18)), if_then_else(float_to_bool(divide_by_zero(Parch, sub(33.2760436210848, 29.26483575248281))), if_then_else(1, ARG9, Fare), sub(ARG15, ARG9))), mul(if_then_else(xor(1, 0), add(Embarked, ARG11), if_then_else(0, Deck, Parch)), divide_by_zero(if_then_else(1, Embarked, ARG8), divide_by_zero(ARG8, ARG14)))), if_then_else(lt(sub(add(mul(divide_by_zero(divide_by_zero(ARG11, SibSp), divide_by_zero(Age, ARG18)), if_then_else(not_(float_to_bool(add(ARG11, Pclass))), sub(Embarked, ARG14), divide_by_zero(ARG17, ARG11))), Sex), add(sub(mul(sub(ARG12, ARG13), mul(ARG10, 33.2760436210848)), divide_by_zero(if_then_else(0, ARG18, 2.0), add(ARG12, ARG8))), add(add(mul(add(sub(Sex, ARG17), divide_by_zero(ARG8, Sex)), if_then_else(lt(Parch, ARG13), divide_by_zero(ARG15, ARG14), if_then_else(1, ARG9, ARG9))), if_then_else(1, ARG11, ARG17)), sub(if_then_else(0, SibSp, ARG10), if_then_else(0, Parch, ARG18))))), add(mul(ARG17, Deck), add(Sex, ARG17))), if_then_else(gt(mul(ARG16, ARG17), divide_by_zero(2.0, ARG10)), mul(if_then_else(0, ARG11, ARG8), add(33.2760436210848, ARG10)), sub(mul(divide_by_zero(mul(ARG18, Age), divide_by_zero(ARG13, ARG13)), 33.2760436210848), divide_by_zero(ARG12, ARG9))), add(divide_by_zero(sub(if_then_else(and_(and_(lt(33.2760436210848, ARG16), float_to_bool(ARG11)), or_(eq(ARG13, ARG14), xor(0, 0))), mul(mul(divide_by_zero(ARG9, 29.26483575248281), sub(Fare, 29.26483575248281)), add(divide_by_zero(ARG11, 29.26483575248281), mul(ARG16, ARG9))), add(mul(mul(ARG12, ARG12), if_then_else(0, Age, ARG9)), if_then_else(gt(mul(sub(if_then_else(0, ARG15, ARG18), mul(ARG13, ARG12)), mul(if_then_else(1, ARG8, 33.2760436210848), add(ARG8, ARG11))), sub(mul(mul(Fare, ARG14), sub(ARG11, ARG14)), sub(sub(ARG15, Sex), if_then_else(1, 29.26483575248281, ARG18)))), divide_by_zero(ARG18, ARG18), mul(Deck, 2.0)))), sub(mul(mul(add(Pclass, Embarked), add(Pclass, ARG8)), divide_by_zero(add(add(ARG10, 33.2760436210848), divide_by_zero(Age, Age)), sub(divide_by_zero(Pclass, ARG9), mul(ARG13, 29.26483575248281)))), divide_by_zero(add(sub(Pclass, Sex), mul(ARG8, Embarked)), if_then_else(and_(0, 1), add(ARG18, 29.26483575248281), divide_by_zero(ARG12, ARG15))))), sub(ARG10, 2.0)), mul(mul(ARG8, ARG11), mul(mul(Embarked, ARG10), Sex))))), Parch)\n",
            "with fitness: (0.0, 0.6932773109243697)\n"
          ]
        },
        {
          "output_type": "display_data",
          "data": {
            "text/plain": [
              "<Figure size 432x288 with 1 Axes>"
            ],
            "image/png": "[encoded data removed]"
          },
          "metadata": {
            "needs_background": "light"
          }
        }
      ],
      "source": [
        "print(\"Best individual is: %s\\nwith fitness: %s\" % (hof[0], hof[0].fitness))\n",
        "gen, avg, min_, max_ = logbook.select(\"gen\", \"avg\", \"min\", \"max\")\n",
        "plt.plot(gen, avg, label=\"average\")\n",
        "plt.plot(gen, min_, label=\"minimum\")\n",
        "plt.xlabel(\"Generation\")\n",
        "plt.ylabel(\"Fitness\")\n",
        "plt.legend(loc=\"upper left\")\n",
        "plt.show()"
      ]
    },
    {
      "cell_type": "code",
      "execution_count": 27,
      "metadata": {
        "colab": {
          "base_uri": "https://localhost:8080/",
          "height": 312
        },
        "id": "nAZr79lsvXTg",
        "outputId": "851c6161-0548-475e-b38e-78c0c69735d4"
      },
      "outputs": [
        {
          "output_type": "display_data",
          "data": {
            "text/plain": [
              "<Figure size 432x288 with 1 Axes>"
            ],
            "image/png": "[encoded data removed]"
          },
          "metadata": {
            "needs_background": "light"
          }
        },
        {
          "output_type": "stream",
          "name": "stdout",
          "text": [
            "Area Under Curve: 0.1372118679874184\n"
          ]
        }
      ],
      "source": [
        "\"\"\"Split fitness values into separate lists\"\"\"\n",
        "fitness_1 = [ind.fitness.values[0] for ind in hof]\n",
        "fitness_2 = [ind.fitness.values[1] for ind in hof]\n",
        "pop_1 = [ind.fitness.values[0] for ind in population]\n",
        "pop_2 = [ind.fitness.values[1] for ind in population]\n",
        "\n",
        "'''Print dominated population for debugging'''\n",
        "# for ind in pop:\n",
        "#     print(ind.fitness)\n",
        "\n",
        "plt.scatter(pop_1, pop_2, color='b')\n",
        "plt.scatter(fitness_1, fitness_2, color='r')\n",
        "plt.plot(fitness_1, fitness_2, color='r', drawstyle='steps-post')\n",
        "plt.xlabel(\"False Positive\")\n",
        "plt.ylabel(\"False Negative\")\n",
        "plt.title(\"Pareto Front\")\n",
        "plt.ylim(bottom=0.0)\n",
        "plt.xlim(left=0.0)\n",
        "plt.show()\n",
        "\n",
        "f1 = np.array(fitness_1)\n",
        "f2 = np.array(fitness_2)\n",
        "\n",
        "\"\"\"Calculate area under curve with least squares method\"\"\"\n",
        "print(\"Area Under Curve: %s\" % (np.sum(np.abs(np.diff(f1))*f2[:-1])))"
      ]
    },
    {
      "cell_type": "code",
      "execution_count": 28,
      "metadata": {
        "id": "5WIlWRCzvXTg"
      },
      "outputs": [],
      "source": [
        "predictions = [ind for ind in hof]    "
      ]
    },
    {
      "cell_type": "code",
      "execution_count": 29,
      "metadata": {
        "colab": {
          "base_uri": "https://localhost:8080/",
          "height": 324
        },
        "id": "nli28ETQvXTh",
        "outputId": "37acc1a1-159f-40da-a21c-9f1b9686eb14"
      },
      "outputs": [
        {
          "output_type": "error",
          "ename": "FileNotFoundError",
          "evalue": "ignored",
          "traceback": [
            "\u001b[0;31m---------------------------------------------------------------------------\u001b[0m",
            "\u001b[0;31mFileNotFoundError\u001b[0m                         Traceback (most recent call last)",
            "\u001b[0;32m<ipython-input-29-b3fba617d156>\u001b[0m in \u001b[0;36m<module>\u001b[0;34m\u001b[0m\n\u001b[0;32m----> 1\u001b[0;31m \u001b[0mtest_df\u001b[0m \u001b[0;34m=\u001b[0m \u001b[0mpd\u001b[0m\u001b[0;34m.\u001b[0m\u001b[0mread_csv\u001b[0m\u001b[0;34m(\u001b[0m\u001b[0;34m\"clean_test_data.csv\"\u001b[0m\u001b[0;34m,\u001b[0m \u001b[0mindex_col\u001b[0m \u001b[0;34m=\u001b[0m \u001b[0;34m\"PassengerId\"\u001b[0m\u001b[0;34m)\u001b[0m\u001b[0;34m\u001b[0m\u001b[0;34m\u001b[0m\u001b[0m\n\u001b[0m\u001b[1;32m      2\u001b[0m \u001b[0mtest_df\u001b[0m\u001b[0;34m.\u001b[0m\u001b[0mhead\u001b[0m\u001b[0;34m(\u001b[0m\u001b[0;34m)\u001b[0m\u001b[0;34m\u001b[0m\u001b[0;34m\u001b[0m\u001b[0m\n",
            "\u001b[0;32m/usr/local/lib/python3.7/dist-packages/pandas/util/_decorators.py\u001b[0m in \u001b[0;36mwrapper\u001b[0;34m(*args, **kwargs)\u001b[0m\n\u001b[1;32m    309\u001b[0m                     \u001b[0mstacklevel\u001b[0m\u001b[0;34m=\u001b[0m\u001b[0mstacklevel\u001b[0m\u001b[0;34m,\u001b[0m\u001b[0;34m\u001b[0m\u001b[0;34m\u001b[0m\u001b[0m\n\u001b[1;32m    310\u001b[0m                 )\n\u001b[0;32m--> 311\u001b[0;31m             \u001b[0;32mreturn\u001b[0m \u001b[0mfunc\u001b[0m\u001b[0;34m(\u001b[0m\u001b[0;34m*\u001b[0m\u001b[0margs\u001b[0m\u001b[0;34m,\u001b[0m \u001b[0;34m**\u001b[0m\u001b[0mkwargs\u001b[0m\u001b[0;34m)\u001b[0m\u001b[0;34m\u001b[0m\u001b[0;34m\u001b[0m\u001b[0m\n\u001b[0m\u001b[1;32m    312\u001b[0m \u001b[0;34m\u001b[0m\u001b[0m\n\u001b[1;32m    313\u001b[0m         \u001b[0;32mreturn\u001b[0m \u001b[0mwrapper\u001b[0m\u001b[0;34m\u001b[0m\u001b[0;34m\u001b[0m\u001b[0m\n",
            "\u001b[0;32m/usr/local/lib/python3.7/dist-packages/pandas/io/parsers/readers.py\u001b[0m in \u001b[0;36mread_csv\u001b[0;34m(filepath_or_buffer, sep, delimiter, header, names, index_col, usecols, squeeze, prefix, mangle_dupe_cols, dtype, engine, converters, true_values, false_values, skipinitialspace, skiprows, skipfooter, nrows, na_values, keep_default_na, na_filter, verbose, skip_blank_lines, parse_dates, infer_datetime_format, keep_date_col, date_parser, dayfirst, cache_dates, iterator, chunksize, compression, thousands, decimal, lineterminator, quotechar, quoting, doublequote, escapechar, comment, encoding, encoding_errors, dialect, error_bad_lines, warn_bad_lines, on_bad_lines, delim_whitespace, low_memory, memory_map, float_precision, storage_options)\u001b[0m\n\u001b[1;32m    584\u001b[0m     \u001b[0mkwds\u001b[0m\u001b[0;34m.\u001b[0m\u001b[0mupdate\u001b[0m\u001b[0;34m(\u001b[0m\u001b[0mkwds_defaults\u001b[0m\u001b[0;34m)\u001b[0m\u001b[0;34m\u001b[0m\u001b[0;34m\u001b[0m\u001b[0m\n\u001b[1;32m    585\u001b[0m \u001b[0;34m\u001b[0m\u001b[0m\n\u001b[0;32m--> 586\u001b[0;31m     \u001b[0;32mreturn\u001b[0m \u001b[0m_read\u001b[0m\u001b[0;34m(\u001b[0m\u001b[0mfilepath_or_buffer\u001b[0m\u001b[0;34m,\u001b[0m \u001b[0mkwds\u001b[0m\u001b[0;34m)\u001b[0m\u001b[0;34m\u001b[0m\u001b[0;34m\u001b[0m\u001b[0m\n\u001b[0m\u001b[1;32m    587\u001b[0m \u001b[0;34m\u001b[0m\u001b[0m\n\u001b[1;32m    588\u001b[0m \u001b[0;34m\u001b[0m\u001b[0m\n",
            "\u001b[0;32m/usr/local/lib/python3.7/dist-packages/pandas/io/parsers/readers.py\u001b[0m in \u001b[0;36m_read\u001b[0;34m(filepath_or_buffer, kwds)\u001b[0m\n\u001b[1;32m    480\u001b[0m \u001b[0;34m\u001b[0m\u001b[0m\n\u001b[1;32m    481\u001b[0m     \u001b[0;31m# Create the parser.\u001b[0m\u001b[0;34m\u001b[0m\u001b[0;34m\u001b[0m\u001b[0;34m\u001b[0m\u001b[0m\n\u001b[0;32m--> 482\u001b[0;31m     \u001b[0mparser\u001b[0m \u001b[0;34m=\u001b[0m \u001b[0mTextFileReader\u001b[0m\u001b[0;34m(\u001b[0m\u001b[0mfilepath_or_buffer\u001b[0m\u001b[0;34m,\u001b[0m \u001b[0;34m**\u001b[0m\u001b[0mkwds\u001b[0m\u001b[0;34m)\u001b[0m\u001b[0;34m\u001b[0m\u001b[0;34m\u001b[0m\u001b[0m\n\u001b[0m\u001b[1;32m    483\u001b[0m \u001b[0;34m\u001b[0m\u001b[0m\n\u001b[1;32m    484\u001b[0m     \u001b[0;32mif\u001b[0m \u001b[0mchunksize\u001b[0m \u001b[0;32mor\u001b[0m \u001b[0miterator\u001b[0m\u001b[0;34m:\u001b[0m\u001b[0;34m\u001b[0m\u001b[0;34m\u001b[0m\u001b[0m\n",
            "\u001b[0;32m/usr/local/lib/python3.7/dist-packages/pandas/io/parsers/readers.py\u001b[0m in \u001b[0;36m__init__\u001b[0;34m(self, f, engine, **kwds)\u001b[0m\n\u001b[1;32m    809\u001b[0m             \u001b[0mself\u001b[0m\u001b[0;34m.\u001b[0m\u001b[0moptions\u001b[0m\u001b[0;34m[\u001b[0m\u001b[0;34m\"has_index_names\"\u001b[0m\u001b[0;34m]\u001b[0m \u001b[0;34m=\u001b[0m \u001b[0mkwds\u001b[0m\u001b[0;34m[\u001b[0m\u001b[0;34m\"has_index_names\"\u001b[0m\u001b[0;34m]\u001b[0m\u001b[0;34m\u001b[0m\u001b[0;34m\u001b[0m\u001b[0m\n\u001b[1;32m    810\u001b[0m \u001b[0;34m\u001b[0m\u001b[0m\n\u001b[0;32m--> 811\u001b[0;31m         \u001b[0mself\u001b[0m\u001b[0;34m.\u001b[0m\u001b[0m_engine\u001b[0m \u001b[0;34m=\u001b[0m \u001b[0mself\u001b[0m\u001b[0;34m.\u001b[0m\u001b[0m_make_engine\u001b[0m\u001b[0;34m(\u001b[0m\u001b[0mself\u001b[0m\u001b[0;34m.\u001b[0m\u001b[0mengine\u001b[0m\u001b[0;34m)\u001b[0m\u001b[0;34m\u001b[0m\u001b[0;34m\u001b[0m\u001b[0m\n\u001b[0m\u001b[1;32m    812\u001b[0m \u001b[0;34m\u001b[0m\u001b[0m\n\u001b[1;32m    813\u001b[0m     \u001b[0;32mdef\u001b[0m \u001b[0mclose\u001b[0m\u001b[0;34m(\u001b[0m\u001b[0mself\u001b[0m\u001b[0;34m)\u001b[0m\u001b[0;34m:\u001b[0m\u001b[0;34m\u001b[0m\u001b[0;34m\u001b[0m\u001b[0m\n",
            "\u001b[0;32m/usr/local/lib/python3.7/dist-packages/pandas/io/parsers/readers.py\u001b[0m in \u001b[0;36m_make_engine\u001b[0;34m(self, engine)\u001b[0m\n\u001b[1;32m   1038\u001b[0m             )\n\u001b[1;32m   1039\u001b[0m         \u001b[0;31m# error: Too many arguments for \"ParserBase\"\u001b[0m\u001b[0;34m\u001b[0m\u001b[0;34m\u001b[0m\u001b[0;34m\u001b[0m\u001b[0m\n\u001b[0;32m-> 1040\u001b[0;31m         \u001b[0;32mreturn\u001b[0m \u001b[0mmapping\u001b[0m\u001b[0;34m[\u001b[0m\u001b[0mengine\u001b[0m\u001b[0;34m]\u001b[0m\u001b[0;34m(\u001b[0m\u001b[0mself\u001b[0m\u001b[0;34m.\u001b[0m\u001b[0mf\u001b[0m\u001b[0;34m,\u001b[0m \u001b[0;34m**\u001b[0m\u001b[0mself\u001b[0m\u001b[0;34m.\u001b[0m\u001b[0moptions\u001b[0m\u001b[0;34m)\u001b[0m  \u001b[0;31m# type: ignore[call-arg]\u001b[0m\u001b[0;34m\u001b[0m\u001b[0;34m\u001b[0m\u001b[0m\n\u001b[0m\u001b[1;32m   1041\u001b[0m \u001b[0;34m\u001b[0m\u001b[0m\n\u001b[1;32m   1042\u001b[0m     \u001b[0;32mdef\u001b[0m \u001b[0m_failover_to_python\u001b[0m\u001b[0;34m(\u001b[0m\u001b[0mself\u001b[0m\u001b[0;34m)\u001b[0m\u001b[0;34m:\u001b[0m\u001b[0;34m\u001b[0m\u001b[0;34m\u001b[0m\u001b[0m\n",
            "\u001b[0;32m/usr/local/lib/python3.7/dist-packages/pandas/io/parsers/c_parser_wrapper.py\u001b[0m in \u001b[0;36m__init__\u001b[0;34m(self, src, **kwds)\u001b[0m\n\u001b[1;32m     49\u001b[0m \u001b[0;34m\u001b[0m\u001b[0m\n\u001b[1;32m     50\u001b[0m         \u001b[0;31m# open handles\u001b[0m\u001b[0;34m\u001b[0m\u001b[0;34m\u001b[0m\u001b[0;34m\u001b[0m\u001b[0m\n\u001b[0;32m---> 51\u001b[0;31m         \u001b[0mself\u001b[0m\u001b[0;34m.\u001b[0m\u001b[0m_open_handles\u001b[0m\u001b[0;34m(\u001b[0m\u001b[0msrc\u001b[0m\u001b[0;34m,\u001b[0m \u001b[0mkwds\u001b[0m\u001b[0;34m)\u001b[0m\u001b[0;34m\u001b[0m\u001b[0;34m\u001b[0m\u001b[0m\n\u001b[0m\u001b[1;32m     52\u001b[0m         \u001b[0;32massert\u001b[0m \u001b[0mself\u001b[0m\u001b[0;34m.\u001b[0m\u001b[0mhandles\u001b[0m \u001b[0;32mis\u001b[0m \u001b[0;32mnot\u001b[0m \u001b[0;32mNone\u001b[0m\u001b[0;34m\u001b[0m\u001b[0;34m\u001b[0m\u001b[0m\n\u001b[1;32m     53\u001b[0m \u001b[0;34m\u001b[0m\u001b[0m\n",
            "\u001b[0;32m/usr/local/lib/python3.7/dist-packages/pandas/io/parsers/base_parser.py\u001b[0m in \u001b[0;36m_open_handles\u001b[0;34m(self, src, kwds)\u001b[0m\n\u001b[1;32m    227\u001b[0m             \u001b[0mmemory_map\u001b[0m\u001b[0;34m=\u001b[0m\u001b[0mkwds\u001b[0m\u001b[0;34m.\u001b[0m\u001b[0mget\u001b[0m\u001b[0;34m(\u001b[0m\u001b[0;34m\"memory_map\"\u001b[0m\u001b[0;34m,\u001b[0m \u001b[0;32mFalse\u001b[0m\u001b[0;34m)\u001b[0m\u001b[0;34m,\u001b[0m\u001b[0;34m\u001b[0m\u001b[0;34m\u001b[0m\u001b[0m\n\u001b[1;32m    228\u001b[0m             \u001b[0mstorage_options\u001b[0m\u001b[0;34m=\u001b[0m\u001b[0mkwds\u001b[0m\u001b[0;34m.\u001b[0m\u001b[0mget\u001b[0m\u001b[0;34m(\u001b[0m\u001b[0;34m\"storage_options\"\u001b[0m\u001b[0;34m,\u001b[0m \u001b[0;32mNone\u001b[0m\u001b[0;34m)\u001b[0m\u001b[0;34m,\u001b[0m\u001b[0;34m\u001b[0m\u001b[0;34m\u001b[0m\u001b[0m\n\u001b[0;32m--> 229\u001b[0;31m             \u001b[0merrors\u001b[0m\u001b[0;34m=\u001b[0m\u001b[0mkwds\u001b[0m\u001b[0;34m.\u001b[0m\u001b[0mget\u001b[0m\u001b[0;34m(\u001b[0m\u001b[0;34m\"encoding_errors\"\u001b[0m\u001b[0;34m,\u001b[0m \u001b[0;34m\"strict\"\u001b[0m\u001b[0;34m)\u001b[0m\u001b[0;34m,\u001b[0m\u001b[0;34m\u001b[0m\u001b[0;34m\u001b[0m\u001b[0m\n\u001b[0m\u001b[1;32m    230\u001b[0m         )\n\u001b[1;32m    231\u001b[0m \u001b[0;34m\u001b[0m\u001b[0m\n",
            "\u001b[0;32m/usr/local/lib/python3.7/dist-packages/pandas/io/common.py\u001b[0m in \u001b[0;36mget_handle\u001b[0;34m(path_or_buf, mode, encoding, compression, memory_map, is_text, errors, storage_options)\u001b[0m\n\u001b[1;32m    705\u001b[0m                 \u001b[0mencoding\u001b[0m\u001b[0;34m=\u001b[0m\u001b[0mioargs\u001b[0m\u001b[0;34m.\u001b[0m\u001b[0mencoding\u001b[0m\u001b[0;34m,\u001b[0m\u001b[0;34m\u001b[0m\u001b[0;34m\u001b[0m\u001b[0m\n\u001b[1;32m    706\u001b[0m                 \u001b[0merrors\u001b[0m\u001b[0;34m=\u001b[0m\u001b[0merrors\u001b[0m\u001b[0;34m,\u001b[0m\u001b[0;34m\u001b[0m\u001b[0;34m\u001b[0m\u001b[0m\n\u001b[0;32m--> 707\u001b[0;31m                 \u001b[0mnewline\u001b[0m\u001b[0;34m=\u001b[0m\u001b[0;34m\"\"\u001b[0m\u001b[0;34m,\u001b[0m\u001b[0;34m\u001b[0m\u001b[0;34m\u001b[0m\u001b[0m\n\u001b[0m\u001b[1;32m    708\u001b[0m             )\n\u001b[1;32m    709\u001b[0m         \u001b[0;32melse\u001b[0m\u001b[0;34m:\u001b[0m\u001b[0;34m\u001b[0m\u001b[0;34m\u001b[0m\u001b[0m\n",
            "\u001b[0;31mFileNotFoundError\u001b[0m: [Errno 2] No such file or directory: 'clean_test_data.csv'"
          ]
        }
      ],
      "source": [
        "test_df = pd.read_csv(\"clean_test_data.csv\", index_col = \"PassengerId\")\n",
        "test_df.head()"
      ]
    },
    {
      "cell_type": "code",
      "execution_count": null,
      "metadata": {
        "id": "RiZbP3ytvXTh"
      },
      "outputs": [],
      "source": [
        "def eval_test(points, pset):\n",
        "    out = pd.DataFrame(index=test_df.index)\n",
        "    index = 0\n",
        "    for ind in predictions:\n",
        "        func = gp.compile(expr=ind, pset=pset)\n",
        "        results = [func(*points[x]) for x in range(len(points))]\n",
        "        out[index] = results\n",
        "        index += 1\n",
        "    return out"
      ]
    },
    {
      "cell_type": "code",
      "execution_count": null,
      "metadata": {
        "id": "AYiyRTqMvXTh"
      },
      "outputs": [],
      "source": [
        "out = eval_test(test_df.values, pset)\n",
        "type(out)"
      ]
    },
    {
      "cell_type": "code",
      "execution_count": null,
      "metadata": {
        "id": "-EJVRQvpvXTi"
      },
      "outputs": [],
      "source": [
        "out.shape"
      ]
    },
    {
      "cell_type": "code",
      "execution_count": null,
      "metadata": {
        "id": "xtGhm_2FvXTi"
      },
      "outputs": [],
      "source": [
        "out.to_csv(\"titanic_deap.csv\")"
      ]
    }
  ],
  "metadata": {
    "colab": {
      "provenance": [],
      "include_colab_link": true
    },
    "kernelspec": {
      "display_name": "Python 3 (ipykernel)",
      "language": "python",
      "name": "python3"
    },
    "language_info": {
      "codemirror_mode": {
        "name": "ipython",
        "version": 3
      },
      "file_extension": ".py",
      "mimetype": "text/x-python",
      "name": "python",
      "nbconvert_exporter": "python",
      "pygments_lexer": "ipython3",
      "version": "3.9.13"
    },
    "vscode": {
      "interpreter": {
        "hash": "9d5624301dd59825418d46ba1d7ada7fc08f3744dcc16b272fc605485332a111"
      }
    }
  },
  "nbformat": 4,
  "nbformat_minor": 0
}