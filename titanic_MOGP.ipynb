{
  "cells": [
    {
      "cell_type": "markdown",
      "metadata": {
        "colab_type": "text",
        "id": "view-in-github"
      },
      "source": [
        "<a href=\"https://colab.research.google.com/github/tpeat/titanic-ml/blob/main/titanic_MOGP.ipynb\" target=\"_parent\"><img src=\"https://colab.research.google.com/assets/colab-badge.svg\" alt=\"Open In Colab\"/></a>"
      ]
    },
    {
      "cell_type": "code",
      "execution_count": 232,
      "metadata": {
        "colab": {
          "base_uri": "https://localhost:8080/"
        },
        "id": "DExj4kbXBTox",
        "outputId": "a16f0503-5525-407e-b723-32e2d3de9ea6"
      },
      "outputs": [
        {
          "name": "stdout",
          "output_type": "stream",
          "text": [
            "%pylab is deprecated, use %matplotlib inline and import the required libraries.\n",
            "Populating the interactive namespace from numpy and matplotlib\n"
          ]
        },
        {
          "name": "stderr",
          "output_type": "stream",
          "text": [
            "/Users/tristanpeat/miniforge3/envs/tensorflow/lib/python3.10/site-packages/IPython/core/magics/pylab.py:162: UserWarning: pylab import has clobbered these variables: ['record', 'random', 'size']\n",
            "`%matplotlib` prevents importing * from pylab and numpy\n",
            "  warn(\"pylab import has clobbered these variables: %s\"  % clobbered +\n"
          ]
        },
        {
          "name": "stdout",
          "output_type": "stream",
          "text": [
            "Requirement already satisfied: pandas in /Users/tristanpeat/miniforge3/envs/tensorflow/lib/python3.10/site-packages (1.4.2)\n",
            "Requirement already satisfied: python-dateutil>=2.8.1 in /Users/tristanpeat/miniforge3/envs/tensorflow/lib/python3.10/site-packages (from pandas) (2.8.2)\n",
            "Requirement already satisfied: pytz>=2020.1 in /Users/tristanpeat/miniforge3/envs/tensorflow/lib/python3.10/site-packages (from pandas) (2022.1)\n",
            "Requirement already satisfied: numpy>=1.21.0 in /Users/tristanpeat/miniforge3/envs/tensorflow/lib/python3.10/site-packages (from pandas) (1.22.4)\n",
            "Requirement already satisfied: six>=1.5 in /Users/tristanpeat/miniforge3/envs/tensorflow/lib/python3.10/site-packages (from python-dateutil>=2.8.1->pandas) (1.16.0)\n",
            "Requirement already satisfied: deap in /Users/tristanpeat/miniforge3/envs/tensorflow/lib/python3.10/site-packages (1.3.3)\n",
            "Requirement already satisfied: numpy in /Users/tristanpeat/miniforge3/envs/tensorflow/lib/python3.10/site-packages (from deap) (1.22.4)\n"
          ]
        }
      ],
      "source": [
        "%pylab inline\n",
        "# Pandas is a nice utilitiy that enables some easy data manipulation, especially from a csv\n",
        "\n",
        "!pip3 install pandas\n",
        "import pandas as pd\n",
        "# Numpy lets us work with arrays\n",
        "import numpy as np\n",
        "\n",
        "# Sklearn provides various modules with a common API\n",
        "from sklearn.metrics import confusion_matrix\n",
        "from sklearn.model_selection import train_test_split, cross_val_score, cross_val_predict, cross_validate\n",
        "\n",
        "!pip install deap\n",
        "from deap import algorithms\n",
        "from deap import base\n",
        "from deap import creator\n",
        "from deap import tools\n",
        "from deap import gp\n",
        "\n",
        "import random\n",
        "import operator\n",
        "import itertools\n",
        "\n",
        "from treelib import Node, Tree\n",
        "\n",
        "# turn off warnings\n",
        "from warnings import simplefilter\n",
        "# ignore all future warnings\n",
        "simplefilter(action='ignore', category=FutureWarning)"
      ]
    },
    {
      "cell_type": "code",
      "execution_count": 233,
      "metadata": {
        "id": "ei5ydI0VBTo0"
      },
      "outputs": [],
      "source": [
        "# Read in our csv files downloaded from Kaggle\n",
        "train_data = pd.read_csv('processed_train.csv').set_index(\"PassengerId\")\n",
        "test_data = pd.read_csv('processed_test.csv').set_index(\"PassengerId\")\n",
        "\n",
        "df = pd.concat([train_data, test_data], axis=0, sort=False)"
      ]
    },
    {
      "cell_type": "code",
      "execution_count": 234,
      "metadata": {
        "colab": {
          "base_uri": "https://localhost:8080/",
          "height": 235
        },
        "id": "8rDevsE7BTo1",
        "outputId": "3036d8a4-5ed2-4744-b8f9-e679b946d520"
      },
      "outputs": [
        {
          "data": {
            "text/html": [
              "<div>\n",
              "<style scoped>\n",
              "    .dataframe tbody tr th:only-of-type {\n",
              "        vertical-align: middle;\n",
              "    }\n",
              "\n",
              "    .dataframe tbody tr th {\n",
              "        vertical-align: top;\n",
              "    }\n",
              "\n",
              "    .dataframe thead th {\n",
              "        text-align: right;\n",
              "    }\n",
              "</style>\n",
              "<table border=\"1\" class=\"dataframe\">\n",
              "  <thead>\n",
              "    <tr style=\"text-align: right;\">\n",
              "      <th></th>\n",
              "      <th>Survived</th>\n",
              "      <th>Pclass</th>\n",
              "      <th>Sex</th>\n",
              "      <th>Age</th>\n",
              "      <th>SibSp</th>\n",
              "      <th>Parch</th>\n",
              "      <th>Fare</th>\n",
              "      <th>Embarked</th>\n",
              "      <th>Title</th>\n",
              "      <th>LastName</th>\n",
              "      <th>IsWomanOrBoy</th>\n",
              "      <th>WomanOrBoyCount</th>\n",
              "      <th>FamilySurvivedCount</th>\n",
              "      <th>WomanOrBoySurvived</th>\n",
              "      <th>Alone</th>\n",
              "      <th>Single</th>\n",
              "      <th>SmallF</th>\n",
              "      <th>MedF</th>\n",
              "      <th>LargeF</th>\n",
              "      <th>Deck</th>\n",
              "    </tr>\n",
              "    <tr>\n",
              "      <th>PassengerId</th>\n",
              "      <th></th>\n",
              "      <th></th>\n",
              "      <th></th>\n",
              "      <th></th>\n",
              "      <th></th>\n",
              "      <th></th>\n",
              "      <th></th>\n",
              "      <th></th>\n",
              "      <th></th>\n",
              "      <th></th>\n",
              "      <th></th>\n",
              "      <th></th>\n",
              "      <th></th>\n",
              "      <th></th>\n",
              "      <th></th>\n",
              "      <th></th>\n",
              "      <th></th>\n",
              "      <th></th>\n",
              "      <th></th>\n",
              "      <th></th>\n",
              "    </tr>\n",
              "  </thead>\n",
              "  <tbody>\n",
              "    <tr>\n",
              "      <th>1</th>\n",
              "      <td>0.0</td>\n",
              "      <td>3</td>\n",
              "      <td>1</td>\n",
              "      <td>22.0</td>\n",
              "      <td>1</td>\n",
              "      <td>0</td>\n",
              "      <td>7.2500</td>\n",
              "      <td>2</td>\n",
              "      <td>10</td>\n",
              "      <td>100</td>\n",
              "      <td>0</td>\n",
              "      <td>0</td>\n",
              "      <td>0.0</td>\n",
              "      <td>0.0</td>\n",
              "      <td>1</td>\n",
              "      <td>0</td>\n",
              "      <td>1</td>\n",
              "      <td>0</td>\n",
              "      <td>0</td>\n",
              "      <td>7</td>\n",
              "    </tr>\n",
              "    <tr>\n",
              "      <th>2</th>\n",
              "      <td>1.0</td>\n",
              "      <td>1</td>\n",
              "      <td>0</td>\n",
              "      <td>38.0</td>\n",
              "      <td>1</td>\n",
              "      <td>0</td>\n",
              "      <td>71.2833</td>\n",
              "      <td>0</td>\n",
              "      <td>11</td>\n",
              "      <td>182</td>\n",
              "      <td>1</td>\n",
              "      <td>1</td>\n",
              "      <td>1.0</td>\n",
              "      <td>1.0</td>\n",
              "      <td>0</td>\n",
              "      <td>0</td>\n",
              "      <td>1</td>\n",
              "      <td>0</td>\n",
              "      <td>0</td>\n",
              "      <td>2</td>\n",
              "    </tr>\n",
              "    <tr>\n",
              "      <th>3</th>\n",
              "      <td>1.0</td>\n",
              "      <td>3</td>\n",
              "      <td>0</td>\n",
              "      <td>26.0</td>\n",
              "      <td>0</td>\n",
              "      <td>0</td>\n",
              "      <td>7.9250</td>\n",
              "      <td>2</td>\n",
              "      <td>9</td>\n",
              "      <td>329</td>\n",
              "      <td>1</td>\n",
              "      <td>1</td>\n",
              "      <td>1.0</td>\n",
              "      <td>1.0</td>\n",
              "      <td>0</td>\n",
              "      <td>1</td>\n",
              "      <td>0</td>\n",
              "      <td>0</td>\n",
              "      <td>0</td>\n",
              "      <td>7</td>\n",
              "    </tr>\n",
              "    <tr>\n",
              "      <th>4</th>\n",
              "      <td>1.0</td>\n",
              "      <td>1</td>\n",
              "      <td>0</td>\n",
              "      <td>35.0</td>\n",
              "      <td>1</td>\n",
              "      <td>0</td>\n",
              "      <td>53.1000</td>\n",
              "      <td>2</td>\n",
              "      <td>11</td>\n",
              "      <td>267</td>\n",
              "      <td>1</td>\n",
              "      <td>1</td>\n",
              "      <td>1.0</td>\n",
              "      <td>1.0</td>\n",
              "      <td>0</td>\n",
              "      <td>0</td>\n",
              "      <td>1</td>\n",
              "      <td>0</td>\n",
              "      <td>0</td>\n",
              "      <td>2</td>\n",
              "    </tr>\n",
              "    <tr>\n",
              "      <th>5</th>\n",
              "      <td>0.0</td>\n",
              "      <td>3</td>\n",
              "      <td>1</td>\n",
              "      <td>35.0</td>\n",
              "      <td>0</td>\n",
              "      <td>0</td>\n",
              "      <td>8.0500</td>\n",
              "      <td>2</td>\n",
              "      <td>10</td>\n",
              "      <td>15</td>\n",
              "      <td>0</td>\n",
              "      <td>1</td>\n",
              "      <td>1.0</td>\n",
              "      <td>1.0</td>\n",
              "      <td>0</td>\n",
              "      <td>1</td>\n",
              "      <td>0</td>\n",
              "      <td>0</td>\n",
              "      <td>0</td>\n",
              "      <td>7</td>\n",
              "    </tr>\n",
              "  </tbody>\n",
              "</table>\n",
              "</div>"
            ],
            "text/plain": [
              "             Survived  Pclass  Sex   Age  SibSp  Parch     Fare  Embarked  \\\n",
              "PassengerId                                                                 \n",
              "1                 0.0       3    1  22.0      1      0   7.2500         2   \n",
              "2                 1.0       1    0  38.0      1      0  71.2833         0   \n",
              "3                 1.0       3    0  26.0      0      0   7.9250         2   \n",
              "4                 1.0       1    0  35.0      1      0  53.1000         2   \n",
              "5                 0.0       3    1  35.0      0      0   8.0500         2   \n",
              "\n",
              "             Title  LastName  IsWomanOrBoy  WomanOrBoyCount  \\\n",
              "PassengerId                                                   \n",
              "1               10       100             0                0   \n",
              "2               11       182             1                1   \n",
              "3                9       329             1                1   \n",
              "4               11       267             1                1   \n",
              "5               10        15             0                1   \n",
              "\n",
              "             FamilySurvivedCount  WomanOrBoySurvived  Alone  Single  SmallF  \\\n",
              "PassengerId                                                                   \n",
              "1                            0.0                 0.0      1       0       1   \n",
              "2                            1.0                 1.0      0       0       1   \n",
              "3                            1.0                 1.0      0       1       0   \n",
              "4                            1.0                 1.0      0       0       1   \n",
              "5                            1.0                 1.0      0       1       0   \n",
              "\n",
              "             MedF  LargeF  Deck  \n",
              "PassengerId                      \n",
              "1               0       0     7  \n",
              "2               0       0     2  \n",
              "3               0       0     7  \n",
              "4               0       0     2  \n",
              "5               0       0     7  "
            ]
          },
          "execution_count": 234,
          "metadata": {},
          "output_type": "execute_result"
        }
      ],
      "source": [
        "# We can use .head() to get just the first few rows of the data.\n",
        "train_data.head()\n",
        "# Note how the notebook nicely displays the output for us"
      ]
    },
    {
      "cell_type": "markdown",
      "metadata": {
        "id": "ar3xROKfvXTT"
      },
      "source": [
        "## Generate valuable constants from df"
      ]
    },
    {
      "cell_type": "code",
      "execution_count": 235,
      "metadata": {
        "id": "ewRtEBNzvXTW"
      },
      "outputs": [],
      "source": [
        "# average age\n",
        "mean_age = df.Age.mean()\n",
        "\n",
        "# 1st quartile\n",
        "q1_age = np.quantile(df.Age, 0.25)\n",
        "# quartile 3\n",
        "q3_age = np.quantile(df.Age, 0.75)\n",
        "\n",
        "\n",
        "# mode of passenger class\n",
        "mode_class = df.Pclass.value_counts().idxmax()\n",
        "\n",
        "# mode siblings\n",
        "mode_sibs = df.SibSp.value_counts().idxmax()\n",
        "\n",
        "# mode parnets\n",
        "mode_parents = df.Parch.value_counts().idxmax()\n",
        "\n",
        "# mean fare price\n",
        "mean_fare = df.Fare.mean()"
      ]
    },
    {
      "cell_type": "code",
      "execution_count": 236,
      "metadata": {
        "id": "y_0fscG0vXTX"
      },
      "outputs": [],
      "source": [
        "RANDOM_SEED=10\n",
        "X_train = train_data.loc[:, train_data.columns != 'Survived']\n",
        "y_train = train_data.loc[:, 'Survived']\n",
        "X_train, X_test, y_train, y_test = train_test_split(X_train, y_train, test_size=0.33, random_state=RANDOM_SEED)"
      ]
    },
    {
      "cell_type": "code",
      "execution_count": 237,
      "metadata": {
        "id": "8aK2fUrR8g4i"
      },
      "outputs": [
        {
          "name": "stderr",
          "output_type": "stream",
          "text": [
            "/Users/tristanpeat/miniforge3/envs/tensorflow/lib/python3.10/site-packages/deap/creator.py:138: RuntimeWarning: A class named 'FitnessMin' has already been created and it will be overwritten. Consider deleting previous creation of that class or rename it.\n",
            "  warnings.warn(\"A class named '{0}' has already been created and it \"\n",
            "/Users/tristanpeat/miniforge3/envs/tensorflow/lib/python3.10/site-packages/deap/creator.py:138: RuntimeWarning: A class named 'Individual' has already been created and it will be overwritten. Consider deleting previous creation of that class or rename it.\n",
            "  warnings.warn(\"A class named '{0}' has already been created and it \"\n"
          ]
        }
      ],
      "source": [
        "# create fitness for MO: FP and FN\n",
        "creator.create(\"FitnessMin\", base.Fitness, weights=(-1.0,-1.0))\n",
        "creator.create(\"Individual\", gp.PrimitiveTree, fitness=creator.FitnessMin)"
      ]
    },
    {
      "cell_type": "code",
      "execution_count": 238,
      "metadata": {
        "id": "JlBs9aCK9BBM"
      },
      "outputs": [],
      "source": [
        "# helper functions for primitives\n",
        "def get_random():\n",
        "    r = random.random()\n",
        "    r2 = random.randint(0, 2)\n",
        "    r3 = r + r2 + 0.000000001\n",
        "    return r3\n",
        "\n",
        "def relu(a):\n",
        "    if a < 0:\n",
        "        return 0\n",
        "    else:\n",
        "        return a\n",
        "\n",
        "def if_then_else(input, output1, output2):\n",
        "    if input: \n",
        "        return output1\n",
        "    else: \n",
        "        return output2\n",
        "\n",
        "def float_to_bool(f):\n",
        "    return f > 0\n",
        "\n",
        "# was not working because of overflow? didn't know that was possible in python\n",
        "# double scalars issue\n",
        "def power2(a):\n",
        "    return a ** 2"
      ]
    },
    {
      "cell_type": "code",
      "execution_count": 239,
      "metadata": {
        "id": "OWQsm_2v8vAA"
      },
      "outputs": [],
      "source": [
        "# create primitive set\n",
        "random.seed(RANDOM_SEED)\n",
        "# strongly typed so we can ensure that the final output is a boolean\n",
        "pset = gp.PrimitiveSetTyped(\"main\", itertools.repeat(float, 19), bool) \n",
        "\n",
        "pset.addPrimitive(operator.add, [float, float], float)\n",
        "pset.addPrimitive(operator.sub, [float, float], float)\n",
        "pset.addPrimitive(operator.mul, [float, float], float)\n",
        "# pset.addPrimitive(divide_by_zero, [float, float], float)\n",
        "# pset.addPrimitive(power2, [float], float)\n",
        "\n",
        "\n",
        "pset.addPrimitive(operator.and_, [bool, bool], bool)\n",
        "pset.addPrimitive(operator.or_, [bool, bool], bool)\n",
        "pset.addPrimitive(operator.not_, [bool], bool)\n",
        "pset.addPrimitive(operator.xor, [bool, bool], bool)\n",
        "pset.addPrimitive(float_to_bool, [float], bool)\n",
        "\n",
        "# logical comparators\n",
        "pset.addPrimitive(operator.lt, [float, float], bool)\n",
        "pset.addPrimitive(operator.le, [float, float], bool)\n",
        "pset.addPrimitive(operator.gt, [float, float], bool)\n",
        "pset.addPrimitive(operator.ge, [float, float], bool)\n",
        "pset.addPrimitive(operator.eq, [float, float], bool)\n",
        "pset.addPrimitive(if_then_else, [bool, float, float], float)\n",
        "\n",
        "# cast negatives to 0 like the relu function\n",
        "pset.addPrimitive(relu, [float], float)\n",
        "# random number\n",
        "pset.addTerminal(get_random(), float)\n",
        "\n",
        "## Add some random constants\n",
        "pset.addTerminal(0, bool)\n",
        "pset.addTerminal(1, bool)\n",
        "pset.addTerminal(2.0, float)\n",
        "pset.addTerminal(mean_age, float)\n",
        "pset.addTerminal(q1_age, int)\n",
        "pset.addTerminal(q3_age, int)\n",
        "pset.addTerminal(mode_sibs, int)\n",
        "pset.addTerminal(mode_parents, int)\n",
        "pset.addTerminal(mode_class, int)\n",
        "pset.addTerminal(mean_fare, float)\n",
        "\n",
        "pset.renameArguments(ARG0='Pclass', ARG1='Sex', ARG2='Age', ARG3='SibSp', ARG4='Parch', ARG5=\"Fare\", ARG6=\"Embarked\",ARG7=\"Title\", ARG8=\"LastName\",\n",
        "                     ARG9=\"IsWomanOrBoy\", ARG10=\"WomanOrBoyCount\", ARG11=\"FamilySurvivedCount\", ARG12=\"WomanOrBoySurvived\", ARG13=\"Alone\", \n",
        "                     ARG14=\"Single\", ARG15=\"SmallF\", ARG16=\"MedF\", ARG17=\"LargeF\", ARG18=\"Deck\")"
      ]
    },
    {
      "cell_type": "code",
      "execution_count": 240,
      "metadata": {
        "id": "AyBZZOw_9IBd"
      },
      "outputs": [],
      "source": [
        "# create toolbox\n",
        "toolbox = base.Toolbox()\n",
        "toolbox.register(\"expr\", gp.genHalfAndHalf, pset=pset, min_=1, max_=10)\n",
        "toolbox.register(\"individual\", tools.initIterate, creator.Individual, toolbox.expr)\n",
        "toolbox.register(\"population\", tools.initRepeat, list, toolbox.individual)\n",
        "toolbox.register(\"compile\", gp.compile, pset=pset)"
      ]
    },
    {
      "cell_type": "code",
      "execution_count": 241,
      "metadata": {
        "id": "CHM3ulD79QTp"
      },
      "outputs": [],
      "source": [
        "def eval_function(individual, points, pset):\n",
        "    func = gp.compile(expr=individual, pset=pset)\n",
        "    results = [func(*points[x]) for x in range(len(points))]\n",
        "    tn, fp, fn, tp = confusion_matrix(y_train, results).ravel()\n",
        "    return fp/(tn + fp), fn/(tp + fn)"
      ]
    },
    {
      "cell_type": "code",
      "execution_count": 242,
      "metadata": {},
      "outputs": [],
      "source": [
        "# from whiteboard - this is the same implementation made with strictly numpy, and it allows for cross validation\n",
        "def eval_alt(individual, pset, train, **kwargs):\n",
        "    func = gp.compile(expr=individual, pset=pset)\n",
        "    preds = []\n",
        "    train, truth = train_test_split(train)\n",
        "    # sepearte train into \n",
        "    # for row in fold:\n",
        "    #     pred = func(*row)\n",
        "    #     preds.append(pred)\n",
        "    \n",
        "    # truth is the y_test dataframe\n",
        "    preds = np.array(preds)\n",
        "    fnr = np.sum(np.logical_not(preds[truth == 1])) / np.sum(truth)\n",
        "    fpr = np.sum(preds[truth == 0]) / np.sum(truth[truth == 0])\n",
        "    pass"
      ]
    },
    {
      "cell_type": "code",
      "execution_count": 243,
      "metadata": {},
      "outputs": [
        {
          "data": {
            "text/plain": [
              "\"\\nFunction doesn't work properly bc it tries to order nodes but can't compare strs to ints\\n\""
            ]
          },
          "execution_count": 243,
          "metadata": {},
          "output_type": "execute_result"
        }
      ],
      "source": [
        "# function to visualize our tree\n",
        "def visualize(individual):\n",
        "    # unpack graph\n",
        "    nodes, edges, labels = gp.graph(individual)\n",
        "    # init Tree from treelib\n",
        "    tree = Tree()\n",
        "    # create a mapping from child to parent from the edges list (will be costly for large trees)\n",
        "    parents = dict()\n",
        "    for parent,kid in edges:\n",
        "        parents[kid] = parent\n",
        "    # create and add nodes to tree\n",
        "    for node in nodes:\n",
        "        if node not in parents:\n",
        "            tree.create_node(labels[node], node)\n",
        "        else:\n",
        "            tree.create_node(labels[node], node, parent=parents[node])\n",
        "    # display visualization\n",
        "    tree.show()\n",
        "\n",
        "'''\n",
        "Function doesn't work properly bc it tries to order nodes but can't compare strs to ints\n",
        "'''"
      ]
    },
    {
      "cell_type": "code",
      "execution_count": 244,
      "metadata": {
        "id": "BxmCdVzz9LWp"
      },
      "outputs": [],
      "source": [
        "toolbox.register(\"evaluate\", eval_function, points=X_train.values, pset=pset)\n",
        "\n",
        "# experiment with different selection algorithms, mating and mutation algorithms\n",
        "toolbox.register(\"select\", tools.selNSGA2)\n",
        "toolbox.register(\"mate\", gp.cxOnePoint)\n",
        "toolbox.register(\"expr_mut\", gp.genFull, min_=2, max_=5)\n",
        "toolbox.register(\"mutate\", gp.mutUniform, expr=toolbox.expr_mut, pset=pset)\n",
        "toolbox.register(\"crossover\", gp.cxOnePoint)\n",
        "\n",
        "toolbox.register(\"insertion\", gp.mutInsert, expr=toolbox.expr_mut, pset=pset)\n",
        "# toolbox.register(\"evaluate\", eval_function, pset=pset, points=df)\n",
        "\n",
        "toolbox.decorate(\"mate\", gp.staticLimit(key=operator.attrgetter(\"height\"), max_value=17))\n",
        "toolbox.decorate(\"mutate\", gp.staticLimit(key=operator.attrgetter(\"height\"), max_value=17))"
      ]
    },
    {
      "cell_type": "code",
      "execution_count": 245,
      "metadata": {
        "colab": {
          "base_uri": "https://localhost:8080/"
        },
        "id": "1KyHQIRlvXTb",
        "outputId": "27a00801-dea5-48cb-d1f1-f77c5d914e9a"
      },
      "outputs": [
        {
          "name": "stdout",
          "output_type": "stream",
          "text": [
            "(0.0, 1.0)\n"
          ]
        }
      ],
      "source": [
        "expr = gp.genFull(pset, min_=1, max_=5)\n",
        "tree = gp.PrimitiveTree(expr)\n",
        "# print(str(tree))\n",
        "print(str(eval_function(tree, X_train.values, pset)))\n",
        "\n",
        "# visualize(toolbox.individual())"
      ]
    },
    {
      "cell_type": "code",
      "execution_count": 246,
      "metadata": {
        "id": "ah81KnyCvXTc"
      },
      "outputs": [],
      "source": [
        "def pareto_dominance(ind1, ind2):\n",
        "    not_equal = False\n",
        "    for value_1, value_2 in zip(ind1.fitness.values, ind2.fitness.values):\n",
        "        if value_1 > value_2:\n",
        "            return False\n",
        "        elif value_1 < value_2:\n",
        "            not_equal = True\n",
        "    return not_equal"
      ]
    },
    {
      "cell_type": "markdown",
      "metadata": {},
      "source": [
        "## Create population"
      ]
    },
    {
      "cell_type": "code",
      "execution_count": 247,
      "metadata": {
        "id": "ZshxLYRhvXTc"
      },
      "outputs": [
        {
          "name": "stdout",
          "output_type": "stream",
          "text": [
            "2\n",
            "0.9915966386554622\n",
            "296\n"
          ]
        }
      ],
      "source": [
        "size = 300\n",
        "# create a population of size size\n",
        "population = toolbox.population(size)\n",
        "fitnesses = list(map(toolbox.evaluate, population))\n",
        "for ind, fit in zip(population, fitnesses):\n",
        "    ind.fitness.values = fit\n",
        "\n",
        "a_given_individual = toolbox.population(n=1)[0]\n",
        "a_given_individual.fitness.values = toolbox.evaluate(a_given_individual)\n",
        "\n",
        "# sort by pareto dom??\n",
        "dominated = [ind for ind in population if pareto_dominance(a_given_individual, ind)]\n",
        "dominators = [ind for ind in population if pareto_dominance(ind, a_given_individual)]\n",
        "others = [ind for ind in population if not ind in dominated and not ind in dominators]\n",
        "\n",
        "# report\n",
        "print(len(dominated))\n",
        "print((dominators[1].fitness.values[1]))\n",
        "print(len(others))"
      ]
    },
    {
      "cell_type": "markdown",
      "metadata": {},
      "source": [
        "## Plot Objective space"
      ]
    },
    {
      "cell_type": "code",
      "execution_count": 248,
      "metadata": {
        "colab": {
          "base_uri": "https://localhost:8080/",
          "height": 297
        },
        "id": "WuCp23i5vXTe",
        "outputId": "febdd641-f944-4068-bef1-70f55d635b04"
      },
      "outputs": [
        {
          "data": {
            "image/png": "[encoded data removed]",
            "text/plain": [
              "<Figure size 432x288 with 1 Axes>"
            ]
          },
          "metadata": {
            "needs_background": "light"
          },
          "output_type": "display_data"
        }
      ],
      "source": [
        "for ind in dominators: plt.plot(ind.fitness.values[0], ind.fitness.values[1], 'r.', alpha=0.7)\n",
        "for ind in dominated: plt.plot(ind.fitness.values[0], ind.fitness.values[1], 'g.', alpha=0.7)\n",
        "for ind in others: plt.plot(ind.fitness.values[0], ind.fitness.values[1], 'k.', alpha=0.7, ms=3)\n",
        "plt.plot(a_given_individual.fitness.values[0], a_given_individual.fitness.values[1], 'bo', ms=6);\n",
        "plt.xlabel('FPR');plt.ylabel('FNR');\n",
        "plt.title('Objective space');\n",
        "plt.tight_layout()\n",
        "plt.show()"
      ]
    },
    {
      "cell_type": "code",
      "execution_count": 249,
      "metadata": {
        "colab": {
          "base_uri": "https://localhost:8080/"
        },
        "id": "B1KluR7dvXTf",
        "outputId": "bc73b70f-6007-4f91-b778-c154595c7d22"
      },
      "outputs": [
        {
          "name": "stdout",
          "output_type": "stream",
          "text": [
            "gen\tnevals\tavg                    \tstd                    \tmin    \tmax    \n",
            "0  \t0     \t[0.43325885 0.55327731]\t[0.43027383 0.41855835]\t[0. 0.]\t[1. 1.]\n",
            "1  \t185   \t[0.45259777 0.55116246]\t[0.4356002  0.42126633]\t[0. 0.]\t[1. 1.]\n",
            "2  \t163   \t[0.47189013 0.52556022]\t[0.43132332 0.41680834]\t[0. 0.]\t[1. 1.]\n",
            "3  \t172   \t[0.49634078 0.50189076]\t[0.43512047 0.41976761]\t[0. 0.]\t[1. 1.]\n",
            "4  \t151   \t[0.49723464 0.49296919]\t[0.43478109 0.41790046]\t[0. 0.]\t[1. 1.]\n",
            "5  \t154   \t[0.49077281 0.50194678]\t[0.43094157 0.41277705]\t[0. 0.]\t[1. 1.]\n",
            "6  \t149   \t[0.49358473 0.50107843]\t[0.43551994 0.41491444]\t[0. 0.]\t[1. 1.]\n",
            "7  \t173   \t[0.4863594  0.51551821]\t[0.43660153 0.41452881]\t[0. 0.]\t[1. 1.]\n",
            "8  \t142   \t[0.48800745 0.50803922]\t[0.42822259 0.4074599 ]\t[0. 0.]\t[1. 1.]\n",
            "9  \t154   \t[0.47860335 0.51805322]\t[0.4267136  0.40659973]\t[0. 0.]\t[1. 1.]\n",
            "10 \t160   \t[0.4701676  0.53355742]\t[0.42727112 0.41095286]\t[0. 0.]\t[1. 1.]\n",
            "11 \t169   \t[0.47676909 0.53179272]\t[0.42653448 0.40898188]\t[0. 0.]\t[1. 1.]\n",
            "12 \t159   \t[0.49725326 0.51382353]\t[0.42755655 0.41189501]\t[0. 0.]\t[1. 1.]\n",
            "13 \t160   \t[0.46056797 0.54796919]\t[0.4256631  0.40928014]\t[0. 0.]\t[1. 1.]\n",
            "14 \t174   \t[0.45733706 0.54347339]\t[0.429219   0.41204572]\t[0. 0.]\t[1. 1.]\n",
            "15 \t157   \t[0.47668529 0.53176471]\t[0.42664243 0.40666292]\t[0. 0.]\t[1. 1.]\n",
            "16 \t175   \t[0.49041899 0.52037815]\t[0.43017357 0.40971926]\t[0. 0.]\t[1. 1.]\n",
            "17 \t166   \t[0.50097765 0.50614846]\t[0.42915896 0.41054904]\t[0. 0.]\t[1. 1.]\n",
            "18 \t191   \t[0.48216015 0.52256303]\t[0.42939267 0.41231384]\t[0. 0.]\t[1. 1.]\n",
            "19 \t143   \t[0.47204842 0.53995798]\t[0.42977194 0.4144978 ]\t[0. 0.]\t[1. 1.]\n",
            "20 \t145   \t[0.48047486 0.53577031]\t[0.4270091  0.41372191]\t[0. 0.]\t[1. 1.]\n",
            "21 \t160   \t[0.47863128 0.53326331]\t[0.43020225 0.4152969 ]\t[0. 0.]\t[1. 1.]\n",
            "22 \t141   \t[0.4591527  0.55219888]\t[0.42187158 0.40558802]\t[0. 0.]\t[1. 1.]\n",
            "23 \t174   \t[0.46007449 0.5472549 ]\t[0.42272917 0.40775861]\t[0. 0.]\t[1. 1.]\n",
            "24 \t154   \t[0.45810056 0.54271709]\t[0.41932786 0.40669083]\t[0. 0.]\t[1. 1.]\n",
            "25 \t162   \t[0.47709497 0.52890756]\t[0.4197219  0.40595786]\t[0. 0.]\t[1. 1.]\n",
            "26 \t184   \t[0.48157356 0.52390756]\t[0.42418388 0.40986343]\t[0. 0.]\t[1. 1.]\n",
            "27 \t171   \t[0.48886406 0.51637255]\t[0.42779479 0.4097198 ]\t[0. 0.]\t[1. 1.]\n",
            "28 \t128   \t[0.49470205 0.52236695]\t[0.42635429 0.40836673]\t[0. 0.]\t[1. 1.]\n",
            "29 \t191   \t[0.49736499 0.52696078]\t[0.42747312 0.40940378]\t[0. 0.]\t[1. 1.]\n",
            "30 \t176   \t[0.48725326 0.53511204]\t[0.42312083 0.40519954]\t[0. 0.]\t[1. 1.]\n",
            "31 \t164   \t[0.49429236 0.52186275]\t[0.41878854 0.4033735 ]\t[0. 0.]\t[1. 1.]\n",
            "32 \t142   \t[0.4918622  0.51889356]\t[0.41675777 0.402868  ]\t[0. 0.]\t[1. 1.]\n",
            "33 \t156   \t[0.49462756 0.52004202]\t[0.41844468 0.40102814]\t[0. 0.]\t[1. 1.]\n",
            "34 \t160   \t[0.50135009 0.51567227]\t[0.41866377 0.39882377]\t[0. 0.]\t[1. 1.]\n",
            "35 \t171   \t[0.49446927 0.52379552]\t[0.41464859 0.39410279]\t[0. 0.]\t[1. 1.]\n",
            "36 \t175   \t[0.48244879 0.52859944]\t[0.41297164 0.39549391]\t[0. 0.]\t[1. 1.]\n",
            "37 \t153   \t[0.48179702 0.53072829]\t[0.41107756 0.39285921]\t[0. 0.]\t[1. 1.]\n",
            "38 \t164   \t[0.48129423 0.52394958]\t[0.40952424 0.3937613 ]\t[0. 0.]\t[1. 1.]\n",
            "39 \t170   \t[0.48577281 0.52254902]\t[0.40999698 0.3945316 ]\t[0. 0.]\t[1. 1.]\n",
            "40 \t144   \t[0.4994041  0.50443978]\t[0.41123284 0.3940503 ]\t[0. 0.]\t[1. 1.]\n",
            "Best individual is gt(mul(relu(sub(if_then_else(eq(29.26483575248281, Deck), if_then_else(1, SibSp, 2.0), mul(IsWomanOrBoy, WomanOrBoySurvived)), if_then_else(lt(SibSp, Alone), mul(Embarked, Embarked), relu(Alone)))), Single), SmallF), (0.0, 0.7016806722689075), from gen 22\n"
          ]
        }
      ],
      "source": [
        "# try mutpb = 0.2, higher num gens\n",
        "def evol_loop(ngen = 40, cxpb = 0.5, mutpb = 0.1, select_method=\"NSGA2\", lambda_ = 100):\n",
        "    hof = tools.ParetoFront()\n",
        "\n",
        "    # list for metrix (might not care about them)\n",
        "    avg_list = []\n",
        "    max_list = []\n",
        "    min_list = []\n",
        "\n",
        "    best_ind = tools.selBest(population, 1)[0]\n",
        "    gen_best = 0\n",
        "\n",
        "    stats = tools.Statistics(lambda ind: ind.fitness.values)\n",
        "    stats.register(\"avg\", np.mean, axis=0)\n",
        "    stats.register(\"std\", np.std, axis=0)\n",
        "    stats.register(\"min\", np.min, axis=0)\n",
        "    stats.register(\"max\", np.max, axis=0)\n",
        "\n",
        "    logbook = tools.Logbook()\n",
        "    logbook.header = ['gen', 'nevals'] + stats.fields\n",
        "\n",
        "\n",
        "    # Evaluate the individuals with an invalid fitness\n",
        "    invalid_ind = [ind for ind in population if not ind.fitness.valid]\n",
        "    fitnesses = toolbox.map(toolbox.evaluate, invalid_ind)\n",
        "    for ind, fit in zip(invalid_ind, fitnesses):\n",
        "        ind.fitness.values = fit\n",
        "    \n",
        "    record = stats.compile(population)\n",
        "    logbook.record(gen=0, nevals=len(invalid_ind), **record)\n",
        "\n",
        "    print(logbook.stream)\n",
        "\n",
        "    for gen in range(1, ngen + 1):\n",
        "        # Select the next generation individuals\n",
        "        offspring = toolbox.select(population, len(population))\n",
        "\n",
        "        # Vary the pool of individuals\n",
        "        offspring = [toolbox.clone(ind) for ind in population]\n",
        "\n",
        "        # Apply crossover and mutation on the offspring\n",
        "        for i in range(1, len(offspring), 2):\n",
        "            if random.random() < cxpb:\n",
        "                offspring[i - 1], offspring[i] = toolbox.mate(offspring[i - 1],\n",
        "                                                            offspring[i])\n",
        "                del offspring[i - 1].fitness.values, offspring[i].fitness.values\n",
        "\n",
        "        for i in range(len(offspring)):\n",
        "            if random.random() < mutpb:\n",
        "                offspring[i], = toolbox.mutate(offspring[i])\n",
        "                del offspring[i].fitness.values\n",
        "\n",
        "        # Evaluate the individuals with an invalid fitness\n",
        "        invalid_ind = [ind for ind in offspring if not ind.fitness.valid]\n",
        "        fitnesses = toolbox.map(toolbox.evaluate, invalid_ind)\n",
        "        for ind, fit in zip(invalid_ind, fitnesses):\n",
        "            ind.fitness.values = fit\n",
        "\n",
        "        # Update the hall of fame with the generated individuals\n",
        "        hof.update(offspring)\n",
        "        \n",
        "        if sum(tools.selBest(population, 1)[0].fitness.values) < sum(best_ind.fitness.values):\n",
        "            best_ind = tools.selBest(population, 1)[0]\n",
        "            gen_best = gen\n",
        "\n",
        "            # Replace the current population by the offspring\n",
        "        population[:] = offspring\n",
        "        \n",
        "        record = stats.compile(population) if stats else {}\n",
        "        logbook.record(gen=gen, nevals=len(invalid_ind), **record)\n",
        "        \n",
        "        print(logbook.stream)\n",
        "\n",
        "    print(\"Best individual is %s, %s, from gen %s\" % (best_ind, best_ind.fitness.values, gen_best))\n",
        "    return hof\n",
        "\n",
        "hof = evol_loop()"
      ]
    },
    {
      "cell_type": "code",
      "execution_count": 256,
      "metadata": {
        "colab": {
          "base_uri": "https://localhost:8080/",
          "height": 333
        },
        "id": "wvVSxSGuvXTf",
        "outputId": "7ce41c4d-bfb0-4eed-cf09-a89bd639fcf0"
      },
      "outputs": [
        {
          "name": "stdout",
          "output_type": "stream",
          "text": [
            "Best individual is: gt(mul(relu(sub(if_then_else(eq(29.26483575248281, Deck), if_then_else(1, SibSp, sub(Parch, LargeF)), mul(IsWomanOrBoy, WomanOrBoySurvived)), if_then_else(lt(SibSp, Alone), mul(Embarked, Embarked), relu(Alone)))), Single), SmallF)\n",
            "with fitness: (0.0, 0.7016806722689075)\n"
          ]
        },
        {
          "data": {
            "image/png": "[encoded data removed]",
            "text/plain": [
              "<Figure size 432x288 with 1 Axes>"
            ]
          },
          "metadata": {
            "needs_background": "light"
          },
          "output_type": "display_data"
        }
      ],
      "source": [
        "print(\"Best individual is: %s\\nwith fitness: %s\" % (hof[0], hof[0].fitness))\n",
        "gen, avg, min_, max_ = logbook.select(\"gen\", \"avg\", \"min\", \"max\")\n",
        "plt.plot(gen, avg, label=\"average\")\n",
        "plt.plot(gen, min_, label=\"minimum\")\n",
        "plt.xlabel(\"Generation\")\n",
        "plt.ylabel(\"Fitness\")\n",
        "plt.legend(loc=\"upper left\")\n",
        "plt.show()"
      ]
    },
    {
      "cell_type": "code",
      "execution_count": 257,
      "metadata": {
        "colab": {
          "base_uri": "https://localhost:8080/",
          "height": 312
        },
        "id": "nAZr79lsvXTg",
        "outputId": "851c6161-0548-475e-b38e-78c0c69735d4"
      },
      "outputs": [
        {
          "data": {
            "image/png": "[encoded data removed]",
            "text/plain": [
              "<Figure size 432x288 with 1 Axes>"
            ]
          },
          "metadata": {
            "needs_background": "light"
          },
          "output_type": "display_data"
        },
        {
          "name": "stdout",
          "output_type": "stream",
          "text": [
            "Area Under Curve: 0.12897281817755035\n"
          ]
        }
      ],
      "source": [
        "\"\"\"Split fitness values into separate lists\"\"\"\n",
        "fitness_1 = [ind.fitness.values[0] for ind in hof]\n",
        "fitness_2 = [ind.fitness.values[1] for ind in hof]\n",
        "pop_1 = [ind.fitness.values[0] for ind in population]\n",
        "pop_2 = [ind.fitness.values[1] for ind in population]\n",
        "\n",
        "'''Print dominated population for debugging'''\n",
        "# for ind in pop:\n",
        "#     print(ind.fitness)\n",
        "\n",
        "plt.scatter(pop_1, pop_2, color='b')\n",
        "plt.scatter(fitness_1, fitness_2, color='r')\n",
        "plt.plot(fitness_1, fitness_2, color='r', drawstyle='steps-post')\n",
        "plt.xlabel(\"False Positive\")\n",
        "plt.ylabel(\"False Negative\")\n",
        "plt.title(\"Pareto Front\")\n",
        "plt.ylim(bottom=0.0)\n",
        "plt.xlim(left=0.0)\n",
        "plt.show()\n",
        "\n",
        "f1 = np.array(fitness_1)\n",
        "f2 = np.array(fitness_2)\n",
        "\n",
        "\"\"\"Calculate area under curve with least squares method\"\"\"\n",
        "print(\"Area Under Curve: %s\" % (np.sum(np.abs(np.diff(f1))*f2[:-1])))"
      ]
    },
    {
      "cell_type": "code",
      "execution_count": 258,
      "metadata": {},
      "outputs": [],
      "source": [
        "def evol_alt(ngen = 40, lambda_ = 100, var = True, sel = \"NSGA2\", cxpb = 0.5, mutpb = 0.2):\n",
        "    pop = toolbox.population(lambda_)\n",
        "    last_pop = []\n",
        "    fitnesses = list(map(toolbox.evaluate, pop))\n",
        "    for ind, fit in zip(pop, fitnesses):\n",
        "        ind.fitness.value = fit\n",
        "    for g in range(ngen):\n",
        "        print(\"Generation:\", g)\n",
        "        offspring = toolbox.select(pop, lambda_)\n",
        "        offspring = list(map(toolbox.clone, offspring))\n",
        "        for parent1, parent2 in zip(offspring[::2], offspring[1::2]):\n",
        "            if random.random() < cxpb:\n",
        "                toolbox.crossover(parent1, parent2)\n",
        "                del(parent1.fitness.values)\n",
        "                del(parent2.fitness.values)\n",
        "        for l in range(lambda_):\n",
        "            if random.random() < mutpb:\n",
        "                toolbox.mutate(pop[1])\n",
        "                del(pop[1].fitness.values)\n",
        "        invalid_ind = [ind for ind in offspring if not ind.fitness.valid]\n",
        "        fitnesses = map(toolbox.evaluate, invalid_ind)\n",
        "        for ind, fit in zip(invalid_ind, fitnesses):\n",
        "            ind.fitness.values = ind.fitness.values + fit\n",
        "        pop[:] = offspring\n",
        "    print(\"End of\", g, \"generations\")\n",
        "    return [list(toolbox.evaluate(indiv)) for indiv in pop], pop"
      ]
    },
    {
      "cell_type": "code",
      "execution_count": 259,
      "metadata": {},
      "outputs": [],
      "source": [
        "def find_pareto(data):\n",
        "    is_Pareto = np.ones(data.shape[0], dtype = bool)\n",
        "    for i, c in enumerate(data):\n",
        "        # Keep any point with a lower cost\n",
        "        if is_Pareto[i]:\n",
        "            # This is where you would change for miniminzation versus maximization \n",
        "\n",
        "            # Minimization\n",
        "            is_Pareto[is_Pareto] = np.any(data[is_Pareto]<c, axis=1)  \n",
        "\n",
        "            # Maximization\n",
        "            #is_Pareto[is_Pareto] = np.any(data[is_Pareto]>c, axis=1)  \n",
        "\n",
        "            # And keep self\n",
        "            is_Pareto[i] = True  \n",
        "\n",
        "    # Downsample from boolean array\n",
        "    Pareto_data = data[is_Pareto, :]\n",
        "    # Sort data\n",
        "    Pareto_out =  Pareto_data[np.argsort(Pareto_data[:,0])]\n",
        "\n",
        "    #return is_Pareto\n",
        "    return Pareto_out, is_Pareto"
      ]
    },
    {
      "cell_type": "code",
      "execution_count": 260,
      "metadata": {},
      "outputs": [
        {
          "name": "stdout",
          "output_type": "stream",
          "text": [
            "Generation: 0\n",
            "Generation: 1\n",
            "Generation: 2\n",
            "Generation: 3\n",
            "Generation: 4\n",
            "Generation: 5\n",
            "Generation: 6\n",
            "Generation: 7\n",
            "Generation: 8\n",
            "Generation: 9\n",
            "Generation: 10\n",
            "Generation: 11\n",
            "Generation: 12\n",
            "Generation: 13\n",
            "Generation: 14\n",
            "Generation: 15\n",
            "Generation: 16\n",
            "Generation: 17\n",
            "Generation: 18\n",
            "Generation: 19\n",
            "Generation: 20\n",
            "Generation: 21\n",
            "Generation: 22\n",
            "Generation: 23\n",
            "Generation: 24\n",
            "Generation: 25\n",
            "Generation: 26\n",
            "Generation: 27\n",
            "Generation: 28\n",
            "Generation: 29\n",
            "Generation: 30\n",
            "Generation: 31\n",
            "Generation: 32\n",
            "Generation: 33\n",
            "Generation: 34\n",
            "Generation: 35\n",
            "Generation: 36\n",
            "Generation: 37\n",
            "Generation: 38\n",
            "Generation: 39\n",
            "End of 39 generations\n"
          ]
        },
        {
          "data": {
            "image/png": "[encoded data removed]",
            "text/plain": [
              "<Figure size 432x288 with 1 Axes>"
            ]
          },
          "metadata": {
            "needs_background": "light"
          },
          "output_type": "display_data"
        }
      ],
      "source": [
        "myData, pop = evol_alt(ngen = 40)\n",
        "# Use above routine to find pareto points\n",
        "myData = np.vstack(([[0,1],[1,0]], myData))\n",
        "myPareto, is_Pareto = find_pareto(np.array(myData))\n",
        "\n",
        "# Calculate the Area under the Curve as a Riemann sum\n",
        "auc = np.sum(np.diff(myPareto[:,0])*myPareto[0:-1,1])\n",
        "\n",
        "# Create figure\n",
        "plt.figure()\n",
        "\n",
        "# Make sure font sizes are large enough to read in the presentation\n",
        "plt.rcParams.update({'font.size': 14})\n",
        "\n",
        "# Plot all points\n",
        "plt.scatter(myData[:,0],myData[:,1],)\n",
        "\n",
        "# Plot Pareto steps. note 'post' for minimization 'pre' for maximization\n",
        "plt.step(myPareto[:,0], myPareto[:,1], where='post')\n",
        "#plt.step(myPareto[:,0], myPareto[:,1], where='pre')\n",
        "\n",
        "# Make sure you include labels\n",
        "# Minimization\n",
        "plt.title('Example of a Minimization Result\\n with AUC = ' + str(auc))\n",
        "plt.xlabel('False Negative')\n",
        "plt.ylabel('False Positive')\n",
        "\n",
        "# Maximization\n",
        "#plt.title('Example of a Maximization Result')\n",
        "#plt.xlabel('True Negative')\n",
        "#plt.ylabel('True Positive')\n",
        "\n",
        "plt.show()"
      ]
    },
    {
      "cell_type": "code",
      "execution_count": 255,
      "metadata": {},
      "outputs": [
        {
          "ename": "TypeError",
          "evalue": "Toolbox.register() missing 1 required positional argument: 'function'",
          "output_type": "error",
          "traceback": [
            "\u001b[0;31m---------------------------------------------------------------------------\u001b[0m",
            "\u001b[0;31mTypeError\u001b[0m                                 Traceback (most recent call last)",
            "\u001b[1;32m/Users/tristanpeat/Documents/gt/fall22/vip/titanic-ml/titanic_MOGP.ipynb Cell 28\u001b[0m in \u001b[0;36m<cell line: 13>\u001b[0;34m()\u001b[0m\n\u001b[1;32m     <a href='vscode-notebook-cell:/Users/tristanpeat/Documents/gt/fall22/vip/titanic-ml/titanic_MOGP.ipynb#Y145sZmlsZQ%3D%3D?line=9'>10</a>\u001b[0m         \u001b[39mreturn\u001b[39;00m wrapper\n\u001b[1;32m     <a href='vscode-notebook-cell:/Users/tristanpeat/Documents/gt/fall22/vip/titanic-ml/titanic_MOGP.ipynb#Y145sZmlsZQ%3D%3D?line=10'>11</a>\u001b[0m     \u001b[39mreturn\u001b[39;00m decorator\n\u001b[0;32m---> <a href='vscode-notebook-cell:/Users/tristanpeat/Documents/gt/fall22/vip/titanic-ml/titanic_MOGP.ipynb#Y145sZmlsZQ%3D%3D?line=12'>13</a>\u001b[0m toolbox\u001b[39m.\u001b[39;49mregister(\u001b[39m\"\u001b[39;49m\u001b[39mgenerate\u001b[39;49m\u001b[39m\"\u001b[39;49m)\n\u001b[1;32m     <a href='vscode-notebook-cell:/Users/tristanpeat/Documents/gt/fall22/vip/titanic-ml/titanic_MOGP.ipynb#Y145sZmlsZQ%3D%3D?line=13'>14</a>\u001b[0m toolbox\u001b[39m.\u001b[39mdecorate(\u001b[39m\"\u001b[39m\u001b[39mgenerate\u001b[39m\u001b[39m\"\u001b[39m, log_individuals(\u001b[39mopen\u001b[39m(\u001b[39m\"\u001b[39m\u001b[39mout.pkl\u001b[39m\u001b[39m\"\u001b[39m, \u001b[39m\"\u001b[39m\u001b[39mw\u001b[39m\u001b[39m\"\u001b[39m)))\n",
            "\u001b[0;31mTypeError\u001b[0m: Toolbox.register() missing 1 required positional argument: 'function'"
          ]
        }
      ],
      "source": [
        "# cool examples in deap https://www.programcreek.com/python/example/104502/deap.base.Toolbox\n",
        "\n",
        "import pickle\n",
        "## fnction to pickle best individuals\n",
        "def log_individuals(file):\n",
        "    def decorator(func):\n",
        "        def wrapper(*args, **kargs):\n",
        "            individuals = func(*args, **kargs)\n",
        "            for ind in individuals:\n",
        "                pickle.dump(ind, file)\n",
        "            return individuals\n",
        "        return wrapper\n",
        "    return decorator\n",
        "\n",
        "# toolbox.register(\"generate\")\n",
        "# toolbox.decorate(\"generate\", log_individuals(open(\"out.pkl\", \"w\")))"
      ]
    },
    {
      "cell_type": "code",
      "execution_count": null,
      "metadata": {
        "id": "5WIlWRCzvXTg"
      },
      "outputs": [],
      "source": [
        "predictions = [ind for ind in hof]    "
      ]
    },
    {
      "cell_type": "code",
      "execution_count": null,
      "metadata": {
        "colab": {
          "base_uri": "https://localhost:8080/",
          "height": 324
        },
        "id": "nli28ETQvXTh",
        "outputId": "37acc1a1-159f-40da-a21c-9f1b9686eb14"
      },
      "outputs": [
        {
          "data": {
            "text/html": [
              "<div>\n",
              "<style scoped>\n",
              "    .dataframe tbody tr th:only-of-type {\n",
              "        vertical-align: middle;\n",
              "    }\n",
              "\n",
              "    .dataframe tbody tr th {\n",
              "        vertical-align: top;\n",
              "    }\n",
              "\n",
              "    .dataframe thead th {\n",
              "        text-align: right;\n",
              "    }\n",
              "</style>\n",
              "<table border=\"1\" class=\"dataframe\">\n",
              "  <thead>\n",
              "    <tr style=\"text-align: right;\">\n",
              "      <th></th>\n",
              "      <th>Pclass</th>\n",
              "      <th>Sex</th>\n",
              "      <th>Age</th>\n",
              "      <th>SibSp</th>\n",
              "      <th>Parch</th>\n",
              "      <th>Fare</th>\n",
              "      <th>Embarked</th>\n",
              "      <th>Title</th>\n",
              "      <th>LastName</th>\n",
              "      <th>IsWomanOrBoy</th>\n",
              "      <th>WomanOrBoyCount</th>\n",
              "      <th>FamilySurvivedCount</th>\n",
              "      <th>WomanOrBoySurvived</th>\n",
              "      <th>Alone</th>\n",
              "      <th>Single</th>\n",
              "      <th>SmallF</th>\n",
              "      <th>MedF</th>\n",
              "      <th>LargeF</th>\n",
              "      <th>Deck</th>\n",
              "    </tr>\n",
              "    <tr>\n",
              "      <th>PassengerId</th>\n",
              "      <th></th>\n",
              "      <th></th>\n",
              "      <th></th>\n",
              "      <th></th>\n",
              "      <th></th>\n",
              "      <th></th>\n",
              "      <th></th>\n",
              "      <th></th>\n",
              "      <th></th>\n",
              "      <th></th>\n",
              "      <th></th>\n",
              "      <th></th>\n",
              "      <th></th>\n",
              "      <th></th>\n",
              "      <th></th>\n",
              "      <th></th>\n",
              "      <th></th>\n",
              "      <th></th>\n",
              "      <th></th>\n",
              "    </tr>\n",
              "  </thead>\n",
              "  <tbody>\n",
              "    <tr>\n",
              "      <th>892</th>\n",
              "      <td>3</td>\n",
              "      <td>1</td>\n",
              "      <td>34.5</td>\n",
              "      <td>0</td>\n",
              "      <td>0</td>\n",
              "      <td>7.8292</td>\n",
              "      <td>1</td>\n",
              "      <td>10</td>\n",
              "      <td>401</td>\n",
              "      <td>0</td>\n",
              "      <td>3</td>\n",
              "      <td>3.0</td>\n",
              "      <td>1.0</td>\n",
              "      <td>0</td>\n",
              "      <td>1</td>\n",
              "      <td>0</td>\n",
              "      <td>0</td>\n",
              "      <td>0</td>\n",
              "      <td>7</td>\n",
              "    </tr>\n",
              "    <tr>\n",
              "      <th>893</th>\n",
              "      <td>3</td>\n",
              "      <td>0</td>\n",
              "      <td>47.0</td>\n",
              "      <td>1</td>\n",
              "      <td>0</td>\n",
              "      <td>7.0000</td>\n",
              "      <td>2</td>\n",
              "      <td>11</td>\n",
              "      <td>846</td>\n",
              "      <td>1</td>\n",
              "      <td>1</td>\n",
              "      <td>0.0</td>\n",
              "      <td>0.0</td>\n",
              "      <td>0</td>\n",
              "      <td>0</td>\n",
              "      <td>1</td>\n",
              "      <td>0</td>\n",
              "      <td>0</td>\n",
              "      <td>7</td>\n",
              "    </tr>\n",
              "    <tr>\n",
              "      <th>894</th>\n",
              "      <td>2</td>\n",
              "      <td>1</td>\n",
              "      <td>62.0</td>\n",
              "      <td>0</td>\n",
              "      <td>0</td>\n",
              "      <td>9.6875</td>\n",
              "      <td>1</td>\n",
              "      <td>10</td>\n",
              "      <td>552</td>\n",
              "      <td>0</td>\n",
              "      <td>0</td>\n",
              "      <td>0.0</td>\n",
              "      <td>0.0</td>\n",
              "      <td>1</td>\n",
              "      <td>1</td>\n",
              "      <td>0</td>\n",
              "      <td>0</td>\n",
              "      <td>0</td>\n",
              "      <td>7</td>\n",
              "    </tr>\n",
              "    <tr>\n",
              "      <th>895</th>\n",
              "      <td>3</td>\n",
              "      <td>1</td>\n",
              "      <td>27.0</td>\n",
              "      <td>0</td>\n",
              "      <td>0</td>\n",
              "      <td>8.6625</td>\n",
              "      <td>2</td>\n",
              "      <td>10</td>\n",
              "      <td>854</td>\n",
              "      <td>0</td>\n",
              "      <td>0</td>\n",
              "      <td>0.0</td>\n",
              "      <td>0.0</td>\n",
              "      <td>1</td>\n",
              "      <td>1</td>\n",
              "      <td>0</td>\n",
              "      <td>0</td>\n",
              "      <td>0</td>\n",
              "      <td>7</td>\n",
              "    </tr>\n",
              "    <tr>\n",
              "      <th>896</th>\n",
              "      <td>3</td>\n",
              "      <td>0</td>\n",
              "      <td>22.0</td>\n",
              "      <td>1</td>\n",
              "      <td>1</td>\n",
              "      <td>12.2875</td>\n",
              "      <td>2</td>\n",
              "      <td>11</td>\n",
              "      <td>342</td>\n",
              "      <td>1</td>\n",
              "      <td>2</td>\n",
              "      <td>1.0</td>\n",
              "      <td>0.5</td>\n",
              "      <td>0</td>\n",
              "      <td>0</td>\n",
              "      <td>0</td>\n",
              "      <td>1</td>\n",
              "      <td>0</td>\n",
              "      <td>7</td>\n",
              "    </tr>\n",
              "  </tbody>\n",
              "</table>\n",
              "</div>"
            ],
            "text/plain": [
              "             Pclass  Sex   Age  SibSp  Parch     Fare  Embarked  Title  \\\n",
              "PassengerId                                                              \n",
              "892               3    1  34.5      0      0   7.8292         1     10   \n",
              "893               3    0  47.0      1      0   7.0000         2     11   \n",
              "894               2    1  62.0      0      0   9.6875         1     10   \n",
              "895               3    1  27.0      0      0   8.6625         2     10   \n",
              "896               3    0  22.0      1      1  12.2875         2     11   \n",
              "\n",
              "             LastName  IsWomanOrBoy  WomanOrBoyCount  FamilySurvivedCount  \\\n",
              "PassengerId                                                                 \n",
              "892               401             0                3                  3.0   \n",
              "893               846             1                1                  0.0   \n",
              "894               552             0                0                  0.0   \n",
              "895               854             0                0                  0.0   \n",
              "896               342             1                2                  1.0   \n",
              "\n",
              "             WomanOrBoySurvived  Alone  Single  SmallF  MedF  LargeF  Deck  \n",
              "PassengerId                                                                 \n",
              "892                         1.0      0       1       0     0       0     7  \n",
              "893                         0.0      0       0       1     0       0     7  \n",
              "894                         0.0      1       1       0     0       0     7  \n",
              "895                         0.0      1       1       0     0       0     7  \n",
              "896                         0.5      0       0       0     1       0     7  "
            ]
          },
          "execution_count": 120,
          "metadata": {},
          "output_type": "execute_result"
        }
      ],
      "source": [
        "test_df = pd.read_csv(\"processed_test.csv\", index_col = \"PassengerId\")\n",
        "test_df.head()"
      ]
    },
    {
      "cell_type": "code",
      "execution_count": null,
      "metadata": {
        "id": "RiZbP3ytvXTh"
      },
      "outputs": [],
      "source": [
        "def eval_test(points, pset):\n",
        "    out = pd.DataFrame(index=test_df.index)\n",
        "    index = 0\n",
        "    for ind in predictions:\n",
        "        func = gp.compile(expr=ind, pset=pset)\n",
        "        results = [func(*points[x]) for x in range(len(points))]\n",
        "        out[index] = results\n",
        "        index += 1\n",
        "    return out"
      ]
    },
    {
      "cell_type": "code",
      "execution_count": null,
      "metadata": {
        "id": "AYiyRTqMvXTh"
      },
      "outputs": [
        {
          "data": {
            "text/plain": [
              "pandas.core.frame.DataFrame"
            ]
          },
          "execution_count": 122,
          "metadata": {},
          "output_type": "execute_result"
        }
      ],
      "source": [
        "out = eval_test(test_df.values, pset)\n",
        "type(out)"
      ]
    },
    {
      "cell_type": "code",
      "execution_count": null,
      "metadata": {
        "id": "-EJVRQvpvXTi"
      },
      "outputs": [
        {
          "data": {
            "text/plain": [
              "(418, 52)"
            ]
          },
          "execution_count": 60,
          "metadata": {},
          "output_type": "execute_result"
        }
      ],
      "source": [
        "out.shape"
      ]
    },
    {
      "cell_type": "code",
      "execution_count": null,
      "metadata": {
        "id": "xtGhm_2FvXTi"
      },
      "outputs": [],
      "source": [
        "out.to_csv(\"titanic_deap.csv\")"
      ]
    }
  ],
  "metadata": {
    "colab": {
      "include_colab_link": true,
      "provenance": []
    },
    "kernelspec": {
      "display_name": "Python 3 (ipykernel)",
      "language": "python",
      "name": "python3"
    },
    "language_info": {
      "codemirror_mode": {
        "name": "ipython",
        "version": 3
      },
      "file_extension": ".py",
      "mimetype": "text/x-python",
      "name": "python",
      "nbconvert_exporter": "python",
      "pygments_lexer": "ipython3",
      "version": "3.10.5"
    },
    "vscode": {
      "interpreter": {
        "hash": "9d5624301dd59825418d46ba1d7ada7fc08f3744dcc16b272fc605485332a111"
      }
    }
  },
  "nbformat": 4,
  "nbformat_minor": 0
}
