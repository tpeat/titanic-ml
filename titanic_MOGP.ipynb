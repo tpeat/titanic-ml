{
  "cells": [
    {
      "cell_type": "markdown",
      "metadata": {
        "colab_type": "text",
        "id": "view-in-github"
      },
      "source": [
        "<a href=\"https://colab.research.google.com/github/tpeat/titanic-ml/blob/main/titanic_MOGP.ipynb\" target=\"_parent\"><img src=\"https://colab.research.google.com/assets/colab-badge.svg\" alt=\"Open In Colab\"/></a>"
      ]
    },
    {
      "cell_type": "code",
      "execution_count": 325,
      "metadata": {
        "colab": {
          "base_uri": "https://localhost:8080/"
        },
        "id": "DExj4kbXBTox",
        "outputId": "a16f0503-5525-407e-b723-32e2d3de9ea6"
      },
      "outputs": [
        {
          "name": "stdout",
          "output_type": "stream",
          "text": [
            "%pylab is deprecated, use %matplotlib inline and import the required libraries.\n",
            "Populating the interactive namespace from numpy and matplotlib\n"
          ]
        },
        {
          "name": "stderr",
          "output_type": "stream",
          "text": [
            "/Users/tristanpeat/miniforge3/envs/tensorflow/lib/python3.10/site-packages/IPython/core/magics/pylab.py:162: UserWarning: pylab import has clobbered these variables: ['random', 'tanh']\n",
            "`%matplotlib` prevents importing * from pylab and numpy\n",
            "  warn(\"pylab import has clobbered these variables: %s\"  % clobbered +\n"
          ]
        },
        {
          "name": "stdout",
          "output_type": "stream",
          "text": [
            "Requirement already satisfied: pandas in /Users/tristanpeat/miniforge3/envs/tensorflow/lib/python3.10/site-packages (1.4.2)\n",
            "Requirement already satisfied: python-dateutil>=2.8.1 in /Users/tristanpeat/miniforge3/envs/tensorflow/lib/python3.10/site-packages (from pandas) (2.8.2)\n",
            "Requirement already satisfied: pytz>=2020.1 in /Users/tristanpeat/miniforge3/envs/tensorflow/lib/python3.10/site-packages (from pandas) (2022.1)\n",
            "Requirement already satisfied: numpy>=1.21.0 in /Users/tristanpeat/miniforge3/envs/tensorflow/lib/python3.10/site-packages (from pandas) (1.22.4)\n",
            "Requirement already satisfied: six>=1.5 in /Users/tristanpeat/miniforge3/envs/tensorflow/lib/python3.10/site-packages (from python-dateutil>=2.8.1->pandas) (1.16.0)\n",
            "Requirement already satisfied: deap in /Users/tristanpeat/miniforge3/envs/tensorflow/lib/python3.10/site-packages (1.3.3)\n",
            "Requirement already satisfied: numpy in /Users/tristanpeat/miniforge3/envs/tensorflow/lib/python3.10/site-packages (from deap) (1.22.4)\n"
          ]
        }
      ],
      "source": [
        "%pylab inline\n",
        "# Pandas is a nice utilitiy that enables some easy data manipulation, especially from a csv\n",
        "\n",
        "!pip3 install pandas\n",
        "import pandas as pd\n",
        "# Numpy lets us work with arrays\n",
        "import numpy as np\n",
        "\n",
        "# Sklearn provides various modules with a common API\n",
        "from sklearn.metrics import confusion_matrix\n",
        "from sklearn.model_selection import train_test_split, cross_val_score, cross_val_predict, cross_validate\n",
        "\n",
        "!pip install deap\n",
        "from deap import algorithms\n",
        "from deap import base\n",
        "from deap import creator\n",
        "from deap import tools\n",
        "from deap import gp\n",
        "\n",
        "import random\n",
        "import operator\n",
        "import itertools\n",
        "\n",
        "from treelib import Node, Tree\n",
        "import pygraphviz as pgv\n",
        "\n",
        "import math\n",
        "\n",
        "# turn off warnings\n",
        "from warnings import simplefilter\n",
        "# ignore all future warnings\n",
        "simplefilter(action='ignore', category=FutureWarning)"
      ]
    },
    {
      "cell_type": "code",
      "execution_count": 233,
      "metadata": {
        "id": "ei5ydI0VBTo0"
      },
      "outputs": [],
      "source": [
        "# Read in our csv files downloaded from Kaggle\n",
        "train_data = pd.read_csv('processed_train.csv').set_index(\"PassengerId\")\n",
        "test_data = pd.read_csv('processed_test.csv').set_index(\"PassengerId\")\n",
        "\n",
        "df = pd.concat([train_data, test_data], axis=0, sort=False)"
      ]
    },
    {
      "cell_type": "code",
      "execution_count": 234,
      "metadata": {
        "colab": {
          "base_uri": "https://localhost:8080/",
          "height": 235
        },
        "id": "8rDevsE7BTo1",
        "outputId": "3036d8a4-5ed2-4744-b8f9-e679b946d520"
      },
      "outputs": [
        {
          "data": {
            "text/html": [
              "<div>\n",
              "<style scoped>\n",
              "    .dataframe tbody tr th:only-of-type {\n",
              "        vertical-align: middle;\n",
              "    }\n",
              "\n",
              "    .dataframe tbody tr th {\n",
              "        vertical-align: top;\n",
              "    }\n",
              "\n",
              "    .dataframe thead th {\n",
              "        text-align: right;\n",
              "    }\n",
              "</style>\n",
              "<table border=\"1\" class=\"dataframe\">\n",
              "  <thead>\n",
              "    <tr style=\"text-align: right;\">\n",
              "      <th></th>\n",
              "      <th>Survived</th>\n",
              "      <th>Pclass</th>\n",
              "      <th>Sex</th>\n",
              "      <th>Age</th>\n",
              "      <th>SibSp</th>\n",
              "      <th>Parch</th>\n",
              "      <th>Fare</th>\n",
              "      <th>Embarked</th>\n",
              "      <th>Title</th>\n",
              "      <th>LastName</th>\n",
              "      <th>IsWomanOrBoy</th>\n",
              "      <th>WomanOrBoyCount</th>\n",
              "      <th>FamilySurvivedCount</th>\n",
              "      <th>WomanOrBoySurvived</th>\n",
              "      <th>Alone</th>\n",
              "      <th>Single</th>\n",
              "      <th>SmallF</th>\n",
              "      <th>MedF</th>\n",
              "      <th>LargeF</th>\n",
              "      <th>Deck</th>\n",
              "    </tr>\n",
              "    <tr>\n",
              "      <th>PassengerId</th>\n",
              "      <th></th>\n",
              "      <th></th>\n",
              "      <th></th>\n",
              "      <th></th>\n",
              "      <th></th>\n",
              "      <th></th>\n",
              "      <th></th>\n",
              "      <th></th>\n",
              "      <th></th>\n",
              "      <th></th>\n",
              "      <th></th>\n",
              "      <th></th>\n",
              "      <th></th>\n",
              "      <th></th>\n",
              "      <th></th>\n",
              "      <th></th>\n",
              "      <th></th>\n",
              "      <th></th>\n",
              "      <th></th>\n",
              "      <th></th>\n",
              "    </tr>\n",
              "  </thead>\n",
              "  <tbody>\n",
              "    <tr>\n",
              "      <th>1</th>\n",
              "      <td>0.0</td>\n",
              "      <td>3</td>\n",
              "      <td>1</td>\n",
              "      <td>22.0</td>\n",
              "      <td>1</td>\n",
              "      <td>0</td>\n",
              "      <td>7.2500</td>\n",
              "      <td>2</td>\n",
              "      <td>10</td>\n",
              "      <td>100</td>\n",
              "      <td>0</td>\n",
              "      <td>0</td>\n",
              "      <td>0.0</td>\n",
              "      <td>0.0</td>\n",
              "      <td>1</td>\n",
              "      <td>0</td>\n",
              "      <td>1</td>\n",
              "      <td>0</td>\n",
              "      <td>0</td>\n",
              "      <td>7</td>\n",
              "    </tr>\n",
              "    <tr>\n",
              "      <th>2</th>\n",
              "      <td>1.0</td>\n",
              "      <td>1</td>\n",
              "      <td>0</td>\n",
              "      <td>38.0</td>\n",
              "      <td>1</td>\n",
              "      <td>0</td>\n",
              "      <td>71.2833</td>\n",
              "      <td>0</td>\n",
              "      <td>11</td>\n",
              "      <td>182</td>\n",
              "      <td>1</td>\n",
              "      <td>1</td>\n",
              "      <td>1.0</td>\n",
              "      <td>1.0</td>\n",
              "      <td>0</td>\n",
              "      <td>0</td>\n",
              "      <td>1</td>\n",
              "      <td>0</td>\n",
              "      <td>0</td>\n",
              "      <td>2</td>\n",
              "    </tr>\n",
              "    <tr>\n",
              "      <th>3</th>\n",
              "      <td>1.0</td>\n",
              "      <td>3</td>\n",
              "      <td>0</td>\n",
              "      <td>26.0</td>\n",
              "      <td>0</td>\n",
              "      <td>0</td>\n",
              "      <td>7.9250</td>\n",
              "      <td>2</td>\n",
              "      <td>9</td>\n",
              "      <td>329</td>\n",
              "      <td>1</td>\n",
              "      <td>1</td>\n",
              "      <td>1.0</td>\n",
              "      <td>1.0</td>\n",
              "      <td>0</td>\n",
              "      <td>1</td>\n",
              "      <td>0</td>\n",
              "      <td>0</td>\n",
              "      <td>0</td>\n",
              "      <td>7</td>\n",
              "    </tr>\n",
              "    <tr>\n",
              "      <th>4</th>\n",
              "      <td>1.0</td>\n",
              "      <td>1</td>\n",
              "      <td>0</td>\n",
              "      <td>35.0</td>\n",
              "      <td>1</td>\n",
              "      <td>0</td>\n",
              "      <td>53.1000</td>\n",
              "      <td>2</td>\n",
              "      <td>11</td>\n",
              "      <td>267</td>\n",
              "      <td>1</td>\n",
              "      <td>1</td>\n",
              "      <td>1.0</td>\n",
              "      <td>1.0</td>\n",
              "      <td>0</td>\n",
              "      <td>0</td>\n",
              "      <td>1</td>\n",
              "      <td>0</td>\n",
              "      <td>0</td>\n",
              "      <td>2</td>\n",
              "    </tr>\n",
              "    <tr>\n",
              "      <th>5</th>\n",
              "      <td>0.0</td>\n",
              "      <td>3</td>\n",
              "      <td>1</td>\n",
              "      <td>35.0</td>\n",
              "      <td>0</td>\n",
              "      <td>0</td>\n",
              "      <td>8.0500</td>\n",
              "      <td>2</td>\n",
              "      <td>10</td>\n",
              "      <td>15</td>\n",
              "      <td>0</td>\n",
              "      <td>1</td>\n",
              "      <td>1.0</td>\n",
              "      <td>1.0</td>\n",
              "      <td>0</td>\n",
              "      <td>1</td>\n",
              "      <td>0</td>\n",
              "      <td>0</td>\n",
              "      <td>0</td>\n",
              "      <td>7</td>\n",
              "    </tr>\n",
              "  </tbody>\n",
              "</table>\n",
              "</div>"
            ],
            "text/plain": [
              "             Survived  Pclass  Sex   Age  SibSp  Parch     Fare  Embarked  \\\n",
              "PassengerId                                                                 \n",
              "1                 0.0       3    1  22.0      1      0   7.2500         2   \n",
              "2                 1.0       1    0  38.0      1      0  71.2833         0   \n",
              "3                 1.0       3    0  26.0      0      0   7.9250         2   \n",
              "4                 1.0       1    0  35.0      1      0  53.1000         2   \n",
              "5                 0.0       3    1  35.0      0      0   8.0500         2   \n",
              "\n",
              "             Title  LastName  IsWomanOrBoy  WomanOrBoyCount  \\\n",
              "PassengerId                                                   \n",
              "1               10       100             0                0   \n",
              "2               11       182             1                1   \n",
              "3                9       329             1                1   \n",
              "4               11       267             1                1   \n",
              "5               10        15             0                1   \n",
              "\n",
              "             FamilySurvivedCount  WomanOrBoySurvived  Alone  Single  SmallF  \\\n",
              "PassengerId                                                                   \n",
              "1                            0.0                 0.0      1       0       1   \n",
              "2                            1.0                 1.0      0       0       1   \n",
              "3                            1.0                 1.0      0       1       0   \n",
              "4                            1.0                 1.0      0       0       1   \n",
              "5                            1.0                 1.0      0       1       0   \n",
              "\n",
              "             MedF  LargeF  Deck  \n",
              "PassengerId                      \n",
              "1               0       0     7  \n",
              "2               0       0     2  \n",
              "3               0       0     7  \n",
              "4               0       0     2  \n",
              "5               0       0     7  "
            ]
          },
          "execution_count": 234,
          "metadata": {},
          "output_type": "execute_result"
        }
      ],
      "source": [
        "# We can use .head() to get just the first few rows of the data.\n",
        "train_data.head()\n",
        "# Note how the notebook nicely displays the output for us"
      ]
    },
    {
      "cell_type": "markdown",
      "metadata": {
        "id": "ar3xROKfvXTT"
      },
      "source": [
        "## Generate valuable constants from df"
      ]
    },
    {
      "cell_type": "code",
      "execution_count": 235,
      "metadata": {
        "id": "ewRtEBNzvXTW"
      },
      "outputs": [],
      "source": [
        "# average age\n",
        "mean_age = df.Age.mean()\n",
        "\n",
        "# 1st quartile\n",
        "q1_age = np.quantile(df.Age, 0.25)\n",
        "# quartile 3\n",
        "q3_age = np.quantile(df.Age, 0.75)\n",
        "\n",
        "\n",
        "# mode of passenger class\n",
        "mode_class = df.Pclass.value_counts().idxmax()\n",
        "\n",
        "# mode siblings\n",
        "mode_sibs = df.SibSp.value_counts().idxmax()\n",
        "\n",
        "# mode parnets\n",
        "mode_parents = df.Parch.value_counts().idxmax()\n",
        "\n",
        "# mean fare price\n",
        "mean_fare = df.Fare.mean()"
      ]
    },
    {
      "cell_type": "code",
      "execution_count": 236,
      "metadata": {
        "id": "y_0fscG0vXTX"
      },
      "outputs": [],
      "source": [
        "RANDOM_SEED=10\n",
        "X_train = train_data.loc[:, train_data.columns != 'Survived']\n",
        "y_train = train_data.loc[:, 'Survived']\n",
        "X_train, X_test, y_train, y_test = train_test_split(X_train, y_train, test_size=0.33, random_state=RANDOM_SEED)"
      ]
    },
    {
      "cell_type": "code",
      "execution_count": 237,
      "metadata": {
        "id": "8aK2fUrR8g4i"
      },
      "outputs": [
        {
          "name": "stderr",
          "output_type": "stream",
          "text": [
            "/Users/tristanpeat/miniforge3/envs/tensorflow/lib/python3.10/site-packages/deap/creator.py:138: RuntimeWarning: A class named 'FitnessMin' has already been created and it will be overwritten. Consider deleting previous creation of that class or rename it.\n",
            "  warnings.warn(\"A class named '{0}' has already been created and it \"\n",
            "/Users/tristanpeat/miniforge3/envs/tensorflow/lib/python3.10/site-packages/deap/creator.py:138: RuntimeWarning: A class named 'Individual' has already been created and it will be overwritten. Consider deleting previous creation of that class or rename it.\n",
            "  warnings.warn(\"A class named '{0}' has already been created and it \"\n"
          ]
        }
      ],
      "source": [
        "# create fitness for MO: FP and FN\n",
        "creator.create(\"FitnessMin\", base.Fitness, weights=(-1.0,-1.0))\n",
        "creator.create(\"Individual\", gp.PrimitiveTree, fitness=creator.FitnessMin)"
      ]
    },
    {
      "cell_type": "code",
      "execution_count": 317,
      "metadata": {
        "id": "JlBs9aCK9BBM"
      },
      "outputs": [],
      "source": [
        "# helper functions for primitives\n",
        "def get_random():\n",
        "    r = random.random()\n",
        "    r2 = random.randint(0, 2)\n",
        "    r3 = r + r2 + 0.000000001\n",
        "    return r3\n",
        "\n",
        "def relu(a):\n",
        "    if a < 0:\n",
        "        return 0\n",
        "    else:\n",
        "        return a\n",
        "\n",
        "def if_then_else(input, output1, output2):\n",
        "    if input: \n",
        "        return output1\n",
        "    else: \n",
        "        return output2\n",
        "\n",
        "def float_to_bool(f):\n",
        "    return f > 0\n",
        "\n",
        "# was not working because of overflow? didn't know that was possible in python\n",
        "# double scalars issue\n",
        "def power2(a):\n",
        "    return a ** 2\n",
        "\n",
        "def pass_(a):\n",
        "    return a\n",
        "\n",
        "def tanh(a):\n",
        "    return math.tanh(a)"
      ]
    },
    {
      "cell_type": "code",
      "execution_count": 318,
      "metadata": {
        "id": "OWQsm_2v8vAA"
      },
      "outputs": [],
      "source": [
        "# create primitive set\n",
        "random.seed(RANDOM_SEED)\n",
        "# strongly typed so we can ensure that the final output is a boolean\n",
        "pset = gp.PrimitiveSetTyped(\"main\", itertools.repeat(float, 19), bool) \n",
        "\n",
        "pset.addPrimitive(operator.add, [float, float], float)\n",
        "pset.addPrimitive(operator.sub, [float, float], float)\n",
        "pset.addPrimitive(operator.mul, [float, float], float)\n",
        "# pset.addPrimitive(divide_by_zero, [float, float], float)\n",
        "# pset.addPrimitive(power2, [float], float)\n",
        "\n",
        "\n",
        "pset.addPrimitive(operator.and_, [bool, bool], bool)\n",
        "pset.addPrimitive(operator.or_, [bool, bool], bool)\n",
        "pset.addPrimitive(operator.not_, [bool], bool)\n",
        "pset.addPrimitive(operator.xor, [bool, bool], bool)\n",
        "pset.addPrimitive(float_to_bool, [float], bool)\n",
        "\n",
        "# logical comparators\n",
        "pset.addPrimitive(operator.lt, [float, float], bool)\n",
        "pset.addPrimitive(operator.le, [float, float], bool)\n",
        "pset.addPrimitive(operator.gt, [float, float], bool)\n",
        "pset.addPrimitive(operator.ge, [float, float], bool)\n",
        "pset.addPrimitive(operator.eq, [float, float], bool)\n",
        "pset.addPrimitive(if_then_else, [bool, float, float], float)\n",
        "\n",
        "# cast negatives to 0 like the relu function\n",
        "pset.addPrimitive(relu, [float], float)\n",
        "# random number\n",
        "# pset.addTerminal(get_random, float)\n",
        "# just pass on the number\n",
        "pset.addPrimitive(pass_, [float], float)\n",
        "# tanh function\n",
        "pset.addPrimitive(tanh, [float], float)\n",
        "\n",
        "## Add some random constants\n",
        "pset.addTerminal(0, bool)\n",
        "pset.addTerminal(1, bool)\n",
        "pset.addTerminal(2.0, float)\n",
        "pset.addTerminal(mean_age, float)\n",
        "pset.addTerminal(q1_age, int)\n",
        "pset.addTerminal(q3_age, int)\n",
        "pset.addTerminal(mode_sibs, int)\n",
        "pset.addTerminal(mode_parents, int)\n",
        "pset.addTerminal(mode_class, int)\n",
        "pset.addTerminal(mean_fare, float)\n",
        "\n",
        "pset.renameArguments(ARG0='Pclass', ARG1='Sex', ARG2='Age', ARG3='SibSp', ARG4='Parch', ARG5=\"Fare\", ARG6=\"Embarked\",ARG7=\"Title\", ARG8=\"LastName\",\n",
        "                     ARG9=\"IsWomanOrBoy\", ARG10=\"WomanOrBoyCount\", ARG11=\"FamilySurvivedCount\", ARG12=\"WomanOrBoySurvived\", ARG13=\"Alone\", \n",
        "                     ARG14=\"Single\", ARG15=\"SmallF\", ARG16=\"MedF\", ARG17=\"LargeF\", ARG18=\"Deck\")"
      ]
    },
    {
      "cell_type": "code",
      "execution_count": 319,
      "metadata": {
        "id": "AyBZZOw_9IBd"
      },
      "outputs": [],
      "source": [
        "# create toolbox\n",
        "toolbox = base.Toolbox()\n",
        "toolbox.register(\"expr\", gp.genHalfAndHalf, pset=pset, min_=1, max_=10)\n",
        "toolbox.register(\"individual\", tools.initIterate, creator.Individual, toolbox.expr)\n",
        "toolbox.register(\"population\", tools.initRepeat, list, toolbox.individual)\n",
        "toolbox.register(\"compile\", gp.compile, pset=pset)"
      ]
    },
    {
      "cell_type": "code",
      "execution_count": 320,
      "metadata": {
        "id": "CHM3ulD79QTp"
      },
      "outputs": [],
      "source": [
        "def eval_function(individual, points, pset):\n",
        "    func = gp.compile(expr=individual, pset=pset)\n",
        "    results = [func(*points[x]) for x in range(len(points))]\n",
        "    tn, fp, fn, tp = confusion_matrix(y_train, results).ravel()\n",
        "    return fp/(tn + fp), fn/(tp + fn)"
      ]
    },
    {
      "cell_type": "code",
      "execution_count": 321,
      "metadata": {},
      "outputs": [],
      "source": [
        "# from whiteboard - this is the same implementation made with strictly numpy, and it allows for cross validation\n",
        "def eval_alt(individual, pset, train, **kwargs):\n",
        "    func = gp.compile(expr=individual, pset=pset)\n",
        "    preds = []\n",
        "    train, truth = train_test_split(train)\n",
        "    # sepearte train into \n",
        "    # for row in fold:\n",
        "    #     pred = func(*row)\n",
        "    #     preds.append(pred)\n",
        "    \n",
        "    # truth is the y_test dataframe\n",
        "    preds = np.array(preds)\n",
        "    fnr = np.sum(np.logical_not(preds[truth == 1])) / np.sum(truth)\n",
        "    fpr = np.sum(preds[truth == 0]) / np.sum(truth[truth == 0])\n",
        "    pass"
      ]
    },
    {
      "cell_type": "code",
      "execution_count": 332,
      "metadata": {},
      "outputs": [
        {
          "data": {
            "text/plain": [
              "\"\\nFunction doesn't work properly bc it tries to order nodes but can't compare strs to ints\\n\""
            ]
          },
          "execution_count": 332,
          "metadata": {},
          "output_type": "execute_result"
        }
      ],
      "source": [
        "# function to visualize our tree\n",
        "def visualize(individual):\n",
        "    # unpack graphs\n",
        "    nodes, edges, labels = gp.graph(individual)\n",
        "    # init Tree from treelib\n",
        "    tree = Tree()\n",
        "    # create a mapping from child to parent from the edges list (will be costly for large trees)\n",
        "    parents = dict()\n",
        "    for parent,kid in edges:\n",
        "        parents[kid] = parent\n",
        "    # create and add nodes to tree\n",
        "    for node in nodes:\n",
        "        if node not in parents:\n",
        "            tree.create_node(labels[node], node)\n",
        "        else:\n",
        "            tree.create_node(labels[node], node, parent=parents[node])\n",
        "    # display visualization\n",
        "    tree.show()\n",
        "\n",
        "'''\n",
        "Function doesn't work properly bc it tries to order nodes but can't compare strs to ints\n",
        "'''"
      ]
    },
    {
      "cell_type": "code",
      "execution_count": 333,
      "metadata": {},
      "outputs": [],
      "source": [
        "# graph viz by deap\n",
        "def visualize2(individual):\n",
        "    nodes, edges, labels = gp.graph(individual)\n",
        "\n",
        "    g = pgv.AGraph()\n",
        "    g.add_nodes_from(nodes)\n",
        "    g.add_edges_from(edges)\n",
        "    g.layout(prog=\"dot\")\n",
        "\n",
        "    for i in nodes:\n",
        "        n = g.get_node(i)\n",
        "        n.attr[\"label\"] = labels[i]\n",
        "\n",
        "    g.draw(\"tree.pdf\")"
      ]
    },
    {
      "cell_type": "code",
      "execution_count": 334,
      "metadata": {
        "id": "BxmCdVzz9LWp"
      },
      "outputs": [],
      "source": [
        "toolbox.register(\"evaluate\", eval_function, points=X_train.values, pset=pset)\n",
        "\n",
        "# experiment with different selection algorithms, mating and mutation algorithms\n",
        "toolbox.register(\"select\", tools.selNSGA2)\n",
        "toolbox.register(\"mate\", gp.cxOnePoint)\n",
        "toolbox.register(\"expr_mut\", gp.genFull, min_=2, max_=5)\n",
        "toolbox.register(\"mutate\", gp.mutUniform, expr=toolbox.expr_mut, pset=pset)\n",
        "toolbox.register(\"crossover\", gp.cxOnePoint)\n",
        "\n",
        "toolbox.register(\"insertion\", gp.mutInsert, expr=toolbox.expr_mut, pset=pset)\n",
        "# toolbox.register(\"evaluate\", eval_function, pset=pset, points=df)\n",
        "\n",
        "toolbox.decorate(\"mate\", gp.staticLimit(key=operator.attrgetter(\"height\"), max_value=17))\n",
        "toolbox.decorate(\"mutate\", gp.staticLimit(key=operator.attrgetter(\"height\"), max_value=17))"
      ]
    },
    {
      "cell_type": "code",
      "execution_count": 337,
      "metadata": {
        "colab": {
          "base_uri": "https://localhost:8080/"
        },
        "id": "1KyHQIRlvXTb",
        "outputId": "27a00801-dea5-48cb-d1f1-f77c5d914e9a"
      },
      "outputs": [
        {
          "name": "stdout",
          "output_type": "stream",
          "text": [
            "and_\n",
            "├── 0\n",
            "└── 1\n",
            "\n"
          ]
        }
      ],
      "source": [
        "expr = gp.genFull(pset, min_=1, max_=5)\n",
        "tree = gp.PrimitiveTree(expr)\n",
        "# print(str(tree))\n",
        "# print(str(eval_function(tree, X_train.values, pset)))\n",
        "try:\n",
        "    visualize(toolbox.individual())\n",
        "except TypeError:\n",
        "    print(\"type error\")\n",
        "\n",
        "visualize2(toolbox.individual())"
      ]
    },
    {
      "cell_type": "code",
      "execution_count": 338,
      "metadata": {
        "id": "ah81KnyCvXTc"
      },
      "outputs": [],
      "source": [
        "def pareto_dominance(ind1, ind2):\n",
        "    not_equal = False\n",
        "    for value_1, value_2 in zip(ind1.fitness.values, ind2.fitness.values):\n",
        "        if value_1 > value_2:\n",
        "            return False\n",
        "        elif value_1 < value_2:\n",
        "            not_equal = True\n",
        "    return not_equal"
      ]
    },
    {
      "cell_type": "markdown",
      "metadata": {},
      "source": [
        "## Create population"
      ]
    },
    {
      "cell_type": "code",
      "execution_count": 339,
      "metadata": {
        "id": "ZshxLYRhvXTc"
      },
      "outputs": [
        {
          "name": "stdout",
          "output_type": "stream",
          "text": [
            "30\n",
            "0.21428571428571427\n",
            "261\n"
          ]
        }
      ],
      "source": [
        "size = 300\n",
        "# create a population of size size\n",
        "population = toolbox.population(size)\n",
        "fitnesses = list(map(toolbox.evaluate, population))\n",
        "for ind, fit in zip(population, fitnesses):\n",
        "    ind.fitness.values = fit\n",
        "\n",
        "a_given_individual = toolbox.population(n=1)[0]\n",
        "a_given_individual.fitness.values = toolbox.evaluate(a_given_individual)\n",
        "\n",
        "# sort by pareto dom??\n",
        "dominated = [ind for ind in population if pareto_dominance(a_given_individual, ind)]\n",
        "dominators = [ind for ind in population if pareto_dominance(ind, a_given_individual)]\n",
        "others = [ind for ind in population if not ind in dominated and not ind in dominators]\n",
        "\n",
        "# report\n",
        "print(len(dominated))\n",
        "print((dominators[1].fitness.values[1]))\n",
        "print(len(others))"
      ]
    },
    {
      "cell_type": "markdown",
      "metadata": {},
      "source": [
        "## Plot Objective space"
      ]
    },
    {
      "cell_type": "code",
      "execution_count": 340,
      "metadata": {
        "colab": {
          "base_uri": "https://localhost:8080/",
          "height": 297
        },
        "id": "WuCp23i5vXTe",
        "outputId": "febdd641-f944-4068-bef1-70f55d635b04"
      },
      "outputs": [
        {
          "data": {
            "image/png": "[encoded data removed]",
            "text/plain": [
              "<Figure size 432x288 with 1 Axes>"
            ]
          },
          "metadata": {
            "needs_background": "light"
          },
          "output_type": "display_data"
        }
      ],
      "source": [
        "for ind in dominators: plt.plot(ind.fitness.values[0], ind.fitness.values[1], 'r.', alpha=0.7)\n",
        "for ind in dominated: plt.plot(ind.fitness.values[0], ind.fitness.values[1], 'g.', alpha=0.7)\n",
        "for ind in others: plt.plot(ind.fitness.values[0], ind.fitness.values[1], 'k.', alpha=0.7, ms=3)\n",
        "plt.plot(a_given_individual.fitness.values[0], a_given_individual.fitness.values[1], 'bo', ms=6);\n",
        "plt.xlabel('FPR');plt.ylabel('FNR');\n",
        "plt.title('Objective space');\n",
        "plt.tight_layout()\n",
        "plt.show()"
      ]
    },
    {
      "cell_type": "code",
      "execution_count": 341,
      "metadata": {
        "colab": {
          "base_uri": "https://localhost:8080/"
        },
        "id": "B1KluR7dvXTf",
        "outputId": "bc73b70f-6007-4f91-b778-c154595c7d22"
      },
      "outputs": [
        {
          "name": "stdout",
          "output_type": "stream",
          "text": [
            "gen\tnevals\tavg                    \tstd                    \tmin    \tmax    \n",
            "0  \t0     \t[0.46815642 0.54151261]\t[0.43594884 0.42255343]\t[0. 0.]\t[1. 1.]\n",
            "1  \t148   \t[0.49758845 0.51442577]\t[0.43487579 0.42000849]\t[0. 0.]\t[1. 1.]\n",
            "2  \t183   \t[0.48019553 0.51970588]\t[0.43491099 0.42327744]\t[0. 0.]\t[1. 1.]\n",
            "3  \t164   \t[0.45791434 0.5369888 ]\t[0.43359468 0.42242387]\t[0. 0.]\t[1. 1.]\n",
            "4  \t174   \t[0.44608007 0.55558824]\t[0.43608954 0.42355214]\t[0. 0.]\t[1. 1.]\n",
            "5  \t171   \t[0.43357542 0.57345938]\t[0.43477243 0.42051827]\t[0. 0.]\t[1. 1.]\n",
            "6  \t164   \t[0.41938547 0.57822129]\t[0.42864759 0.41658083]\t[0. 0.]\t[1. 1.]\n",
            "7  \t153   \t[0.43640596 0.56514006]\t[0.43196105 0.41795587]\t[0. 0.]\t[1. 1.]\n",
            "8  \t177   \t[0.45884544 0.54380952]\t[0.43716814 0.42034166]\t[0. 0.]\t[1. 1.]\n",
            "9  \t171   \t[0.47450652 0.53036415]\t[0.43645866 0.42054763]\t[0. 0.]\t[1. 1.]\n",
            "10 \t171   \t[0.46332402 0.53857143]\t[0.43465279 0.41888841]\t[0. 0.]\t[1. 1.]\n",
            "11 \t176   \t[0.47768156 0.5282493 ]\t[0.43170832 0.41479236]\t[0. 0.]\t[1. 1.]\n",
            "12 \t174   \t[0.48034451 0.51745098]\t[0.43511283 0.41562197]\t[0. 0.]\t[1. 1.]\n",
            "13 \t191   \t[0.4774581  0.52501401]\t[0.43525778 0.416681  ]\t[0. 0.]\t[1. 1.]\n",
            "14 \t162   \t[0.47884544 0.52397759]\t[0.43343848 0.41663558]\t[0. 0.]\t[1. 1.]\n",
            "15 \t184   \t[0.49939479 0.52151261]\t[0.43208282 0.41544599]\t[0. 0.]\t[1. 1.]\n",
            "16 \t153   \t[0.4885568  0.52929972]\t[0.43215171 0.4112835 ]\t[0. 0.]\t[1. 1.]\n",
            "17 \t167   \t[0.48653631 0.53082633]\t[0.4358732  0.41631334]\t[0. 0.]\t[1. 1.]\n",
            "18 \t160   \t[0.48388268 0.53645658]\t[0.42824989 0.40809414]\t[0. 0.]\t[1. 1.]\n",
            "19 \t171   \t[0.47925512 0.5235014 ]\t[0.42927716 0.4125958 ]\t[0. 0.]\t[1. 1.]\n",
            "20 \t170   \t[0.47799814 0.52441176]\t[0.42838734 0.41296531]\t[0. 0.]\t[1. 1.]\n",
            "21 \t167   \t[0.48770019 0.5147479 ]\t[0.42462922 0.40772507]\t[0. 0.]\t[1. 1.]\n",
            "22 \t176   \t[0.50421788 0.50084034]\t[0.42396539 0.40878531]\t[0. 0.]\t[1. 1.]\n",
            "23 \t194   \t[0.48671322 0.50553221]\t[0.42415062 0.41191009]\t[0. 0.]\t[1. 1.]\n",
            "24 \t178   \t[0.48324022 0.51043417]\t[0.42334126 0.41054261]\t[0. 0.]\t[1. 1.]\n",
            "25 \t164   \t[0.48167598 0.50980392]\t[0.42616771 0.41301906]\t[0. 0.]\t[1. 1.]\n",
            "26 \t152   \t[0.46176909 0.5210084 ]\t[0.4228754  0.41002649]\t[0. 0.]\t[1. 1.]\n",
            "27 \t176   \t[0.46905028 0.52376751]\t[0.42207779 0.41002072]\t[0. 0.]\t[1. 1.]\n",
            "28 \t155   \t[0.47181564 0.52635854]\t[0.42627738 0.41455903]\t[0. 0.]\t[1. 1.]\n",
            "29 \t181   \t[0.46668529 0.53187675]\t[0.4235786  0.41497737]\t[0. 0.]\t[1. 1.]\n",
            "30 \t164   \t[0.47308194 0.5220028 ]\t[0.42667301 0.41591844]\t[0. 0.]\t[1. 1.]\n",
            "31 \t153   \t[0.47374302 0.52696078]\t[0.42833056 0.41538743]\t[0. 0.]\t[1. 1.]\n",
            "32 \t167   \t[0.48083799 0.5152381 ]\t[0.43261475 0.41779372]\t[0. 0.]\t[1. 1.]\n",
            "33 \t176   \t[0.48162942 0.51016807]\t[0.43404595 0.41732872]\t[0. 0.]\t[1. 1.]\n",
            "34 \t176   \t[0.46131285 0.52686275]\t[0.43154831 0.41571206]\t[0. 0.]\t[1. 1.]\n",
            "35 \t176   \t[0.45454376 0.5367507 ]\t[0.42754848 0.41413134]\t[0. 0.]\t[1. 1.]\n",
            "36 \t172   \t[0.44339851 0.5380112 ]\t[0.4265886  0.41440852]\t[0. 0.]\t[1. 1.]\n",
            "37 \t179   \t[0.4655121  0.52859944]\t[0.43199128 0.4173655 ]\t[0. 0.]\t[1. 1.]\n",
            "38 \t159   \t[0.44986034 0.54079832]\t[0.42754601 0.41816735]\t[0. 0.]\t[1. 1.]\n",
            "39 \t134   \t[0.45359404 0.53183473]\t[0.43251648 0.42157518]\t[0. 0.]\t[1. 1.]\n",
            "40 \t158   \t[0.44998138 0.53680672]\t[0.43070577 0.42205436]\t[0. 0.]\t[1. 1.]\n",
            "41 \t145   \t[0.45800745 0.52497199]\t[0.43277649 0.42404278]\t[0. 0.]\t[1. 1.]\n",
            "42 \t162   \t[0.47214153 0.50780112]\t[0.43157301 0.42070154]\t[0. 0.]\t[1. 1.]\n",
            "43 \t171   \t[0.46674115 0.51658263]\t[0.43215849 0.41871578]\t[0. 0.]\t[1. 1.]\n",
            "44 \t140   \t[0.46907821 0.51403361]\t[0.4302437 0.4147655]  \t[0. 0.]\t[1. 1.]\n",
            "45 \t174   \t[0.45558659 0.52605042]\t[0.42927309 0.41259492]\t[0. 0.]\t[1. 1.]\n",
            "46 \t174   \t[0.45412477 0.52985994]\t[0.43020367 0.41206947]\t[0. 0.]\t[1. 1.]\n",
            "47 \t159   \t[0.45719739 0.53137255]\t[0.43045903 0.41607153]\t[0. 0.]\t[1. 1.]\n",
            "48 \t177   \t[0.45816574 0.52264706]\t[0.4312686  0.41366191]\t[0. 0.]\t[1. 1.]\n",
            "49 \t159   \t[0.45812849 0.53743697]\t[0.43192273 0.4188245 ]\t[0. 0.]\t[1. 1.]\n",
            "50 \t160   \t[0.44535382 0.54429972]\t[0.42958272 0.4183593 ]\t[0. 0.]\t[1. 1.]\n",
            "51 \t173   \t[0.448473   0.54448179]\t[0.42948809 0.41407847]\t[0. 0.]\t[1. 1.]\n",
            "52 \t163   \t[0.45597765 0.53512605]\t[0.43180433 0.41943684]\t[0. 0.]\t[1. 1.]\n",
            "53 \t184   \t[0.44853818 0.5395098 ]\t[0.42704224 0.41187675]\t[0. 0.]\t[1. 1.]\n",
            "54 \t175   \t[0.44241155 0.53984594]\t[0.42430069 0.40836034]\t[0. 0.]\t[1. 1.]\n",
            "55 \t179   \t[0.44606145 0.53378151]\t[0.42233868 0.40792322]\t[0. 0.]\t[1. 1.]\n",
            "56 \t169   \t[0.43904097 0.53988796]\t[0.42131609 0.41217474]\t[0. 0.]\t[1. 1.]\n",
            "57 \t158   \t[0.44029795 0.53854342]\t[0.42184697 0.41506644]\t[0. 0.]\t[1. 1.]\n",
            "58 \t157   \t[0.42622905 0.55152661]\t[0.42597074 0.41817118]\t[0. 0.]\t[1. 1.]\n",
            "59 \t149   \t[0.42230912 0.55378151]\t[0.42660492 0.41674968]\t[0. 0.]\t[1. 1.]\n",
            "60 \t145   \t[0.42129423 0.55610644]\t[0.42492291 0.41357079]\t[0. 0.]\t[1. 1.]\n",
            "61 \t171   \t[0.44129423 0.54067227]\t[0.430201   0.41376332]\t[0. 0.]\t[1. 1.]\n",
            "62 \t152   \t[0.44215084 0.54841737]\t[0.43159591 0.41419613]\t[0. 0.]\t[1. 1.]\n",
            "63 \t167   \t[0.44634078 0.54288515]\t[0.43115885 0.4118038 ]\t[0. 0.]\t[1. 1.]\n",
            "64 \t152   \t[0.4389013  0.54521008]\t[0.43455707 0.4163577 ]\t[0. 0.]\t[1. 1.]\n",
            "65 \t148   \t[0.44362197 0.54201681]\t[0.43496978 0.41648328]\t[0. 0.]\t[1. 1.]\n",
            "66 \t171   \t[0.43334264 0.56033613]\t[0.4327626  0.41789125]\t[0. 0.]\t[1. 1.]\n",
            "67 \t163   \t[0.44919926 0.54752101]\t[0.43514633 0.42036285]\t[0. 0.]\t[1. 1.]\n",
            "68 \t172   \t[0.45458101 0.54554622]\t[0.43796613 0.42516789]\t[0. 0.]\t[1. 1.]\n",
            "69 \t155   \t[0.44687151 0.55810924]\t[0.43586596 0.42182658]\t[0. 0.]\t[1. 1.]\n",
            "70 \t166   \t[0.44231844 0.55768908]\t[0.4360493 0.4203289]  \t[0. 0.]\t[1. 1.]\n",
            "71 \t182   \t[0.44793296 0.54917367]\t[0.43557125 0.4194643 ]\t[0. 0.]\t[1. 1.]\n",
            "72 \t144   \t[0.45713222 0.54385154]\t[0.43729399 0.42073979]\t[0. 0.]\t[1. 1.]\n",
            "73 \t177   \t[0.4503352  0.54684874]\t[0.43315883 0.41754632]\t[0. 0.]\t[1. 1.]\n",
            "74 \t181   \t[0.45189944 0.54822129]\t[0.43558266 0.41777081]\t[0. 0.]\t[1. 1.]\n",
            "75 \t174   \t[0.46324022 0.53470588]\t[0.4360675  0.41937711]\t[0. 0.]\t[1. 1.]\n",
            "76 \t147   \t[0.4566108  0.53654062]\t[0.43400057 0.41946001]\t[0. 0.]\t[1. 1.]\n",
            "77 \t163   \t[0.46293296 0.5392437 ]\t[0.43310417 0.41695348]\t[0. 0.]\t[1. 1.]\n",
            "78 \t175   \t[0.4641527  0.53655462]\t[0.42882459 0.41235901]\t[0. 0.]\t[1. 1.]\n",
            "79 \t161   \t[0.45690875 0.53864146]\t[0.43120951 0.41518086]\t[0. 0.]\t[1. 1.]\n",
            "80 \t166   \t[0.46697393 0.53008403]\t[0.43167291 0.41465333]\t[0. 0.]\t[1. 1.]\n",
            "Best individual is gt(if_then_else(eq(IsWomanOrBoy, WomanOrBoySurvived), IsWomanOrBoy, if_then_else(and_(eq(mul(sub(WomanOrBoySurvived, Title), tanh(WomanOrBoySurvived)), add(relu(SmallF), if_then_else(1, 2.0, 2.0))), or_(le(pass_(SmallF), add(LargeF, Single)), eq(mul(MedF, 33.2760436210848), pass_(Title)))), add(mul(relu(add(2.0, Alone)), if_then_else(le(Age, LargeF), tanh(Embarked), add(29.26483575248281, MedF))), pass_(add(if_then_else(0, 2.0, SmallF), relu(WomanOrBoySurvived)))), sub(relu(relu(if_then_else(1, Alone, SmallF))), mul(mul(pass_(IsWomanOrBoy), tanh(WomanOrBoyCount)), mul(relu(IsWomanOrBoy), tanh(29.26483575248281)))))), pass_(LargeF)), (0.0, 0.47058823529411764), from gen 71\n"
          ]
        }
      ],
      "source": [
        "# try mutpb = 0.2, higher num gens\n",
        "def evol_loop(ngen = 80, cxpb = 0.5, mutpb = 0.1, select_method=\"NSGA2\", lambda_ = 100):\n",
        "    hof = tools.ParetoFront()\n",
        "\n",
        "    # list for metrix (might not care about them)\n",
        "    avg_list = []\n",
        "    max_list = []\n",
        "    min_list = []\n",
        "\n",
        "    best_ind = tools.selBest(population, 1)[0]\n",
        "    gen_best = 0\n",
        "\n",
        "    stats = tools.Statistics(lambda ind: ind.fitness.values)\n",
        "    stats.register(\"avg\", np.mean, axis=0)\n",
        "    stats.register(\"std\", np.std, axis=0)\n",
        "    stats.register(\"min\", np.min, axis=0)\n",
        "    stats.register(\"max\", np.max, axis=0)\n",
        "\n",
        "    logbook = tools.Logbook()\n",
        "    logbook.header = ['gen', 'nevals'] + stats.fields\n",
        "\n",
        "\n",
        "    # Evaluate the individuals with an invalid fitness\n",
        "    invalid_ind = [ind for ind in population if not ind.fitness.valid]\n",
        "    fitnesses = toolbox.map(toolbox.evaluate, invalid_ind)\n",
        "    for ind, fit in zip(invalid_ind, fitnesses):\n",
        "        ind.fitness.values = fit\n",
        "    \n",
        "    record = stats.compile(population)\n",
        "    logbook.record(gen=0, nevals=len(invalid_ind), **record)\n",
        "\n",
        "    print(logbook.stream)\n",
        "\n",
        "    for gen in range(1, ngen + 1):\n",
        "        # Select the next generation individuals\n",
        "        offspring = toolbox.select(population, len(population))\n",
        "\n",
        "        # Vary the pool of individuals\n",
        "        offspring = [toolbox.clone(ind) for ind in population]\n",
        "\n",
        "        # Apply crossover and mutation on the offspring\n",
        "        for i in range(1, len(offspring), 2):\n",
        "            if random.random() < cxpb:\n",
        "                offspring[i - 1], offspring[i] = toolbox.mate(offspring[i - 1],\n",
        "                                                            offspring[i])\n",
        "                del offspring[i - 1].fitness.values, offspring[i].fitness.values\n",
        "\n",
        "        for i in range(len(offspring)):\n",
        "            if random.random() < mutpb:\n",
        "                offspring[i], = toolbox.mutate(offspring[i])\n",
        "                del offspring[i].fitness.values\n",
        "\n",
        "        # Evaluate the individuals with an invalid fitness\n",
        "        invalid_ind = [ind for ind in offspring if not ind.fitness.valid]\n",
        "        fitnesses = toolbox.map(toolbox.evaluate, invalid_ind)\n",
        "        for ind, fit in zip(invalid_ind, fitnesses):\n",
        "            ind.fitness.values = fit\n",
        "\n",
        "        # Update the hall of fame with the generated individuals\n",
        "        hof.update(offspring)\n",
        "        \n",
        "        if sum(tools.selBest(population, 1)[0].fitness.values) < sum(best_ind.fitness.values):\n",
        "            best_ind = tools.selBest(population, 1)[0]\n",
        "            gen_best = gen\n",
        "\n",
        "            # Replace the current population by the offspring\n",
        "        population[:] = offspring\n",
        "        \n",
        "        record = stats.compile(population) if stats else {}\n",
        "        logbook.record(gen=gen, nevals=len(invalid_ind), **record)\n",
        "        \n",
        "        print(logbook.stream)\n",
        "\n",
        "    print(\"Best individual is %s, %s, from gen %s\" % (best_ind, best_ind.fitness.values, gen_best))\n",
        "    return hof\n",
        "\n",
        "hof = evol_loop()"
      ]
    },
    {
      "cell_type": "code",
      "execution_count": 342,
      "metadata": {
        "colab": {
          "base_uri": "https://localhost:8080/",
          "height": 333
        },
        "id": "wvVSxSGuvXTf",
        "outputId": "7ce41c4d-bfb0-4eed-cf09-a89bd639fcf0"
      },
      "outputs": [
        {
          "name": "stdout",
          "output_type": "stream",
          "text": [
            "Best individual has fitness: (0.0, 0.47058823529411764)\n"
          ]
        },
        {
          "data": {
            "image/png": "[encoded data removed]",
            "text/plain": [
              "<Figure size 432x288 with 1 Axes>"
            ]
          },
          "metadata": {
            "needs_background": "light"
          },
          "output_type": "display_data"
        }
      ],
      "source": [
        "print(\"Best individual has fitness:\", hof[0].fitness)\n",
        "# generate tree.pdf with visualization of best individual\n",
        "visualize2(hof[0])\n",
        "gen, avg, min_, max_ = logbook.select(\"gen\", \"avg\", \"min\", \"max\")\n",
        "plt.plot(gen, avg, label=\"average\")\n",
        "plt.plot(gen, min_, label=\"minimum\")\n",
        "plt.xlabel(\"Generation\")\n",
        "plt.ylabel(\"Fitness\")\n",
        "plt.legend(loc=\"upper left\")\n",
        "plt.show()"
      ]
    },
    {
      "cell_type": "code",
      "execution_count": 314,
      "metadata": {
        "colab": {
          "base_uri": "https://localhost:8080/",
          "height": 312
        },
        "id": "nAZr79lsvXTg",
        "outputId": "851c6161-0548-475e-b38e-78c0c69735d4"
      },
      "outputs": [
        {
          "data": {
            "image/png": "[encoded data removed]",
            "text/plain": [
              "<Figure size 432x288 with 1 Axes>"
            ]
          },
          "metadata": {
            "needs_background": "light"
          },
          "output_type": "display_data"
        },
        {
          "name": "stdout",
          "output_type": "stream",
          "text": [
            "Area Under Curve: 0.1365428853105488\n"
          ]
        }
      ],
      "source": [
        "\"\"\"Split fitness values into separate lists\"\"\"\n",
        "fitness_1 = [ind.fitness.values[0] for ind in hof]\n",
        "fitness_2 = [ind.fitness.values[1] for ind in hof]\n",
        "pop_1 = [ind.fitness.values[0] for ind in population]\n",
        "pop_2 = [ind.fitness.values[1] for ind in population]\n",
        "\n",
        "'''Print dominated population for debugging'''\n",
        "# for ind in pop:\n",
        "#     print(ind.fitness)\n",
        "\n",
        "plt.scatter(pop_1, pop_2, color='b')\n",
        "plt.scatter(fitness_1, fitness_2, color='r')\n",
        "plt.plot(fitness_1, fitness_2, color='r', drawstyle='steps-post')\n",
        "plt.xlabel(\"False Positive\")\n",
        "plt.ylabel(\"False Negative\")\n",
        "plt.title(\"Pareto Front\")\n",
        "plt.ylim(bottom=0.0)\n",
        "plt.xlim(left=0.0)\n",
        "plt.show()\n",
        "\n",
        "f1 = np.array(fitness_1)\n",
        "f2 = np.array(fitness_2)\n",
        "\n",
        "\"\"\"Calculate area under curve with least squares method\"\"\"\n",
        "print(\"Area Under Curve: %s\" % (np.sum(np.abs(np.diff(f1))*f2[:-1])))"
      ]
    },
    {
      "cell_type": "code",
      "execution_count": 258,
      "metadata": {},
      "outputs": [],
      "source": [
        "def evol_alt(ngen = 40, lambda_ = 100, var = True, sel = \"NSGA2\", cxpb = 0.5, mutpb = 0.2):\n",
        "    pop = toolbox.population(lambda_)\n",
        "    last_pop = []\n",
        "    fitnesses = list(map(toolbox.evaluate, pop))\n",
        "    for ind, fit in zip(pop, fitnesses):\n",
        "        ind.fitness.value = fit\n",
        "    for g in range(ngen):\n",
        "        print(\"Generation:\", g)\n",
        "        offspring = toolbox.select(pop, lambda_)\n",
        "        offspring = list(map(toolbox.clone, offspring))\n",
        "        for parent1, parent2 in zip(offspring[::2], offspring[1::2]):\n",
        "            if random.random() < cxpb:\n",
        "                toolbox.crossover(parent1, parent2)\n",
        "                del(parent1.fitness.values)\n",
        "                del(parent2.fitness.values)\n",
        "        for l in range(lambda_):\n",
        "            if random.random() < mutpb:\n",
        "                toolbox.mutate(pop[1])\n",
        "                del(pop[1].fitness.values)\n",
        "        invalid_ind = [ind for ind in offspring if not ind.fitness.valid]\n",
        "        fitnesses = map(toolbox.evaluate, invalid_ind)\n",
        "        for ind, fit in zip(invalid_ind, fitnesses):\n",
        "            ind.fitness.values = ind.fitness.values + fit\n",
        "        pop[:] = offspring\n",
        "    print(\"End of\", g, \"generations\")\n",
        "    return [list(toolbox.evaluate(indiv)) for indiv in pop], pop"
      ]
    },
    {
      "cell_type": "code",
      "execution_count": 259,
      "metadata": {},
      "outputs": [],
      "source": [
        "def find_pareto(data):\n",
        "    is_Pareto = np.ones(data.shape[0], dtype = bool)\n",
        "    for i, c in enumerate(data):\n",
        "        # Keep any point with a lower cost\n",
        "        if is_Pareto[i]:\n",
        "            # This is where you would change for miniminzation versus maximization \n",
        "\n",
        "            # Minimization\n",
        "            is_Pareto[is_Pareto] = np.any(data[is_Pareto]<c, axis=1)  \n",
        "\n",
        "            # Maximization\n",
        "            #is_Pareto[is_Pareto] = np.any(data[is_Pareto]>c, axis=1)  \n",
        "\n",
        "            # And keep self\n",
        "            is_Pareto[i] = True  \n",
        "\n",
        "    # Downsample from boolean array\n",
        "    Pareto_data = data[is_Pareto, :]\n",
        "    # Sort data\n",
        "    Pareto_out =  Pareto_data[np.argsort(Pareto_data[:,0])]\n",
        "\n",
        "    #return is_Pareto\n",
        "    return Pareto_out, is_Pareto"
      ]
    },
    {
      "cell_type": "code",
      "execution_count": 260,
      "metadata": {},
      "outputs": [
        {
          "name": "stdout",
          "output_type": "stream",
          "text": [
            "Generation: 0\n",
            "Generation: 1\n",
            "Generation: 2\n",
            "Generation: 3\n",
            "Generation: 4\n",
            "Generation: 5\n",
            "Generation: 6\n",
            "Generation: 7\n",
            "Generation: 8\n",
            "Generation: 9\n",
            "Generation: 10\n",
            "Generation: 11\n",
            "Generation: 12\n",
            "Generation: 13\n",
            "Generation: 14\n",
            "Generation: 15\n",
            "Generation: 16\n",
            "Generation: 17\n",
            "Generation: 18\n",
            "Generation: 19\n",
            "Generation: 20\n",
            "Generation: 21\n",
            "Generation: 22\n",
            "Generation: 23\n",
            "Generation: 24\n",
            "Generation: 25\n",
            "Generation: 26\n",
            "Generation: 27\n",
            "Generation: 28\n",
            "Generation: 29\n",
            "Generation: 30\n",
            "Generation: 31\n",
            "Generation: 32\n",
            "Generation: 33\n",
            "Generation: 34\n",
            "Generation: 35\n",
            "Generation: 36\n",
            "Generation: 37\n",
            "Generation: 38\n",
            "Generation: 39\n",
            "End of 39 generations\n"
          ]
        },
        {
          "data": {
            "image/png": "[encoded data removed]",
            "text/plain": [
              "<Figure size 432x288 with 1 Axes>"
            ]
          },
          "metadata": {
            "needs_background": "light"
          },
          "output_type": "display_data"
        }
      ],
      "source": [
        "myData, pop = evol_alt(ngen = 40)\n",
        "# Use above routine to find pareto points\n",
        "myData = np.vstack(([[0,1],[1,0]], myData))\n",
        "myPareto, is_Pareto = find_pareto(np.array(myData))\n",
        "\n",
        "# Calculate the Area under the Curve as a Riemann sum\n",
        "auc = np.sum(np.diff(myPareto[:,0])*myPareto[0:-1,1])\n",
        "\n",
        "# Create figure\n",
        "plt.figure()\n",
        "\n",
        "# Make sure font sizes are large enough to read in the presentation\n",
        "plt.rcParams.update({'font.size': 14})\n",
        "\n",
        "# Plot all points\n",
        "plt.scatter(myData[:,0],myData[:,1],)\n",
        "\n",
        "# Plot Pareto steps. note 'post' for minimization 'pre' for maximization\n",
        "plt.step(myPareto[:,0], myPareto[:,1], where='post')\n",
        "#plt.step(myPareto[:,0], myPareto[:,1], where='pre')\n",
        "\n",
        "# Make sure you include labels\n",
        "# Minimization\n",
        "plt.title('Example of a Minimization Result\\n with AUC = ' + str(auc))\n",
        "plt.xlabel('False Negative')\n",
        "plt.ylabel('False Positive')\n",
        "\n",
        "# Maximization\n",
        "#plt.title('Example of a Maximization Result')\n",
        "#plt.xlabel('True Negative')\n",
        "#plt.ylabel('True Positive')\n",
        "\n",
        "plt.show()"
      ]
    },
    {
      "cell_type": "code",
      "execution_count": 261,
      "metadata": {},
      "outputs": [],
      "source": [
        "# cool examples in deap https://www.programcreek.com/python/example/104502/deap.base.Toolbox\n",
        "\n",
        "import pickle\n",
        "## fnction to pickle best individuals\n",
        "def log_individuals(file):\n",
        "    def decorator(func):\n",
        "        def wrapper(*args, **kargs):\n",
        "            individuals = func(*args, **kargs)\n",
        "            for ind in individuals:\n",
        "                pickle.dump(ind, file)\n",
        "            return individuals\n",
        "        return wrapper\n",
        "    return decorator\n",
        "\n",
        "# toolbox.register(\"generate\")\n",
        "# toolbox.decorate(\"generate\", log_individuals(open(\"out.pkl\", \"w\")))"
      ]
    },
    {
      "cell_type": "code",
      "execution_count": 262,
      "metadata": {
        "id": "5WIlWRCzvXTg"
      },
      "outputs": [],
      "source": [
        "predictions = [ind for ind in hof]    "
      ]
    },
    {
      "cell_type": "code",
      "execution_count": 263,
      "metadata": {
        "colab": {
          "base_uri": "https://localhost:8080/",
          "height": 324
        },
        "id": "nli28ETQvXTh",
        "outputId": "37acc1a1-159f-40da-a21c-9f1b9686eb14"
      },
      "outputs": [
        {
          "data": {
            "text/html": [
              "<div>\n",
              "<style scoped>\n",
              "    .dataframe tbody tr th:only-of-type {\n",
              "        vertical-align: middle;\n",
              "    }\n",
              "\n",
              "    .dataframe tbody tr th {\n",
              "        vertical-align: top;\n",
              "    }\n",
              "\n",
              "    .dataframe thead th {\n",
              "        text-align: right;\n",
              "    }\n",
              "</style>\n",
              "<table border=\"1\" class=\"dataframe\">\n",
              "  <thead>\n",
              "    <tr style=\"text-align: right;\">\n",
              "      <th></th>\n",
              "      <th>Pclass</th>\n",
              "      <th>Sex</th>\n",
              "      <th>Age</th>\n",
              "      <th>SibSp</th>\n",
              "      <th>Parch</th>\n",
              "      <th>Fare</th>\n",
              "      <th>Embarked</th>\n",
              "      <th>Title</th>\n",
              "      <th>LastName</th>\n",
              "      <th>IsWomanOrBoy</th>\n",
              "      <th>WomanOrBoyCount</th>\n",
              "      <th>FamilySurvivedCount</th>\n",
              "      <th>WomanOrBoySurvived</th>\n",
              "      <th>Alone</th>\n",
              "      <th>Single</th>\n",
              "      <th>SmallF</th>\n",
              "      <th>MedF</th>\n",
              "      <th>LargeF</th>\n",
              "      <th>Deck</th>\n",
              "    </tr>\n",
              "    <tr>\n",
              "      <th>PassengerId</th>\n",
              "      <th></th>\n",
              "      <th></th>\n",
              "      <th></th>\n",
              "      <th></th>\n",
              "      <th></th>\n",
              "      <th></th>\n",
              "      <th></th>\n",
              "      <th></th>\n",
              "      <th></th>\n",
              "      <th></th>\n",
              "      <th></th>\n",
              "      <th></th>\n",
              "      <th></th>\n",
              "      <th></th>\n",
              "      <th></th>\n",
              "      <th></th>\n",
              "      <th></th>\n",
              "      <th></th>\n",
              "      <th></th>\n",
              "    </tr>\n",
              "  </thead>\n",
              "  <tbody>\n",
              "    <tr>\n",
              "      <th>892</th>\n",
              "      <td>3</td>\n",
              "      <td>1</td>\n",
              "      <td>34.5</td>\n",
              "      <td>0</td>\n",
              "      <td>0</td>\n",
              "      <td>7.8292</td>\n",
              "      <td>1</td>\n",
              "      <td>10</td>\n",
              "      <td>401</td>\n",
              "      <td>0</td>\n",
              "      <td>3</td>\n",
              "      <td>3.0</td>\n",
              "      <td>1.0</td>\n",
              "      <td>0</td>\n",
              "      <td>1</td>\n",
              "      <td>0</td>\n",
              "      <td>0</td>\n",
              "      <td>0</td>\n",
              "      <td>7</td>\n",
              "    </tr>\n",
              "    <tr>\n",
              "      <th>893</th>\n",
              "      <td>3</td>\n",
              "      <td>0</td>\n",
              "      <td>47.0</td>\n",
              "      <td>1</td>\n",
              "      <td>0</td>\n",
              "      <td>7.0000</td>\n",
              "      <td>2</td>\n",
              "      <td>11</td>\n",
              "      <td>846</td>\n",
              "      <td>1</td>\n",
              "      <td>1</td>\n",
              "      <td>0.0</td>\n",
              "      <td>0.0</td>\n",
              "      <td>0</td>\n",
              "      <td>0</td>\n",
              "      <td>1</td>\n",
              "      <td>0</td>\n",
              "      <td>0</td>\n",
              "      <td>7</td>\n",
              "    </tr>\n",
              "    <tr>\n",
              "      <th>894</th>\n",
              "      <td>2</td>\n",
              "      <td>1</td>\n",
              "      <td>62.0</td>\n",
              "      <td>0</td>\n",
              "      <td>0</td>\n",
              "      <td>9.6875</td>\n",
              "      <td>1</td>\n",
              "      <td>10</td>\n",
              "      <td>552</td>\n",
              "      <td>0</td>\n",
              "      <td>0</td>\n",
              "      <td>0.0</td>\n",
              "      <td>0.0</td>\n",
              "      <td>1</td>\n",
              "      <td>1</td>\n",
              "      <td>0</td>\n",
              "      <td>0</td>\n",
              "      <td>0</td>\n",
              "      <td>7</td>\n",
              "    </tr>\n",
              "    <tr>\n",
              "      <th>895</th>\n",
              "      <td>3</td>\n",
              "      <td>1</td>\n",
              "      <td>27.0</td>\n",
              "      <td>0</td>\n",
              "      <td>0</td>\n",
              "      <td>8.6625</td>\n",
              "      <td>2</td>\n",
              "      <td>10</td>\n",
              "      <td>854</td>\n",
              "      <td>0</td>\n",
              "      <td>0</td>\n",
              "      <td>0.0</td>\n",
              "      <td>0.0</td>\n",
              "      <td>1</td>\n",
              "      <td>1</td>\n",
              "      <td>0</td>\n",
              "      <td>0</td>\n",
              "      <td>0</td>\n",
              "      <td>7</td>\n",
              "    </tr>\n",
              "    <tr>\n",
              "      <th>896</th>\n",
              "      <td>3</td>\n",
              "      <td>0</td>\n",
              "      <td>22.0</td>\n",
              "      <td>1</td>\n",
              "      <td>1</td>\n",
              "      <td>12.2875</td>\n",
              "      <td>2</td>\n",
              "      <td>11</td>\n",
              "      <td>342</td>\n",
              "      <td>1</td>\n",
              "      <td>2</td>\n",
              "      <td>1.0</td>\n",
              "      <td>0.5</td>\n",
              "      <td>0</td>\n",
              "      <td>0</td>\n",
              "      <td>0</td>\n",
              "      <td>1</td>\n",
              "      <td>0</td>\n",
              "      <td>7</td>\n",
              "    </tr>\n",
              "  </tbody>\n",
              "</table>\n",
              "</div>"
            ],
            "text/plain": [
              "             Pclass  Sex   Age  SibSp  Parch     Fare  Embarked  Title  \\\n",
              "PassengerId                                                              \n",
              "892               3    1  34.5      0      0   7.8292         1     10   \n",
              "893               3    0  47.0      1      0   7.0000         2     11   \n",
              "894               2    1  62.0      0      0   9.6875         1     10   \n",
              "895               3    1  27.0      0      0   8.6625         2     10   \n",
              "896               3    0  22.0      1      1  12.2875         2     11   \n",
              "\n",
              "             LastName  IsWomanOrBoy  WomanOrBoyCount  FamilySurvivedCount  \\\n",
              "PassengerId                                                                 \n",
              "892               401             0                3                  3.0   \n",
              "893               846             1                1                  0.0   \n",
              "894               552             0                0                  0.0   \n",
              "895               854             0                0                  0.0   \n",
              "896               342             1                2                  1.0   \n",
              "\n",
              "             WomanOrBoySurvived  Alone  Single  SmallF  MedF  LargeF  Deck  \n",
              "PassengerId                                                                 \n",
              "892                         1.0      0       1       0     0       0     7  \n",
              "893                         0.0      0       0       1     0       0     7  \n",
              "894                         0.0      1       1       0     0       0     7  \n",
              "895                         0.0      1       1       0     0       0     7  \n",
              "896                         0.5      0       0       0     1       0     7  "
            ]
          },
          "execution_count": 263,
          "metadata": {},
          "output_type": "execute_result"
        }
      ],
      "source": [
        "test_df = pd.read_csv(\"processed_test.csv\", index_col = \"PassengerId\")\n",
        "test_df.head()"
      ]
    },
    {
      "cell_type": "code",
      "execution_count": 264,
      "metadata": {
        "id": "RiZbP3ytvXTh"
      },
      "outputs": [],
      "source": [
        "def eval_test(points, pset):\n",
        "    out = pd.DataFrame(index=test_df.index)\n",
        "    index = 0\n",
        "    for ind in predictions:\n",
        "        func = gp.compile(expr=ind, pset=pset)\n",
        "        results = [func(*points[x]) for x in range(len(points))]\n",
        "        out[index] = results\n",
        "        index += 1\n",
        "    return out"
      ]
    },
    {
      "cell_type": "code",
      "execution_count": 265,
      "metadata": {
        "id": "AYiyRTqMvXTh"
      },
      "outputs": [
        {
          "data": {
            "text/plain": [
              "pandas.core.frame.DataFrame"
            ]
          },
          "execution_count": 265,
          "metadata": {},
          "output_type": "execute_result"
        }
      ],
      "source": [
        "out = eval_test(test_df.values, pset)\n",
        "type(out)"
      ]
    },
    {
      "cell_type": "code",
      "execution_count": 266,
      "metadata": {
        "id": "-EJVRQvpvXTi"
      },
      "outputs": [
        {
          "data": {
            "text/plain": [
              "(418, 30)"
            ]
          },
          "execution_count": 266,
          "metadata": {},
          "output_type": "execute_result"
        }
      ],
      "source": [
        "out.shape"
      ]
    },
    {
      "cell_type": "code",
      "execution_count": 267,
      "metadata": {
        "id": "xtGhm_2FvXTi"
      },
      "outputs": [],
      "source": [
        "out.to_csv(\"titanic_deap.csv\")"
      ]
    }
  ],
  "metadata": {
    "colab": {
      "include_colab_link": true,
      "provenance": []
    },
    "kernelspec": {
      "display_name": "Python 3 (ipykernel)",
      "language": "python",
      "name": "python3"
    },
    "language_info": {
      "codemirror_mode": {
        "name": "ipython",
        "version": 3
      },
      "file_extension": ".py",
      "mimetype": "text/x-python",
      "name": "python",
      "nbconvert_exporter": "python",
      "pygments_lexer": "ipython3",
      "version": "3.10.5"
    },
    "vscode": {
      "interpreter": {
        "hash": "9d5624301dd59825418d46ba1d7ada7fc08f3744dcc16b272fc605485332a111"
      }
    }
  },
  "nbformat": 4,
  "nbformat_minor": 0
}
