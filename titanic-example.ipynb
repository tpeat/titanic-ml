{
 "cells": [
  {
   "cell_type": "code",
   "execution_count": 1,
   "metadata": {},
   "outputs": [
    {
     "name": "stdout",
     "output_type": "stream",
     "text": [
      "%pylab is deprecated, use %matplotlib inline and import the required libraries.\n",
      "Populating the interactive namespace from numpy and matplotlib\n"
     ]
    }
   ],
   "source": [
    "%pylab inline\n",
    "# Pandas is a nice utilitiy that enables some easy data manipulation, especially from a csv\n",
    "import pandas as pd\n",
    "# Numpy lets us work with arrays\n",
    "import numpy as np\n",
    "# Sklearn provides various modules with a common API\n",
    "from sklearn import svm, tree, neighbors, neural_network, linear_model, ensemble\n",
    "from sklearn.model_selection import train_test_split, KFold, StratifiedKFold\n",
    "from sklearn.metrics import confusion_matrix\n",
    "\n",
    "from sklearn.preprocessing import LabelEncoder\n",
    "from sklearn.model_selection import train_test_split, cross_val_score, GridSearchCV\n",
    "\n",
    "# import pickle\n",
    "import pickle\n",
    "\n",
    "# models\n",
    "from sklearn.neighbors import KNeighborsClassifier\n",
    "from sklearn.naive_bayes import GaussianNB\n",
    "from sklearn.tree import DecisionTreeClassifier\n",
    "import xgboost as xgb\n",
    "from xgboost import XGBClassifier\n",
    "# import lightgbm as lgb\n",
    "# from lightgbm import LGBMClassifier"
   ]
  },
  {
   "cell_type": "code",
   "execution_count": 2,
   "metadata": {},
   "outputs": [],
   "source": [
    "# Read in our csv files downloaded from Kaggle\n",
    "train_data = pd.read_csv('train.csv').set_index(\"PassengerId\")\n",
    "test_data = pd.read_csv('test.csv').set_index(\"PassengerId\")"
   ]
  },
  {
   "cell_type": "code",
   "execution_count": 3,
   "metadata": {},
   "outputs": [
    {
     "data": {
      "text/html": [
       "<div>\n",
       "<style scoped>\n",
       "    .dataframe tbody tr th:only-of-type {\n",
       "        vertical-align: middle;\n",
       "    }\n",
       "\n",
       "    .dataframe tbody tr th {\n",
       "        vertical-align: top;\n",
       "    }\n",
       "\n",
       "    .dataframe thead th {\n",
       "        text-align: right;\n",
       "    }\n",
       "</style>\n",
       "<table border=\"1\" class=\"dataframe\">\n",
       "  <thead>\n",
       "    <tr style=\"text-align: right;\">\n",
       "      <th></th>\n",
       "      <th>Survived</th>\n",
       "      <th>Pclass</th>\n",
       "      <th>Name</th>\n",
       "      <th>Sex</th>\n",
       "      <th>Age</th>\n",
       "      <th>SibSp</th>\n",
       "      <th>Parch</th>\n",
       "      <th>Ticket</th>\n",
       "      <th>Fare</th>\n",
       "      <th>Cabin</th>\n",
       "      <th>Embarked</th>\n",
       "    </tr>\n",
       "    <tr>\n",
       "      <th>PassengerId</th>\n",
       "      <th></th>\n",
       "      <th></th>\n",
       "      <th></th>\n",
       "      <th></th>\n",
       "      <th></th>\n",
       "      <th></th>\n",
       "      <th></th>\n",
       "      <th></th>\n",
       "      <th></th>\n",
       "      <th></th>\n",
       "      <th></th>\n",
       "    </tr>\n",
       "  </thead>\n",
       "  <tbody>\n",
       "    <tr>\n",
       "      <th>1</th>\n",
       "      <td>0</td>\n",
       "      <td>3</td>\n",
       "      <td>Braund, Mr. Owen Harris</td>\n",
       "      <td>male</td>\n",
       "      <td>22.0</td>\n",
       "      <td>1</td>\n",
       "      <td>0</td>\n",
       "      <td>A/5 21171</td>\n",
       "      <td>7.2500</td>\n",
       "      <td>NaN</td>\n",
       "      <td>S</td>\n",
       "    </tr>\n",
       "    <tr>\n",
       "      <th>2</th>\n",
       "      <td>1</td>\n",
       "      <td>1</td>\n",
       "      <td>Cumings, Mrs. John Bradley (Florence Briggs Th...</td>\n",
       "      <td>female</td>\n",
       "      <td>38.0</td>\n",
       "      <td>1</td>\n",
       "      <td>0</td>\n",
       "      <td>PC 17599</td>\n",
       "      <td>71.2833</td>\n",
       "      <td>C85</td>\n",
       "      <td>C</td>\n",
       "    </tr>\n",
       "    <tr>\n",
       "      <th>3</th>\n",
       "      <td>1</td>\n",
       "      <td>3</td>\n",
       "      <td>Heikkinen, Miss. Laina</td>\n",
       "      <td>female</td>\n",
       "      <td>26.0</td>\n",
       "      <td>0</td>\n",
       "      <td>0</td>\n",
       "      <td>STON/O2. 3101282</td>\n",
       "      <td>7.9250</td>\n",
       "      <td>NaN</td>\n",
       "      <td>S</td>\n",
       "    </tr>\n",
       "    <tr>\n",
       "      <th>4</th>\n",
       "      <td>1</td>\n",
       "      <td>1</td>\n",
       "      <td>Futrelle, Mrs. Jacques Heath (Lily May Peel)</td>\n",
       "      <td>female</td>\n",
       "      <td>35.0</td>\n",
       "      <td>1</td>\n",
       "      <td>0</td>\n",
       "      <td>113803</td>\n",
       "      <td>53.1000</td>\n",
       "      <td>C123</td>\n",
       "      <td>S</td>\n",
       "    </tr>\n",
       "    <tr>\n",
       "      <th>5</th>\n",
       "      <td>0</td>\n",
       "      <td>3</td>\n",
       "      <td>Allen, Mr. William Henry</td>\n",
       "      <td>male</td>\n",
       "      <td>35.0</td>\n",
       "      <td>0</td>\n",
       "      <td>0</td>\n",
       "      <td>373450</td>\n",
       "      <td>8.0500</td>\n",
       "      <td>NaN</td>\n",
       "      <td>S</td>\n",
       "    </tr>\n",
       "  </tbody>\n",
       "</table>\n",
       "</div>"
      ],
      "text/plain": [
       "             Survived  Pclass  \\\n",
       "PassengerId                     \n",
       "1                   0       3   \n",
       "2                   1       1   \n",
       "3                   1       3   \n",
       "4                   1       1   \n",
       "5                   0       3   \n",
       "\n",
       "                                                          Name     Sex   Age  \\\n",
       "PassengerId                                                                    \n",
       "1                                      Braund, Mr. Owen Harris    male  22.0   \n",
       "2            Cumings, Mrs. John Bradley (Florence Briggs Th...  female  38.0   \n",
       "3                                       Heikkinen, Miss. Laina  female  26.0   \n",
       "4                 Futrelle, Mrs. Jacques Heath (Lily May Peel)  female  35.0   \n",
       "5                                     Allen, Mr. William Henry    male  35.0   \n",
       "\n",
       "             SibSp  Parch            Ticket     Fare Cabin Embarked  \n",
       "PassengerId                                                          \n",
       "1                1      0         A/5 21171   7.2500   NaN        S  \n",
       "2                1      0          PC 17599  71.2833   C85        C  \n",
       "3                0      0  STON/O2. 3101282   7.9250   NaN        S  \n",
       "4                1      0            113803  53.1000  C123        S  \n",
       "5                0      0            373450   8.0500   NaN        S  "
      ]
     },
     "execution_count": 3,
     "metadata": {},
     "output_type": "execute_result"
    }
   ],
   "source": [
    "# We can use .head() to get just the first few rows of the data.\n",
    "train_data.head()\n",
    "# Note how the notebook nicely displays the output for us"
   ]
  },
  {
   "cell_type": "code",
   "execution_count": 4,
   "metadata": {},
   "outputs": [
    {
     "data": {
      "text/html": [
       "<div>\n",
       "<style scoped>\n",
       "    .dataframe tbody tr th:only-of-type {\n",
       "        vertical-align: middle;\n",
       "    }\n",
       "\n",
       "    .dataframe tbody tr th {\n",
       "        vertical-align: top;\n",
       "    }\n",
       "\n",
       "    .dataframe thead th {\n",
       "        text-align: right;\n",
       "    }\n",
       "</style>\n",
       "<table border=\"1\" class=\"dataframe\">\n",
       "  <thead>\n",
       "    <tr style=\"text-align: right;\">\n",
       "      <th></th>\n",
       "      <th>Pclass</th>\n",
       "      <th>Name</th>\n",
       "      <th>Sex</th>\n",
       "      <th>Age</th>\n",
       "      <th>SibSp</th>\n",
       "      <th>Parch</th>\n",
       "      <th>Ticket</th>\n",
       "      <th>Fare</th>\n",
       "      <th>Cabin</th>\n",
       "      <th>Embarked</th>\n",
       "    </tr>\n",
       "    <tr>\n",
       "      <th>PassengerId</th>\n",
       "      <th></th>\n",
       "      <th></th>\n",
       "      <th></th>\n",
       "      <th></th>\n",
       "      <th></th>\n",
       "      <th></th>\n",
       "      <th></th>\n",
       "      <th></th>\n",
       "      <th></th>\n",
       "      <th></th>\n",
       "    </tr>\n",
       "  </thead>\n",
       "  <tbody>\n",
       "    <tr>\n",
       "      <th>892</th>\n",
       "      <td>3</td>\n",
       "      <td>Kelly, Mr. James</td>\n",
       "      <td>male</td>\n",
       "      <td>34.5</td>\n",
       "      <td>0</td>\n",
       "      <td>0</td>\n",
       "      <td>330911</td>\n",
       "      <td>7.8292</td>\n",
       "      <td>NaN</td>\n",
       "      <td>Q</td>\n",
       "    </tr>\n",
       "    <tr>\n",
       "      <th>893</th>\n",
       "      <td>3</td>\n",
       "      <td>Wilkes, Mrs. James (Ellen Needs)</td>\n",
       "      <td>female</td>\n",
       "      <td>47.0</td>\n",
       "      <td>1</td>\n",
       "      <td>0</td>\n",
       "      <td>363272</td>\n",
       "      <td>7.0000</td>\n",
       "      <td>NaN</td>\n",
       "      <td>S</td>\n",
       "    </tr>\n",
       "    <tr>\n",
       "      <th>894</th>\n",
       "      <td>2</td>\n",
       "      <td>Myles, Mr. Thomas Francis</td>\n",
       "      <td>male</td>\n",
       "      <td>62.0</td>\n",
       "      <td>0</td>\n",
       "      <td>0</td>\n",
       "      <td>240276</td>\n",
       "      <td>9.6875</td>\n",
       "      <td>NaN</td>\n",
       "      <td>Q</td>\n",
       "    </tr>\n",
       "    <tr>\n",
       "      <th>895</th>\n",
       "      <td>3</td>\n",
       "      <td>Wirz, Mr. Albert</td>\n",
       "      <td>male</td>\n",
       "      <td>27.0</td>\n",
       "      <td>0</td>\n",
       "      <td>0</td>\n",
       "      <td>315154</td>\n",
       "      <td>8.6625</td>\n",
       "      <td>NaN</td>\n",
       "      <td>S</td>\n",
       "    </tr>\n",
       "    <tr>\n",
       "      <th>896</th>\n",
       "      <td>3</td>\n",
       "      <td>Hirvonen, Mrs. Alexander (Helga E Lindqvist)</td>\n",
       "      <td>female</td>\n",
       "      <td>22.0</td>\n",
       "      <td>1</td>\n",
       "      <td>1</td>\n",
       "      <td>3101298</td>\n",
       "      <td>12.2875</td>\n",
       "      <td>NaN</td>\n",
       "      <td>S</td>\n",
       "    </tr>\n",
       "  </tbody>\n",
       "</table>\n",
       "</div>"
      ],
      "text/plain": [
       "             Pclass                                          Name     Sex  \\\n",
       "PassengerId                                                                 \n",
       "892               3                              Kelly, Mr. James    male   \n",
       "893               3              Wilkes, Mrs. James (Ellen Needs)  female   \n",
       "894               2                     Myles, Mr. Thomas Francis    male   \n",
       "895               3                              Wirz, Mr. Albert    male   \n",
       "896               3  Hirvonen, Mrs. Alexander (Helga E Lindqvist)  female   \n",
       "\n",
       "              Age  SibSp  Parch   Ticket     Fare Cabin Embarked  \n",
       "PassengerId                                                       \n",
       "892          34.5      0      0   330911   7.8292   NaN        Q  \n",
       "893          47.0      1      0   363272   7.0000   NaN        S  \n",
       "894          62.0      0      0   240276   9.6875   NaN        Q  \n",
       "895          27.0      0      0   315154   8.6625   NaN        S  \n",
       "896          22.0      1      1  3101298  12.2875   NaN        S  "
      ]
     },
     "execution_count": 4,
     "metadata": {},
     "output_type": "execute_result"
    }
   ],
   "source": [
    "test_data.head()"
   ]
  },
  {
   "cell_type": "code",
   "execution_count": 5,
   "metadata": {},
   "outputs": [
    {
     "data": {
      "text/plain": [
       "['Age', 'Cabin', 'Embarked']"
      ]
     },
     "execution_count": 5,
     "metadata": {},
     "output_type": "execute_result"
    }
   ],
   "source": [
    "train_data.columns[train_data.isna().any()].tolist()"
   ]
  },
  {
   "cell_type": "code",
   "execution_count": 7,
   "metadata": {},
   "outputs": [],
   "source": [
    "def parse_title(df):\n",
    "    # title\n",
    "    df['Title'] = df.Name.str.split(',').str[1].str.split('.').str[0].str.strip()\n",
    "    df['Title'] = df.Name.str.split(',').str[1].str.split('.').str[0].str.strip()\n",
    "    df['Title'] = df['Title'].replace('Ms','Miss')\n",
    "    df['Title'] = df['Title'].replace('Mlle','Miss')\n",
    "    df['Title'] = df['Title'].replace('Mme','Mrs')\n",
    "    return df\n",
    "\n",
    "def process_name(df):\n",
    "    # parse title first\n",
    "    df = parse_title(df)\n",
    "    df['LastName'] = df.Name.str.split(',').str[0]\n",
    "    # get information about sex from title\n",
    "    df['IsWomanOrBoy'] = ((df.Title == 'Master') | (df.Sex == 'female'))\n",
    "    # find families\n",
    "    family = df.groupby(df.LastName).Survived\n",
    "    # count woman or boy\n",
    "#     df['WomanOrBoyCount'] = family.transform(lambda s: s[df.IsWomanOrBoy].fillna(0).count())\n",
    "#     df['WomanOrBoyCount'] = df.mask(df.IsWomanOrBoy, df.WomanOrBoyCount - 1, axis=0)\n",
    "#     df['FamilySurvivedCount'] = family.transform(lambda s: s[df.IsWomanOrBoy].fillna(0).sum())\n",
    "#     df['FamilySurvivedCount'] = df.mask(df.IsWomanOrBoy, df.FamilySurvivedCount - df.Survived.fillna(0), axis=0)\n",
    "#     df['WomanOrBoySurvived'] = df.FamilySurvivedCount / df.WomanOrBoyCount.replace(0, np.nan)\n",
    "#     df.WomanOrBoyCount = df.WomanOrBoyCount.replace(np.nan, 0)\n",
    "#     df['Alone'] = (df.WomanOrBoyCount == 0)\n",
    "    return df\n",
    "\n",
    "def fill_missing(df):\n",
    "    # Embarked\n",
    "    df['Embarked'] = df['Embarked'].fillna('S')\n",
    "    # Cabin, Deck\n",
    "    df['Deck'] = df['Cabin'].apply(lambda s: s[0] if pd.notnull(s) else 'M')\n",
    "    df.loc[(df['Deck'] == 'T'), 'Deck'] = 'A'\n",
    "\n",
    "    # Thanks to https://www.kaggle.com/erinsweet/simpledetect\n",
    "    # Fare\n",
    "    med_fare = df.groupby(['Pclass', 'Parch', 'SibSp']).Fare.median()[3][0][0]\n",
    "    df['Fare'] = df['Fare'].fillna(med_fare)\n",
    "    #Age\n",
    "    df['Age'] = df.groupby(['Sex', 'Pclass', 'Title'])['Age'].apply(lambda x: x.fillna(x.median()))\n",
    "    # Family_Size\n",
    "    df['Family_Size'] = df['SibSp'] + df['Parch'] + 1\n",
    "    return df    "
   ]
  },
  {
   "cell_type": "code",
   "execution_count": 8,
   "metadata": {},
   "outputs": [],
   "source": [
    "def encode_types(df):\n",
    "    numerics = ['int8', 'int16', 'int32', 'int64', 'float16', 'float32', 'float64']\n",
    "    categorical_columns = []\n",
    "    features = df.columns.values.tolist()\n",
    "    for col in features:\n",
    "        if df[col].dtype in numerics: continue\n",
    "        categorical_columns.append(col)\n",
    "    # Encoding categorical features\n",
    "    for col in categorical_columns:\n",
    "        if col in df.columns:\n",
    "            le = LabelEncoder()\n",
    "            le.fit(list(df[col].astype(str).values))\n",
    "            df[col] = le.transform(list(df[col].astype(str).values))\n",
    "    return df\n",
    "    "
   ]
  },
  {
   "cell_type": "code",
   "execution_count": 9,
   "metadata": {},
   "outputs": [
    {
     "name": "stdout",
     "output_type": "stream",
     "text": [
      "             Pclass  Sex   Age  SibSp  Parch    Fare  Embarked  Title  \\\n",
      "PassengerId                                                             \n",
      "464               2    1  48.0      0      0  13.000         2     10   \n",
      "160               3    1   6.0      8      2  69.550         2      8   \n",
      "48                3    0  18.0      0      0   7.750         1      9   \n",
      "403               3    0  21.0      1      0   9.825         2      9   \n",
      "619               2    0   4.0      2      1  39.000         2      9   \n",
      "\n",
      "             LastName  IsWomanOrBoy  Deck  Family_Size  \n",
      "PassengerId                                             \n",
      "464               524             0     7            1  \n",
      "160               700             1     7           11  \n",
      "48                586             1     7            1  \n",
      "403               388             1     7            2  \n",
      "619                66             1     5            4  \n",
      "PassengerId\n",
      "464    0.0\n",
      "160    0.0\n",
      "48     1.0\n",
      "403    0.0\n",
      "619    1.0\n",
      "Name: Survived, dtype: float64\n",
      "             Survived  Pclass  Sex   Age  SibSp  Parch     Fare  Embarked  \\\n",
      "PassengerId                                                                 \n",
      "892               NaN       3    1  34.5      0      0   7.8292         1   \n",
      "893               NaN       3    0  47.0      1      0   7.0000         2   \n",
      "894               NaN       2    1  62.0      0      0   9.6875         1   \n",
      "895               NaN       3    1  27.0      0      0   8.6625         2   \n",
      "896               NaN       3    0  22.0      1      1  12.2875         2   \n",
      "\n",
      "             Title  LastName  IsWomanOrBoy  Deck  Family_Size  \n",
      "PassengerId                                                    \n",
      "892             10       401             0     7            1  \n",
      "893             11       846             1     7            2  \n",
      "894             10       552             0     7            1  \n",
      "895             10       854             0     7            1  \n",
      "896             11       342             1     7            3  \n"
     ]
    }
   ],
   "source": [
    "RANDOM_SEED = 10\n",
    "\n",
    "# combine train and test into single df for preprocessing --> becareful bc test won't have survived column\n",
    "df = pd.concat([train_data, test_data], axis=0, sort=False)\n",
    "df.head()\n",
    "\n",
    "df = process_name(df)\n",
    "\n",
    "# train_nan_map = {'Age': train_data['Age'].mean(), 'Fare': train_data['Fare'].mean(), 'Embarked': train_data['Embarked'].mode()[0]}\n",
    "# test_nan_map = {'Age': test_data['Age'].mean(), 'Fare': test_data['Fare'].mean(), 'Embarked': test_data['Embarked'].mode()[0]}\n",
    "\n",
    "# train_data.fillna(value=train_nan_map, inplace=True)\n",
    "# test_data.fillna(value=test_nan_map, inplace=True)\n",
    "\n",
    "# columns_map = {'Embarked': {'C': 0, 'Q': 1, 'S': 2}, 'Sex': {'male': 0, 'female': 1}}\n",
    "# train_data.replace(columns_map, inplace=True)\n",
    "# test_data.replace(columns_map, inplace=True)\n",
    "\n",
    "# fill in missing\n",
    "df = fill_missing(df)\n",
    "\n",
    "# drop these columns\n",
    "cols_to_drop = ['Name','Ticket','Cabin']\n",
    "df = df.drop(cols_to_drop, axis=1)\n",
    "\n",
    "# encode the string datatypes using LabelEncoder\n",
    "df = encode_types(df)\n",
    "\n",
    "# separate into data and survived label\n",
    "train_data, test_data = df.loc[train_data.index], df.loc[test_data.index]\n",
    "X_train = train_data.loc[:, train_data.columns != 'Survived']\n",
    "y_train = train_data.loc[:, 'Survived']\n",
    "\n",
    "# try kfold from scikit-learn\n",
    "X_train, X_test, y_train, y_test = train_test_split(X_train, y_train, test_size=0.33, random_state=RANDOM_SEED)\n",
    "\n",
    "print(X_train.head())\n",
    "print(y_train.head())\n",
    "print(test_data.head())"
   ]
  },
  {
   "cell_type": "code",
   "execution_count": 31,
   "metadata": {},
   "outputs": [
    {
     "data": {
      "text/plain": [
       "['Survived']"
      ]
     },
     "execution_count": 31,
     "metadata": {},
     "output_type": "execute_result"
    }
   ],
   "source": [
    "train_data.columns[train_data.isna().any()].tolist()\n",
    "train_data[train_data['Embarked'].isna() == True]\n",
    "#train_data['Embarked']\n",
    "#test_data.columns[test_data.isna().any()].tolist()"
   ]
  },
  {
   "cell_type": "markdown",
   "metadata": {},
   "source": [
    "## Keeping track of models\n",
    "\n",
    "For now we will keep a dictionary with all the models performance\n",
    "\n",
    "Model will map to (fnr, fpr)\n",
    "\n",
    "Next we will pickle them so we don't have to waste time retraining"
   ]
  },
  {
   "cell_type": "code",
   "execution_count": 11,
   "metadata": {},
   "outputs": [],
   "source": [
    "'''\n",
    "Use this method to score the cross evaluation\n",
    "This way we will have the confusion matrix values for each fold and we can easily get the average fnr and fpr\n",
    "'''\n",
    "def confusion_matrix_scorer(clf, X, y):\n",
    "    y_pred = clf.predict(X)\n",
    "    cm = confusion_matrix(y, y_pred)\n",
    "    return {'tn': cm[0, 0], 'fp': cm[0, 1],\n",
    "            'fn': cm[1, 0], 'tp': cm[1, 1]}\n",
    "\n",
    "# cv_results = cross_validate(svm, X, y, cv=5,\n",
    "#                             scoring=confusion_matrix_scorer)\n",
    "\n",
    "# fit and evaluate model\n",
    "y_truth = y_test.values\n",
    "def eval(model):\n",
    "    # cross validation --> generate different train test splits\n",
    "    \n",
    "    kf = StratifiedKFold(n_splits=5, shuffle=True, random_state=42)\n",
    "\n",
    "    cnt = 1\n",
    "    # split()  method generate indices to split data into training and test set.\n",
    "    for train_index, test_index in kf.split(X_train.values, y_train.values):\n",
    "        print(f'Fold:{cnt}, Train set: {len(train_index)}, Test set:{len(test_index)}')\n",
    "        cnt+=1\n",
    "\n",
    "    model.fit(X_train.values, y_train.values)\n",
    "\n",
    "    # cross eval accuracy\n",
    "    score = cross_val_score(model, X_train.values, y_train.values, cv = kf, scoring=\"accuracy\")\n",
    "    print(f'Scores for each fold are: {score}')\n",
    "    print(\"Average Score of CVs: \", sum(score)/len(score))\n",
    "\n",
    "    # normal accuracy\n",
    "    print(\"Accuracy:\", model.score(X_test.values, y_test.values))\n",
    "    y_pred = model.predict(X_test.values)\n",
    "    tn, fp, fn, tp = confusion_matrix(y_truth, y_pred).ravel()\n",
    "    print(\"\")\n",
    "    print(\"Confusion Matrix\")\n",
    "    print(confusion_matrix(y_truth, y_pred, labels=[0, 1]))\n",
    "    print(\"\")\n",
    "    print(\"True Negatives\", tn)\n",
    "    print(\"False Positives\", fp)\n",
    "    print(\"False Negatives\", fn)\n",
    "    print(\"True Positives\", tp)\n",
    "    print(\"\")\n",
    "    fpr = fp / (fp + tn)\n",
    "    print(\"FPR\", fpr)\n",
    "    fnr = fn / (fn + tp)\n",
    "    print(\"FNR\", fnr)\n",
    "    models[type(model).__name__] = (fpr, fnr)\n",
    "    # print(models)"
   ]
  },
  {
   "cell_type": "code",
   "execution_count": 12,
   "metadata": {},
   "outputs": [],
   "source": [
    "models = {}"
   ]
  },
  {
   "cell_type": "markdown",
   "metadata": {},
   "source": [
    "## Tree"
   ]
  },
  {
   "cell_type": "code",
   "execution_count": 13,
   "metadata": {},
   "outputs": [
    {
     "name": "stdout",
     "output_type": "stream",
     "text": [
      "Fold:1, Train set: 476, Test set:120\n",
      "Fold:2, Train set: 477, Test set:119\n",
      "Fold:3, Train set: 477, Test set:119\n",
      "Fold:4, Train set: 477, Test set:119\n",
      "Fold:5, Train set: 477, Test set:119\n",
      "Scores for each fold are: [0.775      0.72268908 0.78991597 0.78151261 0.70588235]\n",
      "Average Score of CVs:  0.755\n",
      "Accuracy: 0.7728813559322034\n",
      "\n",
      "Confusion Matrix\n",
      "[[151  40]\n",
      " [ 27  77]]\n",
      "\n",
      "True Negatives 151\n",
      "False Positives 40\n",
      "False Negatives 27\n",
      "True Positives 77\n",
      "\n",
      "FPR 0.2094240837696335\n",
      "FNR 0.25961538461538464\n"
     ]
    }
   ],
   "source": [
    "tree_clf = tree.DecisionTreeClassifier()\n",
    "eval(tree_clf)"
   ]
  },
  {
   "cell_type": "markdown",
   "metadata": {},
   "source": [
    "## KNN"
   ]
  },
  {
   "cell_type": "code",
   "execution_count": 14,
   "metadata": {},
   "outputs": [
    {
     "name": "stdout",
     "output_type": "stream",
     "text": [
      "Fold:1, Train set: 476, Test set:120\n",
      "Fold:2, Train set: 477, Test set:119\n",
      "Fold:3, Train set: 477, Test set:119\n",
      "Fold:4, Train set: 477, Test set:119\n",
      "Fold:5, Train set: 477, Test set:119\n",
      "Scores for each fold are: [0.65       0.64705882 0.71428571 0.65546218 0.64705882]\n",
      "Average Score of CVs:  0.6627731092436975\n",
      "Accuracy: 0.6745762711864407\n",
      "\n",
      "Confusion Matrix\n",
      "[[155  36]\n",
      " [ 60  44]]\n",
      "\n",
      "True Negatives 155\n",
      "False Positives 36\n",
      "False Negatives 60\n",
      "True Positives 44\n",
      "\n",
      "FPR 0.18848167539267016\n",
      "FNR 0.5769230769230769\n"
     ]
    }
   ],
   "source": [
    "knn_clf = neighbors.KNeighborsClassifier()\n",
    "eval(knn_clf)"
   ]
  },
  {
   "cell_type": "markdown",
   "metadata": {},
   "source": [
    "## NN"
   ]
  },
  {
   "cell_type": "code",
   "execution_count": 15,
   "metadata": {},
   "outputs": [
    {
     "name": "stdout",
     "output_type": "stream",
     "text": [
      "Fold:1, Train set: 476, Test set:120\n",
      "Fold:2, Train set: 477, Test set:119\n",
      "Fold:3, Train set: 477, Test set:119\n",
      "Fold:4, Train set: 477, Test set:119\n",
      "Fold:5, Train set: 477, Test set:119\n",
      "Scores for each fold are: [0.88333333 0.74789916 0.77310924 0.74789916 0.77310924]\n",
      "Average Score of CVs:  0.7850700280112044\n",
      "Accuracy: 0.7932203389830509\n",
      "\n",
      "Confusion Matrix\n",
      "[[166  25]\n",
      " [ 36  68]]\n",
      "\n",
      "True Negatives 166\n",
      "False Positives 25\n",
      "False Negatives 36\n",
      "True Positives 68\n",
      "\n",
      "FPR 0.13089005235602094\n",
      "FNR 0.34615384615384615\n"
     ]
    }
   ],
   "source": [
    "NN_clf = neural_network.MLPClassifier()\n",
    "eval(NN_clf)"
   ]
  },
  {
   "cell_type": "markdown",
   "metadata": {},
   "source": [
    "## SVM"
   ]
  },
  {
   "cell_type": "code",
   "execution_count": 16,
   "metadata": {},
   "outputs": [
    {
     "name": "stdout",
     "output_type": "stream",
     "text": [
      "Fold:1, Train set: 476, Test set:120\n",
      "Fold:2, Train set: 477, Test set:119\n",
      "Fold:3, Train set: 477, Test set:119\n",
      "Fold:4, Train set: 477, Test set:119\n",
      "Fold:5, Train set: 477, Test set:119\n",
      "Scores for each fold are: [0.89166667 0.78991597 0.81512605 0.79831933 0.82352941]\n",
      "Average Score of CVs:  0.8237114845938376\n",
      "Accuracy: 0.8338983050847457\n",
      "\n",
      "Confusion Matrix\n",
      "[[168  23]\n",
      " [ 26  78]]\n",
      "\n",
      "True Negatives 168\n",
      "False Positives 23\n",
      "False Negatives 26\n",
      "True Positives 78\n",
      "\n",
      "FPR 0.12041884816753927\n",
      "FNR 0.25\n"
     ]
    }
   ],
   "source": [
    "svm_clf = svm.SVC(kernel='linear')\n",
    "eval(svm_clf)"
   ]
  },
  {
   "cell_type": "code",
   "execution_count": 17,
   "metadata": {},
   "outputs": [
    {
     "name": "stdout",
     "output_type": "stream",
     "text": [
      "Fold:1, Train set: 476, Test set:120\n",
      "Fold:2, Train set: 477, Test set:119\n",
      "Fold:3, Train set: 477, Test set:119\n",
      "Fold:4, Train set: 477, Test set:119\n",
      "Fold:5, Train set: 477, Test set:119\n",
      "Scores for each fold are: [0.675      0.75630252 0.45378151 0.53781513 0.45378151]\n",
      "Average Score of CVs:  0.5753361344537815\n",
      "Accuracy: 0.7898305084745763\n",
      "\n",
      "Confusion Matrix\n",
      "[[169  22]\n",
      " [ 40  64]]\n",
      "\n",
      "True Negatives 169\n",
      "False Positives 22\n",
      "False Negatives 40\n",
      "True Positives 64\n",
      "\n",
      "FPR 0.11518324607329843\n",
      "FNR 0.38461538461538464\n"
     ]
    },
    {
     "name": "stderr",
     "output_type": "stream",
     "text": [
      "/Users/nathan/opt/anaconda3/lib/python3.9/site-packages/sklearn/svm/_base.py:1206: ConvergenceWarning: Liblinear failed to converge, increase the number of iterations.\n",
      "  warnings.warn(\n",
      "/Users/nathan/opt/anaconda3/lib/python3.9/site-packages/sklearn/svm/_base.py:1206: ConvergenceWarning: Liblinear failed to converge, increase the number of iterations.\n",
      "  warnings.warn(\n",
      "/Users/nathan/opt/anaconda3/lib/python3.9/site-packages/sklearn/svm/_base.py:1206: ConvergenceWarning: Liblinear failed to converge, increase the number of iterations.\n",
      "  warnings.warn(\n",
      "/Users/nathan/opt/anaconda3/lib/python3.9/site-packages/sklearn/svm/_base.py:1206: ConvergenceWarning: Liblinear failed to converge, increase the number of iterations.\n",
      "  warnings.warn(\n",
      "/Users/nathan/opt/anaconda3/lib/python3.9/site-packages/sklearn/svm/_base.py:1206: ConvergenceWarning: Liblinear failed to converge, increase the number of iterations.\n",
      "  warnings.warn(\n",
      "/Users/nathan/opt/anaconda3/lib/python3.9/site-packages/sklearn/svm/_base.py:1206: ConvergenceWarning: Liblinear failed to converge, increase the number of iterations.\n",
      "  warnings.warn(\n"
     ]
    }
   ],
   "source": [
    "svm_linear = svm.LinearSVC()\n",
    "eval(svm_linear)"
   ]
  },
  {
   "cell_type": "markdown",
   "metadata": {},
   "source": [
    "## Linear"
   ]
  },
  {
   "cell_type": "code",
   "execution_count": 18,
   "metadata": {},
   "outputs": [
    {
     "name": "stdout",
     "output_type": "stream",
     "text": [
      "Fold:1, Train set: 476, Test set:120\n",
      "Fold:2, Train set: 477, Test set:119\n",
      "Fold:3, Train set: 477, Test set:119\n",
      "Fold:4, Train set: 477, Test set:119\n",
      "Fold:5, Train set: 477, Test set:119\n",
      "Scores for each fold are: [0.85833333 0.77310924 0.81512605 0.78991597 0.78991597]\n",
      "Average Score of CVs:  0.8052801120448179\n",
      "Accuracy: 0.8203389830508474\n",
      "\n",
      "Confusion Matrix\n",
      "[[168  23]\n",
      " [ 30  74]]\n",
      "\n",
      "True Negatives 168\n",
      "False Positives 23\n",
      "False Negatives 30\n",
      "True Positives 74\n",
      "\n",
      "FPR 0.12041884816753927\n",
      "FNR 0.28846153846153844\n"
     ]
    },
    {
     "name": "stderr",
     "output_type": "stream",
     "text": [
      "/Users/nathan/opt/anaconda3/lib/python3.9/site-packages/sklearn/linear_model/_logistic.py:814: ConvergenceWarning: lbfgs failed to converge (status=1):\n",
      "STOP: TOTAL NO. of ITERATIONS REACHED LIMIT.\n",
      "\n",
      "Increase the number of iterations (max_iter) or scale the data as shown in:\n",
      "    https://scikit-learn.org/stable/modules/preprocessing.html\n",
      "Please also refer to the documentation for alternative solver options:\n",
      "    https://scikit-learn.org/stable/modules/linear_model.html#logistic-regression\n",
      "  n_iter_i = _check_optimize_result(\n",
      "/Users/nathan/opt/anaconda3/lib/python3.9/site-packages/sklearn/linear_model/_logistic.py:814: ConvergenceWarning: lbfgs failed to converge (status=1):\n",
      "STOP: TOTAL NO. of ITERATIONS REACHED LIMIT.\n",
      "\n",
      "Increase the number of iterations (max_iter) or scale the data as shown in:\n",
      "    https://scikit-learn.org/stable/modules/preprocessing.html\n",
      "Please also refer to the documentation for alternative solver options:\n",
      "    https://scikit-learn.org/stable/modules/linear_model.html#logistic-regression\n",
      "  n_iter_i = _check_optimize_result(\n",
      "/Users/nathan/opt/anaconda3/lib/python3.9/site-packages/sklearn/linear_model/_logistic.py:814: ConvergenceWarning: lbfgs failed to converge (status=1):\n",
      "STOP: TOTAL NO. of ITERATIONS REACHED LIMIT.\n",
      "\n",
      "Increase the number of iterations (max_iter) or scale the data as shown in:\n",
      "    https://scikit-learn.org/stable/modules/preprocessing.html\n",
      "Please also refer to the documentation for alternative solver options:\n",
      "    https://scikit-learn.org/stable/modules/linear_model.html#logistic-regression\n",
      "  n_iter_i = _check_optimize_result(\n",
      "/Users/nathan/opt/anaconda3/lib/python3.9/site-packages/sklearn/linear_model/_logistic.py:814: ConvergenceWarning: lbfgs failed to converge (status=1):\n",
      "STOP: TOTAL NO. of ITERATIONS REACHED LIMIT.\n",
      "\n",
      "Increase the number of iterations (max_iter) or scale the data as shown in:\n",
      "    https://scikit-learn.org/stable/modules/preprocessing.html\n",
      "Please also refer to the documentation for alternative solver options:\n",
      "    https://scikit-learn.org/stable/modules/linear_model.html#logistic-regression\n",
      "  n_iter_i = _check_optimize_result(\n",
      "/Users/nathan/opt/anaconda3/lib/python3.9/site-packages/sklearn/linear_model/_logistic.py:814: ConvergenceWarning: lbfgs failed to converge (status=1):\n",
      "STOP: TOTAL NO. of ITERATIONS REACHED LIMIT.\n",
      "\n",
      "Increase the number of iterations (max_iter) or scale the data as shown in:\n",
      "    https://scikit-learn.org/stable/modules/preprocessing.html\n",
      "Please also refer to the documentation for alternative solver options:\n",
      "    https://scikit-learn.org/stable/modules/linear_model.html#logistic-regression\n",
      "  n_iter_i = _check_optimize_result(\n",
      "/Users/nathan/opt/anaconda3/lib/python3.9/site-packages/sklearn/linear_model/_logistic.py:814: ConvergenceWarning: lbfgs failed to converge (status=1):\n",
      "STOP: TOTAL NO. of ITERATIONS REACHED LIMIT.\n",
      "\n",
      "Increase the number of iterations (max_iter) or scale the data as shown in:\n",
      "    https://scikit-learn.org/stable/modules/preprocessing.html\n",
      "Please also refer to the documentation for alternative solver options:\n",
      "    https://scikit-learn.org/stable/modules/linear_model.html#logistic-regression\n",
      "  n_iter_i = _check_optimize_result(\n"
     ]
    }
   ],
   "source": [
    "logistic = linear_model.LogisticRegression()\n",
    "eval(logistic)"
   ]
  },
  {
   "cell_type": "code",
   "execution_count": 19,
   "metadata": {},
   "outputs": [
    {
     "name": "stdout",
     "output_type": "stream",
     "text": [
      "Fold:1, Train set: 476, Test set:120\n",
      "Fold:2, Train set: 477, Test set:119\n",
      "Fold:3, Train set: 477, Test set:119\n",
      "Fold:4, Train set: 477, Test set:119\n",
      "Fold:5, Train set: 477, Test set:119\n",
      "Scores for each fold are: [0.61666667 0.6302521  0.68907563 0.60504202 0.58823529]\n",
      "Average Score of CVs:  0.6258543417366946\n",
      "Accuracy: 0.6576271186440678\n",
      "\n",
      "Confusion Matrix\n",
      "[[191   0]\n",
      " [101   3]]\n",
      "\n",
      "True Negatives 191\n",
      "False Positives 0\n",
      "False Negatives 101\n",
      "True Positives 3\n",
      "\n",
      "FPR 0.0\n",
      "FNR 0.9711538461538461\n"
     ]
    }
   ],
   "source": [
    "perceptron = linear_model.Perceptron()\n",
    "eval(perceptron)"
   ]
  },
  {
   "cell_type": "code",
   "execution_count": 20,
   "metadata": {},
   "outputs": [
    {
     "name": "stdout",
     "output_type": "stream",
     "text": [
      "Fold:1, Train set: 476, Test set:120\n",
      "Fold:2, Train set: 477, Test set:119\n",
      "Fold:3, Train set: 477, Test set:119\n",
      "Fold:4, Train set: 477, Test set:119\n",
      "Fold:5, Train set: 477, Test set:119\n",
      "Scores for each fold are: [0.88333333 0.78991597 0.80672269 0.80672269 0.79831933]\n",
      "Average Score of CVs:  0.8170028011204481\n",
      "Accuracy: 0.8406779661016949\n",
      "\n",
      "Confusion Matrix\n",
      "[[168  23]\n",
      " [ 24  80]]\n",
      "\n",
      "True Negatives 168\n",
      "False Positives 23\n",
      "False Negatives 24\n",
      "True Positives 80\n",
      "\n",
      "FPR 0.12041884816753927\n",
      "FNR 0.23076923076923078\n"
     ]
    }
   ],
   "source": [
    "ridge = linear_model.RidgeClassifier()\n",
    "eval(ridge)"
   ]
  },
  {
   "cell_type": "code",
   "execution_count": 21,
   "metadata": {},
   "outputs": [
    {
     "name": "stdout",
     "output_type": "stream",
     "text": [
      "Fold:1, Train set: 476, Test set:120\n",
      "Fold:2, Train set: 477, Test set:119\n",
      "Fold:3, Train set: 477, Test set:119\n",
      "Fold:4, Train set: 477, Test set:119\n",
      "Fold:5, Train set: 477, Test set:119\n",
      "Scores for each fold are: [0.61666667 0.40336134 0.40336134 0.64705882 0.59663866]\n",
      "Average Score of CVs:  0.5334173669467787\n",
      "Accuracy: 0.4135593220338983\n",
      "\n",
      "Confusion Matrix\n",
      "[[ 21 170]\n",
      " [  3 101]]\n",
      "\n",
      "True Negatives 21\n",
      "False Positives 170\n",
      "False Negatives 3\n",
      "True Positives 101\n",
      "\n",
      "FPR 0.8900523560209425\n",
      "FNR 0.028846153846153848\n"
     ]
    }
   ],
   "source": [
    "sdg = linear_model.SGDClassifier()\n",
    "eval(sdg)"
   ]
  },
  {
   "cell_type": "markdown",
   "metadata": {},
   "source": [
    "## Ensemble"
   ]
  },
  {
   "cell_type": "code",
   "execution_count": 22,
   "metadata": {},
   "outputs": [
    {
     "name": "stdout",
     "output_type": "stream",
     "text": [
      "Fold:1, Train set: 476, Test set:120\n",
      "Fold:2, Train set: 477, Test set:119\n",
      "Fold:3, Train set: 477, Test set:119\n",
      "Fold:4, Train set: 477, Test set:119\n",
      "Fold:5, Train set: 477, Test set:119\n",
      "Scores for each fold are: [0.86666667 0.78151261 0.80672269 0.8487395  0.81512605]\n",
      "Average Score of CVs:  0.8237535014005604\n",
      "Accuracy: 0.8169491525423729\n",
      "\n",
      "Confusion Matrix\n",
      "[[163  28]\n",
      " [ 26  78]]\n",
      "\n",
      "True Negatives 163\n",
      "False Positives 28\n",
      "False Negatives 26\n",
      "True Positives 78\n",
      "\n",
      "FPR 0.14659685863874344\n",
      "FNR 0.25\n"
     ]
    }
   ],
   "source": [
    "random_forest = ensemble.RandomForestClassifier()\n",
    "eval(random_forest)"
   ]
  },
  {
   "cell_type": "code",
   "execution_count": 23,
   "metadata": {},
   "outputs": [
    {
     "name": "stdout",
     "output_type": "stream",
     "text": [
      "Fold:1, Train set: 476, Test set:120\n",
      "Fold:2, Train set: 477, Test set:119\n",
      "Fold:3, Train set: 477, Test set:119\n",
      "Fold:4, Train set: 477, Test set:119\n",
      "Fold:5, Train set: 477, Test set:119\n",
      "Scores for each fold are: [0.86666667 0.79831933 0.8487395  0.84033613 0.79831933]\n",
      "Average Score of CVs:  0.8304761904761906\n",
      "Accuracy: 0.8338983050847457\n",
      "\n",
      "Confusion Matrix\n",
      "[[165  26]\n",
      " [ 23  81]]\n",
      "\n",
      "True Negatives 165\n",
      "False Positives 26\n",
      "False Negatives 23\n",
      "True Positives 81\n",
      "\n",
      "FPR 0.13612565445026178\n",
      "FNR 0.22115384615384615\n"
     ]
    }
   ],
   "source": [
    "gradient_boost = ensemble.GradientBoostingClassifier()\n",
    "eval(gradient_boost)"
   ]
  },
  {
   "cell_type": "code",
   "execution_count": 24,
   "metadata": {},
   "outputs": [
    {
     "name": "stdout",
     "output_type": "stream",
     "text": [
      "Fold:1, Train set: 476, Test set:120\n",
      "Fold:2, Train set: 477, Test set:119\n",
      "Fold:3, Train set: 477, Test set:119\n",
      "Fold:4, Train set: 477, Test set:119\n",
      "Fold:5, Train set: 477, Test set:119\n",
      "Scores for each fold are: [0.875      0.75630252 0.77310924 0.82352941 0.75630252]\n",
      "Average Score of CVs:  0.7968487394957983\n",
      "Accuracy: 0.8203389830508474\n",
      "\n",
      "Confusion Matrix\n",
      "[[164  27]\n",
      " [ 26  78]]\n",
      "\n",
      "True Negatives 164\n",
      "False Positives 27\n",
      "False Negatives 26\n",
      "True Positives 78\n",
      "\n",
      "FPR 0.14136125654450263\n",
      "FNR 0.25\n"
     ]
    }
   ],
   "source": [
    "extra_trees = ensemble.ExtraTreesClassifier()\n",
    "eval(extra_trees)"
   ]
  },
  {
   "cell_type": "code",
   "execution_count": 25,
   "metadata": {},
   "outputs": [
    {
     "name": "stdout",
     "output_type": "stream",
     "text": [
      "Fold:1, Train set: 476, Test set:120\n",
      "Fold:2, Train set: 477, Test set:119\n",
      "Fold:3, Train set: 477, Test set:119\n",
      "Fold:4, Train set: 477, Test set:119\n",
      "Fold:5, Train set: 477, Test set:119\n",
      "Scores for each fold are: [0.83333333 0.78991597 0.80672269 0.8487395  0.79831933]\n",
      "Average Score of CVs:  0.8154061624649861\n",
      "Accuracy: 0.8271186440677966\n",
      "\n",
      "Confusion Matrix\n",
      "[[167  24]\n",
      " [ 27  77]]\n",
      "\n",
      "True Negatives 167\n",
      "False Positives 24\n",
      "False Negatives 27\n",
      "True Positives 77\n",
      "\n",
      "FPR 0.1256544502617801\n",
      "FNR 0.25961538461538464\n"
     ]
    }
   ],
   "source": [
    "bagging = ensemble.BaggingClassifier()\n",
    "eval(bagging)"
   ]
  },
  {
   "cell_type": "code",
   "execution_count": 179,
   "metadata": {},
   "outputs": [],
   "source": [
    "# voting = ensemble.VotingClassifier(estimators=20)\n",
    "# eval(voting)"
   ]
  },
  {
   "cell_type": "code",
   "execution_count": 26,
   "metadata": {},
   "outputs": [
    {
     "name": "stdout",
     "output_type": "stream",
     "text": [
      "Confusion matrix, without normalization\n",
      "[[155  36]\n",
      " [ 60  44]]\n"
     ]
    },
    {
     "name": "stderr",
     "output_type": "stream",
     "text": [
      "/Users/nathan/opt/anaconda3/lib/python3.9/site-packages/sklearn/base.py:443: UserWarning: X has feature names, but KNeighborsClassifier was fitted without feature names\n",
      "  warnings.warn(\n"
     ]
    },
    {
     "data": {
      "image/png": "[encoded data removed]",
      "text/plain": [
       "<Figure size 432x288 with 2 Axes>"
      ]
     },
     "metadata": {
      "needs_background": "light"
     },
     "output_type": "display_data"
    }
   ],
   "source": [
    "import itertools\n",
    "import matplotlib.pyplot as plt\n",
    "\n",
    "def plot_confusion_matrix(cm, classes,\n",
    "                          normalize=False,\n",
    "                          title='Confusion matrix',\n",
    "                          cmap=plt.cm.Blues):\n",
    "    \"\"\"\n",
    "    This function prints and plots the confusion matrix.\n",
    "    Normalization can be applied by setting `normalize=True`.\n",
    "    \"\"\"\n",
    "    if normalize:\n",
    "        cm = cm.astype('float') / cm.sum(axis=1)[:, np.newaxis]\n",
    "        print(\"Normalized confusion matrix\")\n",
    "    else:\n",
    "        print('Confusion matrix, without normalization')\n",
    "\n",
    "    print(cm)\n",
    "\n",
    "    plt.imshow(cm, interpolation='nearest', cmap=cmap)\n",
    "    plt.title(title)\n",
    "    plt.colorbar()\n",
    "    tick_marks = np.arange(len(classes))\n",
    "    plt.xticks(tick_marks, classes, rotation=45)\n",
    "    plt.yticks(tick_marks, classes)\n",
    "\n",
    "    fmt = '.2f' if normalize else 'd'\n",
    "    thresh = cm.max() / 2.\n",
    "    for i, j in itertools.product(range(cm.shape[0]), range(cm.shape[1])):\n",
    "        plt.text(j, i, format(cm[i, j], fmt),\n",
    "                 horizontalalignment=\"center\",\n",
    "                 color=\"white\" if cm[i, j] > thresh else \"black\")\n",
    "\n",
    "    plt.ylabel('True label')\n",
    "    plt.xlabel('Predicted label')\n",
    "    plt.tight_layout()\n",
    "\n",
    "def show_matrix(model):\n",
    "    y_pred = model.predict(X_test)\n",
    "    # Compute confusion matrix\n",
    "    cnf_matrix = confusion_matrix(y_truth, y_pred)\n",
    "    class_names=['0', '1']\n",
    "    np.set_printoptions(precision=2)\n",
    "\n",
    "    # Plot non-normalized confusion matrix\n",
    "    plt.figure()\n",
    "    plot_confusion_matrix(cnf_matrix, classes=class_names,\n",
    "                        title='Confusion matrix, without normalization')\n",
    "\n",
    "    plt.show()\n",
    "\n",
    "show_matrix(knn_clf)"
   ]
  },
  {
   "cell_type": "code",
   "execution_count": 28,
   "metadata": {},
   "outputs": [
    {
     "ename": "ValueError",
     "evalue": "Input contains NaN, infinity or a value too large for dtype('float64').",
     "output_type": "error",
     "traceback": [
      "\u001b[0;31m---------------------------------------------------------------------------\u001b[0m",
      "\u001b[0;31mValueError\u001b[0m                                Traceback (most recent call last)",
      "\u001b[1;32m/Users/nathan/Desktop/AAD/titanic-ml/titanic-example.ipynb Cell 34\u001b[0m in \u001b[0;36m<cell line: 9>\u001b[0;34m()\u001b[0m\n\u001b[1;32m      <a href='vscode-notebook-cell:/Users/nathan/Desktop/AAD/titanic-ml/titanic-example.ipynb#X45sZmlsZQ%3D%3D?line=4'>5</a>\u001b[0m     pred_df\u001b[39m.\u001b[39mto_csv(\u001b[39mstr\u001b[39m(model\u001b[39m.\u001b[39m\u001b[39m__name__\u001b[39m) \u001b[39m+\u001b[39m \u001b[39m'\u001b[39m\u001b[39mpredictions.csv\u001b[39m\u001b[39m'\u001b[39m, header\u001b[39m=\u001b[39m\u001b[39mTrue\u001b[39;00m, sep\u001b[39m=\u001b[39m\u001b[39m'\u001b[39m\u001b[39m,\u001b[39m\u001b[39m'\u001b[39m)\n\u001b[1;32m      <a href='vscode-notebook-cell:/Users/nathan/Desktop/AAD/titanic-ml/titanic-example.ipynb#X45sZmlsZQ%3D%3D?line=7'>8</a>\u001b[0m \u001b[39m# think the test_data has NaN so it really doesn't like it\u001b[39;00m\n\u001b[0;32m----> <a href='vscode-notebook-cell:/Users/nathan/Desktop/AAD/titanic-ml/titanic-example.ipynb#X45sZmlsZQ%3D%3D?line=8'>9</a>\u001b[0m create_pred_csv(ridge)\n",
      "\u001b[1;32m/Users/nathan/Desktop/AAD/titanic-ml/titanic-example.ipynb Cell 34\u001b[0m in \u001b[0;36mcreate_pred_csv\u001b[0;34m(model)\u001b[0m\n\u001b[1;32m      <a href='vscode-notebook-cell:/Users/nathan/Desktop/AAD/titanic-ml/titanic-example.ipynb#X45sZmlsZQ%3D%3D?line=0'>1</a>\u001b[0m \u001b[39mdef\u001b[39;00m \u001b[39mcreate_pred_csv\u001b[39m(model):\n\u001b[0;32m----> <a href='vscode-notebook-cell:/Users/nathan/Desktop/AAD/titanic-ml/titanic-example.ipynb#X45sZmlsZQ%3D%3D?line=1'>2</a>\u001b[0m     predictions \u001b[39m=\u001b[39m model\u001b[39m.\u001b[39;49mpredict(test_data\u001b[39m.\u001b[39;49mvalues)\n\u001b[1;32m      <a href='vscode-notebook-cell:/Users/nathan/Desktop/AAD/titanic-ml/titanic-example.ipynb#X45sZmlsZQ%3D%3D?line=2'>3</a>\u001b[0m     pred_df \u001b[39m=\u001b[39m pd\u001b[39m.\u001b[39mDataFrame(predictions, index\u001b[39m=\u001b[39mtest_data\u001b[39m.\u001b[39mindex, columns\u001b[39m=\u001b[39m[\u001b[39m'\u001b[39m\u001b[39mSurvived\u001b[39m\u001b[39m'\u001b[39m])\n\u001b[1;32m      <a href='vscode-notebook-cell:/Users/nathan/Desktop/AAD/titanic-ml/titanic-example.ipynb#X45sZmlsZQ%3D%3D?line=3'>4</a>\u001b[0m     \u001b[39mtype\u001b[39m(pred_df)\n",
      "File \u001b[0;32m~/opt/anaconda3/lib/python3.9/site-packages/sklearn/linear_model/_ridge.py:1089\u001b[0m, in \u001b[0;36m_RidgeClassifierMixin.predict\u001b[0;34m(self, X)\u001b[0m\n\u001b[1;32m   1087\u001b[0m     scores \u001b[39m=\u001b[39m \u001b[39m2\u001b[39m \u001b[39m*\u001b[39m (\u001b[39mself\u001b[39m\u001b[39m.\u001b[39mdecision_function(X) \u001b[39m>\u001b[39m \u001b[39m0\u001b[39m) \u001b[39m-\u001b[39m \u001b[39m1\u001b[39m\n\u001b[1;32m   1088\u001b[0m     \u001b[39mreturn\u001b[39;00m \u001b[39mself\u001b[39m\u001b[39m.\u001b[39m_label_binarizer\u001b[39m.\u001b[39minverse_transform(scores)\n\u001b[0;32m-> 1089\u001b[0m \u001b[39mreturn\u001b[39;00m \u001b[39msuper\u001b[39;49m()\u001b[39m.\u001b[39;49mpredict(X)\n",
      "File \u001b[0;32m~/opt/anaconda3/lib/python3.9/site-packages/sklearn/linear_model/_base.py:425\u001b[0m, in \u001b[0;36mLinearClassifierMixin.predict\u001b[0;34m(self, X)\u001b[0m\n\u001b[1;32m    411\u001b[0m \u001b[39mdef\u001b[39;00m \u001b[39mpredict\u001b[39m(\u001b[39mself\u001b[39m, X):\n\u001b[1;32m    412\u001b[0m     \u001b[39m\"\"\"\u001b[39;00m\n\u001b[1;32m    413\u001b[0m \u001b[39m    Predict class labels for samples in X.\u001b[39;00m\n\u001b[1;32m    414\u001b[0m \n\u001b[0;32m   (...)\u001b[0m\n\u001b[1;32m    423\u001b[0m \u001b[39m        Vector containing the class labels for each sample.\u001b[39;00m\n\u001b[1;32m    424\u001b[0m \u001b[39m    \"\"\"\u001b[39;00m\n\u001b[0;32m--> 425\u001b[0m     scores \u001b[39m=\u001b[39m \u001b[39mself\u001b[39;49m\u001b[39m.\u001b[39;49mdecision_function(X)\n\u001b[1;32m    426\u001b[0m     \u001b[39mif\u001b[39;00m \u001b[39mlen\u001b[39m(scores\u001b[39m.\u001b[39mshape) \u001b[39m==\u001b[39m \u001b[39m1\u001b[39m:\n\u001b[1;32m    427\u001b[0m         indices \u001b[39m=\u001b[39m (scores \u001b[39m>\u001b[39m \u001b[39m0\u001b[39m)\u001b[39m.\u001b[39mastype(\u001b[39mint\u001b[39m)\n",
      "File \u001b[0;32m~/opt/anaconda3/lib/python3.9/site-packages/sklearn/linear_model/_base.py:407\u001b[0m, in \u001b[0;36mLinearClassifierMixin.decision_function\u001b[0;34m(self, X)\u001b[0m\n\u001b[1;32m    387\u001b[0m \u001b[39m\"\"\"\u001b[39;00m\n\u001b[1;32m    388\u001b[0m \u001b[39mPredict confidence scores for samples.\u001b[39;00m\n\u001b[1;32m    389\u001b[0m \n\u001b[0;32m   (...)\u001b[0m\n\u001b[1;32m    403\u001b[0m \u001b[39m    this class would be predicted.\u001b[39;00m\n\u001b[1;32m    404\u001b[0m \u001b[39m\"\"\"\u001b[39;00m\n\u001b[1;32m    405\u001b[0m check_is_fitted(\u001b[39mself\u001b[39m)\n\u001b[0;32m--> 407\u001b[0m X \u001b[39m=\u001b[39m \u001b[39mself\u001b[39;49m\u001b[39m.\u001b[39;49m_validate_data(X, accept_sparse\u001b[39m=\u001b[39;49m\u001b[39m\"\u001b[39;49m\u001b[39mcsr\u001b[39;49m\u001b[39m\"\u001b[39;49m, reset\u001b[39m=\u001b[39;49m\u001b[39mFalse\u001b[39;49;00m)\n\u001b[1;32m    408\u001b[0m scores \u001b[39m=\u001b[39m safe_sparse_dot(X, \u001b[39mself\u001b[39m\u001b[39m.\u001b[39mcoef_\u001b[39m.\u001b[39mT, dense_output\u001b[39m=\u001b[39m\u001b[39mTrue\u001b[39;00m) \u001b[39m+\u001b[39m \u001b[39mself\u001b[39m\u001b[39m.\u001b[39mintercept_\n\u001b[1;32m    409\u001b[0m \u001b[39mreturn\u001b[39;00m scores\u001b[39m.\u001b[39mravel() \u001b[39mif\u001b[39;00m scores\u001b[39m.\u001b[39mshape[\u001b[39m1\u001b[39m] \u001b[39m==\u001b[39m \u001b[39m1\u001b[39m \u001b[39melse\u001b[39;00m scores\n",
      "File \u001b[0;32m~/opt/anaconda3/lib/python3.9/site-packages/sklearn/base.py:566\u001b[0m, in \u001b[0;36mBaseEstimator._validate_data\u001b[0;34m(self, X, y, reset, validate_separately, **check_params)\u001b[0m\n\u001b[1;32m    564\u001b[0m     \u001b[39mraise\u001b[39;00m \u001b[39mValueError\u001b[39;00m(\u001b[39m\"\u001b[39m\u001b[39mValidation should be done on X, y or both.\u001b[39m\u001b[39m\"\u001b[39m)\n\u001b[1;32m    565\u001b[0m \u001b[39melif\u001b[39;00m \u001b[39mnot\u001b[39;00m no_val_X \u001b[39mand\u001b[39;00m no_val_y:\n\u001b[0;32m--> 566\u001b[0m     X \u001b[39m=\u001b[39m check_array(X, \u001b[39m*\u001b[39;49m\u001b[39m*\u001b[39;49mcheck_params)\n\u001b[1;32m    567\u001b[0m     out \u001b[39m=\u001b[39m X\n\u001b[1;32m    568\u001b[0m \u001b[39melif\u001b[39;00m no_val_X \u001b[39mand\u001b[39;00m \u001b[39mnot\u001b[39;00m no_val_y:\n",
      "File \u001b[0;32m~/opt/anaconda3/lib/python3.9/site-packages/sklearn/utils/validation.py:800\u001b[0m, in \u001b[0;36mcheck_array\u001b[0;34m(array, accept_sparse, accept_large_sparse, dtype, order, copy, force_all_finite, ensure_2d, allow_nd, ensure_min_samples, ensure_min_features, estimator)\u001b[0m\n\u001b[1;32m    794\u001b[0m         \u001b[39mraise\u001b[39;00m \u001b[39mValueError\u001b[39;00m(\n\u001b[1;32m    795\u001b[0m             \u001b[39m\"\u001b[39m\u001b[39mFound array with dim \u001b[39m\u001b[39m%d\u001b[39;00m\u001b[39m. \u001b[39m\u001b[39m%s\u001b[39;00m\u001b[39m expected <= 2.\u001b[39m\u001b[39m\"\u001b[39m\n\u001b[1;32m    796\u001b[0m             \u001b[39m%\u001b[39m (array\u001b[39m.\u001b[39mndim, estimator_name)\n\u001b[1;32m    797\u001b[0m         )\n\u001b[1;32m    799\u001b[0m     \u001b[39mif\u001b[39;00m force_all_finite:\n\u001b[0;32m--> 800\u001b[0m         _assert_all_finite(array, allow_nan\u001b[39m=\u001b[39;49mforce_all_finite \u001b[39m==\u001b[39;49m \u001b[39m\"\u001b[39;49m\u001b[39mallow-nan\u001b[39;49m\u001b[39m\"\u001b[39;49m)\n\u001b[1;32m    802\u001b[0m \u001b[39mif\u001b[39;00m ensure_min_samples \u001b[39m>\u001b[39m \u001b[39m0\u001b[39m:\n\u001b[1;32m    803\u001b[0m     n_samples \u001b[39m=\u001b[39m _num_samples(array)\n",
      "File \u001b[0;32m~/opt/anaconda3/lib/python3.9/site-packages/sklearn/utils/validation.py:114\u001b[0m, in \u001b[0;36m_assert_all_finite\u001b[0;34m(X, allow_nan, msg_dtype)\u001b[0m\n\u001b[1;32m    107\u001b[0m     \u001b[39mif\u001b[39;00m (\n\u001b[1;32m    108\u001b[0m         allow_nan\n\u001b[1;32m    109\u001b[0m         \u001b[39mand\u001b[39;00m np\u001b[39m.\u001b[39misinf(X)\u001b[39m.\u001b[39many()\n\u001b[1;32m    110\u001b[0m         \u001b[39mor\u001b[39;00m \u001b[39mnot\u001b[39;00m allow_nan\n\u001b[1;32m    111\u001b[0m         \u001b[39mand\u001b[39;00m \u001b[39mnot\u001b[39;00m np\u001b[39m.\u001b[39misfinite(X)\u001b[39m.\u001b[39mall()\n\u001b[1;32m    112\u001b[0m     ):\n\u001b[1;32m    113\u001b[0m         type_err \u001b[39m=\u001b[39m \u001b[39m\"\u001b[39m\u001b[39minfinity\u001b[39m\u001b[39m\"\u001b[39m \u001b[39mif\u001b[39;00m allow_nan \u001b[39melse\u001b[39;00m \u001b[39m\"\u001b[39m\u001b[39mNaN, infinity\u001b[39m\u001b[39m\"\u001b[39m\n\u001b[0;32m--> 114\u001b[0m         \u001b[39mraise\u001b[39;00m \u001b[39mValueError\u001b[39;00m(\n\u001b[1;32m    115\u001b[0m             msg_err\u001b[39m.\u001b[39mformat(\n\u001b[1;32m    116\u001b[0m                 type_err, msg_dtype \u001b[39mif\u001b[39;00m msg_dtype \u001b[39mis\u001b[39;00m \u001b[39mnot\u001b[39;00m \u001b[39mNone\u001b[39;00m \u001b[39melse\u001b[39;00m X\u001b[39m.\u001b[39mdtype\n\u001b[1;32m    117\u001b[0m             )\n\u001b[1;32m    118\u001b[0m         )\n\u001b[1;32m    119\u001b[0m \u001b[39m# for object dtype data, we only check for NaNs (GH-13254)\u001b[39;00m\n\u001b[1;32m    120\u001b[0m \u001b[39melif\u001b[39;00m X\u001b[39m.\u001b[39mdtype \u001b[39m==\u001b[39m np\u001b[39m.\u001b[39mdtype(\u001b[39m\"\u001b[39m\u001b[39mobject\u001b[39m\u001b[39m\"\u001b[39m) \u001b[39mand\u001b[39;00m \u001b[39mnot\u001b[39;00m allow_nan:\n",
      "\u001b[0;31mValueError\u001b[0m: Input contains NaN, infinity or a value too large for dtype('float64')."
     ]
    }
   ],
   "source": [
    "def create_pred_csv(model):\n",
    "    predictions = model.predict(test_data.values)\n",
    "    pred_df = pd.DataFrame(predictions, index=test_data.index, columns=['Survived'])\n",
    "    type(pred_df)\n",
    "    pred_df.to_csv(str(model.__name__) + 'predictions.csv', header=True, sep=',')\n",
    "\n",
    "\n",
    "# think the test_data has NaN so it really doesn't like it\n",
    "create_pred_csv(ridge)"
   ]
  },
  {
   "cell_type": "markdown",
   "metadata": {},
   "source": [
    "## Function to display pareto front\n",
    "\n",
    "We will give it the model dict and all the fpr and fnr that we have\n",
    "\n",
    "https://oapackage.readthedocs.io/en/latest/examples/example_pareto.html\n",
    "\n",
    "https://stackoverflow.com/questions/21294829/fast-calculations-of-the-pareto-front-in-r\n",
    "\n",
    "The trick here is to sort by x, which then allows you to limit your check to making sure that all prior values of x must have greater values of y to ensure that point is on the frontier."
   ]
  },
  {
   "cell_type": "code",
   "execution_count": 52,
   "metadata": {},
   "outputs": [
    {
     "name": "stdout",
     "output_type": "stream",
     "text": [
      "['LinearSVC', 'Perceptron', 'RidgeClassifier', 'RidgeClassifier', 'SGDClassifier', 'GradientBoostingClassifier']\n",
      "['KNeighborsClassifier', 'DecisionTreeClassifier', 'MLPClassifier', 'SVC', 'LogisticRegression', 'RandomForestClassifier', 'RandomForestClassifier', 'ExtraTreesClassifier', 'ExtraTreesClassifier', 'ExtraTreesClassifier', 'BaggingClassifier', 'BaggingClassifier']\n"
     ]
    },
    {
     "data": {
      "image/png": "[encoded data removed]",
      "text/plain": [
       "<Figure size 1000x1000 with 1 Axes>"
      ]
     },
     "metadata": {
      "needs_background": "light"
     },
     "output_type": "display_data"
    }
   ],
   "source": [
    "def pareto_frontier(models):\n",
    "    dominated = []\n",
    "    pareto = []\n",
    "    for model in models:\n",
    "        fnr, fpr = models[model]\n",
    "        if pareto:\n",
    "            classified = False\n",
    "            for curr_model in pareto:\n",
    "                curr_fnr, curr_fpr = models[curr_model]\n",
    "                if (curr_fnr <= fnr and curr_fpr < fpr) or (curr_fnr < fnr and curr_fpr <= fpr):\n",
    "                    dominated.append(model)\n",
    "                    classified = True\n",
    "                elif (curr_fnr >= fnr and curr_fpr > fpr) or (curr_fnr > fnr and curr_fpr >= fpr):\n",
    "                    dominated.append(curr_model)\n",
    "                    pareto.remove(curr_model)\n",
    "                    pareto.append(model)\n",
    "                    classified = True\n",
    "            if not classified:\n",
    "                pareto.append(model)\n",
    "        else:\n",
    "            pareto.append(model)\n",
    "    \n",
    "    print(pareto)\n",
    "    print(dominated)\n",
    "\n",
    "                \n",
    "    fnr = []\n",
    "    fpr = []\n",
    "    for model in pareto:\n",
    "        cfnr, cfpr = models[model]\n",
    "        i = 0\n",
    "        while i < len(fnr):\n",
    "            if cfnr > fnr[i]:\n",
    "                i += 1\n",
    "            else:\n",
    "                break\n",
    "        fnr.insert(i, cfnr)\n",
    "        fpr.insert(i, cfpr)\n",
    "\n",
    "    plt.figure(figsize=(10, 10), dpi=100)\n",
    "    plt.step(fnr, fpr, where='post', label = 'post')\n",
    "    for model in pareto:\n",
    "        curr_fnr, curr_fpr = models[model]\n",
    "        plt.scatter(curr_fnr, curr_fpr, color='b')\n",
    "        plt.annotate(str(model), (curr_fnr, curr_fpr))\n",
    "    plt.xlabel(\"FNR\")\n",
    "    plt.ylabel(\"FPR\")\n",
    "    plt.title(\"Pareto Front\")\n",
    "pareto_frontier(models)"
   ]
  }
 ],
 "metadata": {
  "kernelspec": {
   "display_name": "Python 3.9.12 ('base')",
   "language": "python",
   "name": "python3"
  },
  "language_info": {
   "codemirror_mode": {
    "name": "ipython",
    "version": 3
   },
   "file_extension": ".py",
   "mimetype": "text/x-python",
   "name": "python",
   "nbconvert_exporter": "python",
   "pygments_lexer": "ipython3",
   "version": "3.9.12"
  },
  "vscode": {
   "interpreter": {
    "hash": "c41639db67be15e51ffe08f018462faa84bcb644fd3ef0f901f9f159be25f04f"
   }
  }
 },
 "nbformat": 4,
 "nbformat_minor": 2
}
