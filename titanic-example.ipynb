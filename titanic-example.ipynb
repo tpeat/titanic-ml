{
 "cells": [
  {
   "cell_type": "code",
   "execution_count": 182,
   "metadata": {},
   "outputs": [
    {
     "name": "stdout",
     "output_type": "stream",
     "text": [
      "%pylab is deprecated, use %matplotlib inline and import the required libraries.\n",
      "Populating the interactive namespace from numpy and matplotlib\n"
     ]
    },
    {
     "name": "stderr",
     "output_type": "stream",
     "text": [
      "/Users/tristanpeat/miniforge3/envs/tensorflow/lib/python3.10/site-packages/IPython/core/magics/pylab.py:162: UserWarning: pylab import has clobbered these variables: ['fmin']\n",
      "`%matplotlib` prevents importing * from pylab and numpy\n",
      "  warn(\"pylab import has clobbered these variables: %s\"  % clobbered +\n"
     ]
    }
   ],
   "source": [
    "%pylab inline\n",
    "# Pandas is a nice utilitiy that enables some easy data manipulation, especially from a csv\n",
    "import pandas as pd\n",
    "# Numpy lets us work with arrays\n",
    "import numpy as np\n",
    "# Sklearn provides various modules with a common API\n",
    "from sklearn import svm, tree, neighbors, neural_network, linear_model, ensemble\n",
    "from sklearn.model_selection import train_test_split, KFold, StratifiedKFold, cross_val_predict, cross_validate\n",
    "from sklearn.metrics import confusion_matrix\n",
    "\n",
    "from sklearn.preprocessing import LabelEncoder\n",
    "from sklearn.model_selection import train_test_split, cross_val_score, GridSearchCV, ShuffleSplit\n",
    "\n",
    "# import pickle\n",
    "import pickle\n",
    "\n",
    "# other models\n",
    "from sklearn.naive_bayes import GaussianNB\n",
    "import xgboost as xgb\n",
    "from xgboost import XGBClassifier\n",
    "\n",
    "# model tuning\n",
    "from hyperopt import STATUS_OK, Trials, fmin, hp, tpe, space_eval\n",
    "\n",
    "# turn off warnings\n",
    "from warnings import simplefilter\n",
    "# ignore all future warnings\n",
    "simplefilter(action='ignore', category=FutureWarning)"
   ]
  },
  {
   "cell_type": "code",
   "execution_count": 145,
   "metadata": {},
   "outputs": [],
   "source": [
    "# Read in our csv files downloaded from Kaggle\n",
    "train_data = pd.read_csv('train.csv').set_index(\"PassengerId\")\n",
    "test_data = pd.read_csv('test.csv').set_index(\"PassengerId\")"
   ]
  },
  {
   "cell_type": "code",
   "execution_count": 39,
   "metadata": {},
   "outputs": [
    {
     "data": {
      "text/html": [
       "<div>\n",
       "<style scoped>\n",
       "    .dataframe tbody tr th:only-of-type {\n",
       "        vertical-align: middle;\n",
       "    }\n",
       "\n",
       "    .dataframe tbody tr th {\n",
       "        vertical-align: top;\n",
       "    }\n",
       "\n",
       "    .dataframe thead th {\n",
       "        text-align: right;\n",
       "    }\n",
       "</style>\n",
       "<table border=\"1\" class=\"dataframe\">\n",
       "  <thead>\n",
       "    <tr style=\"text-align: right;\">\n",
       "      <th></th>\n",
       "      <th>Survived</th>\n",
       "      <th>Pclass</th>\n",
       "      <th>Name</th>\n",
       "      <th>Sex</th>\n",
       "      <th>Age</th>\n",
       "      <th>SibSp</th>\n",
       "      <th>Parch</th>\n",
       "      <th>Ticket</th>\n",
       "      <th>Fare</th>\n",
       "      <th>Cabin</th>\n",
       "      <th>Embarked</th>\n",
       "    </tr>\n",
       "    <tr>\n",
       "      <th>PassengerId</th>\n",
       "      <th></th>\n",
       "      <th></th>\n",
       "      <th></th>\n",
       "      <th></th>\n",
       "      <th></th>\n",
       "      <th></th>\n",
       "      <th></th>\n",
       "      <th></th>\n",
       "      <th></th>\n",
       "      <th></th>\n",
       "      <th></th>\n",
       "    </tr>\n",
       "  </thead>\n",
       "  <tbody>\n",
       "    <tr>\n",
       "      <th>1</th>\n",
       "      <td>0</td>\n",
       "      <td>3</td>\n",
       "      <td>Braund, Mr. Owen Harris</td>\n",
       "      <td>male</td>\n",
       "      <td>22.0</td>\n",
       "      <td>1</td>\n",
       "      <td>0</td>\n",
       "      <td>A/5 21171</td>\n",
       "      <td>7.2500</td>\n",
       "      <td>NaN</td>\n",
       "      <td>S</td>\n",
       "    </tr>\n",
       "    <tr>\n",
       "      <th>2</th>\n",
       "      <td>1</td>\n",
       "      <td>1</td>\n",
       "      <td>Cumings, Mrs. John Bradley (Florence Briggs Th...</td>\n",
       "      <td>female</td>\n",
       "      <td>38.0</td>\n",
       "      <td>1</td>\n",
       "      <td>0</td>\n",
       "      <td>PC 17599</td>\n",
       "      <td>71.2833</td>\n",
       "      <td>C85</td>\n",
       "      <td>C</td>\n",
       "    </tr>\n",
       "    <tr>\n",
       "      <th>3</th>\n",
       "      <td>1</td>\n",
       "      <td>3</td>\n",
       "      <td>Heikkinen, Miss. Laina</td>\n",
       "      <td>female</td>\n",
       "      <td>26.0</td>\n",
       "      <td>0</td>\n",
       "      <td>0</td>\n",
       "      <td>STON/O2. 3101282</td>\n",
       "      <td>7.9250</td>\n",
       "      <td>NaN</td>\n",
       "      <td>S</td>\n",
       "    </tr>\n",
       "    <tr>\n",
       "      <th>4</th>\n",
       "      <td>1</td>\n",
       "      <td>1</td>\n",
       "      <td>Futrelle, Mrs. Jacques Heath (Lily May Peel)</td>\n",
       "      <td>female</td>\n",
       "      <td>35.0</td>\n",
       "      <td>1</td>\n",
       "      <td>0</td>\n",
       "      <td>113803</td>\n",
       "      <td>53.1000</td>\n",
       "      <td>C123</td>\n",
       "      <td>S</td>\n",
       "    </tr>\n",
       "    <tr>\n",
       "      <th>5</th>\n",
       "      <td>0</td>\n",
       "      <td>3</td>\n",
       "      <td>Allen, Mr. William Henry</td>\n",
       "      <td>male</td>\n",
       "      <td>35.0</td>\n",
       "      <td>0</td>\n",
       "      <td>0</td>\n",
       "      <td>373450</td>\n",
       "      <td>8.0500</td>\n",
       "      <td>NaN</td>\n",
       "      <td>S</td>\n",
       "    </tr>\n",
       "  </tbody>\n",
       "</table>\n",
       "</div>"
      ],
      "text/plain": [
       "             Survived  Pclass  \\\n",
       "PassengerId                     \n",
       "1                   0       3   \n",
       "2                   1       1   \n",
       "3                   1       3   \n",
       "4                   1       1   \n",
       "5                   0       3   \n",
       "\n",
       "                                                          Name     Sex   Age  \\\n",
       "PassengerId                                                                    \n",
       "1                                      Braund, Mr. Owen Harris    male  22.0   \n",
       "2            Cumings, Mrs. John Bradley (Florence Briggs Th...  female  38.0   \n",
       "3                                       Heikkinen, Miss. Laina  female  26.0   \n",
       "4                 Futrelle, Mrs. Jacques Heath (Lily May Peel)  female  35.0   \n",
       "5                                     Allen, Mr. William Henry    male  35.0   \n",
       "\n",
       "             SibSp  Parch            Ticket     Fare Cabin Embarked  \n",
       "PassengerId                                                          \n",
       "1                1      0         A/5 21171   7.2500   NaN        S  \n",
       "2                1      0          PC 17599  71.2833   C85        C  \n",
       "3                0      0  STON/O2. 3101282   7.9250   NaN        S  \n",
       "4                1      0            113803  53.1000  C123        S  \n",
       "5                0      0            373450   8.0500   NaN        S  "
      ]
     },
     "execution_count": 39,
     "metadata": {},
     "output_type": "execute_result"
    }
   ],
   "source": [
    "# We can use .head() to get just the first few rows of the data.\n",
    "train_data.head()\n",
    "# Note how the notebook nicely displays the output for us"
   ]
  },
  {
   "cell_type": "code",
   "execution_count": 40,
   "metadata": {},
   "outputs": [
    {
     "data": {
      "text/html": [
       "<div>\n",
       "<style scoped>\n",
       "    .dataframe tbody tr th:only-of-type {\n",
       "        vertical-align: middle;\n",
       "    }\n",
       "\n",
       "    .dataframe tbody tr th {\n",
       "        vertical-align: top;\n",
       "    }\n",
       "\n",
       "    .dataframe thead th {\n",
       "        text-align: right;\n",
       "    }\n",
       "</style>\n",
       "<table border=\"1\" class=\"dataframe\">\n",
       "  <thead>\n",
       "    <tr style=\"text-align: right;\">\n",
       "      <th></th>\n",
       "      <th>Pclass</th>\n",
       "      <th>Name</th>\n",
       "      <th>Sex</th>\n",
       "      <th>Age</th>\n",
       "      <th>SibSp</th>\n",
       "      <th>Parch</th>\n",
       "      <th>Ticket</th>\n",
       "      <th>Fare</th>\n",
       "      <th>Cabin</th>\n",
       "      <th>Embarked</th>\n",
       "    </tr>\n",
       "    <tr>\n",
       "      <th>PassengerId</th>\n",
       "      <th></th>\n",
       "      <th></th>\n",
       "      <th></th>\n",
       "      <th></th>\n",
       "      <th></th>\n",
       "      <th></th>\n",
       "      <th></th>\n",
       "      <th></th>\n",
       "      <th></th>\n",
       "      <th></th>\n",
       "    </tr>\n",
       "  </thead>\n",
       "  <tbody>\n",
       "    <tr>\n",
       "      <th>892</th>\n",
       "      <td>3</td>\n",
       "      <td>Kelly, Mr. James</td>\n",
       "      <td>male</td>\n",
       "      <td>34.5</td>\n",
       "      <td>0</td>\n",
       "      <td>0</td>\n",
       "      <td>330911</td>\n",
       "      <td>7.8292</td>\n",
       "      <td>NaN</td>\n",
       "      <td>Q</td>\n",
       "    </tr>\n",
       "    <tr>\n",
       "      <th>893</th>\n",
       "      <td>3</td>\n",
       "      <td>Wilkes, Mrs. James (Ellen Needs)</td>\n",
       "      <td>female</td>\n",
       "      <td>47.0</td>\n",
       "      <td>1</td>\n",
       "      <td>0</td>\n",
       "      <td>363272</td>\n",
       "      <td>7.0000</td>\n",
       "      <td>NaN</td>\n",
       "      <td>S</td>\n",
       "    </tr>\n",
       "    <tr>\n",
       "      <th>894</th>\n",
       "      <td>2</td>\n",
       "      <td>Myles, Mr. Thomas Francis</td>\n",
       "      <td>male</td>\n",
       "      <td>62.0</td>\n",
       "      <td>0</td>\n",
       "      <td>0</td>\n",
       "      <td>240276</td>\n",
       "      <td>9.6875</td>\n",
       "      <td>NaN</td>\n",
       "      <td>Q</td>\n",
       "    </tr>\n",
       "    <tr>\n",
       "      <th>895</th>\n",
       "      <td>3</td>\n",
       "      <td>Wirz, Mr. Albert</td>\n",
       "      <td>male</td>\n",
       "      <td>27.0</td>\n",
       "      <td>0</td>\n",
       "      <td>0</td>\n",
       "      <td>315154</td>\n",
       "      <td>8.6625</td>\n",
       "      <td>NaN</td>\n",
       "      <td>S</td>\n",
       "    </tr>\n",
       "    <tr>\n",
       "      <th>896</th>\n",
       "      <td>3</td>\n",
       "      <td>Hirvonen, Mrs. Alexander (Helga E Lindqvist)</td>\n",
       "      <td>female</td>\n",
       "      <td>22.0</td>\n",
       "      <td>1</td>\n",
       "      <td>1</td>\n",
       "      <td>3101298</td>\n",
       "      <td>12.2875</td>\n",
       "      <td>NaN</td>\n",
       "      <td>S</td>\n",
       "    </tr>\n",
       "  </tbody>\n",
       "</table>\n",
       "</div>"
      ],
      "text/plain": [
       "             Pclass                                          Name     Sex  \\\n",
       "PassengerId                                                                 \n",
       "892               3                              Kelly, Mr. James    male   \n",
       "893               3              Wilkes, Mrs. James (Ellen Needs)  female   \n",
       "894               2                     Myles, Mr. Thomas Francis    male   \n",
       "895               3                              Wirz, Mr. Albert    male   \n",
       "896               3  Hirvonen, Mrs. Alexander (Helga E Lindqvist)  female   \n",
       "\n",
       "              Age  SibSp  Parch   Ticket     Fare Cabin Embarked  \n",
       "PassengerId                                                       \n",
       "892          34.5      0      0   330911   7.8292   NaN        Q  \n",
       "893          47.0      1      0   363272   7.0000   NaN        S  \n",
       "894          62.0      0      0   240276   9.6875   NaN        Q  \n",
       "895          27.0      0      0   315154   8.6625   NaN        S  \n",
       "896          22.0      1      1  3101298  12.2875   NaN        S  "
      ]
     },
     "execution_count": 40,
     "metadata": {},
     "output_type": "execute_result"
    }
   ],
   "source": [
    "test_data.head()"
   ]
  },
  {
   "cell_type": "code",
   "execution_count": 6,
   "metadata": {},
   "outputs": [
    {
     "data": {
      "text/plain": [
       "['Age', 'Cabin', 'Embarked']"
      ]
     },
     "execution_count": 6,
     "metadata": {},
     "output_type": "execute_result"
    }
   ],
   "source": [
    "train_data.columns[train_data.isna().any()].tolist()"
   ]
  },
  {
   "cell_type": "code",
   "execution_count": 146,
   "metadata": {},
   "outputs": [],
   "source": [
    "def parse_title(df):\n",
    "    # title\n",
    "    df['Title'] = df.Name.str.split(',').str[1].str.split('.').str[0].str.strip()\n",
    "    df['Title'] = df.Name.str.split(',').str[1].str.split('.').str[0].str.strip()\n",
    "    df['Title'] = df['Title'].replace('Ms','Miss')\n",
    "    df['Title'] = df['Title'].replace('Mlle','Miss')\n",
    "    df['Title'] = df['Title'].replace('Mme','Mrs')\n",
    "    return df\n",
    "\n",
    "def process_name(df):\n",
    "    # parse title first\n",
    "    df = parse_title(df)\n",
    "    df['LastName'] = df.Name.str.split(',').str[0]\n",
    "    # get information about sex from title\n",
    "    df['IsWomanOrBoy'] = ((df.Title == 'Master') | (df.Sex == 'female'))\n",
    "    return df\n",
    "\n",
    "def add_family_info(df):\n",
    "    family = df.groupby(df.LastName).Survived\n",
    "    # count woman or boy\n",
    "    df['WomanOrBoyCount'] = family.transform(lambda s: s[df.IsWomanOrBoy].fillna(0).count())\n",
    "    # df['WomanOrBoyCount'] = df.mask(df.IsWomanOrBoy, df.WomanOrBoyCount - 1, axis=0)\n",
    "    df['FamilySurvivedCount'] = family.transform(lambda s: s[df.IsWomanOrBoy].fillna(0).sum())\n",
    "    # df['FamilySurvivedCount'] = df.mask(df.IsWomanOrBoy, df.FamilySurvivedCount - df.Survived.fillna(0), axis=0)\n",
    "    df['WomanOrBoySurvived'] = df.FamilySurvivedCount / df.WomanOrBoyCount.replace(0, np.nan)\n",
    "    df.WomanOrBoyCount = df.WomanOrBoyCount.replace(np.nan, 0)\n",
    "    df['Alone'] = (df.WomanOrBoyCount == 0)\n",
    "\n",
    "    # Family_Size\n",
    "    df['FamilySize'] = df['SibSp'] + df['Parch'] + 1\n",
    "    \n",
    "    df['Single'] = df['FamilySize'].map(lambda s: 1 if s == 1 else 0)\n",
    "    df['SmallF'] = df['FamilySize'].map(lambda s: 1 if  s == 2  else 0)\n",
    "    df['MedF'] = df['FamilySize'].map(lambda s: 1 if 3 <= s <= 4 else 0)\n",
    "    df['LargeF'] = df['FamilySize'].map(lambda s: 1 if s >= 5 else 0)\n",
    "    df.drop(columns = ['FamilySize'], inplace=True)\n",
    "    return df\n",
    "\n",
    "def fill_missing(df):\n",
    "    # Embarked\n",
    "    df['Embarked'] = df['Embarked'].fillna('S')\n",
    "    # Cabin, Deck\n",
    "    df['Deck'] = df['Cabin'].apply(lambda s: s[0] if pd.notnull(s) else 'M')\n",
    "    df.loc[(df['Deck'] == 'T'), 'Deck'] = 'A'\n",
    "    # propogate median fair\n",
    "    med_fare = df.groupby(['Pclass', 'Parch', 'SibSp']).Fare.median()[3][0][0]\n",
    "    df['Fare'] = df['Fare'].fillna(med_fare)\n",
    "    #Age\n",
    "    df['Age'] = df.groupby(['Sex', 'Pclass', 'Title'])['Age'].apply(lambda x: x.fillna(x.median()))\n",
    "    # family info\n",
    "    df.WomanOrBoySurvived = df.WomanOrBoySurvived.fillna(0)\n",
    "    df.WomanOrBoyCount = df.WomanOrBoyCount.fillna(0)\n",
    "    df.FamilySurvivedCount = df.FamilySurvivedCount.fillna(0)\n",
    "    df.Alone = df.Alone.fillna(0)\n",
    "    return df    "
   ]
  },
  {
   "cell_type": "code",
   "execution_count": 134,
   "metadata": {},
   "outputs": [],
   "source": [
    "def encode_types(df):\n",
    "    numerics = ['int8', 'int16', 'int32', 'int64', 'float16', 'float32', 'float64']\n",
    "    categorical_columns = []\n",
    "    features = df.columns.values.tolist()\n",
    "    for col in features:\n",
    "        if df[col].dtype in numerics: continue\n",
    "        categorical_columns.append(col)\n",
    "    # Encoding categorical features\n",
    "    for col in categorical_columns:\n",
    "        if col in df.columns:\n",
    "            le = LabelEncoder()\n",
    "            le.fit(list(df[col].astype(str).values))\n",
    "            df[col] = le.transform(list(df[col].astype(str).values))\n",
    "    return df\n",
    "    "
   ]
  },
  {
   "cell_type": "code",
   "execution_count": 147,
   "metadata": {},
   "outputs": [
    {
     "name": "stdout",
     "output_type": "stream",
     "text": [
      "             Pclass  Sex   Age  SibSp  Parch     Fare  Embarked  Title  \\\n",
      "PassengerId                                                              \n",
      "892               3    1  34.5      0      0   7.8292         1     10   \n",
      "893               3    0  47.0      1      0   7.0000         2     11   \n",
      "894               2    1  62.0      0      0   9.6875         1     10   \n",
      "895               3    1  27.0      0      0   8.6625         2     10   \n",
      "896               3    0  22.0      1      1  12.2875         2     11   \n",
      "\n",
      "             LastName  IsWomanOrBoy  WomanOrBoyCount  FamilySurvivedCount  \\\n",
      "PassengerId                                                                 \n",
      "892               401             0                3                  3.0   \n",
      "893               846             1                1                  0.0   \n",
      "894               552             0                0                  0.0   \n",
      "895               854             0                0                  0.0   \n",
      "896               342             1                2                  1.0   \n",
      "\n",
      "             WomanOrBoySurvived  Alone  Single  SmallF  MedF  LargeF  Deck  \n",
      "PassengerId                                                                 \n",
      "892                         1.0      0       1       0     0       0     7  \n",
      "893                         0.0      0       0       1     0       0     7  \n",
      "894                         0.0      1       1       0     0       0     7  \n",
      "895                         0.0      1       1       0     0       0     7  \n",
      "896                         0.5      0       0       0     1       0     7  \n"
     ]
    }
   ],
   "source": [
    "RANDOM_SEED = 10\n",
    "\n",
    "# combine train and test into single df for preprocessing --> becareful bc test won't have survived column\n",
    "df = pd.concat([train_data, test_data], axis=0, sort=False)\n",
    "df.head()\n",
    "\n",
    "df = process_name(df)\n",
    "\n",
    "df = add_family_info(df)\n",
    "\n",
    "# fill in missing\n",
    "df = fill_missing(df)\n",
    "\n",
    "# drop these columns\n",
    "cols_to_drop = ['Name','Ticket','Cabin']\n",
    "df = df.drop(cols_to_drop, axis=1)\n",
    "\n",
    "# encode the string datatypes using LabelEncoder\n",
    "df = encode_types(df)\n",
    "\n",
    "# separate into data and survived label\n",
    "train_data, test_data = df.loc[train_data.index], df.loc[test_data.index]\n",
    "X_train = train_data.loc[:, train_data.columns != 'Survived']\n",
    "y_train = train_data.loc[:, 'Survived']\n",
    "\n",
    "test_data = test_data.loc[:, test_data.columns != 'Survived']\n",
    "print(test_data.head())\n",
    "\n",
    "# try kfold from scikit-learn\n",
    "# X_train, X_test, y_train, y_test = train_test_split(X_train, y_train, test_size=0.33, random_state=RANDOM_SEED)\n",
    "\n",
    "# print(X_train.head())\n",
    "# print(y_train.head())\n",
    "# print(test_data.head())"
   ]
  },
  {
   "cell_type": "code",
   "execution_count": 148,
   "metadata": {},
   "outputs": [
    {
     "data": {
      "text/html": [
       "<div>\n",
       "<style scoped>\n",
       "    .dataframe tbody tr th:only-of-type {\n",
       "        vertical-align: middle;\n",
       "    }\n",
       "\n",
       "    .dataframe tbody tr th {\n",
       "        vertical-align: top;\n",
       "    }\n",
       "\n",
       "    .dataframe thead th {\n",
       "        text-align: right;\n",
       "    }\n",
       "</style>\n",
       "<table border=\"1\" class=\"dataframe\">\n",
       "  <thead>\n",
       "    <tr style=\"text-align: right;\">\n",
       "      <th></th>\n",
       "      <th>Survived</th>\n",
       "      <th>Pclass</th>\n",
       "      <th>Sex</th>\n",
       "      <th>Age</th>\n",
       "      <th>SibSp</th>\n",
       "      <th>Parch</th>\n",
       "      <th>Fare</th>\n",
       "      <th>Embarked</th>\n",
       "      <th>Title</th>\n",
       "      <th>LastName</th>\n",
       "      <th>IsWomanOrBoy</th>\n",
       "      <th>WomanOrBoyCount</th>\n",
       "      <th>FamilySurvivedCount</th>\n",
       "      <th>WomanOrBoySurvived</th>\n",
       "      <th>Alone</th>\n",
       "      <th>Single</th>\n",
       "      <th>SmallF</th>\n",
       "      <th>MedF</th>\n",
       "      <th>LargeF</th>\n",
       "      <th>Deck</th>\n",
       "    </tr>\n",
       "    <tr>\n",
       "      <th>PassengerId</th>\n",
       "      <th></th>\n",
       "      <th></th>\n",
       "      <th></th>\n",
       "      <th></th>\n",
       "      <th></th>\n",
       "      <th></th>\n",
       "      <th></th>\n",
       "      <th></th>\n",
       "      <th></th>\n",
       "      <th></th>\n",
       "      <th></th>\n",
       "      <th></th>\n",
       "      <th></th>\n",
       "      <th></th>\n",
       "      <th></th>\n",
       "      <th></th>\n",
       "      <th></th>\n",
       "      <th></th>\n",
       "      <th></th>\n",
       "      <th></th>\n",
       "    </tr>\n",
       "  </thead>\n",
       "  <tbody>\n",
       "  </tbody>\n",
       "</table>\n",
       "</div>"
      ],
      "text/plain": [
       "Empty DataFrame\n",
       "Columns: [Survived, Pclass, Sex, Age, SibSp, Parch, Fare, Embarked, Title, LastName, IsWomanOrBoy, WomanOrBoyCount, FamilySurvivedCount, WomanOrBoySurvived, Alone, Single, SmallF, MedF, LargeF, Deck]\n",
       "Index: []"
      ]
     },
     "execution_count": 148,
     "metadata": {},
     "output_type": "execute_result"
    }
   ],
   "source": [
    "train_data.columns[train_data.isna().any()].tolist()\n",
    "train_data[train_data['Embarked'].isna() == True]\n",
    "#train_data['Embarked']\n",
    "#test_data.columns[test_data.isna().any()].tolist()"
   ]
  },
  {
   "cell_type": "markdown",
   "metadata": {},
   "source": [
    "## Keeping track of models\n",
    "\n",
    "For now we will keep a dictionary with all the models performance\n",
    "\n",
    "Model will map to (fnr, fpr)\n",
    "\n",
    "Next we will pickle them so we don't have to waste time retraining"
   ]
  },
  {
   "cell_type": "code",
   "execution_count": 188,
   "metadata": {},
   "outputs": [],
   "source": [
    "'''\n",
    "Use this method to score the cross evaluation\n",
    "This way we will have the confusion matrix values for each fold and we can easily get the average fnr and fpr\n",
    "'''\n",
    "def confusion_matrix_scorer(clf, X, y):\n",
    "    y_pred = clf.predict(X)\n",
    "    cm = confusion_matrix(y, y_pred)\n",
    "    accuracy = clf.score(X, y)\n",
    "    return {'tn': cm[0, 0], 'fp': cm[0, 1],\n",
    "            'fn': cm[1, 0], 'tp': cm[1, 1], \"acc\": accuracy}\n",
    "\n",
    "# fit and evaluate model\n",
    "def eval(model):\n",
    "    # cross validation --> generate different train test splits\n",
    "    \n",
    "    cv = ShuffleSplit(n_splits=5, test_size=0.3, random_state=RANDOM_SEED)\n",
    "\n",
    "    model.fit(X_train.values, y_train.values)\n",
    "\n",
    "    # cross eval accuracy\n",
    "    score = cross_validate(model, X_train.values, y_train.values, cv = cv, scoring=confusion_matrix_scorer)\n",
    "    print(score)\n",
    "\n",
    "    tn = np.mean(score['test_tn'])\n",
    "    fp = np.mean(score['test_fp'])\n",
    "    fn = np.mean(score['test_fn'])\n",
    "    tp = np.mean(score['test_tp'])\n",
    "    acc = np.mean(score['test_acc'])\n",
    "\n",
    "    print(\"Accuracy\", acc)\n",
    "    print(\"\")\n",
    "    print(\"True Negatives\", tn)\n",
    "    print(\"False Positives\", fp)\n",
    "    print(\"False Negatives\", fn)\n",
    "    print(\"True Positives\", tp)\n",
    "    print(\"\")\n",
    "    fpr = fp / (fp + tn)\n",
    "    print(\"FPR\", fpr)\n",
    "    fnr = fn / (fn + tp)\n",
    "    print(\"FNR\", fnr)\n",
    "    models[type(model).__name__] = (fpr, fnr)"
   ]
  },
  {
   "cell_type": "code",
   "execution_count": 150,
   "metadata": {},
   "outputs": [],
   "source": [
    "models = {}"
   ]
  },
  {
   "cell_type": "markdown",
   "metadata": {},
   "source": [
    "## Tree"
   ]
  },
  {
   "cell_type": "code",
   "execution_count": 169,
   "metadata": {},
   "outputs": [
    {
     "name": "stdout",
     "output_type": "stream",
     "text": [
      "Accuracy 0.826865671641791\n",
      "\n",
      "True Negatives 140.8\n",
      "False Positives 26.8\n",
      "False Negatives 19.6\n",
      "True Positives 80.8\n",
      "\n",
      "FPR 0.15990453460620524\n",
      "FNR 0.1952191235059761\n"
     ]
    }
   ],
   "source": [
    "tree_clf = tree.DecisionTreeClassifier()\n",
    "eval(tree_clf)"
   ]
  },
  {
   "cell_type": "markdown",
   "metadata": {},
   "source": [
    "## KNN"
   ]
  },
  {
   "cell_type": "code",
   "execution_count": 152,
   "metadata": {},
   "outputs": [
    {
     "name": "stdout",
     "output_type": "stream",
     "text": [
      "Accuracy 0.6694029850746268\n",
      "\n",
      "True Negatives 139.8\n",
      "False Positives 27.8\n",
      "False Negatives 60.8\n",
      "True Positives 39.6\n",
      "\n",
      "FPR 0.16587112171837706\n",
      "FNR 0.6055776892430278\n"
     ]
    }
   ],
   "source": [
    "knn_clf = neighbors.KNeighborsClassifier()\n",
    "eval(knn_clf)"
   ]
  },
  {
   "cell_type": "markdown",
   "metadata": {},
   "source": [
    "## NN"
   ]
  },
  {
   "cell_type": "code",
   "execution_count": 153,
   "metadata": {},
   "outputs": [
    {
     "name": "stdout",
     "output_type": "stream",
     "text": [
      "Accuracy 0.8723880597014926\n",
      "\n",
      "True Negatives 160.2\n",
      "False Positives 7.4\n",
      "False Negatives 26.8\n",
      "True Positives 73.6\n",
      "\n",
      "FPR 0.0441527446300716\n",
      "FNR 0.2669322709163347\n"
     ]
    }
   ],
   "source": [
    "NN_clf = neural_network.MLPClassifier()\n",
    "eval(NN_clf)"
   ]
  },
  {
   "cell_type": "markdown",
   "metadata": {},
   "source": [
    "## SVM"
   ]
  },
  {
   "cell_type": "code",
   "execution_count": 154,
   "metadata": {},
   "outputs": [
    {
     "name": "stdout",
     "output_type": "stream",
     "text": [
      "Accuracy 0.9\n",
      "\n",
      "True Negatives 165.8\n",
      "False Positives 1.8\n",
      "False Negatives 25.0\n",
      "True Positives 75.4\n",
      "\n",
      "FPR 0.010739856801909307\n",
      "FNR 0.249003984063745\n"
     ]
    }
   ],
   "source": [
    "svm_clf = svm.SVC(kernel='linear')\n",
    "eval(svm_clf)"
   ]
  },
  {
   "cell_type": "code",
   "execution_count": 155,
   "metadata": {},
   "outputs": [
    {
     "name": "stdout",
     "output_type": "stream",
     "text": [
      "Accuracy 0.7194029850746269\n",
      "\n",
      "True Negatives 124.8\n",
      "False Positives 42.8\n",
      "False Negatives 32.4\n",
      "True Positives 68.0\n",
      "\n",
      "FPR 0.2553699284009546\n",
      "FNR 0.32270916334661354\n"
     ]
    },
    {
     "name": "stderr",
     "output_type": "stream",
     "text": [
      "/Users/nathan/opt/anaconda3/lib/python3.9/site-packages/sklearn/svm/_base.py:1206: ConvergenceWarning: Liblinear failed to converge, increase the number of iterations.\n",
      "  warnings.warn(\n",
      "/Users/nathan/opt/anaconda3/lib/python3.9/site-packages/sklearn/svm/_base.py:1206: ConvergenceWarning: Liblinear failed to converge, increase the number of iterations.\n",
      "  warnings.warn(\n",
      "/Users/nathan/opt/anaconda3/lib/python3.9/site-packages/sklearn/svm/_base.py:1206: ConvergenceWarning: Liblinear failed to converge, increase the number of iterations.\n",
      "  warnings.warn(\n",
      "/Users/nathan/opt/anaconda3/lib/python3.9/site-packages/sklearn/svm/_base.py:1206: ConvergenceWarning: Liblinear failed to converge, increase the number of iterations.\n",
      "  warnings.warn(\n",
      "/Users/nathan/opt/anaconda3/lib/python3.9/site-packages/sklearn/svm/_base.py:1206: ConvergenceWarning: Liblinear failed to converge, increase the number of iterations.\n",
      "  warnings.warn(\n",
      "/Users/nathan/opt/anaconda3/lib/python3.9/site-packages/sklearn/svm/_base.py:1206: ConvergenceWarning: Liblinear failed to converge, increase the number of iterations.\n",
      "  warnings.warn(\n"
     ]
    }
   ],
   "source": [
    "svm_linear = svm.LinearSVC()\n",
    "eval(svm_linear)"
   ]
  },
  {
   "cell_type": "markdown",
   "metadata": {},
   "source": [
    "## Linear"
   ]
  },
  {
   "cell_type": "code",
   "execution_count": 156,
   "metadata": {},
   "outputs": [
    {
     "name": "stdout",
     "output_type": "stream",
     "text": [
      "Accuracy 0.8708955223880597\n",
      "\n",
      "True Negatives 156.8\n",
      "False Positives 10.8\n",
      "False Negatives 23.8\n",
      "True Positives 76.6\n",
      "\n",
      "FPR 0.06443914081145584\n",
      "FNR 0.2370517928286853\n"
     ]
    },
    {
     "name": "stderr",
     "output_type": "stream",
     "text": [
      "/Users/nathan/opt/anaconda3/lib/python3.9/site-packages/sklearn/linear_model/_logistic.py:814: ConvergenceWarning: lbfgs failed to converge (status=1):\n",
      "STOP: TOTAL NO. of ITERATIONS REACHED LIMIT.\n",
      "\n",
      "Increase the number of iterations (max_iter) or scale the data as shown in:\n",
      "    https://scikit-learn.org/stable/modules/preprocessing.html\n",
      "Please also refer to the documentation for alternative solver options:\n",
      "    https://scikit-learn.org/stable/modules/linear_model.html#logistic-regression\n",
      "  n_iter_i = _check_optimize_result(\n",
      "/Users/nathan/opt/anaconda3/lib/python3.9/site-packages/sklearn/linear_model/_logistic.py:814: ConvergenceWarning: lbfgs failed to converge (status=1):\n",
      "STOP: TOTAL NO. of ITERATIONS REACHED LIMIT.\n",
      "\n",
      "Increase the number of iterations (max_iter) or scale the data as shown in:\n",
      "    https://scikit-learn.org/stable/modules/preprocessing.html\n",
      "Please also refer to the documentation for alternative solver options:\n",
      "    https://scikit-learn.org/stable/modules/linear_model.html#logistic-regression\n",
      "  n_iter_i = _check_optimize_result(\n",
      "/Users/nathan/opt/anaconda3/lib/python3.9/site-packages/sklearn/linear_model/_logistic.py:814: ConvergenceWarning: lbfgs failed to converge (status=1):\n",
      "STOP: TOTAL NO. of ITERATIONS REACHED LIMIT.\n",
      "\n",
      "Increase the number of iterations (max_iter) or scale the data as shown in:\n",
      "    https://scikit-learn.org/stable/modules/preprocessing.html\n",
      "Please also refer to the documentation for alternative solver options:\n",
      "    https://scikit-learn.org/stable/modules/linear_model.html#logistic-regression\n",
      "  n_iter_i = _check_optimize_result(\n",
      "/Users/nathan/opt/anaconda3/lib/python3.9/site-packages/sklearn/linear_model/_logistic.py:814: ConvergenceWarning: lbfgs failed to converge (status=1):\n",
      "STOP: TOTAL NO. of ITERATIONS REACHED LIMIT.\n",
      "\n",
      "Increase the number of iterations (max_iter) or scale the data as shown in:\n",
      "    https://scikit-learn.org/stable/modules/preprocessing.html\n",
      "Please also refer to the documentation for alternative solver options:\n",
      "    https://scikit-learn.org/stable/modules/linear_model.html#logistic-regression\n",
      "  n_iter_i = _check_optimize_result(\n",
      "/Users/nathan/opt/anaconda3/lib/python3.9/site-packages/sklearn/linear_model/_logistic.py:814: ConvergenceWarning: lbfgs failed to converge (status=1):\n",
      "STOP: TOTAL NO. of ITERATIONS REACHED LIMIT.\n",
      "\n",
      "Increase the number of iterations (max_iter) or scale the data as shown in:\n",
      "    https://scikit-learn.org/stable/modules/preprocessing.html\n",
      "Please also refer to the documentation for alternative solver options:\n",
      "    https://scikit-learn.org/stable/modules/linear_model.html#logistic-regression\n",
      "  n_iter_i = _check_optimize_result(\n",
      "/Users/nathan/opt/anaconda3/lib/python3.9/site-packages/sklearn/linear_model/_logistic.py:814: ConvergenceWarning: lbfgs failed to converge (status=1):\n",
      "STOP: TOTAL NO. of ITERATIONS REACHED LIMIT.\n",
      "\n",
      "Increase the number of iterations (max_iter) or scale the data as shown in:\n",
      "    https://scikit-learn.org/stable/modules/preprocessing.html\n",
      "Please also refer to the documentation for alternative solver options:\n",
      "    https://scikit-learn.org/stable/modules/linear_model.html#logistic-regression\n",
      "  n_iter_i = _check_optimize_result(\n"
     ]
    }
   ],
   "source": [
    "logistic = linear_model.LogisticRegression()\n",
    "eval(logistic)"
   ]
  },
  {
   "cell_type": "code",
   "execution_count": 157,
   "metadata": {},
   "outputs": [
    {
     "name": "stdout",
     "output_type": "stream",
     "text": [
      "Accuracy 0.6201492537313433\n",
      "\n",
      "True Negatives 136.6\n",
      "False Positives 31.0\n",
      "False Negatives 70.8\n",
      "True Positives 29.6\n",
      "\n",
      "FPR 0.18496420047732698\n",
      "FNR 0.7051792828685258\n"
     ]
    }
   ],
   "source": [
    "perceptron = linear_model.Perceptron()\n",
    "eval(perceptron)"
   ]
  },
  {
   "cell_type": "code",
   "execution_count": 158,
   "metadata": {},
   "outputs": [
    {
     "name": "stdout",
     "output_type": "stream",
     "text": [
      "Accuracy 0.894776119402985\n",
      "\n",
      "True Negatives 162.4\n",
      "False Positives 5.2\n",
      "False Negatives 23.0\n",
      "True Positives 77.4\n",
      "\n",
      "FPR 0.03102625298329356\n",
      "FNR 0.2290836653386454\n"
     ]
    }
   ],
   "source": [
    "ridge = linear_model.RidgeClassifier()\n",
    "eval(ridge)"
   ]
  },
  {
   "cell_type": "code",
   "execution_count": 159,
   "metadata": {},
   "outputs": [
    {
     "name": "stdout",
     "output_type": "stream",
     "text": [
      "Accuracy 0.6559701492537314\n",
      "\n",
      "True Negatives 143.8\n",
      "False Positives 23.8\n",
      "False Negatives 68.4\n",
      "True Positives 32.0\n",
      "\n",
      "FPR 0.14200477326968972\n",
      "FNR 0.6812749003984064\n"
     ]
    }
   ],
   "source": [
    "sdg = linear_model.SGDClassifier()\n",
    "eval(sdg)"
   ]
  },
  {
   "cell_type": "markdown",
   "metadata": {},
   "source": [
    "## Ensemble"
   ]
  },
  {
   "cell_type": "code",
   "execution_count": 160,
   "metadata": {},
   "outputs": [
    {
     "name": "stdout",
     "output_type": "stream",
     "text": [
      "Accuracy 0.894776119402985\n",
      "\n",
      "True Negatives 161.6\n",
      "False Positives 6.0\n",
      "False Negatives 22.2\n",
      "True Positives 78.2\n",
      "\n",
      "FPR 0.03579952267303103\n",
      "FNR 0.22111553784860555\n"
     ]
    }
   ],
   "source": [
    "random_forest = ensemble.RandomForestClassifier()\n",
    "eval(random_forest)"
   ]
  },
  {
   "cell_type": "code",
   "execution_count": 161,
   "metadata": {},
   "outputs": [
    {
     "name": "stdout",
     "output_type": "stream",
     "text": [
      "Accuracy 0.8947761194029852\n",
      "\n",
      "True Negatives 161.2\n",
      "False Positives 6.4\n",
      "False Negatives 21.8\n",
      "True Positives 78.6\n",
      "\n",
      "FPR 0.03818615751789976\n",
      "FNR 0.2171314741035857\n"
     ]
    }
   ],
   "source": [
    "gradient_boost = ensemble.GradientBoostingClassifier()\n",
    "eval(gradient_boost)"
   ]
  },
  {
   "cell_type": "code",
   "execution_count": 162,
   "metadata": {},
   "outputs": [
    {
     "name": "stdout",
     "output_type": "stream",
     "text": [
      "Accuracy 0.8843283582089552\n",
      "\n",
      "True Negatives 159.0\n",
      "False Positives 8.6\n",
      "False Negatives 22.4\n",
      "True Positives 78.0\n",
      "\n",
      "FPR 0.0513126491646778\n",
      "FNR 0.2231075697211155\n"
     ]
    }
   ],
   "source": [
    "extra_trees = ensemble.ExtraTreesClassifier()\n",
    "eval(extra_trees)"
   ]
  },
  {
   "cell_type": "code",
   "execution_count": 163,
   "metadata": {},
   "outputs": [
    {
     "name": "stdout",
     "output_type": "stream",
     "text": [
      "Accuracy 0.8895522388059701\n",
      "\n",
      "True Negatives 159.0\n",
      "False Positives 8.6\n",
      "False Negatives 21.0\n",
      "True Positives 79.4\n",
      "\n",
      "FPR 0.0513126491646778\n",
      "FNR 0.2091633466135458\n"
     ]
    }
   ],
   "source": [
    "bagging = ensemble.BaggingClassifier()\n",
    "eval(bagging)"
   ]
  },
  {
   "cell_type": "markdown",
   "metadata": {},
   "source": [
    "## Random Forest"
   ]
  },
  {
   "cell_type": "code",
   "execution_count": 177,
   "metadata": {},
   "outputs": [
    {
     "name": "stdout",
     "output_type": "stream",
     "text": [
      "Accuracy 0.8947761194029852\n",
      "\n",
      "True Negatives 161.8\n",
      "False Positives 5.8\n",
      "False Negatives 22.4\n",
      "True Positives 78.0\n",
      "\n",
      "FPR 0.034606205250596656\n",
      "FNR 0.2231075697211155\n"
     ]
    }
   ],
   "source": [
    "random_forest = GridSearchCV(estimator=ensemble.RandomForestClassifier(), param_grid={'n_estimators': [200, 300, 400, 500]}, cv=10).fit(X_train, y_train)\n",
    "random_forest.fit(X_train, y_train)\n",
    "acc = random_forest.score(X_train, y_train)\n",
    "# find best paremeters\n",
    "# print(acc,random_forest.best_params_)\n",
    "\n",
    "random_forest = ensemble.RandomForestClassifier(n_estimators = 500)\n",
    "eval(random_forest)"
   ]
  },
  {
   "cell_type": "markdown",
   "metadata": {},
   "source": [
    "## XGB"
   ]
  },
  {
   "cell_type": "code",
   "execution_count": 191,
   "metadata": {},
   "outputs": [
    {
     "name": "stderr",
     "output_type": "stream",
     "text": [
      "/Users/tristanpeat/miniforge3/envs/tensorflow/lib/python3.10/site-packages/xgboost/sklearn.py:1224: UserWarning: The use of label encoder in XGBClassifier is deprecated and will be removed in a future release. To remove this warning, do the following: 1) Pass option use_label_encoder=False when constructing XGBClassifier object; and 2) Encode your labels (y) as integers starting with 0, i.e. 0, 1, 2, ..., [num_class - 1].\n",
      "  warnings.warn(label_encoder_deprecation_msg, UserWarning)\n"
     ]
    },
    {
     "name": "stdout",
     "output_type": "stream",
     "text": [
      "[11:44:05] WARNING: /Users/runner/miniforge3/conda-bld/xgboost-split_1645117899018/work/src/learner.cc:1115: Starting in XGBoost 1.3.0, the default evaluation metric used with the objective 'binary:logistic' was changed from 'error' to 'logloss'. Explicitly set eval_metric if you'd like to restore the old behavior.\n",
      "[11:44:05] WARNING: /Users/runner/miniforge3/conda-bld/xgboost-split_1645117899018/work/src/learner.cc:1115: Starting in XGBoost 1.3.0, the default evaluation metric used with the objective 'binary:logistic' was changed from 'error' to 'logloss'. Explicitly set eval_metric if you'd like to restore the old behavior.\n"
     ]
    },
    {
     "name": "stderr",
     "output_type": "stream",
     "text": [
      "/Users/tristanpeat/miniforge3/envs/tensorflow/lib/python3.10/site-packages/xgboost/sklearn.py:1224: UserWarning: The use of label encoder in XGBClassifier is deprecated and will be removed in a future release. To remove this warning, do the following: 1) Pass option use_label_encoder=False when constructing XGBClassifier object; and 2) Encode your labels (y) as integers starting with 0, i.e. 0, 1, 2, ..., [num_class - 1].\n",
      "  warnings.warn(label_encoder_deprecation_msg, UserWarning)\n",
      "/Users/tristanpeat/miniforge3/envs/tensorflow/lib/python3.10/site-packages/xgboost/sklearn.py:1224: UserWarning: The use of label encoder in XGBClassifier is deprecated and will be removed in a future release. To remove this warning, do the following: 1) Pass option use_label_encoder=False when constructing XGBClassifier object; and 2) Encode your labels (y) as integers starting with 0, i.e. 0, 1, 2, ..., [num_class - 1].\n",
      "  warnings.warn(label_encoder_deprecation_msg, UserWarning)\n"
     ]
    },
    {
     "name": "stdout",
     "output_type": "stream",
     "text": [
      "[11:44:05] WARNING: /Users/runner/miniforge3/conda-bld/xgboost-split_1645117899018/work/src/learner.cc:1115: Starting in XGBoost 1.3.0, the default evaluation metric used with the objective 'binary:logistic' was changed from 'error' to 'logloss'. Explicitly set eval_metric if you'd like to restore the old behavior.\n",
      "[11:44:05] WARNING: /Users/runner/miniforge3/conda-bld/xgboost-split_1645117899018/work/src/learner.cc:1115: Starting in XGBoost 1.3.0, the default evaluation metric used with the objective 'binary:logistic' was changed from 'error' to 'logloss'. Explicitly set eval_metric if you'd like to restore the old behavior.\n",
      "[11:44:05] WARNING: /Users/runner/miniforge3/conda-bld/xgboost-split_1645117899018/work/src/learner.cc:1115: Starting in XGBoost 1.3.0, the default evaluation metric used with the objective 'binary:logistic' was changed from 'error' to 'logloss'. Explicitly set eval_metric if you'd like to restore the old behavior.\n",
      "[11:44:05] WARNING: /Users/runner/miniforge3/conda-bld/xgboost-split_1645117899018/work/src/learner.cc:1115: Starting in XGBoost 1.3.0, the default evaluation metric used with the objective 'binary:logistic' was changed from 'error' to 'logloss'. Explicitly set eval_metric if you'd like to restore the old behavior.\n",
      "{'fit_time': array([0.09, 0.12, 0.09, 0.09, 0.07]), 'score_time': array([0., 0., 0., 0., 0.]), 'test_tn': array([160, 150, 161, 154, 146]), 'test_fp': array([14, 16, 11, 11, 15]), 'test_fn': array([21, 20, 19, 19, 27]), 'test_tp': array([73, 82, 77, 84, 80]), 'test_acc': array([0.87, 0.87, 0.89, 0.89, 0.84])}\n",
      "Accuracy 0.8708955223880597\n",
      "\n",
      "True Negatives 154.2\n",
      "False Positives 13.4\n",
      "False Negatives 21.2\n",
      "True Positives 79.2\n",
      "\n",
      "FPR 0.07995226730310263\n",
      "FNR 0.21115537848605576\n"
     ]
    },
    {
     "name": "stderr",
     "output_type": "stream",
     "text": [
      "/Users/tristanpeat/miniforge3/envs/tensorflow/lib/python3.10/site-packages/xgboost/sklearn.py:1224: UserWarning: The use of label encoder in XGBClassifier is deprecated and will be removed in a future release. To remove this warning, do the following: 1) Pass option use_label_encoder=False when constructing XGBClassifier object; and 2) Encode your labels (y) as integers starting with 0, i.e. 0, 1, 2, ..., [num_class - 1].\n",
      "  warnings.warn(label_encoder_deprecation_msg, UserWarning)\n",
      "/Users/tristanpeat/miniforge3/envs/tensorflow/lib/python3.10/site-packages/xgboost/sklearn.py:1224: UserWarning: The use of label encoder in XGBClassifier is deprecated and will be removed in a future release. To remove this warning, do the following: 1) Pass option use_label_encoder=False when constructing XGBClassifier object; and 2) Encode your labels (y) as integers starting with 0, i.e. 0, 1, 2, ..., [num_class - 1].\n",
      "  warnings.warn(label_encoder_deprecation_msg, UserWarning)\n"
     ]
    }
   ],
   "source": [
    "def hyperopt_xgb_score(params):\n",
    "    clf = XGBClassifier(**params)\n",
    "    current_score = cross_val_score(clf, X_train, y_train, cv=10).mean()\n",
    "    print(current_score, params)\n",
    "    return current_score \n",
    "\n",
    "space_xgb = {\n",
    "            'learning_rate': hp.quniform('learning_rate', 0, 0.05, 0.0001),\n",
    "            'n_estimators': hp.choice('n_estimators', range(100, 1000)),\n",
    "            'max_depth':  hp.choice('max_depth', np.arange(5, 8, dtype=int)),\n",
    "            'min_child_weight': hp.quniform('min_child_weight', 1, 9, 0.025),\n",
    "            'subsample': hp.quniform('subsample', 0.5, 1, 0.005),\n",
    "            'gamma': hp.quniform('gamma', 0.5, 1, 0.005),\n",
    "            'colsample_bytree': hp.quniform('colsample_bytree', 0.5, 1, 0.005),\n",
    "            'eval_metric': 'auc',\n",
    "            'objective': 'binary:logistic',\n",
    "            'booster': 'gbtree',\n",
    "            'tree_method': 'exact',\n",
    "            'silent': 1,\n",
    "            'missing': None\n",
    "        }\n",
    "\n",
    "# best = fmin(fn=hyperopt_xgb_score, space=space_xgb, algo=tpe.suggest, max_evals=10)\n",
    "\n",
    "# params = space_eval(space_xgb, best)\n",
    "\n",
    "xgb_clf = XGBClassifier()\n",
    "# xgb_clf.fit(X_train, y_train)\n",
    "# acc = xgb_clf.score(X_train, y_train)\n",
    "# print(\"Accuracy\", acc)\n",
    "eval(xgb_clf)"
   ]
  },
  {
   "cell_type": "code",
   "execution_count": 170,
   "metadata": {},
   "outputs": [
    {
     "name": "stdout",
     "output_type": "stream",
     "text": [
      "Confusion matrix, without normalization\n",
      "[[155  36]\n",
      " [ 60  44]]\n"
     ]
    },
    {
     "name": "stderr",
     "output_type": "stream",
     "text": [
      "/Users/nathan/opt/anaconda3/lib/python3.9/site-packages/sklearn/base.py:443: UserWarning: X has feature names, but KNeighborsClassifier was fitted without feature names\n",
      "  warnings.warn(\n"
     ]
    },
    {
     "data": {
      "image/png": "[encoded data removed]",
      "text/plain": [
       "<Figure size 432x288 with 2 Axes>"
      ]
     },
     "metadata": {
      "needs_background": "light"
     },
     "output_type": "display_data"
    }
   ],
   "source": [
    "import itertools\n",
    "import matplotlib.pyplot as plt\n",
    "\n",
    "def plot_confusion_matrix(cm, classes,\n",
    "                          normalize=False,\n",
    "                          title='Confusion matrix',\n",
    "                          cmap=plt.cm.Blues):\n",
    "    \"\"\"\n",
    "    This function prints and plots the confusion matrix.\n",
    "    Normalization can be applied by setting `normalize=True`.\n",
    "    \"\"\"\n",
    "    if normalize:\n",
    "        cm = cm.astype('float') / cm.sum(axis=1)[:, np.newaxis]\n",
    "        print(\"Normalized confusion matrix\")\n",
    "    else:\n",
    "        print('Confusion matrix, without normalization')\n",
    "\n",
    "    print(cm)\n",
    "\n",
    "    plt.imshow(cm, interpolation='nearest', cmap=cmap)\n",
    "    plt.title(title)\n",
    "    plt.colorbar()\n",
    "    tick_marks = np.arange(len(classes))\n",
    "    plt.xticks(tick_marks, classes, rotation=45)\n",
    "    plt.yticks(tick_marks, classes)\n",
    "\n",
    "    fmt = '.2f' if normalize else 'd'\n",
    "    thresh = cm.max() / 2.\n",
    "    for i, j in itertools.product(range(cm.shape[0]), range(cm.shape[1])):\n",
    "        plt.text(j, i, format(cm[i, j], fmt),\n",
    "                 horizontalalignment=\"center\",\n",
    "                 color=\"white\" if cm[i, j] > thresh else \"black\")\n",
    "\n",
    "    plt.ylabel('True label')\n",
    "    plt.xlabel('Predicted label')\n",
    "    plt.tight_layout()\n",
    "\n",
    "def show_matrix(model):\n",
    "    y_pred = model.cross_validate_predict(X)\n",
    "    # Compute confusion matrix\n",
    "    cnf_matrix = confusion_matrix(y_truth, y_pred)\n",
    "    class_names=['0', '1']\n",
    "    np.set_printoptions(precision=2)\n",
    "\n",
    "    # Plot non-normalized confusion matrix\n",
    "    plt.figure()\n",
    "    plot_confusion_matrix(cnf_matrix, classes=class_names,\n",
    "                        title='Confusion matrix, without normalization')\n",
    "\n",
    "    plt.show()\n",
    "\n",
    "#  show_matrix(knn_clf)"
   ]
  },
  {
   "cell_type": "code",
   "execution_count": 195,
   "metadata": {},
   "outputs": [
    {
     "ename": "TypeError",
     "evalue": "only size-1 arrays can be converted to Python scalars",
     "output_type": "error",
     "traceback": [
      "\u001b[0;31m---------------------------------------------------------------------------\u001b[0m",
      "\u001b[0;31mTypeError\u001b[0m                                 Traceback (most recent call last)",
      "\u001b[1;32m/Users/tristanpeat/Documents/gt/fall22/vip/titanic-ml/titanic-example.ipynb Cell 37\u001b[0m in \u001b[0;36m<cell line: 9>\u001b[0;34m()\u001b[0m\n\u001b[1;32m      <a href='vscode-notebook-cell:/Users/tristanpeat/Documents/gt/fall22/vip/titanic-ml/titanic-example.ipynb#X45sZmlsZQ%3D%3D?line=4'>5</a>\u001b[0m     pred_df\u001b[39m.\u001b[39mto_csv(\u001b[39mtype\u001b[39m(model)\u001b[39m.\u001b[39m\u001b[39m__name__\u001b[39m \u001b[39m+\u001b[39m \u001b[39m'\u001b[39m\u001b[39mpredictions.csv\u001b[39m\u001b[39m'\u001b[39m, header\u001b[39m=\u001b[39m\u001b[39mTrue\u001b[39;00m, sep\u001b[39m=\u001b[39m\u001b[39m'\u001b[39m\u001b[39m,\u001b[39m\u001b[39m'\u001b[39m)\n\u001b[1;32m      <a href='vscode-notebook-cell:/Users/tristanpeat/Documents/gt/fall22/vip/titanic-ml/titanic-example.ipynb#X45sZmlsZQ%3D%3D?line=7'>8</a>\u001b[0m \u001b[39m# think the test_data has NaN so it really doesn't like it\u001b[39;00m\n\u001b[0;32m----> <a href='vscode-notebook-cell:/Users/tristanpeat/Documents/gt/fall22/vip/titanic-ml/titanic-example.ipynb#X45sZmlsZQ%3D%3D?line=8'>9</a>\u001b[0m create_pred_csv(gradient_boost)\n",
      "\u001b[1;32m/Users/tristanpeat/Documents/gt/fall22/vip/titanic-ml/titanic-example.ipynb Cell 37\u001b[0m in \u001b[0;36mcreate_pred_csv\u001b[0;34m(model)\u001b[0m\n\u001b[1;32m      <a href='vscode-notebook-cell:/Users/tristanpeat/Documents/gt/fall22/vip/titanic-ml/titanic-example.ipynb#X45sZmlsZQ%3D%3D?line=0'>1</a>\u001b[0m \u001b[39mdef\u001b[39;00m \u001b[39mcreate_pred_csv\u001b[39m(model):\n\u001b[0;32m----> <a href='vscode-notebook-cell:/Users/tristanpeat/Documents/gt/fall22/vip/titanic-ml/titanic-example.ipynb#X45sZmlsZQ%3D%3D?line=1'>2</a>\u001b[0m     predictions \u001b[39m=\u001b[39m \u001b[39mint\u001b[39;49m(model\u001b[39m.\u001b[39;49mpredict(test_data\u001b[39m.\u001b[39;49mvalues))\n\u001b[1;32m      <a href='vscode-notebook-cell:/Users/tristanpeat/Documents/gt/fall22/vip/titanic-ml/titanic-example.ipynb#X45sZmlsZQ%3D%3D?line=2'>3</a>\u001b[0m     pred_df \u001b[39m=\u001b[39m pd\u001b[39m.\u001b[39mDataFrame(predictions, index\u001b[39m=\u001b[39mtest_data\u001b[39m.\u001b[39mindex, columns\u001b[39m=\u001b[39m[\u001b[39m'\u001b[39m\u001b[39mSurvived\u001b[39m\u001b[39m'\u001b[39m])\n\u001b[1;32m      <a href='vscode-notebook-cell:/Users/tristanpeat/Documents/gt/fall22/vip/titanic-ml/titanic-example.ipynb#X45sZmlsZQ%3D%3D?line=3'>4</a>\u001b[0m     \u001b[39mtype\u001b[39m(pred_df)\n",
      "\u001b[0;31mTypeError\u001b[0m: only size-1 arrays can be converted to Python scalars"
     ]
    }
   ],
   "source": [
    "def create_pred_csv(model):\n",
    "    predictions = model.predict(test_data.values)\n",
    "    pred_df = pd.DataFrame(predictions, index=test_data.index, columns=['Survived'])\n",
    "    type(pred_df)\n",
    "    pred_df.to_csv(type(model).__name__ + 'predictions.csv', header=True, sep=',')\n",
    "\n",
    "\n",
    "# think the test_data has NaN so it really doesn't like it\n",
    "create_pred_csv(gradient_boost)"
   ]
  },
  {
   "cell_type": "markdown",
   "metadata": {},
   "source": [
    "## Function to display pareto front\n",
    "\n",
    "We will give it the model dict and all the fpr and fnr that we have\n",
    "\n",
    "https://oapackage.readthedocs.io/en/latest/examples/example_pareto.html\n",
    "\n",
    "https://stackoverflow.com/questions/21294829/fast-calculations-of-the-pareto-front-in-r\n",
    "\n",
    "The trick here is to sort by x, which then allows you to limit your check to making sure that all prior values of x must have greater values of y to ensure that point is on the frontier."
   ]
  },
  {
   "cell_type": "code",
   "execution_count": 192,
   "metadata": {},
   "outputs": [
    {
     "name": "stdout",
     "output_type": "stream",
     "text": [
      "{'DecisionTreeClassifier': (0.15990453460620524, 0.1952191235059761), 'SVC': (0.010739856801909307, 0.249003984063745), 'RidgeClassifier': (0.03102625298329356, 0.2290836653386454), 'RandomForestClassifier': (0.034606205250596656, 0.2231075697211155), 'GradientBoostingClassifier': (0.03818615751789976, 0.2171314741035857), 'BaggingClassifier': (0.0513126491646778, 0.2091633466135458)}\n"
     ]
    }
   ],
   "source": [
    "def create_models_df(models):\n",
    "    df = pd.DataFrame(columns = ['model', 'fpr', 'fnr'])\n",
    "    for model in models:\n",
    "        fpr, fnr = models[model]\n",
    "        df.loc[len(df.index)] = [model, fpr, fnr]\n",
    "    return df\n",
    "\n",
    "def find_hof(df):\n",
    "    out = {}\n",
    "    for index, row in df.iterrows():\n",
    "        # look at all the models with a higher fpr\n",
    "        tmp = df[df.fpr < row['fpr']]\n",
    "        # drop the ones with a higher fnr\n",
    "        tmp = tmp[tmp.fnr <= row['fnr']]\n",
    "        # not optimal\n",
    "        if len(tmp)  == 0:\n",
    "            model = row['model']\n",
    "            fpr = row['fpr']\n",
    "            fnr = row['fnr']\n",
    "            out[model] = (fpr, fnr)\n",
    "    return out\n",
    "\n",
    "\n",
    "df = create_models_df(models)\n",
    "hof = find_hof(df)\n",
    "print(hof)\n"
   ]
  },
  {
   "cell_type": "code",
   "execution_count": 193,
   "metadata": {},
   "outputs": [
    {
     "data": {
      "image/png": "[encoded data removed]",
      "text/plain": [
       "<Figure size 1000x1000 with 1 Axes>"
      ]
     },
     "metadata": {
      "needs_background": "light"
     },
     "output_type": "display_data"
    }
   ],
   "source": [
    "def pareto_frontier(models):\n",
    "    dominated = []\n",
    "    pareto = []\n",
    "    for model in models:\n",
    "        fnr, fpr = models[model]\n",
    "        if pareto:\n",
    "            classified = False\n",
    "            for curr_model in pareto:\n",
    "                curr_fnr, curr_fpr = models[curr_model]\n",
    "                if (curr_fnr <= fnr and curr_fpr < fpr) or (curr_fnr < fnr and curr_fpr <= fpr):\n",
    "                    dominated.append(model)\n",
    "                    classified = True\n",
    "                elif (curr_fnr >= fnr and curr_fpr > fpr) or (curr_fnr > fnr and curr_fpr >= fpr):\n",
    "                    dominated.append(curr_model)\n",
    "                    pareto.remove(curr_model)\n",
    "            if not classified:\n",
    "                pareto.append(model)\n",
    "        else:\n",
    "            pareto.append(model)\n",
    "                \n",
    "    fnr = []\n",
    "    fpr = []\n",
    "    for model in pareto:\n",
    "        cfnr, cfpr = models[model]\n",
    "        i = 0\n",
    "        while i < len(fnr):\n",
    "            if cfnr > fnr[i]:\n",
    "                i += 1\n",
    "            else:\n",
    "                break\n",
    "        fnr.insert(i, cfnr)\n",
    "        fpr.insert(i, cfpr)\n",
    "\n",
    "    plt.figure(figsize=(10, 10), dpi=100)\n",
    "    plt.step(fnr, fpr, where='post', label = 'post')\n",
    "    for model in pareto:\n",
    "        curr_fnr, curr_fpr = models[model]\n",
    "        plt.scatter(curr_fnr, curr_fpr, color='b')\n",
    "        plt.annotate(str(model), (curr_fnr, curr_fpr))\n",
    "    plt.xlabel(\"FNR\")\n",
    "    plt.ylabel(\"FPR\")\n",
    "    plt.title(\"Pareto Front\")\n",
    "pareto_frontier(models)"
   ]
  }
 ],
 "metadata": {
  "kernelspec": {
   "display_name": "Python 3.9.12 ('base')",
   "language": "python",
   "name": "python3"
  },
  "language_info": {
   "codemirror_mode": {
    "name": "ipython",
    "version": 3
   },
   "file_extension": ".py",
   "mimetype": "text/x-python",
   "name": "python",
   "nbconvert_exporter": "python",
   "pygments_lexer": "ipython3",
   "version": "3.9.12"
  },
  "vscode": {
   "interpreter": {
    "hash": "c41639db67be15e51ffe08f018462faa84bcb644fd3ef0f901f9f159be25f04f"
   }
  }
 },
 "nbformat": 4,
 "nbformat_minor": 2
}
