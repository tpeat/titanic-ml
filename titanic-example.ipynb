{
 "cells": [
  {
   "cell_type": "code",
   "execution_count": 23,
   "metadata": {},
   "outputs": [
    {
     "name": "stdout",
     "output_type": "stream",
     "text": [
      "%pylab is deprecated, use %matplotlib inline and import the required libraries.\n",
      "Populating the interactive namespace from numpy and matplotlib\n"
     ]
    },
    {
     "name": "stderr",
     "output_type": "stream",
     "text": [
      "/Users/tristanpeat/miniforge3/envs/tensorflow/lib/python3.10/site-packages/IPython/core/magics/pylab.py:162: UserWarning: pylab import has clobbered these variables: ['logistic']\n",
      "`%matplotlib` prevents importing * from pylab and numpy\n",
      "  warn(\"pylab import has clobbered these variables: %s\"  % clobbered +\n"
     ]
    }
   ],
   "source": [
    "%pylab inline\n",
    "# Pandas is a nice utilitiy that enables some easy data manipulation, especially from a csv\n",
    "import pandas as pd\n",
    "# Numpy lets us work with arrays\n",
    "import numpy as np\n",
    "# Sklearn provides various modules with a common API\n",
    "from sklearn import svm, tree, neighbors, neural_network, linear_model, ensemble\n",
    "from sklearn.model_selection import train_test_split\n",
    "from sklearn.metrics import confusion_matrix\n",
    "\n",
    "from sklearn.preprocessing import LabelEncoder\n",
    "from sklearn.model_selection import train_test_split, cross_val_score, GridSearchCV\n",
    "\n",
    "# import pickle\n",
    "import pickle\n",
    "\n",
    "# models\n",
    "from sklearn.neighbors import KNeighborsClassifier\n",
    "from sklearn.naive_bayes import GaussianNB\n",
    "from sklearn.tree import DecisionTreeClassifier\n",
    "import xgboost as xgb\n",
    "from xgboost import XGBClassifier\n",
    "# import lightgbm as lgb\n",
    "# from lightgbm import LGBMClassifier"
   ]
  },
  {
   "cell_type": "code",
   "execution_count": 24,
   "metadata": {},
   "outputs": [],
   "source": [
    "# Read in our csv files downloaded from Kaggle\n",
    "train_data = pd.read_csv('train.csv').set_index(\"PassengerId\")\n",
    "test_data = pd.read_csv('test.csv').set_index(\"PassengerId\")"
   ]
  },
  {
   "cell_type": "code",
   "execution_count": 25,
   "metadata": {},
   "outputs": [
    {
     "data": {
      "text/html": [
       "<div>\n",
       "<style scoped>\n",
       "    .dataframe tbody tr th:only-of-type {\n",
       "        vertical-align: middle;\n",
       "    }\n",
       "\n",
       "    .dataframe tbody tr th {\n",
       "        vertical-align: top;\n",
       "    }\n",
       "\n",
       "    .dataframe thead th {\n",
       "        text-align: right;\n",
       "    }\n",
       "</style>\n",
       "<table border=\"1\" class=\"dataframe\">\n",
       "  <thead>\n",
       "    <tr style=\"text-align: right;\">\n",
       "      <th></th>\n",
       "      <th>Survived</th>\n",
       "      <th>Pclass</th>\n",
       "      <th>Name</th>\n",
       "      <th>Sex</th>\n",
       "      <th>Age</th>\n",
       "      <th>SibSp</th>\n",
       "      <th>Parch</th>\n",
       "      <th>Ticket</th>\n",
       "      <th>Fare</th>\n",
       "      <th>Cabin</th>\n",
       "      <th>Embarked</th>\n",
       "    </tr>\n",
       "    <tr>\n",
       "      <th>PassengerId</th>\n",
       "      <th></th>\n",
       "      <th></th>\n",
       "      <th></th>\n",
       "      <th></th>\n",
       "      <th></th>\n",
       "      <th></th>\n",
       "      <th></th>\n",
       "      <th></th>\n",
       "      <th></th>\n",
       "      <th></th>\n",
       "      <th></th>\n",
       "    </tr>\n",
       "  </thead>\n",
       "  <tbody>\n",
       "    <tr>\n",
       "      <th>1</th>\n",
       "      <td>0</td>\n",
       "      <td>3</td>\n",
       "      <td>Braund, Mr. Owen Harris</td>\n",
       "      <td>male</td>\n",
       "      <td>22.0</td>\n",
       "      <td>1</td>\n",
       "      <td>0</td>\n",
       "      <td>A/5 21171</td>\n",
       "      <td>7.2500</td>\n",
       "      <td>NaN</td>\n",
       "      <td>S</td>\n",
       "    </tr>\n",
       "    <tr>\n",
       "      <th>2</th>\n",
       "      <td>1</td>\n",
       "      <td>1</td>\n",
       "      <td>Cumings, Mrs. John Bradley (Florence Briggs Th...</td>\n",
       "      <td>female</td>\n",
       "      <td>38.0</td>\n",
       "      <td>1</td>\n",
       "      <td>0</td>\n",
       "      <td>PC 17599</td>\n",
       "      <td>71.2833</td>\n",
       "      <td>C85</td>\n",
       "      <td>C</td>\n",
       "    </tr>\n",
       "    <tr>\n",
       "      <th>3</th>\n",
       "      <td>1</td>\n",
       "      <td>3</td>\n",
       "      <td>Heikkinen, Miss. Laina</td>\n",
       "      <td>female</td>\n",
       "      <td>26.0</td>\n",
       "      <td>0</td>\n",
       "      <td>0</td>\n",
       "      <td>STON/O2. 3101282</td>\n",
       "      <td>7.9250</td>\n",
       "      <td>NaN</td>\n",
       "      <td>S</td>\n",
       "    </tr>\n",
       "    <tr>\n",
       "      <th>4</th>\n",
       "      <td>1</td>\n",
       "      <td>1</td>\n",
       "      <td>Futrelle, Mrs. Jacques Heath (Lily May Peel)</td>\n",
       "      <td>female</td>\n",
       "      <td>35.0</td>\n",
       "      <td>1</td>\n",
       "      <td>0</td>\n",
       "      <td>113803</td>\n",
       "      <td>53.1000</td>\n",
       "      <td>C123</td>\n",
       "      <td>S</td>\n",
       "    </tr>\n",
       "    <tr>\n",
       "      <th>5</th>\n",
       "      <td>0</td>\n",
       "      <td>3</td>\n",
       "      <td>Allen, Mr. William Henry</td>\n",
       "      <td>male</td>\n",
       "      <td>35.0</td>\n",
       "      <td>0</td>\n",
       "      <td>0</td>\n",
       "      <td>373450</td>\n",
       "      <td>8.0500</td>\n",
       "      <td>NaN</td>\n",
       "      <td>S</td>\n",
       "    </tr>\n",
       "  </tbody>\n",
       "</table>\n",
       "</div>"
      ],
      "text/plain": [
       "             Survived  Pclass  \\\n",
       "PassengerId                     \n",
       "1                   0       3   \n",
       "2                   1       1   \n",
       "3                   1       3   \n",
       "4                   1       1   \n",
       "5                   0       3   \n",
       "\n",
       "                                                          Name     Sex   Age  \\\n",
       "PassengerId                                                                    \n",
       "1                                      Braund, Mr. Owen Harris    male  22.0   \n",
       "2            Cumings, Mrs. John Bradley (Florence Briggs Th...  female  38.0   \n",
       "3                                       Heikkinen, Miss. Laina  female  26.0   \n",
       "4                 Futrelle, Mrs. Jacques Heath (Lily May Peel)  female  35.0   \n",
       "5                                     Allen, Mr. William Henry    male  35.0   \n",
       "\n",
       "             SibSp  Parch            Ticket     Fare Cabin Embarked  \n",
       "PassengerId                                                          \n",
       "1                1      0         A/5 21171   7.2500   NaN        S  \n",
       "2                1      0          PC 17599  71.2833   C85        C  \n",
       "3                0      0  STON/O2. 3101282   7.9250   NaN        S  \n",
       "4                1      0            113803  53.1000  C123        S  \n",
       "5                0      0            373450   8.0500   NaN        S  "
      ]
     },
     "execution_count": 25,
     "metadata": {},
     "output_type": "execute_result"
    }
   ],
   "source": [
    "# We can use .head() to get just the first few rows of the data.\n",
    "train_data.head()\n",
    "# Note how the notebook nicely displays the output for us"
   ]
  },
  {
   "cell_type": "code",
   "execution_count": 26,
   "metadata": {},
   "outputs": [
    {
     "data": {
      "text/html": [
       "<div>\n",
       "<style scoped>\n",
       "    .dataframe tbody tr th:only-of-type {\n",
       "        vertical-align: middle;\n",
       "    }\n",
       "\n",
       "    .dataframe tbody tr th {\n",
       "        vertical-align: top;\n",
       "    }\n",
       "\n",
       "    .dataframe thead th {\n",
       "        text-align: right;\n",
       "    }\n",
       "</style>\n",
       "<table border=\"1\" class=\"dataframe\">\n",
       "  <thead>\n",
       "    <tr style=\"text-align: right;\">\n",
       "      <th></th>\n",
       "      <th>Pclass</th>\n",
       "      <th>Name</th>\n",
       "      <th>Sex</th>\n",
       "      <th>Age</th>\n",
       "      <th>SibSp</th>\n",
       "      <th>Parch</th>\n",
       "      <th>Ticket</th>\n",
       "      <th>Fare</th>\n",
       "      <th>Cabin</th>\n",
       "      <th>Embarked</th>\n",
       "    </tr>\n",
       "    <tr>\n",
       "      <th>PassengerId</th>\n",
       "      <th></th>\n",
       "      <th></th>\n",
       "      <th></th>\n",
       "      <th></th>\n",
       "      <th></th>\n",
       "      <th></th>\n",
       "      <th></th>\n",
       "      <th></th>\n",
       "      <th></th>\n",
       "      <th></th>\n",
       "    </tr>\n",
       "  </thead>\n",
       "  <tbody>\n",
       "    <tr>\n",
       "      <th>892</th>\n",
       "      <td>3</td>\n",
       "      <td>Kelly, Mr. James</td>\n",
       "      <td>male</td>\n",
       "      <td>34.5</td>\n",
       "      <td>0</td>\n",
       "      <td>0</td>\n",
       "      <td>330911</td>\n",
       "      <td>7.8292</td>\n",
       "      <td>NaN</td>\n",
       "      <td>Q</td>\n",
       "    </tr>\n",
       "    <tr>\n",
       "      <th>893</th>\n",
       "      <td>3</td>\n",
       "      <td>Wilkes, Mrs. James (Ellen Needs)</td>\n",
       "      <td>female</td>\n",
       "      <td>47.0</td>\n",
       "      <td>1</td>\n",
       "      <td>0</td>\n",
       "      <td>363272</td>\n",
       "      <td>7.0000</td>\n",
       "      <td>NaN</td>\n",
       "      <td>S</td>\n",
       "    </tr>\n",
       "    <tr>\n",
       "      <th>894</th>\n",
       "      <td>2</td>\n",
       "      <td>Myles, Mr. Thomas Francis</td>\n",
       "      <td>male</td>\n",
       "      <td>62.0</td>\n",
       "      <td>0</td>\n",
       "      <td>0</td>\n",
       "      <td>240276</td>\n",
       "      <td>9.6875</td>\n",
       "      <td>NaN</td>\n",
       "      <td>Q</td>\n",
       "    </tr>\n",
       "    <tr>\n",
       "      <th>895</th>\n",
       "      <td>3</td>\n",
       "      <td>Wirz, Mr. Albert</td>\n",
       "      <td>male</td>\n",
       "      <td>27.0</td>\n",
       "      <td>0</td>\n",
       "      <td>0</td>\n",
       "      <td>315154</td>\n",
       "      <td>8.6625</td>\n",
       "      <td>NaN</td>\n",
       "      <td>S</td>\n",
       "    </tr>\n",
       "    <tr>\n",
       "      <th>896</th>\n",
       "      <td>3</td>\n",
       "      <td>Hirvonen, Mrs. Alexander (Helga E Lindqvist)</td>\n",
       "      <td>female</td>\n",
       "      <td>22.0</td>\n",
       "      <td>1</td>\n",
       "      <td>1</td>\n",
       "      <td>3101298</td>\n",
       "      <td>12.2875</td>\n",
       "      <td>NaN</td>\n",
       "      <td>S</td>\n",
       "    </tr>\n",
       "  </tbody>\n",
       "</table>\n",
       "</div>"
      ],
      "text/plain": [
       "             Pclass                                          Name     Sex  \\\n",
       "PassengerId                                                                 \n",
       "892               3                              Kelly, Mr. James    male   \n",
       "893               3              Wilkes, Mrs. James (Ellen Needs)  female   \n",
       "894               2                     Myles, Mr. Thomas Francis    male   \n",
       "895               3                              Wirz, Mr. Albert    male   \n",
       "896               3  Hirvonen, Mrs. Alexander (Helga E Lindqvist)  female   \n",
       "\n",
       "              Age  SibSp  Parch   Ticket     Fare Cabin Embarked  \n",
       "PassengerId                                                       \n",
       "892          34.5      0      0   330911   7.8292   NaN        Q  \n",
       "893          47.0      1      0   363272   7.0000   NaN        S  \n",
       "894          62.0      0      0   240276   9.6875   NaN        Q  \n",
       "895          27.0      0      0   315154   8.6625   NaN        S  \n",
       "896          22.0      1      1  3101298  12.2875   NaN        S  "
      ]
     },
     "execution_count": 26,
     "metadata": {},
     "output_type": "execute_result"
    }
   ],
   "source": [
    "test_data.head()"
   ]
  },
  {
   "cell_type": "code",
   "execution_count": 27,
   "metadata": {},
   "outputs": [
    {
     "data": {
      "text/plain": [
       "['Age', 'Cabin', 'Embarked']"
      ]
     },
     "execution_count": 27,
     "metadata": {},
     "output_type": "execute_result"
    }
   ],
   "source": [
    "train_data.columns[train_data.isna().any()].tolist()"
   ]
  },
  {
   "cell_type": "code",
   "execution_count": 28,
   "metadata": {},
   "outputs": [],
   "source": [
    "def parse_title(df):\n",
    "    # title\n",
    "    df['Title'] = df.Name.str.split(',').str[1].str.split('.').str[0].str.strip()\n",
    "    df['Title'] = df.Name.str.split(',').str[1].str.split('.').str[0].str.strip()\n",
    "    df['Title'] = df['Title'].replace('Ms','Miss')\n",
    "    df['Title'] = df['Title'].replace('Mlle','Miss')\n",
    "    df['Title'] = df['Title'].replace('Mme','Mrs')\n",
    "    return df\n",
    "\n",
    "def process_name(df):\n",
    "    # parse title first\n",
    "    df = parse_title(df)\n",
    "    df['LastName'] = df.Name.str.split(',').str[0]\n",
    "    # get information about sex from title\n",
    "    df['IsWomanOrBoy'] = ((df.Title == 'Master') | (df.Sex == 'female'))\n",
    "    # find families\n",
    "    family = df.groupby(df.LastName).Survived\n",
    "    # count woman or boy\n",
    "#     df['WomanOrBoyCount'] = family.transform(lambda s: s[df.IsWomanOrBoy].fillna(0).count())\n",
    "#     df['WomanOrBoyCount'] = df.mask(df.IsWomanOrBoy, df.WomanOrBoyCount - 1, axis=0)\n",
    "#     df['FamilySurvivedCount'] = family.transform(lambda s: s[df.IsWomanOrBoy].fillna(0).sum())\n",
    "#     df['FamilySurvivedCount'] = df.mask(df.IsWomanOrBoy, df.FamilySurvivedCount - df.Survived.fillna(0), axis=0)\n",
    "#     df['WomanOrBoySurvived'] = df.FamilySurvivedCount / df.WomanOrBoyCount.replace(0, np.nan)\n",
    "#     df.WomanOrBoyCount = df.WomanOrBoyCount.replace(np.nan, 0)\n",
    "#     df['Alone'] = (df.WomanOrBoyCount == 0)\n",
    "    return df"
   ]
  },
  {
   "cell_type": "code",
   "execution_count": 29,
   "metadata": {},
   "outputs": [],
   "source": [
    "def fill_missing(df):\n",
    "    # Embarked\n",
    "    df['Embarked'] = df['Embarked'].fillna('S')\n",
    "    # Cabin, Deck\n",
    "    df['Deck'] = df['Cabin'].apply(lambda s: s[0] if pd.notnull(s) else 'M')\n",
    "    df.loc[(df['Deck'] == 'T'), 'Deck'] = 'A'\n",
    "\n",
    "    # Thanks to https://www.kaggle.com/erinsweet/simpledetect\n",
    "    # Fare\n",
    "    med_fare = df.groupby(['Pclass', 'Parch', 'SibSp']).Fare.median()[3][0][0]\n",
    "    df['Fare'] = df['Fare'].fillna(med_fare)\n",
    "    #Age\n",
    "    df['Age'] = df.groupby(['Sex', 'Pclass', 'Title'])['Age'].apply(lambda x: x.fillna(x.median()))\n",
    "    # Family_Size\n",
    "    df['Family_Size'] = df['SibSp'] + df['Parch'] + 1\n",
    "    return df"
   ]
  },
  {
   "cell_type": "code",
   "execution_count": 30,
   "metadata": {},
   "outputs": [],
   "source": [
    "def encode_types(df):\n",
    "    numerics = ['int8', 'int16', 'int32', 'int64', 'float16', 'float32', 'float64']\n",
    "    categorical_columns = []\n",
    "    features = df.columns.values.tolist()\n",
    "    for col in features:\n",
    "        if df[col].dtype in numerics: continue\n",
    "        categorical_columns.append(col)\n",
    "    # Encoding categorical features\n",
    "    for col in categorical_columns:\n",
    "        if col in df.columns:\n",
    "            le = LabelEncoder()\n",
    "            le.fit(list(df[col].astype(str).values))\n",
    "            df[col] = le.transform(list(df[col].astype(str).values))\n",
    "    return df\n",
    "    "
   ]
  },
  {
   "cell_type": "code",
   "execution_count": 31,
   "metadata": {},
   "outputs": [
    {
     "name": "stdout",
     "output_type": "stream",
     "text": [
      "             Pclass  Sex   Age  SibSp  Parch    Fare  Embarked  Title  \\\n",
      "PassengerId                                                             \n",
      "464               2    1  48.0      0      0  13.000         2     10   \n",
      "160               3    1   6.0      8      2  69.550         2      8   \n",
      "48                3    0  18.0      0      0   7.750         1      9   \n",
      "403               3    0  21.0      1      0   9.825         2      9   \n",
      "619               2    0   4.0      2      1  39.000         2      9   \n",
      "\n",
      "             LastName  IsWomanOrBoy  Deck  Family_Size  \n",
      "PassengerId                                             \n",
      "464               524             0     7            1  \n",
      "160               700             1     7           11  \n",
      "48                586             1     7            1  \n",
      "403               388             1     7            2  \n",
      "619                66             1     5            4  \n",
      "PassengerId\n",
      "464    0.0\n",
      "160    0.0\n",
      "48     1.0\n",
      "403    0.0\n",
      "619    1.0\n",
      "Name: Survived, dtype: float64\n",
      "             Survived  Pclass  Sex   Age  SibSp  Parch     Fare  Embarked  \\\n",
      "PassengerId                                                                 \n",
      "892               NaN       3    1  34.5      0      0   7.8292         1   \n",
      "893               NaN       3    0  47.0      1      0   7.0000         2   \n",
      "894               NaN       2    1  62.0      0      0   9.6875         1   \n",
      "895               NaN       3    1  27.0      0      0   8.6625         2   \n",
      "896               NaN       3    0  22.0      1      1  12.2875         2   \n",
      "\n",
      "             Title  LastName  IsWomanOrBoy  Deck  Family_Size  \n",
      "PassengerId                                                    \n",
      "892             10       401             0     7            1  \n",
      "893             11       846             1     7            2  \n",
      "894             10       552             0     7            1  \n",
      "895             10       854             0     7            1  \n",
      "896             11       342             1     7            3  \n"
     ]
    }
   ],
   "source": [
    "# don't drop name, ticket, cabin\n",
    "# train_data.drop(columns=['Name', 'Ticket', 'Cabin'], inplace=True)\n",
    "\n",
    "# combine train and test into single df for preprocessing --> becareful bc test won't have survived column\n",
    "df = pd.concat([train_data, test_data], axis=0, sort=False)\n",
    "df.head()\n",
    "\n",
    "df = process_name(df)\n",
    "\n",
    "# train_nan_map = {'Age': train_data['Age'].mean(), 'Fare': train_data['Fare'].mean(), 'Embarked': train_data['Embarked'].mode()[0]}\n",
    "# test_nan_map = {'Age': test_data['Age'].mean(), 'Fare': test_data['Fare'].mean(), 'Embarked': test_data['Embarked'].mode()[0]}\n",
    "\n",
    "# train_data.fillna(value=train_nan_map, inplace=True)\n",
    "# test_data.fillna(value=test_nan_map, inplace=True)\n",
    "\n",
    "# columns_map = {'Embarked': {'C': 0, 'Q': 1, 'S': 2}, 'Sex': {'male': 0, 'female': 1}}\n",
    "# train_data.replace(columns_map, inplace=True)\n",
    "# test_data.replace(columns_map, inplace=True)\n",
    "\n",
    "# fill in missing\n",
    "df = fill_missing(df)\n",
    "\n",
    "# drop these columns\n",
    "cols_to_drop = ['Name','Ticket','Cabin']\n",
    "df = df.drop(cols_to_drop, axis=1)\n",
    "\n",
    "# encode the string datatypes using LabelEncoder\n",
    "df = encode_types(df)\n",
    "\n",
    "# separate into data and survived label\n",
    "train_data, test_data = df.loc[train_data.index], df.loc[test_data.index]\n",
    "X_train = train_data.loc[:, train_data.columns != 'Survived']\n",
    "y_train = train_data.loc[:, 'Survived']\n",
    "\n",
    "# try kfold from scikit-learn\n",
    "X_train, X_test, y_train, y_test = train_test_split(X_train, y_train, test_size=0.33, random_state=10)\n",
    "\n",
    "print(X_train.head())\n",
    "print(y_train.head())\n",
    "print(test_data.head())"
   ]
  },
  {
   "cell_type": "code",
   "execution_count": 32,
   "metadata": {},
   "outputs": [
    {
     "data": {
      "text/html": [
       "<div>\n",
       "<style scoped>\n",
       "    .dataframe tbody tr th:only-of-type {\n",
       "        vertical-align: middle;\n",
       "    }\n",
       "\n",
       "    .dataframe tbody tr th {\n",
       "        vertical-align: top;\n",
       "    }\n",
       "\n",
       "    .dataframe thead th {\n",
       "        text-align: right;\n",
       "    }\n",
       "</style>\n",
       "<table border=\"1\" class=\"dataframe\">\n",
       "  <thead>\n",
       "    <tr style=\"text-align: right;\">\n",
       "      <th></th>\n",
       "      <th>Survived</th>\n",
       "      <th>Pclass</th>\n",
       "      <th>Sex</th>\n",
       "      <th>Age</th>\n",
       "      <th>SibSp</th>\n",
       "      <th>Parch</th>\n",
       "      <th>Fare</th>\n",
       "      <th>Embarked</th>\n",
       "      <th>Title</th>\n",
       "      <th>LastName</th>\n",
       "      <th>IsWomanOrBoy</th>\n",
       "      <th>Deck</th>\n",
       "      <th>Family_Size</th>\n",
       "    </tr>\n",
       "    <tr>\n",
       "      <th>PassengerId</th>\n",
       "      <th></th>\n",
       "      <th></th>\n",
       "      <th></th>\n",
       "      <th></th>\n",
       "      <th></th>\n",
       "      <th></th>\n",
       "      <th></th>\n",
       "      <th></th>\n",
       "      <th></th>\n",
       "      <th></th>\n",
       "      <th></th>\n",
       "      <th></th>\n",
       "      <th></th>\n",
       "    </tr>\n",
       "  </thead>\n",
       "  <tbody>\n",
       "  </tbody>\n",
       "</table>\n",
       "</div>"
      ],
      "text/plain": [
       "Empty DataFrame\n",
       "Columns: [Survived, Pclass, Sex, Age, SibSp, Parch, Fare, Embarked, Title, LastName, IsWomanOrBoy, Deck, Family_Size]\n",
       "Index: []"
      ]
     },
     "execution_count": 32,
     "metadata": {},
     "output_type": "execute_result"
    }
   ],
   "source": [
    "train_data.columns[train_data.isna().any()].tolist()\n",
    "train_data[train_data['Embarked'].isna() == True]\n",
    "#train_data['Embarked']\n",
    "#test_data.columns[test_data.isna().any()].tolist()"
   ]
  },
  {
   "cell_type": "markdown",
   "metadata": {},
   "source": [
    "## Keeping track of models\n",
    "\n",
    "For now we will keep a dictionary with all the models performance\n",
    "\n",
    "Model will map to (fnr, fpr)\n",
    "\n",
    "Next we will pickle them so we don't have to waste time retraining"
   ]
  },
  {
   "cell_type": "code",
   "execution_count": 33,
   "metadata": {},
   "outputs": [],
   "source": [
    "# fit and evaluate model\n",
    "y_truth = y_test.values\n",
    "def eval(model):\n",
    "    model.fit(X_train.values, y_train.values)\n",
    "    print(\"Accuracy:\", model.score(X_test.values, y_test.values))\n",
    "    y_pred = model.predict(X_test.values)\n",
    "    tn, fp, fn, tp = confusion_matrix(y_truth, y_pred).ravel()\n",
    "    print(\"\")\n",
    "    print(\"Confusion Matrix\")\n",
    "    print(confusion_matrix(y_truth, y_pred, labels=[0, 1]))\n",
    "    print(\"\")\n",
    "    print(\"True Negatives\", tn)\n",
    "    print(\"False Positives\", fp)\n",
    "    print(\"False Negatives\", fn)\n",
    "    print(\"True Positives\", tp)\n",
    "    print(\"\")\n",
    "    fpr = fp / (fp + tn)\n",
    "    print(\"FPR\", fpr)\n",
    "    fnr = fn / (fn + tp)\n",
    "    print(\"FNR\", fnr)\n",
    "    models[type(model).__name__] = (fpr, fnr)\n",
    "    print(models)"
   ]
  },
  {
   "cell_type": "code",
   "execution_count": 34,
   "metadata": {},
   "outputs": [],
   "source": [
    "models = {}"
   ]
  },
  {
   "cell_type": "code",
   "execution_count": 35,
   "metadata": {},
   "outputs": [
    {
     "name": "stdout",
     "output_type": "stream",
     "text": [
      "Accuracy: 0.7728813559322034\n",
      "\n",
      "Confusion Matrix\n",
      "[[149  42]\n",
      " [ 25  79]]\n",
      "\n",
      "True Negatives 149\n",
      "False Positives 42\n",
      "False Negatives 25\n",
      "True Positives 79\n",
      "\n",
      "FPR 0.2198952879581152\n",
      "FNR 0.2403846153846154\n",
      "{'DecisionTreeClassifier': (0.2198952879581152, 0.2403846153846154)}\n"
     ]
    }
   ],
   "source": [
    "tree_clf = tree.DecisionTreeClassifier()\n",
    "eval(tree_clf)"
   ]
  },
  {
   "cell_type": "code",
   "execution_count": 36,
   "metadata": {},
   "outputs": [
    {
     "name": "stdout",
     "output_type": "stream",
     "text": [
      "Accuracy: 0.6745762711864407\n",
      "\n",
      "Confusion Matrix\n",
      "[[155  36]\n",
      " [ 60  44]]\n",
      "\n",
      "True Negatives 155\n",
      "False Positives 36\n",
      "False Negatives 60\n",
      "True Positives 44\n",
      "\n",
      "FPR 0.18848167539267016\n",
      "FNR 0.5769230769230769\n",
      "{'DecisionTreeClassifier': (0.2198952879581152, 0.2403846153846154), 'KNeighborsClassifier': (0.18848167539267016, 0.5769230769230769)}\n"
     ]
    }
   ],
   "source": [
    "knn_clf = neighbors.KNeighborsClassifier()\n",
    "eval(knn_clf)"
   ]
  },
  {
   "cell_type": "code",
   "execution_count": 37,
   "metadata": {},
   "outputs": [
    {
     "name": "stdout",
     "output_type": "stream",
     "text": [
      "Accuracy: 0.8033898305084746\n",
      "\n",
      "Confusion Matrix\n",
      "[[167  24]\n",
      " [ 34  70]]\n",
      "\n",
      "True Negatives 167\n",
      "False Positives 24\n",
      "False Negatives 34\n",
      "True Positives 70\n",
      "\n",
      "FPR 0.1256544502617801\n",
      "FNR 0.3269230769230769\n",
      "{'DecisionTreeClassifier': (0.2198952879581152, 0.2403846153846154), 'KNeighborsClassifier': (0.18848167539267016, 0.5769230769230769), 'MLPClassifier': (0.1256544502617801, 0.3269230769230769)}\n"
     ]
    }
   ],
   "source": [
    "NN_clf = neural_network.MLPClassifier()\n",
    "eval(NN_clf)"
   ]
  },
  {
   "cell_type": "markdown",
   "metadata": {},
   "source": [
    "## SVM"
   ]
  },
  {
   "cell_type": "code",
   "execution_count": 38,
   "metadata": {},
   "outputs": [
    {
     "name": "stdout",
     "output_type": "stream",
     "text": [
      "Accuracy: 0.8338983050847457\n",
      "\n",
      "Confusion Matrix\n",
      "[[168  23]\n",
      " [ 26  78]]\n",
      "\n",
      "True Negatives 168\n",
      "False Positives 23\n",
      "False Negatives 26\n",
      "True Positives 78\n",
      "\n",
      "FPR 0.12041884816753927\n",
      "FNR 0.25\n",
      "{'DecisionTreeClassifier': (0.2198952879581152, 0.2403846153846154), 'KNeighborsClassifier': (0.18848167539267016, 0.5769230769230769), 'MLPClassifier': (0.1256544502617801, 0.3269230769230769), 'SVC': (0.12041884816753927, 0.25)}\n"
     ]
    }
   ],
   "source": [
    "svm_clf = svm.SVC(kernel='linear')\n",
    "eval(svm_clf)"
   ]
  },
  {
   "cell_type": "code",
   "execution_count": 39,
   "metadata": {},
   "outputs": [
    {
     "name": "stdout",
     "output_type": "stream",
     "text": [
      "Accuracy: 0.7322033898305085\n",
      "\n",
      "Confusion Matrix\n",
      "[[182   9]\n",
      " [ 70  34]]\n",
      "\n",
      "True Negatives 182\n",
      "False Positives 9\n",
      "False Negatives 70\n",
      "True Positives 34\n",
      "\n",
      "FPR 0.04712041884816754\n",
      "FNR 0.6730769230769231\n",
      "{'DecisionTreeClassifier': (0.2198952879581152, 0.2403846153846154), 'KNeighborsClassifier': (0.18848167539267016, 0.5769230769230769), 'MLPClassifier': (0.1256544502617801, 0.3269230769230769), 'SVC': (0.12041884816753927, 0.25), 'LinearSVC': (0.04712041884816754, 0.6730769230769231)}\n"
     ]
    },
    {
     "name": "stderr",
     "output_type": "stream",
     "text": [
      "/Users/tristanpeat/miniforge3/envs/tensorflow/lib/python3.10/site-packages/sklearn/svm/_base.py:1225: ConvergenceWarning: Liblinear failed to converge, increase the number of iterations.\n",
      "  warnings.warn(\n"
     ]
    }
   ],
   "source": [
    "svm_linear = svm.LinearSVC()\n",
    "eval(svm_linear)"
   ]
  },
  {
   "cell_type": "code",
   "execution_count": 40,
   "metadata": {},
   "outputs": [
    {
     "name": "stdout",
     "output_type": "stream",
     "text": [
      "Accuracy: 0.8203389830508474\n",
      "\n",
      "Confusion Matrix\n",
      "[[168  23]\n",
      " [ 30  74]]\n",
      "\n",
      "True Negatives 168\n",
      "False Positives 23\n",
      "False Negatives 30\n",
      "True Positives 74\n",
      "\n",
      "FPR 0.12041884816753927\n",
      "FNR 0.28846153846153844\n",
      "{'DecisionTreeClassifier': (0.2198952879581152, 0.2403846153846154), 'KNeighborsClassifier': (0.18848167539267016, 0.5769230769230769), 'MLPClassifier': (0.1256544502617801, 0.3269230769230769), 'SVC': (0.12041884816753927, 0.25), 'LinearSVC': (0.04712041884816754, 0.6730769230769231), 'LogisticRegression': (0.12041884816753927, 0.28846153846153844)}\n"
     ]
    },
    {
     "name": "stderr",
     "output_type": "stream",
     "text": [
      "/Users/tristanpeat/miniforge3/envs/tensorflow/lib/python3.10/site-packages/sklearn/linear_model/_logistic.py:444: ConvergenceWarning: lbfgs failed to converge (status=1):\n",
      "STOP: TOTAL NO. of ITERATIONS REACHED LIMIT.\n",
      "\n",
      "Increase the number of iterations (max_iter) or scale the data as shown in:\n",
      "    https://scikit-learn.org/stable/modules/preprocessing.html\n",
      "Please also refer to the documentation for alternative solver options:\n",
      "    https://scikit-learn.org/stable/modules/linear_model.html#logistic-regression\n",
      "  n_iter_i = _check_optimize_result(\n"
     ]
    }
   ],
   "source": [
    "logistic = linear_model.LogisticRegression()\n",
    "eval(logistic)"
   ]
  },
  {
   "cell_type": "code",
   "execution_count": 41,
   "metadata": {},
   "outputs": [
    {
     "name": "stdout",
     "output_type": "stream",
     "text": [
      "Accuracy: 0.6576271186440678\n",
      "\n",
      "Confusion Matrix\n",
      "[[191   0]\n",
      " [101   3]]\n",
      "\n",
      "True Negatives 191\n",
      "False Positives 0\n",
      "False Negatives 101\n",
      "True Positives 3\n",
      "\n",
      "FPR 0.0\n",
      "FNR 0.9711538461538461\n",
      "{'DecisionTreeClassifier': (0.2198952879581152, 0.2403846153846154), 'KNeighborsClassifier': (0.18848167539267016, 0.5769230769230769), 'MLPClassifier': (0.1256544502617801, 0.3269230769230769), 'SVC': (0.12041884816753927, 0.25), 'LinearSVC': (0.04712041884816754, 0.6730769230769231), 'LogisticRegression': (0.12041884816753927, 0.28846153846153844), 'Perceptron': (0.0, 0.9711538461538461)}\n"
     ]
    }
   ],
   "source": [
    "perceptron = linear_model.Perceptron()\n",
    "eval(perceptron)"
   ]
  },
  {
   "cell_type": "code",
   "execution_count": 42,
   "metadata": {},
   "outputs": [
    {
     "name": "stdout",
     "output_type": "stream",
     "text": [
      "Accuracy: 0.8406779661016949\n",
      "\n",
      "Confusion Matrix\n",
      "[[168  23]\n",
      " [ 24  80]]\n",
      "\n",
      "True Negatives 168\n",
      "False Positives 23\n",
      "False Negatives 24\n",
      "True Positives 80\n",
      "\n",
      "FPR 0.12041884816753927\n",
      "FNR 0.23076923076923078\n",
      "{'DecisionTreeClassifier': (0.2198952879581152, 0.2403846153846154), 'KNeighborsClassifier': (0.18848167539267016, 0.5769230769230769), 'MLPClassifier': (0.1256544502617801, 0.3269230769230769), 'SVC': (0.12041884816753927, 0.25), 'LinearSVC': (0.04712041884816754, 0.6730769230769231), 'LogisticRegression': (0.12041884816753927, 0.28846153846153844), 'Perceptron': (0.0, 0.9711538461538461), 'RidgeClassifier': (0.12041884816753927, 0.23076923076923078)}\n"
     ]
    }
   ],
   "source": [
    "ridge = linear_model.RidgeClassifier()\n",
    "eval(ridge)"
   ]
  },
  {
   "cell_type": "code",
   "execution_count": 43,
   "metadata": {},
   "outputs": [
    {
     "name": "stdout",
     "output_type": "stream",
     "text": [
      "Accuracy: 0.7457627118644068\n",
      "\n",
      "Confusion Matrix\n",
      "[[186   5]\n",
      " [ 70  34]]\n",
      "\n",
      "True Negatives 186\n",
      "False Positives 5\n",
      "False Negatives 70\n",
      "True Positives 34\n",
      "\n",
      "FPR 0.02617801047120419\n",
      "FNR 0.6730769230769231\n",
      "{'DecisionTreeClassifier': (0.2198952879581152, 0.2403846153846154), 'KNeighborsClassifier': (0.18848167539267016, 0.5769230769230769), 'MLPClassifier': (0.1256544502617801, 0.3269230769230769), 'SVC': (0.12041884816753927, 0.25), 'LinearSVC': (0.04712041884816754, 0.6730769230769231), 'LogisticRegression': (0.12041884816753927, 0.28846153846153844), 'Perceptron': (0.0, 0.9711538461538461), 'RidgeClassifier': (0.12041884816753927, 0.23076923076923078), 'SGDClassifier': (0.02617801047120419, 0.6730769230769231)}\n"
     ]
    }
   ],
   "source": [
    "sdg = linear_model.SGDClassifier()\n",
    "eval(sdg)"
   ]
  },
  {
   "cell_type": "markdown",
   "metadata": {},
   "source": [
    "## Ensemble"
   ]
  },
  {
   "cell_type": "code",
   "execution_count": 44,
   "metadata": {},
   "outputs": [
    {
     "name": "stdout",
     "output_type": "stream",
     "text": [
      "Accuracy: 0.8101694915254237\n",
      "\n",
      "Confusion Matrix\n",
      "[[161  30]\n",
      " [ 26  78]]\n",
      "\n",
      "True Negatives 161\n",
      "False Positives 30\n",
      "False Negatives 26\n",
      "True Positives 78\n",
      "\n",
      "FPR 0.15706806282722513\n",
      "FNR 0.25\n",
      "{'DecisionTreeClassifier': (0.2198952879581152, 0.2403846153846154), 'KNeighborsClassifier': (0.18848167539267016, 0.5769230769230769), 'MLPClassifier': (0.1256544502617801, 0.3269230769230769), 'SVC': (0.12041884816753927, 0.25), 'LinearSVC': (0.04712041884816754, 0.6730769230769231), 'LogisticRegression': (0.12041884816753927, 0.28846153846153844), 'Perceptron': (0.0, 0.9711538461538461), 'RidgeClassifier': (0.12041884816753927, 0.23076923076923078), 'SGDClassifier': (0.02617801047120419, 0.6730769230769231), 'RandomForestClassifier': (0.15706806282722513, 0.25)}\n"
     ]
    }
   ],
   "source": [
    "random_forest = ensemble.RandomForestClassifier()\n",
    "eval(random_forest)"
   ]
  },
  {
   "cell_type": "code",
   "execution_count": 45,
   "metadata": {},
   "outputs": [
    {
     "name": "stdout",
     "output_type": "stream",
     "text": [
      "Accuracy: 0.8338983050847457\n",
      "\n",
      "Confusion Matrix\n",
      "[[165  26]\n",
      " [ 23  81]]\n",
      "\n",
      "True Negatives 165\n",
      "False Positives 26\n",
      "False Negatives 23\n",
      "True Positives 81\n",
      "\n",
      "FPR 0.13612565445026178\n",
      "FNR 0.22115384615384615\n",
      "{'DecisionTreeClassifier': (0.2198952879581152, 0.2403846153846154), 'KNeighborsClassifier': (0.18848167539267016, 0.5769230769230769), 'MLPClassifier': (0.1256544502617801, 0.3269230769230769), 'SVC': (0.12041884816753927, 0.25), 'LinearSVC': (0.04712041884816754, 0.6730769230769231), 'LogisticRegression': (0.12041884816753927, 0.28846153846153844), 'Perceptron': (0.0, 0.9711538461538461), 'RidgeClassifier': (0.12041884816753927, 0.23076923076923078), 'SGDClassifier': (0.02617801047120419, 0.6730769230769231), 'RandomForestClassifier': (0.15706806282722513, 0.25), 'GradientBoostingClassifier': (0.13612565445026178, 0.22115384615384615)}\n"
     ]
    }
   ],
   "source": [
    "gradient_boost = ensemble.GradientBoostingClassifier()\n",
    "eval(gradient_boost)"
   ]
  },
  {
   "cell_type": "code",
   "execution_count": 48,
   "metadata": {},
   "outputs": [
    {
     "name": "stdout",
     "output_type": "stream",
     "text": [
      "Accuracy: 0.8135593220338984\n",
      "\n",
      "Confusion Matrix\n",
      "[[162  29]\n",
      " [ 26  78]]\n",
      "\n",
      "True Negatives 162\n",
      "False Positives 29\n",
      "False Negatives 26\n",
      "True Positives 78\n",
      "\n",
      "FPR 0.1518324607329843\n",
      "FNR 0.25\n",
      "{'DecisionTreeClassifier': (0.2198952879581152, 0.2403846153846154), 'KNeighborsClassifier': (0.18848167539267016, 0.5769230769230769), 'MLPClassifier': (0.1256544502617801, 0.3269230769230769), 'SVC': (0.12041884816753927, 0.25), 'LinearSVC': (0.04712041884816754, 0.6730769230769231), 'LogisticRegression': (0.12041884816753927, 0.28846153846153844), 'Perceptron': (0.0, 0.9711538461538461), 'RidgeClassifier': (0.12041884816753927, 0.23076923076923078), 'SGDClassifier': (0.02617801047120419, 0.6730769230769231), 'RandomForestClassifier': (0.15706806282722513, 0.25), 'GradientBoostingClassifier': (0.13612565445026178, 0.22115384615384615), 'BaggingClassifier': (0.11518324607329843, 0.27884615384615385), 'ExtraTreesClassifier': (0.1518324607329843, 0.25)}\n"
     ]
    }
   ],
   "source": [
    "extra_trees = ensemble.ExtraTreesClassifier()\n",
    "eval(extra_trees)"
   ]
  },
  {
   "cell_type": "code",
   "execution_count": 49,
   "metadata": {},
   "outputs": [
    {
     "name": "stdout",
     "output_type": "stream",
     "text": [
      "Accuracy: 0.8338983050847457\n",
      "\n",
      "Confusion Matrix\n",
      "[[168  23]\n",
      " [ 26  78]]\n",
      "\n",
      "True Negatives 168\n",
      "False Positives 23\n",
      "False Negatives 26\n",
      "True Positives 78\n",
      "\n",
      "FPR 0.12041884816753927\n",
      "FNR 0.25\n",
      "{'DecisionTreeClassifier': (0.2198952879581152, 0.2403846153846154), 'KNeighborsClassifier': (0.18848167539267016, 0.5769230769230769), 'MLPClassifier': (0.1256544502617801, 0.3269230769230769), 'SVC': (0.12041884816753927, 0.25), 'LinearSVC': (0.04712041884816754, 0.6730769230769231), 'LogisticRegression': (0.12041884816753927, 0.28846153846153844), 'Perceptron': (0.0, 0.9711538461538461), 'RidgeClassifier': (0.12041884816753927, 0.23076923076923078), 'SGDClassifier': (0.02617801047120419, 0.6730769230769231), 'RandomForestClassifier': (0.15706806282722513, 0.25), 'GradientBoostingClassifier': (0.13612565445026178, 0.22115384615384615), 'BaggingClassifier': (0.12041884816753927, 0.25), 'ExtraTreesClassifier': (0.1518324607329843, 0.25)}\n"
     ]
    }
   ],
   "source": [
    "bagging = ensemble.BaggingClassifier()\n",
    "eval(bagging)"
   ]
  },
  {
   "cell_type": "code",
   "execution_count": 53,
   "metadata": {},
   "outputs": [],
   "source": [
    "# voting = ensemble.VotingClassifier(estimators=20)\n",
    "# eval(voting)"
   ]
  },
  {
   "cell_type": "code",
   "execution_count": 51,
   "metadata": {},
   "outputs": [
    {
     "ename": "NameError",
     "evalue": "name 'y_pred' is not defined",
     "output_type": "error",
     "traceback": [
      "\u001b[0;31m---------------------------------------------------------------------------\u001b[0m",
      "\u001b[0;31mNameError\u001b[0m                                 Traceback (most recent call last)",
      "Input \u001b[0;32mIn [51]\u001b[0m, in \u001b[0;36m<cell line: 40>\u001b[0;34m()\u001b[0m\n\u001b[1;32m     36\u001b[0m     plt\u001b[38;5;241m.\u001b[39mtight_layout()\n\u001b[1;32m     39\u001b[0m \u001b[38;5;66;03m# Compute confusion matrix\u001b[39;00m\n\u001b[0;32m---> 40\u001b[0m cnf_matrix \u001b[38;5;241m=\u001b[39m confusion_matrix(y_truth, \u001b[43my_pred\u001b[49m)\n\u001b[1;32m     41\u001b[0m class_names\u001b[38;5;241m=\u001b[39m[\u001b[38;5;124m'\u001b[39m\u001b[38;5;124m0\u001b[39m\u001b[38;5;124m'\u001b[39m, \u001b[38;5;124m'\u001b[39m\u001b[38;5;124m1\u001b[39m\u001b[38;5;124m'\u001b[39m]\n\u001b[1;32m     42\u001b[0m np\u001b[38;5;241m.\u001b[39mset_printoptions(precision\u001b[38;5;241m=\u001b[39m\u001b[38;5;241m2\u001b[39m)\n",
      "\u001b[0;31mNameError\u001b[0m: name 'y_pred' is not defined"
     ]
    }
   ],
   "source": [
    "import itertools\n",
    "import matplotlib.pyplot as plt\n",
    "\n",
    "def plot_confusion_matrix(cm, classes,\n",
    "                          normalize=False,\n",
    "                          title='Confusion matrix',\n",
    "                          cmap=plt.cm.Blues):\n",
    "    \"\"\"\n",
    "    This function prints and plots the confusion matrix.\n",
    "    Normalization can be applied by setting `normalize=True`.\n",
    "    \"\"\"\n",
    "    if normalize:\n",
    "        cm = cm.astype('float') / cm.sum(axis=1)[:, np.newaxis]\n",
    "        print(\"Normalized confusion matrix\")\n",
    "    else:\n",
    "        print('Confusion matrix, without normalization')\n",
    "\n",
    "    print(cm)\n",
    "\n",
    "    plt.imshow(cm, interpolation='nearest', cmap=cmap)\n",
    "    plt.title(title)\n",
    "    plt.colorbar()\n",
    "    tick_marks = np.arange(len(classes))\n",
    "    plt.xticks(tick_marks, classes, rotation=45)\n",
    "    plt.yticks(tick_marks, classes)\n",
    "\n",
    "    fmt = '.2f' if normalize else 'd'\n",
    "    thresh = cm.max() / 2.\n",
    "    for i, j in itertools.product(range(cm.shape[0]), range(cm.shape[1])):\n",
    "        plt.text(j, i, format(cm[i, j], fmt),\n",
    "                 horizontalalignment=\"center\",\n",
    "                 color=\"white\" if cm[i, j] > thresh else \"black\")\n",
    "\n",
    "    plt.ylabel('True label')\n",
    "    plt.xlabel('Predicted label')\n",
    "    plt.tight_layout()\n",
    "\n",
    "\n",
    "# Compute confusion matrix\n",
    "cnf_matrix = confusion_matrix(y_truth, y_pred)\n",
    "class_names=['0', '1']\n",
    "np.set_printoptions(precision=2)\n",
    "\n",
    "# Plot non-normalized confusion matrix\n",
    "plt.figure()\n",
    "plot_confusion_matrix(cnf_matrix, classes=class_names,\n",
    "                      title='Confusion matrix, without normalization')\n",
    "\n",
    "plt.show()"
   ]
  },
  {
   "cell_type": "code",
   "execution_count": null,
   "metadata": {},
   "outputs": [],
   "source": [
    "predictions = svm_clf.predict(test_data.values)"
   ]
  },
  {
   "cell_type": "code",
   "execution_count": null,
   "metadata": {},
   "outputs": [],
   "source": [
    "type(predictions)"
   ]
  },
  {
   "cell_type": "code",
   "execution_count": null,
   "metadata": {},
   "outputs": [],
   "source": [
    "pred_df = pd.DataFrame(predictions, index=test_data.index, columns=['Survived'])\n",
    "type(pred_df)"
   ]
  },
  {
   "cell_type": "code",
   "execution_count": null,
   "metadata": {},
   "outputs": [],
   "source": [
    "pred_df.to_csv('predictions.csv', header=True, sep=',')"
   ]
  },
  {
   "cell_type": "markdown",
   "metadata": {},
   "source": [
    "## Function to display pareto front\n",
    "\n",
    "We will give it the model dict and all the fpr and fnr that we have"
   ]
  },
  {
   "cell_type": "code",
   "execution_count": 54,
   "metadata": {},
   "outputs": [
    {
     "data": {
      "image/png": "[encoded data removed]",
      "text/plain": [
       "<Figure size 432x288 with 1 Axes>"
      ]
     },
     "metadata": {
      "needs_background": "light"
     },
     "output_type": "display_data"
    }
   ],
   "source": [
    "def pareto_frontier(models):\n",
    "    for model in models:\n",
    "        fnr, fpr = models[model]\n",
    "#         plt.scatter(pop_1, pop_2, color='b')\n",
    "#         plt.scatter(fitness_1, fitness_2, color='r')\n",
    "        plt.scatter(fnr, fpr, color='b')\n",
    "        plt.annotate(str(model), (fnr, fpr))\n",
    "        # plt.plot(fnr, fpr, color='r', drawstyle='steps-post')\n",
    "        plt.xlabel(\"FNR\")\n",
    "        plt.ylabel(\"FPR\")\n",
    "        plt.title(\"Pareto Front\")\n",
    "    plt.show()\n",
    "pareto_frontier(models)"
   ]
  },
  {
   "cell_type": "code",
   "execution_count": null,
   "metadata": {},
   "outputs": [],
   "source": []
  },
  {
   "cell_type": "code",
   "execution_count": null,
   "metadata": {},
   "outputs": [],
   "source": []
  }
 ],
 "metadata": {
  "kernelspec": {
   "display_name": "Python 3.9 (tensorflow)",
   "language": "python",
   "name": "tensorflow"
  },
  "language_info": {
   "codemirror_mode": {
    "name": "ipython",
    "version": 3
   },
   "file_extension": ".py",
   "mimetype": "text/x-python",
   "name": "python",
   "nbconvert_exporter": "python",
   "pygments_lexer": "ipython3",
   "version": "3.10.5"
  }
 },
 "nbformat": 4,
 "nbformat_minor": 2
}
