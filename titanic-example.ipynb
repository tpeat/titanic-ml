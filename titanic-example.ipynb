{
 "cells": [
  {
   "cell_type": "code",
   "execution_count": 155,
   "metadata": {},
   "outputs": [
    {
     "name": "stdout",
     "output_type": "stream",
     "text": [
      "%pylab is deprecated, use %matplotlib inline and import the required libraries.\n",
      "Populating the interactive namespace from numpy and matplotlib\n"
     ]
    }
   ],
   "source": [
    "%pylab inline\n",
    "# Pandas is a nice utilitiy that enables some easy data manipulation, especially from a csv\n",
    "import pandas as pd\n",
    "# Numpy lets us work with arrays\n",
    "import numpy as np\n",
    "# Sklearn provides various modules with a common API\n",
    "from sklearn import svm, tree, neighbors, neural_network, linear_model, ensemble\n",
    "from sklearn.model_selection import train_test_split, KFold, StratifiedKFold\n",
    "from sklearn.metrics import confusion_matrix\n",
    "\n",
    "from sklearn.preprocessing import LabelEncoder\n",
    "from sklearn.model_selection import train_test_split, cross_val_score, GridSearchCV\n",
    "\n",
    "# import pickle\n",
    "import pickle\n",
    "\n",
    "# models\n",
    "from sklearn.neighbors import KNeighborsClassifier\n",
    "from sklearn.naive_bayes import GaussianNB\n",
    "from sklearn.tree import DecisionTreeClassifier\n",
    "import xgboost as xgb\n",
    "from xgboost import XGBClassifier\n",
    "# import lightgbm as lgb\n",
    "# from lightgbm import LGBMClassifier"
   ]
  },
  {
   "cell_type": "code",
   "execution_count": 156,
   "metadata": {},
   "outputs": [],
   "source": [
    "# Read in our csv files downloaded from Kaggle\n",
    "train_data = pd.read_csv('train.csv').set_index(\"PassengerId\")\n",
    "test_data = pd.read_csv('test.csv').set_index(\"PassengerId\")"
   ]
  },
  {
   "cell_type": "code",
   "execution_count": 157,
   "metadata": {},
   "outputs": [
    {
     "data": {
      "text/html": [
       "<div>\n",
       "<style scoped>\n",
       "    .dataframe tbody tr th:only-of-type {\n",
       "        vertical-align: middle;\n",
       "    }\n",
       "\n",
       "    .dataframe tbody tr th {\n",
       "        vertical-align: top;\n",
       "    }\n",
       "\n",
       "    .dataframe thead th {\n",
       "        text-align: right;\n",
       "    }\n",
       "</style>\n",
       "<table border=\"1\" class=\"dataframe\">\n",
       "  <thead>\n",
       "    <tr style=\"text-align: right;\">\n",
       "      <th></th>\n",
       "      <th>Survived</th>\n",
       "      <th>Pclass</th>\n",
       "      <th>Name</th>\n",
       "      <th>Sex</th>\n",
       "      <th>Age</th>\n",
       "      <th>SibSp</th>\n",
       "      <th>Parch</th>\n",
       "      <th>Ticket</th>\n",
       "      <th>Fare</th>\n",
       "      <th>Cabin</th>\n",
       "      <th>Embarked</th>\n",
       "    </tr>\n",
       "    <tr>\n",
       "      <th>PassengerId</th>\n",
       "      <th></th>\n",
       "      <th></th>\n",
       "      <th></th>\n",
       "      <th></th>\n",
       "      <th></th>\n",
       "      <th></th>\n",
       "      <th></th>\n",
       "      <th></th>\n",
       "      <th></th>\n",
       "      <th></th>\n",
       "      <th></th>\n",
       "    </tr>\n",
       "  </thead>\n",
       "  <tbody>\n",
       "    <tr>\n",
       "      <th>1</th>\n",
       "      <td>0</td>\n",
       "      <td>3</td>\n",
       "      <td>Braund, Mr. Owen Harris</td>\n",
       "      <td>male</td>\n",
       "      <td>22.0</td>\n",
       "      <td>1</td>\n",
       "      <td>0</td>\n",
       "      <td>A/5 21171</td>\n",
       "      <td>7.2500</td>\n",
       "      <td>NaN</td>\n",
       "      <td>S</td>\n",
       "    </tr>\n",
       "    <tr>\n",
       "      <th>2</th>\n",
       "      <td>1</td>\n",
       "      <td>1</td>\n",
       "      <td>Cumings, Mrs. John Bradley (Florence Briggs Th...</td>\n",
       "      <td>female</td>\n",
       "      <td>38.0</td>\n",
       "      <td>1</td>\n",
       "      <td>0</td>\n",
       "      <td>PC 17599</td>\n",
       "      <td>71.2833</td>\n",
       "      <td>C85</td>\n",
       "      <td>C</td>\n",
       "    </tr>\n",
       "    <tr>\n",
       "      <th>3</th>\n",
       "      <td>1</td>\n",
       "      <td>3</td>\n",
       "      <td>Heikkinen, Miss. Laina</td>\n",
       "      <td>female</td>\n",
       "      <td>26.0</td>\n",
       "      <td>0</td>\n",
       "      <td>0</td>\n",
       "      <td>STON/O2. 3101282</td>\n",
       "      <td>7.9250</td>\n",
       "      <td>NaN</td>\n",
       "      <td>S</td>\n",
       "    </tr>\n",
       "    <tr>\n",
       "      <th>4</th>\n",
       "      <td>1</td>\n",
       "      <td>1</td>\n",
       "      <td>Futrelle, Mrs. Jacques Heath (Lily May Peel)</td>\n",
       "      <td>female</td>\n",
       "      <td>35.0</td>\n",
       "      <td>1</td>\n",
       "      <td>0</td>\n",
       "      <td>113803</td>\n",
       "      <td>53.1000</td>\n",
       "      <td>C123</td>\n",
       "      <td>S</td>\n",
       "    </tr>\n",
       "    <tr>\n",
       "      <th>5</th>\n",
       "      <td>0</td>\n",
       "      <td>3</td>\n",
       "      <td>Allen, Mr. William Henry</td>\n",
       "      <td>male</td>\n",
       "      <td>35.0</td>\n",
       "      <td>0</td>\n",
       "      <td>0</td>\n",
       "      <td>373450</td>\n",
       "      <td>8.0500</td>\n",
       "      <td>NaN</td>\n",
       "      <td>S</td>\n",
       "    </tr>\n",
       "  </tbody>\n",
       "</table>\n",
       "</div>"
      ],
      "text/plain": [
       "             Survived  Pclass  \\\n",
       "PassengerId                     \n",
       "1                   0       3   \n",
       "2                   1       1   \n",
       "3                   1       3   \n",
       "4                   1       1   \n",
       "5                   0       3   \n",
       "\n",
       "                                                          Name     Sex   Age  \\\n",
       "PassengerId                                                                    \n",
       "1                                      Braund, Mr. Owen Harris    male  22.0   \n",
       "2            Cumings, Mrs. John Bradley (Florence Briggs Th...  female  38.0   \n",
       "3                                       Heikkinen, Miss. Laina  female  26.0   \n",
       "4                 Futrelle, Mrs. Jacques Heath (Lily May Peel)  female  35.0   \n",
       "5                                     Allen, Mr. William Henry    male  35.0   \n",
       "\n",
       "             SibSp  Parch            Ticket     Fare Cabin Embarked  \n",
       "PassengerId                                                          \n",
       "1                1      0         A/5 21171   7.2500   NaN        S  \n",
       "2                1      0          PC 17599  71.2833   C85        C  \n",
       "3                0      0  STON/O2. 3101282   7.9250   NaN        S  \n",
       "4                1      0            113803  53.1000  C123        S  \n",
       "5                0      0            373450   8.0500   NaN        S  "
      ]
     },
     "execution_count": 157,
     "metadata": {},
     "output_type": "execute_result"
    }
   ],
   "source": [
    "# We can use .head() to get just the first few rows of the data.\n",
    "train_data.head()\n",
    "# Note how the notebook nicely displays the output for us"
   ]
  },
  {
   "cell_type": "code",
   "execution_count": 158,
   "metadata": {},
   "outputs": [
    {
     "data": {
      "text/html": [
       "<div>\n",
       "<style scoped>\n",
       "    .dataframe tbody tr th:only-of-type {\n",
       "        vertical-align: middle;\n",
       "    }\n",
       "\n",
       "    .dataframe tbody tr th {\n",
       "        vertical-align: top;\n",
       "    }\n",
       "\n",
       "    .dataframe thead th {\n",
       "        text-align: right;\n",
       "    }\n",
       "</style>\n",
       "<table border=\"1\" class=\"dataframe\">\n",
       "  <thead>\n",
       "    <tr style=\"text-align: right;\">\n",
       "      <th></th>\n",
       "      <th>Pclass</th>\n",
       "      <th>Name</th>\n",
       "      <th>Sex</th>\n",
       "      <th>Age</th>\n",
       "      <th>SibSp</th>\n",
       "      <th>Parch</th>\n",
       "      <th>Ticket</th>\n",
       "      <th>Fare</th>\n",
       "      <th>Cabin</th>\n",
       "      <th>Embarked</th>\n",
       "    </tr>\n",
       "    <tr>\n",
       "      <th>PassengerId</th>\n",
       "      <th></th>\n",
       "      <th></th>\n",
       "      <th></th>\n",
       "      <th></th>\n",
       "      <th></th>\n",
       "      <th></th>\n",
       "      <th></th>\n",
       "      <th></th>\n",
       "      <th></th>\n",
       "      <th></th>\n",
       "    </tr>\n",
       "  </thead>\n",
       "  <tbody>\n",
       "    <tr>\n",
       "      <th>892</th>\n",
       "      <td>3</td>\n",
       "      <td>Kelly, Mr. James</td>\n",
       "      <td>male</td>\n",
       "      <td>34.5</td>\n",
       "      <td>0</td>\n",
       "      <td>0</td>\n",
       "      <td>330911</td>\n",
       "      <td>7.8292</td>\n",
       "      <td>NaN</td>\n",
       "      <td>Q</td>\n",
       "    </tr>\n",
       "    <tr>\n",
       "      <th>893</th>\n",
       "      <td>3</td>\n",
       "      <td>Wilkes, Mrs. James (Ellen Needs)</td>\n",
       "      <td>female</td>\n",
       "      <td>47.0</td>\n",
       "      <td>1</td>\n",
       "      <td>0</td>\n",
       "      <td>363272</td>\n",
       "      <td>7.0000</td>\n",
       "      <td>NaN</td>\n",
       "      <td>S</td>\n",
       "    </tr>\n",
       "    <tr>\n",
       "      <th>894</th>\n",
       "      <td>2</td>\n",
       "      <td>Myles, Mr. Thomas Francis</td>\n",
       "      <td>male</td>\n",
       "      <td>62.0</td>\n",
       "      <td>0</td>\n",
       "      <td>0</td>\n",
       "      <td>240276</td>\n",
       "      <td>9.6875</td>\n",
       "      <td>NaN</td>\n",
       "      <td>Q</td>\n",
       "    </tr>\n",
       "    <tr>\n",
       "      <th>895</th>\n",
       "      <td>3</td>\n",
       "      <td>Wirz, Mr. Albert</td>\n",
       "      <td>male</td>\n",
       "      <td>27.0</td>\n",
       "      <td>0</td>\n",
       "      <td>0</td>\n",
       "      <td>315154</td>\n",
       "      <td>8.6625</td>\n",
       "      <td>NaN</td>\n",
       "      <td>S</td>\n",
       "    </tr>\n",
       "    <tr>\n",
       "      <th>896</th>\n",
       "      <td>3</td>\n",
       "      <td>Hirvonen, Mrs. Alexander (Helga E Lindqvist)</td>\n",
       "      <td>female</td>\n",
       "      <td>22.0</td>\n",
       "      <td>1</td>\n",
       "      <td>1</td>\n",
       "      <td>3101298</td>\n",
       "      <td>12.2875</td>\n",
       "      <td>NaN</td>\n",
       "      <td>S</td>\n",
       "    </tr>\n",
       "  </tbody>\n",
       "</table>\n",
       "</div>"
      ],
      "text/plain": [
       "             Pclass                                          Name     Sex  \\\n",
       "PassengerId                                                                 \n",
       "892               3                              Kelly, Mr. James    male   \n",
       "893               3              Wilkes, Mrs. James (Ellen Needs)  female   \n",
       "894               2                     Myles, Mr. Thomas Francis    male   \n",
       "895               3                              Wirz, Mr. Albert    male   \n",
       "896               3  Hirvonen, Mrs. Alexander (Helga E Lindqvist)  female   \n",
       "\n",
       "              Age  SibSp  Parch   Ticket     Fare Cabin Embarked  \n",
       "PassengerId                                                       \n",
       "892          34.5      0      0   330911   7.8292   NaN        Q  \n",
       "893          47.0      1      0   363272   7.0000   NaN        S  \n",
       "894          62.0      0      0   240276   9.6875   NaN        Q  \n",
       "895          27.0      0      0   315154   8.6625   NaN        S  \n",
       "896          22.0      1      1  3101298  12.2875   NaN        S  "
      ]
     },
     "execution_count": 158,
     "metadata": {},
     "output_type": "execute_result"
    }
   ],
   "source": [
    "test_data.head()"
   ]
  },
  {
   "cell_type": "code",
   "execution_count": 159,
   "metadata": {},
   "outputs": [
    {
     "data": {
      "text/plain": [
       "['Age', 'Cabin', 'Embarked']"
      ]
     },
     "execution_count": 159,
     "metadata": {},
     "output_type": "execute_result"
    }
   ],
   "source": [
    "train_data.columns[train_data.isna().any()].tolist()"
   ]
  },
  {
   "cell_type": "code",
   "execution_count": 160,
   "metadata": {},
   "outputs": [],
   "source": [
    "def parse_title(df):\n",
    "    # title\n",
    "    df['Title'] = df.Name.str.split(',').str[1].str.split('.').str[0].str.strip()\n",
    "    df['Title'] = df.Name.str.split(',').str[1].str.split('.').str[0].str.strip()\n",
    "    df['Title'] = df['Title'].replace('Ms','Miss')\n",
    "    df['Title'] = df['Title'].replace('Mlle','Miss')\n",
    "    df['Title'] = df['Title'].replace('Mme','Mrs')\n",
    "    return df\n",
    "\n",
    "def process_name(df):\n",
    "    # parse title first\n",
    "    df = parse_title(df)\n",
    "    df['LastName'] = df.Name.str.split(',').str[0]\n",
    "    # get information about sex from title\n",
    "    df['IsWomanOrBoy'] = ((df.Title == 'Master') | (df.Sex == 'female'))\n",
    "    # find families\n",
    "    family = df.groupby(df.LastName).Survived\n",
    "    # count woman or boy\n",
    "#     df['WomanOrBoyCount'] = family.transform(lambda s: s[df.IsWomanOrBoy].fillna(0).count())\n",
    "#     df['WomanOrBoyCount'] = df.mask(df.IsWomanOrBoy, df.WomanOrBoyCount - 1, axis=0)\n",
    "#     df['FamilySurvivedCount'] = family.transform(lambda s: s[df.IsWomanOrBoy].fillna(0).sum())\n",
    "#     df['FamilySurvivedCount'] = df.mask(df.IsWomanOrBoy, df.FamilySurvivedCount - df.Survived.fillna(0), axis=0)\n",
    "#     df['WomanOrBoySurvived'] = df.FamilySurvivedCount / df.WomanOrBoyCount.replace(0, np.nan)\n",
    "#     df.WomanOrBoyCount = df.WomanOrBoyCount.replace(np.nan, 0)\n",
    "#     df['Alone'] = (df.WomanOrBoyCount == 0)\n",
    "    return df\n",
    "\n",
    "def fill_missing(df):\n",
    "    # Embarked\n",
    "    df['Embarked'] = df['Embarked'].fillna('S')\n",
    "    # Cabin, Deck\n",
    "    df['Deck'] = df['Cabin'].apply(lambda s: s[0] if pd.notnull(s) else 'M')\n",
    "    df.loc[(df['Deck'] == 'T'), 'Deck'] = 'A'\n",
    "\n",
    "    # Thanks to https://www.kaggle.com/erinsweet/simpledetect\n",
    "    # Fare\n",
    "    med_fare = df.groupby(['Pclass', 'Parch', 'SibSp']).Fare.median()[3][0][0]\n",
    "    df['Fare'] = df['Fare'].fillna(med_fare)\n",
    "    #Age\n",
    "    df['Age'] = df.groupby(['Sex', 'Pclass', 'Title'])['Age'].apply(lambda x: x.fillna(x.median()))\n",
    "    # Family_Size\n",
    "    df['Family_Size'] = df['SibSp'] + df['Parch'] + 1\n",
    "    return df    "
   ]
  },
  {
   "cell_type": "code",
   "execution_count": 161,
   "metadata": {},
   "outputs": [],
   "source": [
    "def encode_types(df):\n",
    "    numerics = ['int8', 'int16', 'int32', 'int64', 'float16', 'float32', 'float64']\n",
    "    categorical_columns = []\n",
    "    features = df.columns.values.tolist()\n",
    "    for col in features:\n",
    "        if df[col].dtype in numerics: continue\n",
    "        categorical_columns.append(col)\n",
    "    # Encoding categorical features\n",
    "    for col in categorical_columns:\n",
    "        if col in df.columns:\n",
    "            le = LabelEncoder()\n",
    "            le.fit(list(df[col].astype(str).values))\n",
    "            df[col] = le.transform(list(df[col].astype(str).values))\n",
    "    return df\n",
    "    "
   ]
  },
  {
   "cell_type": "code",
   "execution_count": 162,
   "metadata": {},
   "outputs": [
    {
     "name": "stdout",
     "output_type": "stream",
     "text": [
      "             Pclass  Sex   Age  SibSp  Parch    Fare  Embarked  Title  \\\n",
      "PassengerId                                                             \n",
      "464               2    1  48.0      0      0  13.000         2     10   \n",
      "160               3    1   6.0      8      2  69.550         2      8   \n",
      "48                3    0  18.0      0      0   7.750         1      9   \n",
      "403               3    0  21.0      1      0   9.825         2      9   \n",
      "619               2    0   4.0      2      1  39.000         2      9   \n",
      "\n",
      "             LastName  IsWomanOrBoy  Deck  Family_Size  \n",
      "PassengerId                                             \n",
      "464               524             0     7            1  \n",
      "160               700             1     7           11  \n",
      "48                586             1     7            1  \n",
      "403               388             1     7            2  \n",
      "619                66             1     5            4  \n",
      "PassengerId\n",
      "464    0.0\n",
      "160    0.0\n",
      "48     1.0\n",
      "403    0.0\n",
      "619    1.0\n",
      "Name: Survived, dtype: float64\n",
      "             Survived  Pclass  Sex   Age  SibSp  Parch     Fare  Embarked  \\\n",
      "PassengerId                                                                 \n",
      "892               NaN       3    1  34.5      0      0   7.8292         1   \n",
      "893               NaN       3    0  47.0      1      0   7.0000         2   \n",
      "894               NaN       2    1  62.0      0      0   9.6875         1   \n",
      "895               NaN       3    1  27.0      0      0   8.6625         2   \n",
      "896               NaN       3    0  22.0      1      1  12.2875         2   \n",
      "\n",
      "             Title  LastName  IsWomanOrBoy  Deck  Family_Size  \n",
      "PassengerId                                                    \n",
      "892             10       401             0     7            1  \n",
      "893             11       846             1     7            2  \n",
      "894             10       552             0     7            1  \n",
      "895             10       854             0     7            1  \n",
      "896             11       342             1     7            3  \n"
     ]
    }
   ],
   "source": [
    "RANDOM_SEED = 10\n",
    "\n",
    "# combine train and test into single df for preprocessing --> becareful bc test won't have survived column\n",
    "df = pd.concat([train_data, test_data], axis=0, sort=False)\n",
    "df.head()\n",
    "\n",
    "df = process_name(df)\n",
    "\n",
    "# train_nan_map = {'Age': train_data['Age'].mean(), 'Fare': train_data['Fare'].mean(), 'Embarked': train_data['Embarked'].mode()[0]}\n",
    "# test_nan_map = {'Age': test_data['Age'].mean(), 'Fare': test_data['Fare'].mean(), 'Embarked': test_data['Embarked'].mode()[0]}\n",
    "\n",
    "# train_data.fillna(value=train_nan_map, inplace=True)\n",
    "# test_data.fillna(value=test_nan_map, inplace=True)\n",
    "\n",
    "# columns_map = {'Embarked': {'C': 0, 'Q': 1, 'S': 2}, 'Sex': {'male': 0, 'female': 1}}\n",
    "# train_data.replace(columns_map, inplace=True)\n",
    "# test_data.replace(columns_map, inplace=True)\n",
    "\n",
    "# fill in missing\n",
    "df = fill_missing(df)\n",
    "\n",
    "# drop these columns\n",
    "cols_to_drop = ['Name','Ticket','Cabin']\n",
    "df = df.drop(cols_to_drop, axis=1)\n",
    "\n",
    "# encode the string datatypes using LabelEncoder\n",
    "df = encode_types(df)\n",
    "\n",
    "# separate into data and survived label\n",
    "train_data, test_data = df.loc[train_data.index], df.loc[test_data.index]\n",
    "X_train = train_data.loc[:, train_data.columns != 'Survived']\n",
    "y_train = train_data.loc[:, 'Survived']\n",
    "\n",
    "# try kfold from scikit-learn\n",
    "X_train, X_test, y_train, y_test = train_test_split(X_train, y_train, test_size=0.33, random_state=RANDOM_SEED)\n",
    "\n",
    "print(X_train.head())\n",
    "print(y_train.head())\n",
    "print(test_data.head())"
   ]
  },
  {
   "cell_type": "code",
   "execution_count": 163,
   "metadata": {},
   "outputs": [
    {
     "data": {
      "text/html": [
       "<div>\n",
       "<style scoped>\n",
       "    .dataframe tbody tr th:only-of-type {\n",
       "        vertical-align: middle;\n",
       "    }\n",
       "\n",
       "    .dataframe tbody tr th {\n",
       "        vertical-align: top;\n",
       "    }\n",
       "\n",
       "    .dataframe thead th {\n",
       "        text-align: right;\n",
       "    }\n",
       "</style>\n",
       "<table border=\"1\" class=\"dataframe\">\n",
       "  <thead>\n",
       "    <tr style=\"text-align: right;\">\n",
       "      <th></th>\n",
       "      <th>Survived</th>\n",
       "      <th>Pclass</th>\n",
       "      <th>Sex</th>\n",
       "      <th>Age</th>\n",
       "      <th>SibSp</th>\n",
       "      <th>Parch</th>\n",
       "      <th>Fare</th>\n",
       "      <th>Embarked</th>\n",
       "      <th>Title</th>\n",
       "      <th>LastName</th>\n",
       "      <th>IsWomanOrBoy</th>\n",
       "      <th>Deck</th>\n",
       "      <th>Family_Size</th>\n",
       "    </tr>\n",
       "    <tr>\n",
       "      <th>PassengerId</th>\n",
       "      <th></th>\n",
       "      <th></th>\n",
       "      <th></th>\n",
       "      <th></th>\n",
       "      <th></th>\n",
       "      <th></th>\n",
       "      <th></th>\n",
       "      <th></th>\n",
       "      <th></th>\n",
       "      <th></th>\n",
       "      <th></th>\n",
       "      <th></th>\n",
       "      <th></th>\n",
       "    </tr>\n",
       "  </thead>\n",
       "  <tbody>\n",
       "  </tbody>\n",
       "</table>\n",
       "</div>"
      ],
      "text/plain": [
       "Empty DataFrame\n",
       "Columns: [Survived, Pclass, Sex, Age, SibSp, Parch, Fare, Embarked, Title, LastName, IsWomanOrBoy, Deck, Family_Size]\n",
       "Index: []"
      ]
     },
     "execution_count": 163,
     "metadata": {},
     "output_type": "execute_result"
    }
   ],
   "source": [
    "train_data.columns[train_data.isna().any()].tolist()\n",
    "train_data[train_data['Embarked'].isna() == True]\n",
    "#train_data['Embarked']\n",
    "#test_data.columns[test_data.isna().any()].tolist()"
   ]
  },
  {
   "cell_type": "markdown",
   "metadata": {},
   "source": [
    "## Keeping track of models\n",
    "\n",
    "For now we will keep a dictionary with all the models performance\n",
    "\n",
    "Model will map to (fnr, fpr)\n",
    "\n",
    "Next we will pickle them so we don't have to waste time retraining"
   ]
  },
  {
   "cell_type": "code",
   "execution_count": 164,
   "metadata": {},
   "outputs": [],
   "source": [
    "'''\n",
    "Use this method to score the cross evaluation\n",
    "This way we will have the confusion matrix values for each fold and we can easily get the average fnr and fpr\n",
    "'''\n",
    "def confusion_matrix_scorer(clf, X, y):\n",
    "    y_pred = clf.predict(X)\n",
    "    cm = confusion_matrix(y, y_pred)\n",
    "    return {'tn': cm[0, 0], 'fp': cm[0, 1],\n",
    "            'fn': cm[1, 0], 'tp': cm[1, 1]}\n",
    "\n",
    "# cv_results = cross_validate(svm, X, y, cv=5,\n",
    "#                             scoring=confusion_matrix_scorer)\n",
    "\n",
    "# fit and evaluate model\n",
    "y_truth = y_test.values\n",
    "def eval(model):\n",
    "    # cross validation --> generate different train test splits\n",
    "    \n",
    "    kf = StratifiedKFold(n_splits=5, shuffle=True, random_state=42)\n",
    "\n",
    "    cnt = 1\n",
    "    # split()  method generate indices to split data into training and test set.\n",
    "    for train_index, test_index in kf.split(X_train.values, y_train.values):\n",
    "        print(f'Fold:{cnt}, Train set: {len(train_index)}, Test set:{len(test_index)}')\n",
    "        cnt+=1\n",
    "\n",
    "    model.fit(X_train.values, y_train.values)\n",
    "\n",
    "    # cross eval accuracy\n",
    "    score = cross_val_score(model, X_train.values, y_train.values, cv = kf, scoring=\"accuracy\")\n",
    "    print(f'Scores for each fold are: {score}')\n",
    "    print(\"Average Score of CVs: \", sum(score)/len(score))\n",
    "\n",
    "    # normal accuracy\n",
    "    print(\"Accuracy:\", model.score(X_test.values, y_test.values))\n",
    "    y_pred = model.predict(X_test.values)\n",
    "    tn, fp, fn, tp = confusion_matrix(y_truth, y_pred).ravel()\n",
    "    print(\"\")\n",
    "    print(\"Confusion Matrix\")\n",
    "    print(confusion_matrix(y_truth, y_pred, labels=[0, 1]))\n",
    "    print(\"\")\n",
    "    print(\"True Negatives\", tn)\n",
    "    print(\"False Positives\", fp)\n",
    "    print(\"False Negatives\", fn)\n",
    "    print(\"True Positives\", tp)\n",
    "    print(\"\")\n",
    "    fpr = fp / (fp + tn)\n",
    "    print(\"FPR\", fpr)\n",
    "    fnr = fn / (fn + tp)\n",
    "    print(\"FNR\", fnr)\n",
    "    models[type(model).__name__] = (fpr, fnr)\n",
    "    # print(models)"
   ]
  },
  {
   "cell_type": "code",
   "execution_count": 165,
   "metadata": {},
   "outputs": [],
   "source": [
    "models = {}"
   ]
  },
  {
   "cell_type": "markdown",
   "metadata": {},
   "source": [
    "## Tree"
   ]
  },
  {
   "cell_type": "code",
   "execution_count": 166,
   "metadata": {},
   "outputs": [
    {
     "name": "stdout",
     "output_type": "stream",
     "text": [
      "Fold:1, Train set: 476, Test set:120\n",
      "Fold:2, Train set: 477, Test set:119\n",
      "Fold:3, Train set: 477, Test set:119\n",
      "Fold:4, Train set: 477, Test set:119\n",
      "Fold:5, Train set: 477, Test set:119\n",
      "Scores for each fold are: [0.76666667 0.74789916 0.76470588 0.76470588 0.69747899]\n",
      "Average Score of CVs:  0.7482913165266106\n",
      "Accuracy: 0.7830508474576271\n",
      "\n",
      "Confusion Matrix\n",
      "[[152  39]\n",
      " [ 25  79]]\n",
      "\n",
      "True Negatives 152\n",
      "False Positives 39\n",
      "False Negatives 25\n",
      "True Positives 79\n",
      "\n",
      "FPR 0.20418848167539266\n",
      "FNR 0.2403846153846154\n"
     ]
    }
   ],
   "source": [
    "tree_clf = tree.DecisionTreeClassifier()\n",
    "eval(tree_clf)"
   ]
  },
  {
   "cell_type": "markdown",
   "metadata": {},
   "source": [
    "## KNN"
   ]
  },
  {
   "cell_type": "code",
   "execution_count": 167,
   "metadata": {},
   "outputs": [
    {
     "name": "stdout",
     "output_type": "stream",
     "text": [
      "Fold:1, Train set: 476, Test set:120\n",
      "Fold:2, Train set: 477, Test set:119\n",
      "Fold:3, Train set: 477, Test set:119\n",
      "Fold:4, Train set: 477, Test set:119\n",
      "Fold:5, Train set: 477, Test set:119\n",
      "Scores for each fold are: [0.65       0.64705882 0.71428571 0.65546218 0.64705882]\n",
      "Average Score of CVs:  0.6627731092436975\n",
      "Accuracy: 0.6745762711864407\n",
      "\n",
      "Confusion Matrix\n",
      "[[155  36]\n",
      " [ 60  44]]\n",
      "\n",
      "True Negatives 155\n",
      "False Positives 36\n",
      "False Negatives 60\n",
      "True Positives 44\n",
      "\n",
      "FPR 0.18848167539267016\n",
      "FNR 0.5769230769230769\n"
     ]
    }
   ],
   "source": [
    "knn_clf = neighbors.KNeighborsClassifier()\n",
    "eval(knn_clf)"
   ]
  },
  {
   "cell_type": "markdown",
   "metadata": {},
   "source": [
    "## NN"
   ]
  },
  {
   "cell_type": "code",
   "execution_count": 168,
   "metadata": {},
   "outputs": [
    {
     "name": "stdout",
     "output_type": "stream",
     "text": [
      "Fold:1, Train set: 476, Test set:120\n",
      "Fold:2, Train set: 477, Test set:119\n",
      "Fold:3, Train set: 477, Test set:119\n",
      "Fold:4, Train set: 477, Test set:119\n",
      "Fold:5, Train set: 477, Test set:119\n",
      "Scores for each fold are: [0.85833333 0.74789916 0.82352941 0.68907563 0.75630252]\n",
      "Average Score of CVs:  0.7750280112044818\n",
      "Accuracy: 0.7830508474576271\n",
      "\n",
      "Confusion Matrix\n",
      "[[173  18]\n",
      " [ 46  58]]\n",
      "\n",
      "True Negatives 173\n",
      "False Positives 18\n",
      "False Negatives 46\n",
      "True Positives 58\n",
      "\n",
      "FPR 0.09424083769633508\n",
      "FNR 0.4423076923076923\n"
     ]
    }
   ],
   "source": [
    "NN_clf = neural_network.MLPClassifier()\n",
    "eval(NN_clf)"
   ]
  },
  {
   "cell_type": "markdown",
   "metadata": {},
   "source": [
    "## SVM"
   ]
  },
  {
   "cell_type": "code",
   "execution_count": 169,
   "metadata": {},
   "outputs": [
    {
     "name": "stdout",
     "output_type": "stream",
     "text": [
      "Fold:1, Train set: 476, Test set:120\n",
      "Fold:2, Train set: 477, Test set:119\n",
      "Fold:3, Train set: 477, Test set:119\n",
      "Fold:4, Train set: 477, Test set:119\n",
      "Fold:5, Train set: 477, Test set:119\n",
      "Scores for each fold are: [0.89166667 0.78991597 0.81512605 0.79831933 0.82352941]\n",
      "Average Score of CVs:  0.8237114845938376\n",
      "Accuracy: 0.8338983050847457\n",
      "\n",
      "Confusion Matrix\n",
      "[[168  23]\n",
      " [ 26  78]]\n",
      "\n",
      "True Negatives 168\n",
      "False Positives 23\n",
      "False Negatives 26\n",
      "True Positives 78\n",
      "\n",
      "FPR 0.12041884816753927\n",
      "FNR 0.25\n"
     ]
    }
   ],
   "source": [
    "svm_clf = svm.SVC(kernel='linear')\n",
    "eval(svm_clf)"
   ]
  },
  {
   "cell_type": "code",
   "execution_count": 170,
   "metadata": {},
   "outputs": [
    {
     "name": "stdout",
     "output_type": "stream",
     "text": [
      "Fold:1, Train set: 476, Test set:120\n",
      "Fold:2, Train set: 477, Test set:119\n",
      "Fold:3, Train set: 477, Test set:119\n",
      "Fold:4, Train set: 477, Test set:119\n",
      "Fold:5, Train set: 477, Test set:119\n",
      "Scores for each fold are: [0.575      0.7394958  0.66386555 0.75630252 0.59663866]\n",
      "Average Score of CVs:  0.6662605042016807\n",
      "Accuracy: 0.8\n",
      "\n",
      "Confusion Matrix\n",
      "[[173  18]\n",
      " [ 41  63]]\n",
      "\n",
      "True Negatives 173\n",
      "False Positives 18\n",
      "False Negatives 41\n",
      "True Positives 63\n",
      "\n",
      "FPR 0.09424083769633508\n",
      "FNR 0.3942307692307692\n"
     ]
    },
    {
     "name": "stderr",
     "output_type": "stream",
     "text": [
      "/Users/tristanpeat/miniforge3/envs/tensorflow/lib/python3.10/site-packages/sklearn/svm/_base.py:1225: ConvergenceWarning: Liblinear failed to converge, increase the number of iterations.\n",
      "  warnings.warn(\n",
      "/Users/tristanpeat/miniforge3/envs/tensorflow/lib/python3.10/site-packages/sklearn/svm/_base.py:1225: ConvergenceWarning: Liblinear failed to converge, increase the number of iterations.\n",
      "  warnings.warn(\n",
      "/Users/tristanpeat/miniforge3/envs/tensorflow/lib/python3.10/site-packages/sklearn/svm/_base.py:1225: ConvergenceWarning: Liblinear failed to converge, increase the number of iterations.\n",
      "  warnings.warn(\n",
      "/Users/tristanpeat/miniforge3/envs/tensorflow/lib/python3.10/site-packages/sklearn/svm/_base.py:1225: ConvergenceWarning: Liblinear failed to converge, increase the number of iterations.\n",
      "  warnings.warn(\n",
      "/Users/tristanpeat/miniforge3/envs/tensorflow/lib/python3.10/site-packages/sklearn/svm/_base.py:1225: ConvergenceWarning: Liblinear failed to converge, increase the number of iterations.\n",
      "  warnings.warn(\n",
      "/Users/tristanpeat/miniforge3/envs/tensorflow/lib/python3.10/site-packages/sklearn/svm/_base.py:1225: ConvergenceWarning: Liblinear failed to converge, increase the number of iterations.\n",
      "  warnings.warn(\n"
     ]
    }
   ],
   "source": [
    "svm_linear = svm.LinearSVC()\n",
    "eval(svm_linear)"
   ]
  },
  {
   "cell_type": "markdown",
   "metadata": {},
   "source": [
    "## Linear"
   ]
  },
  {
   "cell_type": "code",
   "execution_count": 171,
   "metadata": {},
   "outputs": [
    {
     "name": "stdout",
     "output_type": "stream",
     "text": [
      "Fold:1, Train set: 476, Test set:120\n",
      "Fold:2, Train set: 477, Test set:119\n",
      "Fold:3, Train set: 477, Test set:119\n",
      "Fold:4, Train set: 477, Test set:119\n",
      "Fold:5, Train set: 477, Test set:119\n",
      "Scores for each fold are: [0.85833333 0.78151261 0.81512605 0.78991597 0.78151261]\n",
      "Average Score of CVs:  0.8052801120448179\n",
      "Accuracy: 0.8203389830508474\n",
      "\n",
      "Confusion Matrix\n",
      "[[168  23]\n",
      " [ 30  74]]\n",
      "\n",
      "True Negatives 168\n",
      "False Positives 23\n",
      "False Negatives 30\n",
      "True Positives 74\n",
      "\n",
      "FPR 0.12041884816753927\n",
      "FNR 0.28846153846153844\n"
     ]
    },
    {
     "name": "stderr",
     "output_type": "stream",
     "text": [
      "/Users/tristanpeat/miniforge3/envs/tensorflow/lib/python3.10/site-packages/sklearn/linear_model/_logistic.py:444: ConvergenceWarning: lbfgs failed to converge (status=1):\n",
      "STOP: TOTAL NO. of ITERATIONS REACHED LIMIT.\n",
      "\n",
      "Increase the number of iterations (max_iter) or scale the data as shown in:\n",
      "    https://scikit-learn.org/stable/modules/preprocessing.html\n",
      "Please also refer to the documentation for alternative solver options:\n",
      "    https://scikit-learn.org/stable/modules/linear_model.html#logistic-regression\n",
      "  n_iter_i = _check_optimize_result(\n",
      "/Users/tristanpeat/miniforge3/envs/tensorflow/lib/python3.10/site-packages/sklearn/linear_model/_logistic.py:444: ConvergenceWarning: lbfgs failed to converge (status=1):\n",
      "STOP: TOTAL NO. of ITERATIONS REACHED LIMIT.\n",
      "\n",
      "Increase the number of iterations (max_iter) or scale the data as shown in:\n",
      "    https://scikit-learn.org/stable/modules/preprocessing.html\n",
      "Please also refer to the documentation for alternative solver options:\n",
      "    https://scikit-learn.org/stable/modules/linear_model.html#logistic-regression\n",
      "  n_iter_i = _check_optimize_result(\n",
      "/Users/tristanpeat/miniforge3/envs/tensorflow/lib/python3.10/site-packages/sklearn/linear_model/_logistic.py:444: ConvergenceWarning: lbfgs failed to converge (status=1):\n",
      "STOP: TOTAL NO. of ITERATIONS REACHED LIMIT.\n",
      "\n",
      "Increase the number of iterations (max_iter) or scale the data as shown in:\n",
      "    https://scikit-learn.org/stable/modules/preprocessing.html\n",
      "Please also refer to the documentation for alternative solver options:\n",
      "    https://scikit-learn.org/stable/modules/linear_model.html#logistic-regression\n",
      "  n_iter_i = _check_optimize_result(\n",
      "/Users/tristanpeat/miniforge3/envs/tensorflow/lib/python3.10/site-packages/sklearn/linear_model/_logistic.py:444: ConvergenceWarning: lbfgs failed to converge (status=1):\n",
      "STOP: TOTAL NO. of ITERATIONS REACHED LIMIT.\n",
      "\n",
      "Increase the number of iterations (max_iter) or scale the data as shown in:\n",
      "    https://scikit-learn.org/stable/modules/preprocessing.html\n",
      "Please also refer to the documentation for alternative solver options:\n",
      "    https://scikit-learn.org/stable/modules/linear_model.html#logistic-regression\n",
      "  n_iter_i = _check_optimize_result(\n",
      "/Users/tristanpeat/miniforge3/envs/tensorflow/lib/python3.10/site-packages/sklearn/linear_model/_logistic.py:444: ConvergenceWarning: lbfgs failed to converge (status=1):\n",
      "STOP: TOTAL NO. of ITERATIONS REACHED LIMIT.\n",
      "\n",
      "Increase the number of iterations (max_iter) or scale the data as shown in:\n",
      "    https://scikit-learn.org/stable/modules/preprocessing.html\n",
      "Please also refer to the documentation for alternative solver options:\n",
      "    https://scikit-learn.org/stable/modules/linear_model.html#logistic-regression\n",
      "  n_iter_i = _check_optimize_result(\n",
      "/Users/tristanpeat/miniforge3/envs/tensorflow/lib/python3.10/site-packages/sklearn/linear_model/_logistic.py:444: ConvergenceWarning: lbfgs failed to converge (status=1):\n",
      "STOP: TOTAL NO. of ITERATIONS REACHED LIMIT.\n",
      "\n",
      "Increase the number of iterations (max_iter) or scale the data as shown in:\n",
      "    https://scikit-learn.org/stable/modules/preprocessing.html\n",
      "Please also refer to the documentation for alternative solver options:\n",
      "    https://scikit-learn.org/stable/modules/linear_model.html#logistic-regression\n",
      "  n_iter_i = _check_optimize_result(\n"
     ]
    }
   ],
   "source": [
    "logistic = linear_model.LogisticRegression()\n",
    "eval(logistic)"
   ]
  },
  {
   "cell_type": "code",
   "execution_count": 172,
   "metadata": {},
   "outputs": [
    {
     "name": "stdout",
     "output_type": "stream",
     "text": [
      "Fold:1, Train set: 476, Test set:120\n",
      "Fold:2, Train set: 477, Test set:119\n",
      "Fold:3, Train set: 477, Test set:119\n",
      "Fold:4, Train set: 477, Test set:119\n",
      "Fold:5, Train set: 477, Test set:119\n",
      "Scores for each fold are: [0.61666667 0.6302521  0.68907563 0.60504202 0.58823529]\n",
      "Average Score of CVs:  0.6258543417366946\n",
      "Accuracy: 0.6576271186440678\n",
      "\n",
      "Confusion Matrix\n",
      "[[191   0]\n",
      " [101   3]]\n",
      "\n",
      "True Negatives 191\n",
      "False Positives 0\n",
      "False Negatives 101\n",
      "True Positives 3\n",
      "\n",
      "FPR 0.0\n",
      "FNR 0.9711538461538461\n"
     ]
    }
   ],
   "source": [
    "perceptron = linear_model.Perceptron()\n",
    "eval(perceptron)"
   ]
  },
  {
   "cell_type": "code",
   "execution_count": 173,
   "metadata": {},
   "outputs": [
    {
     "name": "stdout",
     "output_type": "stream",
     "text": [
      "Fold:1, Train set: 476, Test set:120\n",
      "Fold:2, Train set: 477, Test set:119\n",
      "Fold:3, Train set: 477, Test set:119\n",
      "Fold:4, Train set: 477, Test set:119\n",
      "Fold:5, Train set: 477, Test set:119\n",
      "Scores for each fold are: [0.88333333 0.78991597 0.80672269 0.80672269 0.79831933]\n",
      "Average Score of CVs:  0.8170028011204481\n",
      "Accuracy: 0.8406779661016949\n",
      "\n",
      "Confusion Matrix\n",
      "[[168  23]\n",
      " [ 24  80]]\n",
      "\n",
      "True Negatives 168\n",
      "False Positives 23\n",
      "False Negatives 24\n",
      "True Positives 80\n",
      "\n",
      "FPR 0.12041884816753927\n",
      "FNR 0.23076923076923078\n"
     ]
    }
   ],
   "source": [
    "ridge = linear_model.RidgeClassifier()\n",
    "eval(ridge)"
   ]
  },
  {
   "cell_type": "code",
   "execution_count": 174,
   "metadata": {},
   "outputs": [
    {
     "name": "stdout",
     "output_type": "stream",
     "text": [
      "Fold:1, Train set: 476, Test set:120\n",
      "Fold:2, Train set: 477, Test set:119\n",
      "Fold:3, Train set: 477, Test set:119\n",
      "Fold:4, Train set: 477, Test set:119\n",
      "Fold:5, Train set: 477, Test set:119\n",
      "Scores for each fold are: [0.41666667 0.44537815 0.63865546 0.6302521  0.58823529]\n",
      "Average Score of CVs:  0.5438375350140057\n",
      "Accuracy: 0.6779661016949152\n",
      "\n",
      "Confusion Matrix\n",
      "[[190   1]\n",
      " [ 94  10]]\n",
      "\n",
      "True Negatives 190\n",
      "False Positives 1\n",
      "False Negatives 94\n",
      "True Positives 10\n",
      "\n",
      "FPR 0.005235602094240838\n",
      "FNR 0.9038461538461539\n"
     ]
    }
   ],
   "source": [
    "sdg = linear_model.SGDClassifier()\n",
    "eval(sdg)"
   ]
  },
  {
   "cell_type": "markdown",
   "metadata": {},
   "source": [
    "## Ensemble"
   ]
  },
  {
   "cell_type": "code",
   "execution_count": 175,
   "metadata": {},
   "outputs": [
    {
     "name": "stdout",
     "output_type": "stream",
     "text": [
      "Fold:1, Train set: 476, Test set:120\n",
      "Fold:2, Train set: 477, Test set:119\n",
      "Fold:3, Train set: 477, Test set:119\n",
      "Fold:4, Train set: 477, Test set:119\n",
      "Fold:5, Train set: 477, Test set:119\n",
      "Scores for each fold are: [0.86666667 0.79831933 0.79831933 0.84033613 0.81512605]\n",
      "Average Score of CVs:  0.8237535014005604\n",
      "Accuracy: 0.8135593220338984\n",
      "\n",
      "Confusion Matrix\n",
      "[[163  28]\n",
      " [ 27  77]]\n",
      "\n",
      "True Negatives 163\n",
      "False Positives 28\n",
      "False Negatives 27\n",
      "True Positives 77\n",
      "\n",
      "FPR 0.14659685863874344\n",
      "FNR 0.25961538461538464\n"
     ]
    }
   ],
   "source": [
    "random_forest = ensemble.RandomForestClassifier()\n",
    "eval(random_forest)"
   ]
  },
  {
   "cell_type": "code",
   "execution_count": 176,
   "metadata": {},
   "outputs": [
    {
     "name": "stdout",
     "output_type": "stream",
     "text": [
      "Fold:1, Train set: 476, Test set:120\n",
      "Fold:2, Train set: 477, Test set:119\n",
      "Fold:3, Train set: 477, Test set:119\n",
      "Fold:4, Train set: 477, Test set:119\n",
      "Fold:5, Train set: 477, Test set:119\n",
      "Scores for each fold are: [0.86666667 0.81512605 0.8487395  0.84033613 0.79831933]\n",
      "Average Score of CVs:  0.8338375350140057\n",
      "Accuracy: 0.8338983050847457\n",
      "\n",
      "Confusion Matrix\n",
      "[[165  26]\n",
      " [ 23  81]]\n",
      "\n",
      "True Negatives 165\n",
      "False Positives 26\n",
      "False Negatives 23\n",
      "True Positives 81\n",
      "\n",
      "FPR 0.13612565445026178\n",
      "FNR 0.22115384615384615\n"
     ]
    }
   ],
   "source": [
    "gradient_boost = ensemble.GradientBoostingClassifier()\n",
    "eval(gradient_boost)"
   ]
  },
  {
   "cell_type": "code",
   "execution_count": 177,
   "metadata": {},
   "outputs": [
    {
     "name": "stdout",
     "output_type": "stream",
     "text": [
      "Fold:1, Train set: 476, Test set:120\n",
      "Fold:2, Train set: 477, Test set:119\n",
      "Fold:3, Train set: 477, Test set:119\n",
      "Fold:4, Train set: 477, Test set:119\n",
      "Fold:5, Train set: 477, Test set:119\n",
      "Scores for each fold are: [0.875      0.78151261 0.78991597 0.82352941 0.76470588]\n",
      "Average Score of CVs:  0.8069327731092436\n",
      "Accuracy: 0.823728813559322\n",
      "\n",
      "Confusion Matrix\n",
      "[[164  27]\n",
      " [ 25  79]]\n",
      "\n",
      "True Negatives 164\n",
      "False Positives 27\n",
      "False Negatives 25\n",
      "True Positives 79\n",
      "\n",
      "FPR 0.14136125654450263\n",
      "FNR 0.2403846153846154\n"
     ]
    }
   ],
   "source": [
    "extra_trees = ensemble.ExtraTreesClassifier()\n",
    "eval(extra_trees)"
   ]
  },
  {
   "cell_type": "code",
   "execution_count": 178,
   "metadata": {},
   "outputs": [
    {
     "name": "stdout",
     "output_type": "stream",
     "text": [
      "Fold:1, Train set: 476, Test set:120\n",
      "Fold:2, Train set: 477, Test set:119\n",
      "Fold:3, Train set: 477, Test set:119\n",
      "Fold:4, Train set: 477, Test set:119\n",
      "Fold:5, Train set: 477, Test set:119\n",
      "Scores for each fold are: [0.84166667 0.76470588 0.78991597 0.79831933 0.79831933]\n",
      "Average Score of CVs:  0.7985854341736693\n",
      "Accuracy: 0.8271186440677966\n",
      "\n",
      "Confusion Matrix\n",
      "[[165  26]\n",
      " [ 25  79]]\n",
      "\n",
      "True Negatives 165\n",
      "False Positives 26\n",
      "False Negatives 25\n",
      "True Positives 79\n",
      "\n",
      "FPR 0.13612565445026178\n",
      "FNR 0.2403846153846154\n"
     ]
    }
   ],
   "source": [
    "bagging = ensemble.BaggingClassifier()\n",
    "eval(bagging)"
   ]
  },
  {
   "cell_type": "code",
   "execution_count": 179,
   "metadata": {},
   "outputs": [],
   "source": [
    "# voting = ensemble.VotingClassifier(estimators=20)\n",
    "# eval(voting)"
   ]
  },
  {
   "cell_type": "code",
   "execution_count": 180,
   "metadata": {},
   "outputs": [],
   "source": [
    "import itertools\n",
    "import matplotlib.pyplot as plt\n",
    "\n",
    "def plot_confusion_matrix(cm, classes,\n",
    "                          normalize=False,\n",
    "                          title='Confusion matrix',\n",
    "                          cmap=plt.cm.Blues):\n",
    "    \"\"\"\n",
    "    This function prints and plots the confusion matrix.\n",
    "    Normalization can be applied by setting `normalize=True`.\n",
    "    \"\"\"\n",
    "    if normalize:\n",
    "        cm = cm.astype('float') / cm.sum(axis=1)[:, np.newaxis]\n",
    "        print(\"Normalized confusion matrix\")\n",
    "    else:\n",
    "        print('Confusion matrix, without normalization')\n",
    "\n",
    "    print(cm)\n",
    "\n",
    "    plt.imshow(cm, interpolation='nearest', cmap=cmap)\n",
    "    plt.title(title)\n",
    "    plt.colorbar()\n",
    "    tick_marks = np.arange(len(classes))\n",
    "    plt.xticks(tick_marks, classes, rotation=45)\n",
    "    plt.yticks(tick_marks, classes)\n",
    "\n",
    "    fmt = '.2f' if normalize else 'd'\n",
    "    thresh = cm.max() / 2.\n",
    "    for i, j in itertools.product(range(cm.shape[0]), range(cm.shape[1])):\n",
    "        plt.text(j, i, format(cm[i, j], fmt),\n",
    "                 horizontalalignment=\"center\",\n",
    "                 color=\"white\" if cm[i, j] > thresh else \"black\")\n",
    "\n",
    "    plt.ylabel('True label')\n",
    "    plt.xlabel('Predicted label')\n",
    "    plt.tight_layout()\n",
    "\n",
    "def show_matrix(model):\n",
    "    y_pred = model.predict(X_test)\n",
    "    # Compute confusion matrix\n",
    "    cnf_matrix = confusion_matrix(y_truth, y_pred)\n",
    "    class_names=['0', '1']\n",
    "    np.set_printoptions(precision=2)\n",
    "\n",
    "    # Plot non-normalized confusion matrix\n",
    "    plt.figure()\n",
    "    plot_confusion_matrix(cnf_matrix, classes=class_names,\n",
    "                        title='Confusion matrix, without normalization')\n",
    "\n",
    "    plt.show()\n",
    "\n",
    "show_matrix(knn_clf)"
   ]
  },
  {
   "cell_type": "code",
   "execution_count": 228,
   "metadata": {},
   "outputs": [],
   "source": [
    "def create_pred_csv(model):\n",
    "    predictions = model.predict(test_data.values)\n",
    "    pred_df = pd.DataFrame(predictions, index=test_data.index, columns=['Survived'])\n",
    "    type(pred_df)\n",
    "    pred_df.to_csv(str(model.__name__) + 'predictions.csv', header=True, sep=',')\n",
    "\n",
    "\n",
    "# think the test_data has NaN so it really doesn't like it\n",
    "create_pred_csv(knn_clf)"
   ]
  },
  {
   "cell_type": "markdown",
   "metadata": {},
   "source": [
    "## Function to display pareto front\n",
    "\n",
    "We will give it the model dict and all the fpr and fnr that we have\n",
    "\n",
    "https://oapackage.readthedocs.io/en/latest/examples/example_pareto.html\n",
    "\n",
    "https://stackoverflow.com/questions/21294829/fast-calculations-of-the-pareto-front-in-r\n",
    "\n",
    "The trick here is to sort by x, which then allows you to limit your check to making sure that all prior values of x must have greater values of y to ensure that point is on the frontier."
   ]
  },
  {
   "cell_type": "code",
   "execution_count": 222,
   "metadata": {},
   "outputs": [
    {
     "name": "stdout",
     "output_type": "stream",
     "text": [
      "{'MLPClassifier': (0.09424083769633508, 0.4423076923076923), 'SVC': (0.12041884816753927, 0.25), 'LinearSVC': (0.09424083769633508, 0.3942307692307692), 'LogisticRegression': (0.12041884816753927, 0.28846153846153844), 'Perceptron': (0.0, 0.9711538461538461), 'RidgeClassifier': (0.12041884816753927, 0.23076923076923078), 'SGDClassifier': (0.005235602094240838, 0.9038461538461539), 'GradientBoostingClassifier': (0.13612565445026178, 0.22115384615384615)}\n"
     ]
    }
   ],
   "source": [
    "def create_models_df(models):\n",
    "    df = pd.DataFrame(columns = ['model', 'fpr', 'fnr'])\n",
    "    for model in models:\n",
    "        fpr, fnr = models[model]\n",
    "        df.loc[len(df.index)] = [model, fpr, fnr]\n",
    "    return df\n",
    "\n",
    "def find_hof(df):\n",
    "    out = {}\n",
    "    for index, row in df.iterrows():\n",
    "        # look at all the models with a higher fpr\n",
    "        tmp = df[df.fpr < row['fpr']]\n",
    "        # drop the ones with a higher fnr\n",
    "        tmp = tmp[tmp.fnr <= row['fnr']]\n",
    "        # not optimal\n",
    "        if tmp.size == 0:\n",
    "            model = row['model']\n",
    "            fpr = row['fpr']\n",
    "            fnr = row['fnr']\n",
    "            out[model] = (fpr, fnr)\n",
    "    return out\n",
    "\n",
    "\n",
    "df = create_models_df(models)\n",
    "hof = find_hof(df)\n",
    "print(hof)\n"
   ]
  },
  {
   "cell_type": "code",
   "execution_count": 226,
   "metadata": {},
   "outputs": [
    {
     "data": {
      "image/png": "[encoded data removed]",
      "text/plain": [
       "<Figure size 432x288 with 1 Axes>"
      ]
     },
     "metadata": {
      "needs_background": "light"
     },
     "output_type": "display_data"
    }
   ],
   "source": [
    "def pareto_frontier(models, hof):\n",
    "    for model in models:\n",
    "        fpr, fnr = models[model]\n",
    "        plt.scatter(fpr, fnr, color='b')\n",
    "        if model in hof:\n",
    "            best_fpr, best_fnr = hof[model]\n",
    "            plt.scatter(best_fpr, best_fnr, color='r')\n",
    "            plt.plot(best_fpr, best_fnr, color='r', drawstyle='steps-post')\n",
    "\n",
    "        plt.annotate(str(model), (fpr, fnr))\n",
    "    plt.xlabel(\"FPR\")\n",
    "    plt.ylabel(\"FNR\")\n",
    "    plt.title(\"Pareto Front\")\n",
    "    plt.show()\n",
    "pareto_frontier(models, hof)"
   ]
  }
 ],
 "metadata": {
  "kernelspec": {
   "display_name": "Python 3.9 (tensorflow)",
   "language": "python",
   "name": "tensorflow"
  },
  "language_info": {
   "codemirror_mode": {
    "name": "ipython",
    "version": 3
   },
   "file_extension": ".py",
   "mimetype": "text/x-python",
   "name": "python",
   "nbconvert_exporter": "python",
   "pygments_lexer": "ipython3",
   "version": "3.10.5"
  }
 },
 "nbformat": 4,
 "nbformat_minor": 2
}
