{
  "cells": [
    {
      "cell_type": "code",
      "execution_count": 5,
      "metadata": {
        "colab": {
          "base_uri": "https://localhost:8080/"
        },
        "id": "DExj4kbXBTox",
        "outputId": "77b12a45-d05d-4c8a-c764-4878913cb99e"
      },
      "outputs": [
        {
          "output_type": "stream",
          "name": "stdout",
          "text": [
            "Populating the interactive namespace from numpy and matplotlib\n"
          ]
        },
        {
          "output_type": "stream",
          "name": "stderr",
          "text": [
            "/usr/local/lib/python3.7/dist-packages/IPython/core/magics/pylab.py:160: UserWarning: pylab import has clobbered these variables: ['fmin']\n",
            "`%matplotlib` prevents importing * from pylab and numpy\n",
            "  \"\\n`%matplotlib` prevents importing * from pylab and numpy\"\n"
          ]
        }
      ],
      "source": [
        "%pylab inline\n",
        "# Pandas is a nice utilitiy that enables some easy data manipulation, especially from a csv\n",
        "import pandas as pd\n",
        "# Numpy lets us work with arrays\n",
        "import numpy as np\n",
        "# Sklearn provides various modules with a common API\n",
        "from sklearn import svm, tree, neighbors, neural_network, linear_model, ensemble\n",
        "from sklearn.model_selection import train_test_split, KFold, StratifiedKFold, cross_val_predict, cross_validate\n",
        "from sklearn.metrics import confusion_matrix\n",
        "\n",
        "from sklearn.preprocessing import LabelEncoder\n",
        "from sklearn.model_selection import train_test_split, cross_val_score, GridSearchCV, ShuffleSplit\n",
        "\n",
        "# import pickle\n",
        "import pickle\n",
        "\n",
        "# other models\n",
        "from sklearn.naive_bayes import GaussianNB\n",
        "import xgboost as xgb\n",
        "from xgboost import XGBClassifier\n",
        "\n",
        "# model tuning\n",
        "from hyperopt import STATUS_OK, Trials, fmin, hp, tpe, space_eval\n",
        "\n",
        "# turn off warnings\n",
        "from warnings import simplefilter\n",
        "# ignore all future warnings\n",
        "simplefilter(action='ignore', category=FutureWarning)"
      ]
    },
    {
      "cell_type": "code",
      "execution_count": 6,
      "metadata": {
        "id": "ei5ydI0VBTo0"
      },
      "outputs": [],
      "source": [
        "# Read in our csv files downloaded from Kaggle\n",
        "train_data = pd.read_csv('train.csv').set_index(\"PassengerId\")\n",
        "test_data = pd.read_csv('test.csv').set_index(\"PassengerId\")"
      ]
    },
    {
      "cell_type": "code",
      "execution_count": 7,
      "metadata": {
        "colab": {
          "base_uri": "https://localhost:8080/",
          "height": 235
        },
        "id": "8rDevsE7BTo1",
        "outputId": "c4d04c49-025b-48a3-b27d-32fd828b2a25"
      },
      "outputs": [
        {
          "output_type": "execute_result",
          "data": {
            "text/plain": [
              "             Survived  Pclass  \\\n",
              "PassengerId                     \n",
              "1                   0       3   \n",
              "2                   1       1   \n",
              "3                   1       3   \n",
              "4                   1       1   \n",
              "5                   0       3   \n",
              "\n",
              "                                                          Name     Sex   Age  \\\n",
              "PassengerId                                                                    \n",
              "1                                      Braund, Mr. Owen Harris    male  22.0   \n",
              "2            Cumings, Mrs. John Bradley (Florence Briggs Th...  female  38.0   \n",
              "3                                       Heikkinen, Miss. Laina  female  26.0   \n",
              "4                 Futrelle, Mrs. Jacques Heath (Lily May Peel)  female  35.0   \n",
              "5                                     Allen, Mr. William Henry    male  35.0   \n",
              "\n",
              "             SibSp  Parch            Ticket     Fare Cabin Embarked  \n",
              "PassengerId                                                          \n",
              "1                1      0         A/5 21171   7.2500   NaN        S  \n",
              "2                1      0          PC 17599  71.2833   C85        C  \n",
              "3                0      0  STON/O2. 3101282   7.9250   NaN        S  \n",
              "4                1      0            113803  53.1000  C123        S  \n",
              "5                0      0            373450   8.0500   NaN        S  "
            ],
            "text/html": [
              "\n",
              "  <div id=\"df-26e4ad07-12a0-42a0-bf37-0d0160cd4355\">\n",
              "    <div class=\"colab-df-container\">\n",
              "      <div>\n",
              "<style scoped>\n",
              "    .dataframe tbody tr th:only-of-type {\n",
              "        vertical-align: middle;\n",
              "    }\n",
              "\n",
              "    .dataframe tbody tr th {\n",
              "        vertical-align: top;\n",
              "    }\n",
              "\n",
              "    .dataframe thead th {\n",
              "        text-align: right;\n",
              "    }\n",
              "</style>\n",
              "<table border=\"1\" class=\"dataframe\">\n",
              "  <thead>\n",
              "    <tr style=\"text-align: right;\">\n",
              "      <th></th>\n",
              "      <th>Survived</th>\n",
              "      <th>Pclass</th>\n",
              "      <th>Name</th>\n",
              "      <th>Sex</th>\n",
              "      <th>Age</th>\n",
              "      <th>SibSp</th>\n",
              "      <th>Parch</th>\n",
              "      <th>Ticket</th>\n",
              "      <th>Fare</th>\n",
              "      <th>Cabin</th>\n",
              "      <th>Embarked</th>\n",
              "    </tr>\n",
              "    <tr>\n",
              "      <th>PassengerId</th>\n",
              "      <th></th>\n",
              "      <th></th>\n",
              "      <th></th>\n",
              "      <th></th>\n",
              "      <th></th>\n",
              "      <th></th>\n",
              "      <th></th>\n",
              "      <th></th>\n",
              "      <th></th>\n",
              "      <th></th>\n",
              "      <th></th>\n",
              "    </tr>\n",
              "  </thead>\n",
              "  <tbody>\n",
              "    <tr>\n",
              "      <th>1</th>\n",
              "      <td>0</td>\n",
              "      <td>3</td>\n",
              "      <td>Braund, Mr. Owen Harris</td>\n",
              "      <td>male</td>\n",
              "      <td>22.0</td>\n",
              "      <td>1</td>\n",
              "      <td>0</td>\n",
              "      <td>A/5 21171</td>\n",
              "      <td>7.2500</td>\n",
              "      <td>NaN</td>\n",
              "      <td>S</td>\n",
              "    </tr>\n",
              "    <tr>\n",
              "      <th>2</th>\n",
              "      <td>1</td>\n",
              "      <td>1</td>\n",
              "      <td>Cumings, Mrs. John Bradley (Florence Briggs Th...</td>\n",
              "      <td>female</td>\n",
              "      <td>38.0</td>\n",
              "      <td>1</td>\n",
              "      <td>0</td>\n",
              "      <td>PC 17599</td>\n",
              "      <td>71.2833</td>\n",
              "      <td>C85</td>\n",
              "      <td>C</td>\n",
              "    </tr>\n",
              "    <tr>\n",
              "      <th>3</th>\n",
              "      <td>1</td>\n",
              "      <td>3</td>\n",
              "      <td>Heikkinen, Miss. Laina</td>\n",
              "      <td>female</td>\n",
              "      <td>26.0</td>\n",
              "      <td>0</td>\n",
              "      <td>0</td>\n",
              "      <td>STON/O2. 3101282</td>\n",
              "      <td>7.9250</td>\n",
              "      <td>NaN</td>\n",
              "      <td>S</td>\n",
              "    </tr>\n",
              "    <tr>\n",
              "      <th>4</th>\n",
              "      <td>1</td>\n",
              "      <td>1</td>\n",
              "      <td>Futrelle, Mrs. Jacques Heath (Lily May Peel)</td>\n",
              "      <td>female</td>\n",
              "      <td>35.0</td>\n",
              "      <td>1</td>\n",
              "      <td>0</td>\n",
              "      <td>113803</td>\n",
              "      <td>53.1000</td>\n",
              "      <td>C123</td>\n",
              "      <td>S</td>\n",
              "    </tr>\n",
              "    <tr>\n",
              "      <th>5</th>\n",
              "      <td>0</td>\n",
              "      <td>3</td>\n",
              "      <td>Allen, Mr. William Henry</td>\n",
              "      <td>male</td>\n",
              "      <td>35.0</td>\n",
              "      <td>0</td>\n",
              "      <td>0</td>\n",
              "      <td>373450</td>\n",
              "      <td>8.0500</td>\n",
              "      <td>NaN</td>\n",
              "      <td>S</td>\n",
              "    </tr>\n",
              "  </tbody>\n",
              "</table>\n",
              "</div>\n",
              "      <button class=\"colab-df-convert\" onclick=\"convertToInteractive('df-26e4ad07-12a0-42a0-bf37-0d0160cd4355')\"\n",
              "              title=\"Convert this dataframe to an interactive table.\"\n",
              "              style=\"display:none;\">\n",
              "        \n",
              "  <svg xmlns=\"http://www.w3.org/2000/svg\" height=\"24px\"viewBox=\"0 0 24 24\"\n",
              "       width=\"24px\">\n",
              "    <path d=\"M0 0h24v24H0V0z\" fill=\"none\"/>\n",
              "    <path d=\"M18.56 5.44l.94 2.06.94-2.06 2.06-.94-2.06-.94-.94-2.06-.94 2.06-2.06.94zm-11 1L8.5 8.5l.94-2.06 2.06-.94-2.06-.94L8.5 2.5l-.94 2.06-2.06.94zm10 10l.94 2.06.94-2.06 2.06-.94-2.06-.94-.94-2.06-.94 2.06-2.06.94z\"/><path d=\"M17.41 7.96l-1.37-1.37c-.4-.4-.92-.59-1.43-.59-.52 0-1.04.2-1.43.59L10.3 9.45l-7.72 7.72c-.78.78-.78 2.05 0 2.83L4 21.41c.39.39.9.59 1.41.59.51 0 1.02-.2 1.41-.59l7.78-7.78 2.81-2.81c.8-.78.8-2.07 0-2.86zM5.41 20L4 18.59l7.72-7.72 1.47 1.35L5.41 20z\"/>\n",
              "  </svg>\n",
              "      </button>\n",
              "      \n",
              "  <style>\n",
              "    .colab-df-container {\n",
              "      display:flex;\n",
              "      flex-wrap:wrap;\n",
              "      gap: 12px;\n",
              "    }\n",
              "\n",
              "    .colab-df-convert {\n",
              "      background-color: #E8F0FE;\n",
              "      border: none;\n",
              "      border-radius: 50%;\n",
              "      cursor: pointer;\n",
              "      display: none;\n",
              "      fill: #1967D2;\n",
              "      height: 32px;\n",
              "      padding: 0 0 0 0;\n",
              "      width: 32px;\n",
              "    }\n",
              "\n",
              "    .colab-df-convert:hover {\n",
              "      background-color: #E2EBFA;\n",
              "      box-shadow: 0px 1px 2px rgba(60, 64, 67, 0.3), 0px 1px 3px 1px rgba(60, 64, 67, 0.15);\n",
              "      fill: #174EA6;\n",
              "    }\n",
              "\n",
              "    [theme=dark] .colab-df-convert {\n",
              "      background-color: #3B4455;\n",
              "      fill: #D2E3FC;\n",
              "    }\n",
              "\n",
              "    [theme=dark] .colab-df-convert:hover {\n",
              "      background-color: #434B5C;\n",
              "      box-shadow: 0px 1px 3px 1px rgba(0, 0, 0, 0.15);\n",
              "      filter: drop-shadow(0px 1px 2px rgba(0, 0, 0, 0.3));\n",
              "      fill: #FFFFFF;\n",
              "    }\n",
              "  </style>\n",
              "\n",
              "      <script>\n",
              "        const buttonEl =\n",
              "          document.querySelector('#df-26e4ad07-12a0-42a0-bf37-0d0160cd4355 button.colab-df-convert');\n",
              "        buttonEl.style.display =\n",
              "          google.colab.kernel.accessAllowed ? 'block' : 'none';\n",
              "\n",
              "        async function convertToInteractive(key) {\n",
              "          const element = document.querySelector('#df-26e4ad07-12a0-42a0-bf37-0d0160cd4355');\n",
              "          const dataTable =\n",
              "            await google.colab.kernel.invokeFunction('convertToInteractive',\n",
              "                                                     [key], {});\n",
              "          if (!dataTable) return;\n",
              "\n",
              "          const docLinkHtml = 'Like what you see? Visit the ' +\n",
              "            '<a target=\"_blank\" href=https://colab.research.google.com/notebooks/data_table.ipynb>data table notebook</a>'\n",
              "            + ' to learn more about interactive tables.';\n",
              "          element.innerHTML = '';\n",
              "          dataTable['output_type'] = 'display_data';\n",
              "          await google.colab.output.renderOutput(dataTable, element);\n",
              "          const docLink = document.createElement('div');\n",
              "          docLink.innerHTML = docLinkHtml;\n",
              "          element.appendChild(docLink);\n",
              "        }\n",
              "      </script>\n",
              "    </div>\n",
              "  </div>\n",
              "  "
            ]
          },
          "metadata": {},
          "execution_count": 7
        }
      ],
      "source": [
        "# We can use .head() to get just the first few rows of the data.\n",
        "train_data.head()\n",
        "# Note how the notebook nicely displays the output for us"
      ]
    },
    {
      "cell_type": "code",
      "execution_count": 8,
      "metadata": {
        "colab": {
          "base_uri": "https://localhost:8080/",
          "height": 235
        },
        "id": "ICwp-MPPBTo2",
        "outputId": "547e43d4-2002-42fb-d33d-fa5b4497b5bf"
      },
      "outputs": [
        {
          "output_type": "execute_result",
          "data": {
            "text/plain": [
              "             Pclass                                          Name     Sex  \\\n",
              "PassengerId                                                                 \n",
              "892               3                              Kelly, Mr. James    male   \n",
              "893               3              Wilkes, Mrs. James (Ellen Needs)  female   \n",
              "894               2                     Myles, Mr. Thomas Francis    male   \n",
              "895               3                              Wirz, Mr. Albert    male   \n",
              "896               3  Hirvonen, Mrs. Alexander (Helga E Lindqvist)  female   \n",
              "\n",
              "              Age  SibSp  Parch   Ticket     Fare Cabin Embarked  \n",
              "PassengerId                                                       \n",
              "892          34.5      0      0   330911   7.8292   NaN        Q  \n",
              "893          47.0      1      0   363272   7.0000   NaN        S  \n",
              "894          62.0      0      0   240276   9.6875   NaN        Q  \n",
              "895          27.0      0      0   315154   8.6625   NaN        S  \n",
              "896          22.0      1      1  3101298  12.2875   NaN        S  "
            ],
            "text/html": [
              "\n",
              "  <div id=\"df-5be3755f-5c88-4a3c-8b5a-facbccf76ead\">\n",
              "    <div class=\"colab-df-container\">\n",
              "      <div>\n",
              "<style scoped>\n",
              "    .dataframe tbody tr th:only-of-type {\n",
              "        vertical-align: middle;\n",
              "    }\n",
              "\n",
              "    .dataframe tbody tr th {\n",
              "        vertical-align: top;\n",
              "    }\n",
              "\n",
              "    .dataframe thead th {\n",
              "        text-align: right;\n",
              "    }\n",
              "</style>\n",
              "<table border=\"1\" class=\"dataframe\">\n",
              "  <thead>\n",
              "    <tr style=\"text-align: right;\">\n",
              "      <th></th>\n",
              "      <th>Pclass</th>\n",
              "      <th>Name</th>\n",
              "      <th>Sex</th>\n",
              "      <th>Age</th>\n",
              "      <th>SibSp</th>\n",
              "      <th>Parch</th>\n",
              "      <th>Ticket</th>\n",
              "      <th>Fare</th>\n",
              "      <th>Cabin</th>\n",
              "      <th>Embarked</th>\n",
              "    </tr>\n",
              "    <tr>\n",
              "      <th>PassengerId</th>\n",
              "      <th></th>\n",
              "      <th></th>\n",
              "      <th></th>\n",
              "      <th></th>\n",
              "      <th></th>\n",
              "      <th></th>\n",
              "      <th></th>\n",
              "      <th></th>\n",
              "      <th></th>\n",
              "      <th></th>\n",
              "    </tr>\n",
              "  </thead>\n",
              "  <tbody>\n",
              "    <tr>\n",
              "      <th>892</th>\n",
              "      <td>3</td>\n",
              "      <td>Kelly, Mr. James</td>\n",
              "      <td>male</td>\n",
              "      <td>34.5</td>\n",
              "      <td>0</td>\n",
              "      <td>0</td>\n",
              "      <td>330911</td>\n",
              "      <td>7.8292</td>\n",
              "      <td>NaN</td>\n",
              "      <td>Q</td>\n",
              "    </tr>\n",
              "    <tr>\n",
              "      <th>893</th>\n",
              "      <td>3</td>\n",
              "      <td>Wilkes, Mrs. James (Ellen Needs)</td>\n",
              "      <td>female</td>\n",
              "      <td>47.0</td>\n",
              "      <td>1</td>\n",
              "      <td>0</td>\n",
              "      <td>363272</td>\n",
              "      <td>7.0000</td>\n",
              "      <td>NaN</td>\n",
              "      <td>S</td>\n",
              "    </tr>\n",
              "    <tr>\n",
              "      <th>894</th>\n",
              "      <td>2</td>\n",
              "      <td>Myles, Mr. Thomas Francis</td>\n",
              "      <td>male</td>\n",
              "      <td>62.0</td>\n",
              "      <td>0</td>\n",
              "      <td>0</td>\n",
              "      <td>240276</td>\n",
              "      <td>9.6875</td>\n",
              "      <td>NaN</td>\n",
              "      <td>Q</td>\n",
              "    </tr>\n",
              "    <tr>\n",
              "      <th>895</th>\n",
              "      <td>3</td>\n",
              "      <td>Wirz, Mr. Albert</td>\n",
              "      <td>male</td>\n",
              "      <td>27.0</td>\n",
              "      <td>0</td>\n",
              "      <td>0</td>\n",
              "      <td>315154</td>\n",
              "      <td>8.6625</td>\n",
              "      <td>NaN</td>\n",
              "      <td>S</td>\n",
              "    </tr>\n",
              "    <tr>\n",
              "      <th>896</th>\n",
              "      <td>3</td>\n",
              "      <td>Hirvonen, Mrs. Alexander (Helga E Lindqvist)</td>\n",
              "      <td>female</td>\n",
              "      <td>22.0</td>\n",
              "      <td>1</td>\n",
              "      <td>1</td>\n",
              "      <td>3101298</td>\n",
              "      <td>12.2875</td>\n",
              "      <td>NaN</td>\n",
              "      <td>S</td>\n",
              "    </tr>\n",
              "  </tbody>\n",
              "</table>\n",
              "</div>\n",
              "      <button class=\"colab-df-convert\" onclick=\"convertToInteractive('df-5be3755f-5c88-4a3c-8b5a-facbccf76ead')\"\n",
              "              title=\"Convert this dataframe to an interactive table.\"\n",
              "              style=\"display:none;\">\n",
              "        \n",
              "  <svg xmlns=\"http://www.w3.org/2000/svg\" height=\"24px\"viewBox=\"0 0 24 24\"\n",
              "       width=\"24px\">\n",
              "    <path d=\"M0 0h24v24H0V0z\" fill=\"none\"/>\n",
              "    <path d=\"M18.56 5.44l.94 2.06.94-2.06 2.06-.94-2.06-.94-.94-2.06-.94 2.06-2.06.94zm-11 1L8.5 8.5l.94-2.06 2.06-.94-2.06-.94L8.5 2.5l-.94 2.06-2.06.94zm10 10l.94 2.06.94-2.06 2.06-.94-2.06-.94-.94-2.06-.94 2.06-2.06.94z\"/><path d=\"M17.41 7.96l-1.37-1.37c-.4-.4-.92-.59-1.43-.59-.52 0-1.04.2-1.43.59L10.3 9.45l-7.72 7.72c-.78.78-.78 2.05 0 2.83L4 21.41c.39.39.9.59 1.41.59.51 0 1.02-.2 1.41-.59l7.78-7.78 2.81-2.81c.8-.78.8-2.07 0-2.86zM5.41 20L4 18.59l7.72-7.72 1.47 1.35L5.41 20z\"/>\n",
              "  </svg>\n",
              "      </button>\n",
              "      \n",
              "  <style>\n",
              "    .colab-df-container {\n",
              "      display:flex;\n",
              "      flex-wrap:wrap;\n",
              "      gap: 12px;\n",
              "    }\n",
              "\n",
              "    .colab-df-convert {\n",
              "      background-color: #E8F0FE;\n",
              "      border: none;\n",
              "      border-radius: 50%;\n",
              "      cursor: pointer;\n",
              "      display: none;\n",
              "      fill: #1967D2;\n",
              "      height: 32px;\n",
              "      padding: 0 0 0 0;\n",
              "      width: 32px;\n",
              "    }\n",
              "\n",
              "    .colab-df-convert:hover {\n",
              "      background-color: #E2EBFA;\n",
              "      box-shadow: 0px 1px 2px rgba(60, 64, 67, 0.3), 0px 1px 3px 1px rgba(60, 64, 67, 0.15);\n",
              "      fill: #174EA6;\n",
              "    }\n",
              "\n",
              "    [theme=dark] .colab-df-convert {\n",
              "      background-color: #3B4455;\n",
              "      fill: #D2E3FC;\n",
              "    }\n",
              "\n",
              "    [theme=dark] .colab-df-convert:hover {\n",
              "      background-color: #434B5C;\n",
              "      box-shadow: 0px 1px 3px 1px rgba(0, 0, 0, 0.15);\n",
              "      filter: drop-shadow(0px 1px 2px rgba(0, 0, 0, 0.3));\n",
              "      fill: #FFFFFF;\n",
              "    }\n",
              "  </style>\n",
              "\n",
              "      <script>\n",
              "        const buttonEl =\n",
              "          document.querySelector('#df-5be3755f-5c88-4a3c-8b5a-facbccf76ead button.colab-df-convert');\n",
              "        buttonEl.style.display =\n",
              "          google.colab.kernel.accessAllowed ? 'block' : 'none';\n",
              "\n",
              "        async function convertToInteractive(key) {\n",
              "          const element = document.querySelector('#df-5be3755f-5c88-4a3c-8b5a-facbccf76ead');\n",
              "          const dataTable =\n",
              "            await google.colab.kernel.invokeFunction('convertToInteractive',\n",
              "                                                     [key], {});\n",
              "          if (!dataTable) return;\n",
              "\n",
              "          const docLinkHtml = 'Like what you see? Visit the ' +\n",
              "            '<a target=\"_blank\" href=https://colab.research.google.com/notebooks/data_table.ipynb>data table notebook</a>'\n",
              "            + ' to learn more about interactive tables.';\n",
              "          element.innerHTML = '';\n",
              "          dataTable['output_type'] = 'display_data';\n",
              "          await google.colab.output.renderOutput(dataTable, element);\n",
              "          const docLink = document.createElement('div');\n",
              "          docLink.innerHTML = docLinkHtml;\n",
              "          element.appendChild(docLink);\n",
              "        }\n",
              "      </script>\n",
              "    </div>\n",
              "  </div>\n",
              "  "
            ]
          },
          "metadata": {},
          "execution_count": 8
        }
      ],
      "source": [
        "test_data.head()"
      ]
    },
    {
      "cell_type": "code",
      "execution_count": 9,
      "metadata": {
        "colab": {
          "base_uri": "https://localhost:8080/"
        },
        "id": "VsIFNxeKBTo2",
        "outputId": "61a0fd42-4dd2-44da-c88c-443dc1c2dd93"
      },
      "outputs": [
        {
          "output_type": "execute_result",
          "data": {
            "text/plain": [
              "['Age', 'Cabin', 'Embarked']"
            ]
          },
          "metadata": {},
          "execution_count": 9
        }
      ],
      "source": [
        "train_data.columns[train_data.isna().any()].tolist()"
      ]
    },
    {
      "cell_type": "code",
      "execution_count": 10,
      "metadata": {
        "id": "vtW2YFYVBTo3"
      },
      "outputs": [],
      "source": [
        "def parse_title(df):\n",
        "    # title\n",
        "    df['Title'] = df.Name.str.split(',').str[1].str.split('.').str[0].str.strip()\n",
        "    df['Title'] = df.Name.str.split(',').str[1].str.split('.').str[0].str.strip()\n",
        "    df['Title'] = df['Title'].replace('Ms','Miss')\n",
        "    df['Title'] = df['Title'].replace('Mlle','Miss')\n",
        "    df['Title'] = df['Title'].replace('Mme','Mrs')\n",
        "    return df\n",
        "\n",
        "def process_name(df):\n",
        "    # parse title first\n",
        "    df = parse_title(df)\n",
        "    df['LastName'] = df.Name.str.split(',').str[0]\n",
        "    # get information about sex from title\n",
        "    df['IsWomanOrBoy'] = ((df.Title == 'Master') | (df.Sex == 'female'))\n",
        "    return df\n",
        "\n",
        "def add_family_info(df):\n",
        "    family = df.groupby(df.LastName).Survived\n",
        "    # count woman or boy\n",
        "    df['WomanOrBoyCount'] = family.transform(lambda s: s[df.IsWomanOrBoy].fillna(0).count())\n",
        "    # df['WomanOrBoyCount'] = df.mask(df.IsWomanOrBoy, df.WomanOrBoyCount - 1, axis=0)\n",
        "    df['FamilySurvivedCount'] = family.transform(lambda s: s[df.IsWomanOrBoy].fillna(0).sum())\n",
        "    # df['FamilySurvivedCount'] = df.mask(df.IsWomanOrBoy, df.FamilySurvivedCount - df.Survived.fillna(0), axis=0)\n",
        "    df['WomanOrBoySurvived'] = df.FamilySurvivedCount / df.WomanOrBoyCount.replace(0, np.nan)\n",
        "    df.WomanOrBoyCount = df.WomanOrBoyCount.replace(np.nan, 0)\n",
        "    df['Alone'] = (df.WomanOrBoyCount == 0)\n",
        "\n",
        "    # Family_Size\n",
        "    df['FamilySize'] = df['SibSp'] + df['Parch'] + 1\n",
        "    \n",
        "    df['Single'] = df['FamilySize'].map(lambda s: 1 if s == 1 else 0)\n",
        "    df['SmallF'] = df['FamilySize'].map(lambda s: 1 if  s == 2  else 0)\n",
        "    df['MedF'] = df['FamilySize'].map(lambda s: 1 if 3 <= s <= 4 else 0)\n",
        "    df['LargeF'] = df['FamilySize'].map(lambda s: 1 if s >= 5 else 0)\n",
        "    df.drop(columns = ['FamilySize'], inplace=True)\n",
        "    return df\n",
        "\n",
        "def fill_missing(df):\n",
        "    # Embarked\n",
        "    df['Embarked'] = df['Embarked'].fillna('S')\n",
        "    # Cabin, Deck\n",
        "    df['Deck'] = df['Cabin'].apply(lambda s: s[0] if pd.notnull(s) else 'M')\n",
        "    df.loc[(df['Deck'] == 'T'), 'Deck'] = 'A'\n",
        "    # propogate median fair\n",
        "    med_fare = df.groupby(['Pclass', 'Parch', 'SibSp']).Fare.median()[3][0][0]\n",
        "    df['Fare'] = df['Fare'].fillna(med_fare)\n",
        "    #Age\n",
        "    df['Age'] = df.groupby(['Sex', 'Pclass', 'Title'])['Age'].apply(lambda x: x.fillna(x.median()))\n",
        "    # family info\n",
        "    df.WomanOrBoySurvived = df.WomanOrBoySurvived.fillna(0)\n",
        "    df.WomanOrBoyCount = df.WomanOrBoyCount.fillna(0)\n",
        "    df.FamilySurvivedCount = df.FamilySurvivedCount.fillna(0)\n",
        "    df.Alone = df.Alone.fillna(0)\n",
        "    return df    "
      ]
    },
    {
      "cell_type": "code",
      "execution_count": 11,
      "metadata": {
        "id": "WtwlbaIpBTo4"
      },
      "outputs": [],
      "source": [
        "def encode_types(df):\n",
        "    numerics = ['int8', 'int16', 'int32', 'int64', 'float16', 'float32', 'float64']\n",
        "    categorical_columns = []\n",
        "    features = df.columns.values.tolist()\n",
        "    for col in features:\n",
        "        if df[col].dtype in numerics: continue\n",
        "        categorical_columns.append(col)\n",
        "    # Encoding categorical features\n",
        "    for col in categorical_columns:\n",
        "        if col in df.columns:\n",
        "            le = LabelEncoder()\n",
        "            le.fit(list(df[col].astype(str).values))\n",
        "            df[col] = le.transform(list(df[col].astype(str).values))\n",
        "    return df\n",
        "    "
      ]
    },
    {
      "cell_type": "code",
      "execution_count": 12,
      "metadata": {
        "colab": {
          "base_uri": "https://localhost:8080/"
        },
        "id": "3k3VtxyyBTo5",
        "outputId": "3e1243d9-0f35-472b-947f-a6d5b12b947e"
      },
      "outputs": [
        {
          "output_type": "stream",
          "name": "stdout",
          "text": [
            "             Pclass  Sex   Age  SibSp  Parch     Fare  Embarked  Title  \\\n",
            "PassengerId                                                              \n",
            "892               3    1  34.5      0      0   7.8292         1     10   \n",
            "893               3    0  47.0      1      0   7.0000         2     11   \n",
            "894               2    1  62.0      0      0   9.6875         1     10   \n",
            "895               3    1  27.0      0      0   8.6625         2     10   \n",
            "896               3    0  22.0      1      1  12.2875         2     11   \n",
            "\n",
            "             LastName  IsWomanOrBoy  WomanOrBoyCount  FamilySurvivedCount  \\\n",
            "PassengerId                                                                 \n",
            "892               401             0                3                  3.0   \n",
            "893               846             1                1                  0.0   \n",
            "894               552             0                0                  0.0   \n",
            "895               854             0                0                  0.0   \n",
            "896               342             1                2                  1.0   \n",
            "\n",
            "             WomanOrBoySurvived  Alone  Single  SmallF  MedF  LargeF  Deck  \n",
            "PassengerId                                                                 \n",
            "892                         1.0      0       1       0     0       0     7  \n",
            "893                         0.0      0       0       1     0       0     7  \n",
            "894                         0.0      1       1       0     0       0     7  \n",
            "895                         0.0      1       1       0     0       0     7  \n",
            "896                         0.5      0       0       0     1       0     7  \n"
          ]
        }
      ],
      "source": [
        "RANDOM_SEED = 10\n",
        "\n",
        "# combine train and test into single df for preprocessing --> becareful bc test won't have survived column\n",
        "df = pd.concat([train_data, test_data], axis=0, sort=False)\n",
        "df.head()\n",
        "\n",
        "df = process_name(df)\n",
        "\n",
        "df = add_family_info(df)\n",
        "\n",
        "# fill in missing\n",
        "df = fill_missing(df)\n",
        "\n",
        "# drop these columns\n",
        "cols_to_drop = ['Name','Ticket','Cabin']\n",
        "df = df.drop(cols_to_drop, axis=1)\n",
        "\n",
        "# encode the string datatypes using LabelEncoder\n",
        "df = encode_types(df)\n",
        "\n",
        "# separate into data and survived label\n",
        "train_data, test_data = df.loc[train_data.index], df.loc[test_data.index]\n",
        "X_train = train_data.loc[:, train_data.columns != 'Survived']\n",
        "y_train = train_data.loc[:, 'Survived']\n",
        "\n",
        "test_data = test_data.loc[:, test_data.columns != 'Survived']\n",
        "print(test_data.head())\n",
        "\n",
        "# try kfold from scikit-learn\n",
        "# X_train, X_test, y_train, y_test = train_test_split(X_train, y_train, test_size=0.33, random_state=RANDOM_SEED)\n",
        "\n",
        "# print(X_train.head())\n",
        "# print(y_train.head())\n",
        "# print(test_data.head())"
      ]
    },
    {
      "cell_type": "code",
      "execution_count": 13,
      "metadata": {
        "colab": {
          "base_uri": "https://localhost:8080/",
          "height": 144
        },
        "id": "K5o779JfBTo6",
        "outputId": "4eae33b4-c639-42dd-8a6d-871ce8511815"
      },
      "outputs": [
        {
          "output_type": "execute_result",
          "data": {
            "text/plain": [
              "Empty DataFrame\n",
              "Columns: [Survived, Pclass, Sex, Age, SibSp, Parch, Fare, Embarked, Title, LastName, IsWomanOrBoy, WomanOrBoyCount, FamilySurvivedCount, WomanOrBoySurvived, Alone, Single, SmallF, MedF, LargeF, Deck]\n",
              "Index: []"
            ],
            "text/html": [
              "\n",
              "  <div id=\"df-2ed90741-2b15-479e-9343-d79d966a77e3\">\n",
              "    <div class=\"colab-df-container\">\n",
              "      <div>\n",
              "<style scoped>\n",
              "    .dataframe tbody tr th:only-of-type {\n",
              "        vertical-align: middle;\n",
              "    }\n",
              "\n",
              "    .dataframe tbody tr th {\n",
              "        vertical-align: top;\n",
              "    }\n",
              "\n",
              "    .dataframe thead th {\n",
              "        text-align: right;\n",
              "    }\n",
              "</style>\n",
              "<table border=\"1\" class=\"dataframe\">\n",
              "  <thead>\n",
              "    <tr style=\"text-align: right;\">\n",
              "      <th></th>\n",
              "      <th>Survived</th>\n",
              "      <th>Pclass</th>\n",
              "      <th>Sex</th>\n",
              "      <th>Age</th>\n",
              "      <th>SibSp</th>\n",
              "      <th>Parch</th>\n",
              "      <th>Fare</th>\n",
              "      <th>Embarked</th>\n",
              "      <th>Title</th>\n",
              "      <th>LastName</th>\n",
              "      <th>IsWomanOrBoy</th>\n",
              "      <th>WomanOrBoyCount</th>\n",
              "      <th>FamilySurvivedCount</th>\n",
              "      <th>WomanOrBoySurvived</th>\n",
              "      <th>Alone</th>\n",
              "      <th>Single</th>\n",
              "      <th>SmallF</th>\n",
              "      <th>MedF</th>\n",
              "      <th>LargeF</th>\n",
              "      <th>Deck</th>\n",
              "    </tr>\n",
              "    <tr>\n",
              "      <th>PassengerId</th>\n",
              "      <th></th>\n",
              "      <th></th>\n",
              "      <th></th>\n",
              "      <th></th>\n",
              "      <th></th>\n",
              "      <th></th>\n",
              "      <th></th>\n",
              "      <th></th>\n",
              "      <th></th>\n",
              "      <th></th>\n",
              "      <th></th>\n",
              "      <th></th>\n",
              "      <th></th>\n",
              "      <th></th>\n",
              "      <th></th>\n",
              "      <th></th>\n",
              "      <th></th>\n",
              "      <th></th>\n",
              "      <th></th>\n",
              "      <th></th>\n",
              "    </tr>\n",
              "  </thead>\n",
              "  <tbody>\n",
              "  </tbody>\n",
              "</table>\n",
              "</div>\n",
              "      <button class=\"colab-df-convert\" onclick=\"convertToInteractive('df-2ed90741-2b15-479e-9343-d79d966a77e3')\"\n",
              "              title=\"Convert this dataframe to an interactive table.\"\n",
              "              style=\"display:none;\">\n",
              "        \n",
              "  <svg xmlns=\"http://www.w3.org/2000/svg\" height=\"24px\"viewBox=\"0 0 24 24\"\n",
              "       width=\"24px\">\n",
              "    <path d=\"M0 0h24v24H0V0z\" fill=\"none\"/>\n",
              "    <path d=\"M18.56 5.44l.94 2.06.94-2.06 2.06-.94-2.06-.94-.94-2.06-.94 2.06-2.06.94zm-11 1L8.5 8.5l.94-2.06 2.06-.94-2.06-.94L8.5 2.5l-.94 2.06-2.06.94zm10 10l.94 2.06.94-2.06 2.06-.94-2.06-.94-.94-2.06-.94 2.06-2.06.94z\"/><path d=\"M17.41 7.96l-1.37-1.37c-.4-.4-.92-.59-1.43-.59-.52 0-1.04.2-1.43.59L10.3 9.45l-7.72 7.72c-.78.78-.78 2.05 0 2.83L4 21.41c.39.39.9.59 1.41.59.51 0 1.02-.2 1.41-.59l7.78-7.78 2.81-2.81c.8-.78.8-2.07 0-2.86zM5.41 20L4 18.59l7.72-7.72 1.47 1.35L5.41 20z\"/>\n",
              "  </svg>\n",
              "      </button>\n",
              "      \n",
              "  <style>\n",
              "    .colab-df-container {\n",
              "      display:flex;\n",
              "      flex-wrap:wrap;\n",
              "      gap: 12px;\n",
              "    }\n",
              "\n",
              "    .colab-df-convert {\n",
              "      background-color: #E8F0FE;\n",
              "      border: none;\n",
              "      border-radius: 50%;\n",
              "      cursor: pointer;\n",
              "      display: none;\n",
              "      fill: #1967D2;\n",
              "      height: 32px;\n",
              "      padding: 0 0 0 0;\n",
              "      width: 32px;\n",
              "    }\n",
              "\n",
              "    .colab-df-convert:hover {\n",
              "      background-color: #E2EBFA;\n",
              "      box-shadow: 0px 1px 2px rgba(60, 64, 67, 0.3), 0px 1px 3px 1px rgba(60, 64, 67, 0.15);\n",
              "      fill: #174EA6;\n",
              "    }\n",
              "\n",
              "    [theme=dark] .colab-df-convert {\n",
              "      background-color: #3B4455;\n",
              "      fill: #D2E3FC;\n",
              "    }\n",
              "\n",
              "    [theme=dark] .colab-df-convert:hover {\n",
              "      background-color: #434B5C;\n",
              "      box-shadow: 0px 1px 3px 1px rgba(0, 0, 0, 0.15);\n",
              "      filter: drop-shadow(0px 1px 2px rgba(0, 0, 0, 0.3));\n",
              "      fill: #FFFFFF;\n",
              "    }\n",
              "  </style>\n",
              "\n",
              "      <script>\n",
              "        const buttonEl =\n",
              "          document.querySelector('#df-2ed90741-2b15-479e-9343-d79d966a77e3 button.colab-df-convert');\n",
              "        buttonEl.style.display =\n",
              "          google.colab.kernel.accessAllowed ? 'block' : 'none';\n",
              "\n",
              "        async function convertToInteractive(key) {\n",
              "          const element = document.querySelector('#df-2ed90741-2b15-479e-9343-d79d966a77e3');\n",
              "          const dataTable =\n",
              "            await google.colab.kernel.invokeFunction('convertToInteractive',\n",
              "                                                     [key], {});\n",
              "          if (!dataTable) return;\n",
              "\n",
              "          const docLinkHtml = 'Like what you see? Visit the ' +\n",
              "            '<a target=\"_blank\" href=https://colab.research.google.com/notebooks/data_table.ipynb>data table notebook</a>'\n",
              "            + ' to learn more about interactive tables.';\n",
              "          element.innerHTML = '';\n",
              "          dataTable['output_type'] = 'display_data';\n",
              "          await google.colab.output.renderOutput(dataTable, element);\n",
              "          const docLink = document.createElement('div');\n",
              "          docLink.innerHTML = docLinkHtml;\n",
              "          element.appendChild(docLink);\n",
              "        }\n",
              "      </script>\n",
              "    </div>\n",
              "  </div>\n",
              "  "
            ]
          },
          "metadata": {},
          "execution_count": 13
        }
      ],
      "source": [
        "train_data.columns[train_data.isna().any()].tolist()\n",
        "train_data[train_data['Embarked'].isna() == True]\n",
        "#train_data['Embarked']\n",
        "#test_data.columns[test_data.isna().any()].tolist()"
      ]
    },
    {
      "cell_type": "markdown",
      "metadata": {
        "id": "hkYb39TIBTo7"
      },
      "source": [
        "## Keeping track of models\n",
        "\n",
        "For now we will keep a dictionary with all the models performance\n",
        "\n",
        "Model will map to (fnr, fpr)\n",
        "\n",
        "Next we will pickle them so we don't have to waste time retraining"
      ]
    },
    {
      "cell_type": "code",
      "execution_count": 14,
      "metadata": {
        "id": "09GqW9WkBTo-"
      },
      "outputs": [],
      "source": [
        "'''\n",
        "Use this method to score the cross evaluation\n",
        "This way we will have the confusion matrix values for each fold and we can easily get the average fnr and fpr\n",
        "'''\n",
        "def confusion_matrix_scorer(clf, X, y):\n",
        "    y_pred = clf.predict(X)\n",
        "    cm = confusion_matrix(y, y_pred)\n",
        "    accuracy = clf.score(X, y)\n",
        "    return {'tn': cm[0, 0], 'fp': cm[0, 1],\n",
        "            'fn': cm[1, 0], 'tp': cm[1, 1], \"acc\": accuracy}\n",
        "\n",
        "# fit and evaluate model\n",
        "def eval(model):\n",
        "    # cross validation --> generate different train test splits\n",
        "    \n",
        "    cv = ShuffleSplit(n_splits=5, test_size=0.3, random_state=RANDOM_SEED)\n",
        "\n",
        "    model.fit(X_train.values, y_train.values)\n",
        "\n",
        "    # cross eval accuracy\n",
        "    score = cross_validate(model, X_train.values, y_train.values, cv = cv, scoring=confusion_matrix_scorer)\n",
        "    print(score)\n",
        "\n",
        "    tn = np.mean(score['test_tn'])\n",
        "    fp = np.mean(score['test_fp'])\n",
        "    fn = np.mean(score['test_fn'])\n",
        "    tp = np.mean(score['test_tp'])\n",
        "    acc = np.mean(score['test_acc'])\n",
        "\n",
        "    print(\"Accuracy\", acc)\n",
        "    print(\"\")\n",
        "    print(\"True Negatives\", tn)\n",
        "    print(\"False Positives\", fp)\n",
        "    print(\"False Negatives\", fn)\n",
        "    print(\"True Positives\", tp)\n",
        "    print(\"\")\n",
        "    fpr = fp / (fp + tn)\n",
        "    print(\"FPR\", fpr)\n",
        "    fnr = fn / (fn + tp)\n",
        "    print(\"FNR\", fnr)\n",
        "    models[type(model).__name__] = (fpr, fnr)"
      ]
    },
    {
      "cell_type": "code",
      "execution_count": 15,
      "metadata": {
        "id": "u-2LIZ8uBTo-"
      },
      "outputs": [],
      "source": [
        "models = {}"
      ]
    },
    {
      "cell_type": "markdown",
      "metadata": {
        "id": "f3QRxEuKBTo_"
      },
      "source": [
        "## Tree"
      ]
    },
    {
      "cell_type": "code",
      "execution_count": 16,
      "metadata": {
        "colab": {
          "base_uri": "https://localhost:8080/"
        },
        "id": "IBVQbZbRBTpA",
        "outputId": "17a84ceb-0f59-4c85-963f-a6b265f9fa2e"
      },
      "outputs": [
        {
          "output_type": "stream",
          "name": "stdout",
          "text": [
            "{'fit_time': array([0.00287867, 0.00199986, 0.00178528, 0.00185394, 0.00171924]), 'score_time': array([0.00181603, 0.00106192, 0.00099111, 0.0010345 , 0.00095034]), 'test_tn': array([138, 134, 152, 143, 142]), 'test_fp': array([36, 32, 20, 22, 19]), 'test_fn': array([19, 19, 14, 15, 31]), 'test_tp': array([75, 83, 82, 88, 76]), 'test_acc': array([0.79477612, 0.80970149, 0.87313433, 0.8619403 , 0.81343284])}\n",
            "Accuracy 0.8305970149253732\n",
            "\n",
            "True Negatives 141.8\n",
            "False Positives 25.8\n",
            "False Negatives 19.6\n",
            "True Positives 80.8\n",
            "\n",
            "FPR 0.1539379474940334\n",
            "FNR 0.1952191235059761\n"
          ]
        }
      ],
      "source": [
        "tree_clf = tree.DecisionTreeClassifier()\n",
        "eval(tree_clf)"
      ]
    },
    {
      "cell_type": "markdown",
      "metadata": {
        "id": "eoE6bY8MBTpA"
      },
      "source": [
        "## KNN"
      ]
    },
    {
      "cell_type": "code",
      "execution_count": 17,
      "metadata": {
        "colab": {
          "base_uri": "https://localhost:8080/"
        },
        "id": "rqIzvHErBTpB",
        "outputId": "85affe1c-76f0-4a71-e668-154ec47e5e71"
      },
      "outputs": [
        {
          "output_type": "stream",
          "name": "stdout",
          "text": [
            "{'fit_time': array([0.00340509, 0.00065827, 0.00067163, 0.00066447, 0.00068569]), 'score_time': array([0.02462101, 0.02339745, 0.02370071, 0.02297068, 0.02289033]), 'test_tn': array([146, 135, 146, 137, 135]), 'test_fp': array([28, 31, 26, 28, 26]), 'test_fn': array([53, 62, 57, 62, 70]), 'test_tp': array([41, 40, 39, 41, 37]), 'test_acc': array([0.69776119, 0.65298507, 0.69029851, 0.6641791 , 0.64179104])}\n",
            "Accuracy 0.6694029850746268\n",
            "\n",
            "True Negatives 139.8\n",
            "False Positives 27.8\n",
            "False Negatives 60.8\n",
            "True Positives 39.6\n",
            "\n",
            "FPR 0.16587112171837706\n",
            "FNR 0.6055776892430278\n"
          ]
        }
      ],
      "source": [
        "knn_clf = neighbors.KNeighborsClassifier()\n",
        "eval(knn_clf)"
      ]
    },
    {
      "cell_type": "markdown",
      "metadata": {
        "id": "B9gsuWmuBTpC"
      },
      "source": [
        "## NN"
      ]
    },
    {
      "cell_type": "code",
      "execution_count": 18,
      "metadata": {
        "colab": {
          "base_uri": "https://localhost:8080/"
        },
        "id": "DwwWmLO0BTpC",
        "outputId": "c79030e0-1571-4005-8776-859eb92b452f"
      },
      "outputs": [
        {
          "output_type": "stream",
          "name": "stdout",
          "text": [
            "{'fit_time': array([0.35326648, 0.34323025, 0.16595697, 0.16378331, 0.31392336]), 'score_time': array([0.00191331, 0.0017755 , 0.00191164, 0.00183821, 0.00190473]), 'test_tn': array([167, 143, 160, 152, 134]), 'test_fp': array([ 7, 23, 12, 13, 27]), 'test_fn': array([25, 23, 26, 23, 26]), 'test_tp': array([69, 79, 70, 80, 81]), 'test_acc': array([0.88059701, 0.82835821, 0.85820896, 0.86567164, 0.80223881])}\n",
            "Accuracy 0.8470149253731343\n",
            "\n",
            "True Negatives 151.2\n",
            "False Positives 16.4\n",
            "False Negatives 24.6\n",
            "True Positives 75.8\n",
            "\n",
            "FPR 0.09785202863961813\n",
            "FNR 0.2450199203187251\n"
          ]
        }
      ],
      "source": [
        "NN_clf = neural_network.MLPClassifier()\n",
        "eval(NN_clf)"
      ]
    },
    {
      "cell_type": "markdown",
      "metadata": {
        "id": "yDBG7OCzBTpD"
      },
      "source": [
        "## SVM"
      ]
    },
    {
      "cell_type": "code",
      "execution_count": 19,
      "metadata": {
        "colab": {
          "base_uri": "https://localhost:8080/"
        },
        "id": "UkEORT10BTpD",
        "outputId": "0e4bd9d9-6ae5-4d27-d0fa-75a896fb64d3"
      },
      "outputs": [
        {
          "output_type": "stream",
          "name": "stdout",
          "text": [
            "{'fit_time': array([37.64612889, 29.58378482, 18.18182015, 15.95674253, 39.15144515]), 'score_time': array([0.00301409, 0.00314999, 0.00307918, 0.00286007, 0.00287819]), 'test_tn': array([172, 164, 170, 162, 161]), 'test_fp': array([2, 2, 2, 3, 0]), 'test_fn': array([21, 23, 24, 24, 33]), 'test_tp': array([73, 79, 72, 79, 74]), 'test_acc': array([0.9141791 , 0.90671642, 0.90298507, 0.89925373, 0.87686567])}\n",
            "Accuracy 0.9\n",
            "\n",
            "True Negatives 165.8\n",
            "False Positives 1.8\n",
            "False Negatives 25.0\n",
            "True Positives 75.4\n",
            "\n",
            "FPR 0.010739856801909307\n",
            "FNR 0.249003984063745\n"
          ]
        }
      ],
      "source": [
        "svm_clf = svm.SVC(kernel='linear')\n",
        "eval(svm_clf)"
      ]
    },
    {
      "cell_type": "code",
      "execution_count": 20,
      "metadata": {
        "colab": {
          "base_uri": "https://localhost:8080/"
        },
        "id": "H9iHLUgiBTpE",
        "outputId": "4cfef692-014e-4da5-a3f1-38d5c3d2442c"
      },
      "outputs": [
        {
          "output_type": "stream",
          "name": "stdout",
          "text": [
            "{'fit_time': array([0.02663469, 0.02491474, 0.02533221, 0.02509713, 0.02731872]), 'score_time': array([0.00230145, 0.00174117, 0.00182796, 0.00183845, 0.00124764]), 'test_tn': array([119, 155,   3, 155, 145]), 'test_fp': array([ 55,  11, 169,  10,  16]), 'test_fn': array([17, 27,  0, 36, 24]), 'test_tp': array([77, 75, 96, 67, 83]), 'test_acc': array([0.73134328, 0.85820896, 0.36940299, 0.82835821, 0.85074627])}\n",
            "Accuracy 0.7276119402985075\n",
            "\n",
            "True Negatives 115.4\n",
            "False Positives 52.2\n",
            "False Negatives 20.8\n",
            "True Positives 79.6\n",
            "\n",
            "FPR 0.3114558472553699\n",
            "FNR 0.2071713147410359\n"
          ]
        },
        {
          "output_type": "stream",
          "name": "stderr",
          "text": [
            "/usr/local/lib/python3.7/dist-packages/sklearn/svm/_base.py:1208: ConvergenceWarning: Liblinear failed to converge, increase the number of iterations.\n",
            "  ConvergenceWarning,\n",
            "/usr/local/lib/python3.7/dist-packages/sklearn/svm/_base.py:1208: ConvergenceWarning: Liblinear failed to converge, increase the number of iterations.\n",
            "  ConvergenceWarning,\n",
            "/usr/local/lib/python3.7/dist-packages/sklearn/svm/_base.py:1208: ConvergenceWarning: Liblinear failed to converge, increase the number of iterations.\n",
            "  ConvergenceWarning,\n",
            "/usr/local/lib/python3.7/dist-packages/sklearn/svm/_base.py:1208: ConvergenceWarning: Liblinear failed to converge, increase the number of iterations.\n",
            "  ConvergenceWarning,\n",
            "/usr/local/lib/python3.7/dist-packages/sklearn/svm/_base.py:1208: ConvergenceWarning: Liblinear failed to converge, increase the number of iterations.\n",
            "  ConvergenceWarning,\n",
            "/usr/local/lib/python3.7/dist-packages/sklearn/svm/_base.py:1208: ConvergenceWarning: Liblinear failed to converge, increase the number of iterations.\n",
            "  ConvergenceWarning,\n"
          ]
        }
      ],
      "source": [
        "svm_linear = svm.LinearSVC()\n",
        "eval(svm_linear)"
      ]
    },
    {
      "cell_type": "markdown",
      "metadata": {
        "id": "chmUNGxvBTpE"
      },
      "source": [
        "## Linear"
      ]
    },
    {
      "cell_type": "code",
      "execution_count": 21,
      "metadata": {
        "colab": {
          "base_uri": "https://localhost:8080/"
        },
        "id": "MMEh2iCeBTpF",
        "outputId": "673a725b-4577-4077-ce6b-c27befa4a983"
      },
      "outputs": [
        {
          "output_type": "stream",
          "name": "stdout",
          "text": [
            "{'fit_time': array([0.03676724, 0.0431881 , 0.02990341, 0.02949715, 0.02837849]), 'score_time': array([0.00135064, 0.00134277, 0.00140858, 0.0013051 , 0.0013001 ]), 'test_tn': array([166, 155, 153, 154, 153]), 'test_fp': array([ 8, 11, 19, 11,  8]), 'test_fn': array([21, 23, 23, 23, 30]), 'test_tp': array([73, 79, 73, 80, 77]), 'test_acc': array([0.89179104, 0.87313433, 0.84328358, 0.87313433, 0.85820896])}\n",
            "Accuracy 0.867910447761194\n",
            "\n",
            "True Negatives 156.2\n",
            "False Positives 11.4\n",
            "False Negatives 24.0\n",
            "True Positives 76.4\n",
            "\n",
            "FPR 0.06801909307875896\n",
            "FNR 0.2390438247011952\n"
          ]
        },
        {
          "output_type": "stream",
          "name": "stderr",
          "text": [
            "/usr/local/lib/python3.7/dist-packages/sklearn/linear_model/_logistic.py:818: ConvergenceWarning: lbfgs failed to converge (status=1):\n",
            "STOP: TOTAL NO. of ITERATIONS REACHED LIMIT.\n",
            "\n",
            "Increase the number of iterations (max_iter) or scale the data as shown in:\n",
            "    https://scikit-learn.org/stable/modules/preprocessing.html\n",
            "Please also refer to the documentation for alternative solver options:\n",
            "    https://scikit-learn.org/stable/modules/linear_model.html#logistic-regression\n",
            "  extra_warning_msg=_LOGISTIC_SOLVER_CONVERGENCE_MSG,\n",
            "/usr/local/lib/python3.7/dist-packages/sklearn/linear_model/_logistic.py:818: ConvergenceWarning: lbfgs failed to converge (status=1):\n",
            "STOP: TOTAL NO. of ITERATIONS REACHED LIMIT.\n",
            "\n",
            "Increase the number of iterations (max_iter) or scale the data as shown in:\n",
            "    https://scikit-learn.org/stable/modules/preprocessing.html\n",
            "Please also refer to the documentation for alternative solver options:\n",
            "    https://scikit-learn.org/stable/modules/linear_model.html#logistic-regression\n",
            "  extra_warning_msg=_LOGISTIC_SOLVER_CONVERGENCE_MSG,\n",
            "/usr/local/lib/python3.7/dist-packages/sklearn/linear_model/_logistic.py:818: ConvergenceWarning: lbfgs failed to converge (status=1):\n",
            "STOP: TOTAL NO. of ITERATIONS REACHED LIMIT.\n",
            "\n",
            "Increase the number of iterations (max_iter) or scale the data as shown in:\n",
            "    https://scikit-learn.org/stable/modules/preprocessing.html\n",
            "Please also refer to the documentation for alternative solver options:\n",
            "    https://scikit-learn.org/stable/modules/linear_model.html#logistic-regression\n",
            "  extra_warning_msg=_LOGISTIC_SOLVER_CONVERGENCE_MSG,\n",
            "/usr/local/lib/python3.7/dist-packages/sklearn/linear_model/_logistic.py:818: ConvergenceWarning: lbfgs failed to converge (status=1):\n",
            "STOP: TOTAL NO. of ITERATIONS REACHED LIMIT.\n",
            "\n",
            "Increase the number of iterations (max_iter) or scale the data as shown in:\n",
            "    https://scikit-learn.org/stable/modules/preprocessing.html\n",
            "Please also refer to the documentation for alternative solver options:\n",
            "    https://scikit-learn.org/stable/modules/linear_model.html#logistic-regression\n",
            "  extra_warning_msg=_LOGISTIC_SOLVER_CONVERGENCE_MSG,\n",
            "/usr/local/lib/python3.7/dist-packages/sklearn/linear_model/_logistic.py:818: ConvergenceWarning: lbfgs failed to converge (status=1):\n",
            "STOP: TOTAL NO. of ITERATIONS REACHED LIMIT.\n",
            "\n",
            "Increase the number of iterations (max_iter) or scale the data as shown in:\n",
            "    https://scikit-learn.org/stable/modules/preprocessing.html\n",
            "Please also refer to the documentation for alternative solver options:\n",
            "    https://scikit-learn.org/stable/modules/linear_model.html#logistic-regression\n",
            "  extra_warning_msg=_LOGISTIC_SOLVER_CONVERGENCE_MSG,\n",
            "/usr/local/lib/python3.7/dist-packages/sklearn/linear_model/_logistic.py:818: ConvergenceWarning: lbfgs failed to converge (status=1):\n",
            "STOP: TOTAL NO. of ITERATIONS REACHED LIMIT.\n",
            "\n",
            "Increase the number of iterations (max_iter) or scale the data as shown in:\n",
            "    https://scikit-learn.org/stable/modules/preprocessing.html\n",
            "Please also refer to the documentation for alternative solver options:\n",
            "    https://scikit-learn.org/stable/modules/linear_model.html#logistic-regression\n",
            "  extra_warning_msg=_LOGISTIC_SOLVER_CONVERGENCE_MSG,\n"
          ]
        }
      ],
      "source": [
        "logistic = linear_model.LogisticRegression()\n",
        "eval(logistic)"
      ]
    },
    {
      "cell_type": "code",
      "execution_count": 22,
      "metadata": {
        "colab": {
          "base_uri": "https://localhost:8080/"
        },
        "id": "G_jrVt37BTpF",
        "outputId": "8932abc8-bd4e-47ed-e50c-f93498e3a355"
      },
      "outputs": [
        {
          "output_type": "stream",
          "name": "stdout",
          "text": [
            "{'fit_time': array([0.0014503 , 0.0050776 , 0.00144529, 0.00131941, 0.00204754]), 'score_time': array([0.00124574, 0.00256848, 0.00139117, 0.00114465, 0.00114012]), 'test_tn': array([173, 163, 170,  16, 161]), 'test_fp': array([  1,   3,   2, 149,   0]), 'test_fn': array([69, 90, 89,  8, 98]), 'test_tp': array([25, 12,  7, 95,  9]), 'test_acc': array([0.73880597, 0.65298507, 0.66044776, 0.4141791 , 0.63432836])}\n",
            "Accuracy 0.6201492537313433\n",
            "\n",
            "True Negatives 136.6\n",
            "False Positives 31.0\n",
            "False Negatives 70.8\n",
            "True Positives 29.6\n",
            "\n",
            "FPR 0.18496420047732698\n",
            "FNR 0.7051792828685258\n"
          ]
        }
      ],
      "source": [
        "perceptron = linear_model.Perceptron()\n",
        "eval(perceptron)"
      ]
    },
    {
      "cell_type": "code",
      "execution_count": 23,
      "metadata": {
        "colab": {
          "base_uri": "https://localhost:8080/"
        },
        "id": "jfvt1BjVBTpG",
        "outputId": "37b46025-914e-40a3-c8c7-fecedc52c21a"
      },
      "outputs": [
        {
          "output_type": "stream",
          "name": "stdout",
          "text": [
            "{'fit_time': array([0.00215054, 0.00187516, 0.00186872, 0.00180984, 0.0018158 ]), 'score_time': array([0.00121737, 0.00115776, 0.00115371, 0.00114441, 0.00114274]), 'test_tn': array([169, 158, 169, 158, 158]), 'test_fp': array([5, 8, 3, 7, 3]), 'test_fn': array([18, 24, 23, 21, 29]), 'test_tp': array([76, 78, 73, 82, 78]), 'test_acc': array([0.9141791 , 0.88059701, 0.90298507, 0.89552239, 0.88059701])}\n",
            "Accuracy 0.894776119402985\n",
            "\n",
            "True Negatives 162.4\n",
            "False Positives 5.2\n",
            "False Negatives 23.0\n",
            "True Positives 77.4\n",
            "\n",
            "FPR 0.03102625298329356\n",
            "FNR 0.2290836653386454\n"
          ]
        }
      ],
      "source": [
        "ridge = linear_model.RidgeClassifier()\n",
        "eval(ridge)"
      ]
    },
    {
      "cell_type": "code",
      "execution_count": 24,
      "metadata": {
        "colab": {
          "base_uri": "https://localhost:8080/"
        },
        "id": "g8UgnCajBTpG",
        "outputId": "a09142e3-14e0-4e67-ddf8-ca2516369c98"
      },
      "outputs": [
        {
          "output_type": "stream",
          "name": "stdout",
          "text": [
            "{'fit_time': array([0.00413585, 0.0039115 , 0.00441289, 0.00414681, 0.00423241]), 'score_time': array([0.00132632, 0.00138211, 0.00144124, 0.00131607, 0.00132799]), 'test_tn': array([  8,   6, 166, 160, 160]), 'test_fp': array([166, 160,   6,   5,   1]), 'test_fn': array([ 1,  2, 79, 92, 88]), 'test_tp': array([ 93, 100,  17,  11,  19]), 'test_acc': array([0.37686567, 0.39552239, 0.68283582, 0.6380597 , 0.66791045])}\n",
            "Accuracy 0.5522388059701492\n",
            "\n",
            "True Negatives 100.0\n",
            "False Positives 67.6\n",
            "False Negatives 52.4\n",
            "True Positives 48.0\n",
            "\n",
            "FPR 0.4033412887828162\n",
            "FNR 0.5219123505976095\n"
          ]
        }
      ],
      "source": [
        "sdg = linear_model.SGDClassifier()\n",
        "eval(sdg)"
      ]
    },
    {
      "cell_type": "markdown",
      "metadata": {
        "id": "dcCZvQqfBTpH"
      },
      "source": [
        "## Ensemble"
      ]
    },
    {
      "cell_type": "code",
      "execution_count": 25,
      "metadata": {
        "colab": {
          "base_uri": "https://localhost:8080/"
        },
        "id": "lZjCBCoMBTpH",
        "outputId": "2c116eba-640b-4adc-bcbc-0c90d58ab31e"
      },
      "outputs": [
        {
          "output_type": "stream",
          "name": "stdout",
          "text": [
            "{'fit_time': array([0.14390659, 0.12190008, 0.1191082 , 0.12938643, 0.11927938]), 'score_time': array([0.02403402, 0.02309251, 0.0252111 , 0.02339292, 0.02210712]), 'test_tn': array([170, 158, 167, 159, 154]), 'test_fp': array([4, 8, 5, 6, 7]), 'test_fn': array([20, 21, 20, 22, 29]), 'test_tp': array([74, 81, 76, 81, 78]), 'test_acc': array([0.91044776, 0.89179104, 0.90671642, 0.89552239, 0.86567164])}\n",
            "Accuracy 0.8940298507462687\n",
            "\n",
            "True Negatives 161.6\n",
            "False Positives 6.0\n",
            "False Negatives 22.4\n",
            "True Positives 78.0\n",
            "\n",
            "FPR 0.03579952267303103\n",
            "FNR 0.2231075697211155\n"
          ]
        }
      ],
      "source": [
        "random_forest = ensemble.RandomForestClassifier()\n",
        "eval(random_forest)"
      ]
    },
    {
      "cell_type": "code",
      "execution_count": 26,
      "metadata": {
        "colab": {
          "base_uri": "https://localhost:8080/"
        },
        "id": "my8pgsMlBTpH",
        "outputId": "9a628a36-d3eb-48ea-a7d0-9db53f0dd684"
      },
      "outputs": [
        {
          "output_type": "stream",
          "name": "stdout",
          "text": [
            "{'fit_time': array([0.1114707 , 0.11102843, 0.10378528, 0.10727787, 0.1025331 ]), 'score_time': array([0.00205231, 0.00215459, 0.00268865, 0.00206542, 0.00231552]), 'test_tn': array([169, 158, 168, 157, 156]), 'test_fp': array([5, 8, 4, 8, 5]), 'test_fn': array([21, 22, 18, 19, 29]), 'test_tp': array([73, 80, 78, 84, 78]), 'test_acc': array([0.90298507, 0.8880597 , 0.91791045, 0.89925373, 0.87313433])}\n",
            "Accuracy 0.896268656716418\n",
            "\n",
            "True Negatives 161.6\n",
            "False Positives 6.0\n",
            "False Negatives 21.8\n",
            "True Positives 78.6\n",
            "\n",
            "FPR 0.03579952267303103\n",
            "FNR 0.2171314741035857\n"
          ]
        }
      ],
      "source": [
        "gradient_boost = ensemble.GradientBoostingClassifier()\n",
        "eval(gradient_boost)"
      ]
    },
    {
      "cell_type": "code",
      "execution_count": 27,
      "metadata": {
        "colab": {
          "base_uri": "https://localhost:8080/"
        },
        "id": "Z4-e7uA3BTpH",
        "outputId": "e830e0ce-dbe3-4b13-e309-aba20065c860"
      },
      "outputs": [
        {
          "output_type": "stream",
          "name": "stdout",
          "text": [
            "{'fit_time': array([0.09944367, 0.09411883, 0.09056544, 0.08917069, 0.09177423]), 'score_time': array([0.02510524, 0.02380276, 0.02410817, 0.02481842, 0.0247221 ]), 'test_tn': array([162, 156, 165, 157, 151]), 'test_fp': array([12, 10,  7,  8, 10]), 'test_fn': array([20, 19, 19, 22, 29]), 'test_tp': array([74, 83, 77, 81, 78]), 'test_acc': array([0.88059701, 0.89179104, 0.90298507, 0.8880597 , 0.85447761])}\n",
            "Accuracy 0.8835820895522388\n",
            "\n",
            "True Negatives 158.2\n",
            "False Positives 9.4\n",
            "False Negatives 21.8\n",
            "True Positives 78.6\n",
            "\n",
            "FPR 0.05608591885441528\n",
            "FNR 0.2171314741035857\n"
          ]
        }
      ],
      "source": [
        "extra_trees = ensemble.ExtraTreesClassifier()\n",
        "eval(extra_trees)"
      ]
    },
    {
      "cell_type": "code",
      "execution_count": 28,
      "metadata": {
        "colab": {
          "base_uri": "https://localhost:8080/"
        },
        "id": "3ywzrPOnBTpI",
        "outputId": "fe1eebab-3e35-443d-f5b1-500216dbfe71"
      },
      "outputs": [
        {
          "output_type": "stream",
          "name": "stdout",
          "text": [
            "{'fit_time': array([0.0200119 , 0.02312255, 0.01897812, 0.0214684 , 0.02229619]), 'score_time': array([0.00349045, 0.00357699, 0.00344706, 0.00353026, 0.00332475]), 'test_tn': array([169, 155, 165, 153, 154]), 'test_fp': array([ 5, 11,  7, 12,  7]), 'test_fn': array([20, 19, 17, 19, 31]), 'test_tp': array([74, 83, 79, 84, 76]), 'test_acc': array([0.90671642, 0.8880597 , 0.91044776, 0.88432836, 0.85820896])}\n",
            "Accuracy 0.8895522388059701\n",
            "\n",
            "True Negatives 159.2\n",
            "False Positives 8.4\n",
            "False Negatives 21.2\n",
            "True Positives 79.2\n",
            "\n",
            "FPR 0.05011933174224344\n",
            "FNR 0.21115537848605576\n"
          ]
        }
      ],
      "source": [
        "bagging = ensemble.BaggingClassifier()\n",
        "eval(bagging)"
      ]
    },
    {
      "cell_type": "markdown",
      "metadata": {
        "id": "If0iKMHJBTpI"
      },
      "source": [
        "## Random Forest"
      ]
    },
    {
      "cell_type": "code",
      "execution_count": 29,
      "metadata": {
        "colab": {
          "base_uri": "https://localhost:8080/"
        },
        "id": "S8q0CCtoBTpI",
        "outputId": "5cfadd84-fdce-41e3-aa07-21a0be97c74b"
      },
      "outputs": [
        {
          "output_type": "stream",
          "name": "stdout",
          "text": [
            "{'fit_time': array([0.59699512, 0.58047915, 0.59192681, 0.5916481 , 0.58535242]), 'score_time': array([0.10458159, 0.10410762, 0.10512114, 0.10853887, 0.10558772]), 'test_tn': array([170, 158, 168, 159, 157]), 'test_fp': array([4, 8, 4, 6, 4]), 'test_fn': array([21, 20, 19, 23, 29]), 'test_tp': array([73, 82, 77, 80, 78]), 'test_acc': array([0.90671642, 0.89552239, 0.9141791 , 0.89179104, 0.87686567])}\n",
            "Accuracy 0.8970149253731343\n",
            "\n",
            "True Negatives 162.4\n",
            "False Positives 5.2\n",
            "False Negatives 22.4\n",
            "True Positives 78.0\n",
            "\n",
            "FPR 0.03102625298329356\n",
            "FNR 0.2231075697211155\n"
          ]
        }
      ],
      "source": [
        "random_forest = GridSearchCV(estimator=ensemble.RandomForestClassifier(), param_grid={'n_estimators': [200, 300, 400, 500]}, cv=10).fit(X_train, y_train)\n",
        "random_forest.fit(X_train, y_train)\n",
        "acc = random_forest.score(X_train, y_train)\n",
        "# find best paremeters\n",
        "# print(acc,random_forest.best_params_)\n",
        "\n",
        "random_forest = ensemble.RandomForestClassifier(n_estimators = 500)\n",
        "eval(random_forest)"
      ]
    },
    {
      "cell_type": "markdown",
      "metadata": {
        "id": "KxCX-W_rBTpJ"
      },
      "source": [
        "## XGB"
      ]
    },
    {
      "cell_type": "code",
      "execution_count": 30,
      "metadata": {
        "colab": {
          "base_uri": "https://localhost:8080/"
        },
        "id": "gQe7fKrvBTpJ",
        "outputId": "b8ab452f-0267-4c5a-8fbe-01d4ffc6f872"
      },
      "outputs": [
        {
          "output_type": "stream",
          "name": "stdout",
          "text": [
            "{'fit_time': array([0.03857446, 0.03917599, 0.03811359, 0.0376792 , 0.03917599]), 'score_time': array([0.00243306, 0.00221705, 0.00223565, 0.0023222 , 0.00229931]), 'test_tn': array([169, 157, 166, 158, 157]), 'test_fp': array([5, 9, 6, 7, 4]), 'test_fn': array([21, 23, 21, 19, 31]), 'test_tp': array([73, 79, 75, 84, 76]), 'test_acc': array([0.90298507, 0.88059701, 0.89925373, 0.90298507, 0.86940299])}\n",
            "Accuracy 0.891044776119403\n",
            "\n",
            "True Negatives 161.4\n",
            "False Positives 6.2\n",
            "False Negatives 23.0\n",
            "True Positives 77.4\n",
            "\n",
            "FPR 0.0369928400954654\n",
            "FNR 0.2290836653386454\n"
          ]
        }
      ],
      "source": [
        "def hyperopt_xgb_score(params):\n",
        "    clf = XGBClassifier(**params)\n",
        "    current_score = cross_val_score(clf, X_train, y_train, cv=10).mean()\n",
        "    print(current_score, params)\n",
        "    return current_score \n",
        "\n",
        "space_xgb = {\n",
        "            'learning_rate': hp.quniform('learning_rate', 0, 0.05, 0.0001),\n",
        "            'n_estimators': hp.choice('n_estimators', range(100, 1000)),\n",
        "            'max_depth':  hp.choice('max_depth', np.arange(5, 8, dtype=int)),\n",
        "            'min_child_weight': hp.quniform('min_child_weight', 1, 9, 0.025),\n",
        "            'subsample': hp.quniform('subsample', 0.5, 1, 0.005),\n",
        "            'gamma': hp.quniform('gamma', 0.5, 1, 0.005),\n",
        "            'colsample_bytree': hp.quniform('colsample_bytree', 0.5, 1, 0.005),\n",
        "            'eval_metric': 'auc',\n",
        "            'objective': 'binary:logistic',\n",
        "            'booster': 'gbtree',\n",
        "            'tree_method': 'exact',\n",
        "            'silent': 1,\n",
        "            'missing': None\n",
        "        }\n",
        "\n",
        "# best = fmin(fn=hyperopt_xgb_score, space=space_xgb, algo=tpe.suggest, max_evals=10)\n",
        "\n",
        "# params = space_eval(space_xgb, best)\n",
        "\n",
        "xgb_clf = XGBClassifier()\n",
        "# xgb_clf.fit(X_train, y_train)\n",
        "# acc = xgb_clf.score(X_train, y_train)\n",
        "# print(\"Accuracy\", acc)\n",
        "eval(xgb_clf)"
      ]
    },
    {
      "cell_type": "code",
      "execution_count": 31,
      "metadata": {
        "id": "WCFUv8AlBTpK"
      },
      "outputs": [],
      "source": [
        "import itertools\n",
        "import matplotlib.pyplot as plt\n",
        "\n",
        "def plot_confusion_matrix(cm, classes,\n",
        "                          normalize=False,\n",
        "                          title='Confusion matrix',\n",
        "                          cmap=plt.cm.Blues):\n",
        "    \"\"\"\n",
        "    This function prints and plots the confusion matrix.\n",
        "    Normalization can be applied by setting `normalize=True`.\n",
        "    \"\"\"\n",
        "    if normalize:\n",
        "        cm = cm.astype('float') / cm.sum(axis=1)[:, np.newaxis]\n",
        "        print(\"Normalized confusion matrix\")\n",
        "    else:\n",
        "        print('Confusion matrix, without normalization')\n",
        "\n",
        "    print(cm)\n",
        "\n",
        "    plt.imshow(cm, interpolation='nearest', cmap=cmap)\n",
        "    plt.title(title)\n",
        "    plt.colorbar()\n",
        "    tick_marks = np.arange(len(classes))\n",
        "    plt.xticks(tick_marks, classes, rotation=45)\n",
        "    plt.yticks(tick_marks, classes)\n",
        "\n",
        "    fmt = '.2f' if normalize else 'd'\n",
        "    thresh = cm.max() / 2.\n",
        "    for i, j in itertools.product(range(cm.shape[0]), range(cm.shape[1])):\n",
        "        plt.text(j, i, format(cm[i, j], fmt),\n",
        "                 horizontalalignment=\"center\",\n",
        "                 color=\"white\" if cm[i, j] > thresh else \"black\")\n",
        "\n",
        "    plt.ylabel('True label')\n",
        "    plt.xlabel('Predicted label')\n",
        "    plt.tight_layout()\n",
        "\n",
        "def show_matrix(model):\n",
        "    y_pred = model.cross_validate_predict(X)\n",
        "    # Compute confusion matrix\n",
        "    cnf_matrix = confusion_matrix(y_truth, y_pred)\n",
        "    class_names=['0', '1']\n",
        "    np.set_printoptions(precision=2)\n",
        "\n",
        "    # Plot non-normalized confusion matrix\n",
        "    plt.figure()\n",
        "    plot_confusion_matrix(cnf_matrix, classes=class_names,\n",
        "                        title='Confusion matrix, without normalization')\n",
        "\n",
        "    plt.show()\n",
        "\n",
        "#  show_matrix(knn_clf)"
      ]
    },
    {
      "cell_type": "code",
      "execution_count": 41,
      "metadata": {
        "id": "-QXav3jLBTpK"
      },
      "outputs": [],
      "source": [
        "def create_pred_csv(model):\n",
        "    predictions = model.predict(test_data.values).astype(int)\n",
        "    pred_df = pd.DataFrame(predictions, index=test_data.index, columns=['Survived'])\n",
        "    type(pred_df)\n",
        "    pred_df.to_csv(type(model).__name__ + 'predictions.csv', header=True, sep=',')\n",
        "\n",
        "\n",
        "# think the test_data has NaN so it really doesn't like it\n",
        "create_pred_csv(tree_clf)"
      ]
    },
    {
      "cell_type": "markdown",
      "metadata": {
        "id": "fx3zGmjHBTpL"
      },
      "source": [
        "## Function to display pareto front\n",
        "\n",
        "We will give it the model dict and all the fpr and fnr that we have\n",
        "\n",
        "https://oapackage.readthedocs.io/en/latest/examples/example_pareto.html\n",
        "\n",
        "https://stackoverflow.com/questions/21294829/fast-calculations-of-the-pareto-front-in-r\n",
        "\n",
        "The trick here is to sort by x, which then allows you to limit your check to making sure that all prior values of x must have greater values of y to ensure that point is on the frontier."
      ]
    },
    {
      "cell_type": "code",
      "execution_count": 33,
      "metadata": {
        "colab": {
          "base_uri": "https://localhost:8080/"
        },
        "id": "IAWB5k9zBTpL",
        "outputId": "dffd1f56-f022-4ae7-fb3e-9a8a1db89417"
      },
      "outputs": [
        {
          "output_type": "stream",
          "name": "stdout",
          "text": [
            "{'DecisionTreeClassifier': (0.1539379474940334, 0.1952191235059761), 'SVC': (0.010739856801909307, 0.249003984063745), 'RidgeClassifier': (0.03102625298329356, 0.2290836653386454), 'RandomForestClassifier': (0.03102625298329356, 0.2231075697211155), 'GradientBoostingClassifier': (0.03579952267303103, 0.2171314741035857), 'BaggingClassifier': (0.05011933174224344, 0.21115537848605576)}\n"
          ]
        }
      ],
      "source": [
        "def create_models_df(models):\n",
        "    df = pd.DataFrame(columns = ['model', 'fpr', 'fnr'])\n",
        "    for model in models:\n",
        "        fpr, fnr = models[model]\n",
        "        df.loc[len(df.index)] = [model, fpr, fnr]\n",
        "    return df\n",
        "\n",
        "def find_hof(df):\n",
        "    out = {}\n",
        "    for index, row in df.iterrows():\n",
        "        # look at all the models with a higher fpr\n",
        "        tmp = df[df.fpr < row['fpr']]\n",
        "        # drop the ones with a higher fnr\n",
        "        tmp = tmp[tmp.fnr <= row['fnr']]\n",
        "        # not optimal\n",
        "        if len(tmp)  == 0:\n",
        "            model = row['model']\n",
        "            fpr = row['fpr']\n",
        "            fnr = row['fnr']\n",
        "            out[model] = (fpr, fnr)\n",
        "    return out\n",
        "\n",
        "\n",
        "df = create_models_df(models)\n",
        "hof = find_hof(df)\n",
        "print(hof)\n"
      ]
    },
    {
      "cell_type": "code",
      "execution_count": 34,
      "metadata": {
        "colab": {
          "base_uri": "https://localhost:8080/",
          "height": 857
        },
        "id": "jaRL-so9BTpM",
        "outputId": "6b2a39a6-d220-47e8-af8d-c124e9aa0826"
      },
      "outputs": [
        {
          "output_type": "display_data",
          "data": {
            "text/plain": [
              "<Figure size 1000x1000 with 1 Axes>"
            ],
            "image/png": "[encoded data removed]"
          },
          "metadata": {
            "needs_background": "light"
          }
        }
      ],
      "source": [
        "def pareto_frontier(models):\n",
        "    dominated = []\n",
        "    pareto = []\n",
        "    for model in models:\n",
        "        fnr, fpr = models[model]\n",
        "        if pareto:\n",
        "            classified = False\n",
        "            for curr_model in pareto:\n",
        "                curr_fnr, curr_fpr = models[curr_model]\n",
        "                if (curr_fnr <= fnr and curr_fpr < fpr) or (curr_fnr < fnr and curr_fpr <= fpr):\n",
        "                    dominated.append(model)\n",
        "                    classified = True\n",
        "                elif (curr_fnr >= fnr and curr_fpr > fpr) or (curr_fnr > fnr and curr_fpr >= fpr):\n",
        "                    dominated.append(curr_model)\n",
        "                    pareto.remove(curr_model)\n",
        "            if not classified:\n",
        "                pareto.append(model)\n",
        "        else:\n",
        "            pareto.append(model)\n",
        "                \n",
        "    fnr = []\n",
        "    fpr = []\n",
        "    for model in pareto:\n",
        "        cfnr, cfpr = models[model]\n",
        "        i = 0\n",
        "        while i < len(fnr):\n",
        "            if cfnr > fnr[i]:\n",
        "                i += 1\n",
        "            else:\n",
        "                break\n",
        "        fnr.insert(i, cfnr)\n",
        "        fpr.insert(i, cfpr)\n",
        "\n",
        "    plt.figure(figsize=(10, 10), dpi=100)\n",
        "    plt.step(fnr, fpr, where='post', label = 'post')\n",
        "    for model in pareto:\n",
        "        curr_fnr, curr_fpr = models[model]\n",
        "        plt.scatter(curr_fnr, curr_fpr, color='b')\n",
        "        plt.annotate(str(model), (curr_fnr, curr_fpr))\n",
        "    plt.xlabel(\"FNR\")\n",
        "    plt.ylabel(\"FPR\")\n",
        "    plt.title(\"Pareto Front\")\n",
        "pareto_frontier(models)"
      ]
    }
  ],
  "metadata": {
    "kernelspec": {
      "display_name": "Python 3 (ipykernel)",
      "language": "python",
      "name": "python3"
    },
    "language_info": {
      "codemirror_mode": {
        "name": "ipython",
        "version": 3
      },
      "file_extension": ".py",
      "mimetype": "text/x-python",
      "name": "python",
      "nbconvert_exporter": "python",
      "pygments_lexer": "ipython3",
      "version": "3.9.13"
    },
    "vscode": {
      "interpreter": {
        "hash": "c41639db67be15e51ffe08f018462faa84bcb644fd3ef0f901f9f159be25f04f"
      }
    },
    "colab": {
      "provenance": []
    }
  },
  "nbformat": 4,
  "nbformat_minor": 0
}